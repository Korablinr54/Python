{
 "cells": [
  {
   "cell_type": "markdown",
   "metadata": {},
   "source": [
    "# Структуры данных"
   ]
  },
  {
   "cell_type": "markdown",
   "metadata": {},
   "source": [
    "## Список (list)"
   ]
  },
  {
   "cell_type": "markdown",
   "metadata": {},
   "source": [
    "Список в Python — это один из основных встроенных типов данных, который представляет собой упорядоченную коллекцию элементов.\n",
    "\n",
    "Основные характеристики списков:\n",
    "* **Упорядоченность**: Элементы в списке имеют фиксированный порядок, и каждый элемент имеет свой индекс, начиная с нуля.\n",
    "* **Изменяемость**: Вы можете добавлять, удалять и изменять элементы в списке.\n",
    "* **Разнообразие типов**: Списки могут содержать элементы разных типов, включая другие списки.\n",
    "* **Динамическое выделение памяти**: Размер списка может изменяться во время выполнения программы."
   ]
  },
  {
   "cell_type": "markdown",
   "metadata": {},
   "source": [
    "### Создание списка"
   ]
  },
  {
   "cell_type": "code",
   "execution_count": 30,
   "metadata": {},
   "outputs": [
    {
     "name": "stdout",
     "output_type": "stream",
     "text": [
      "[1, 'Два', 3.0, True]\n"
     ]
    }
   ],
   "source": [
    "# создание списка\n",
    "list_1 = [1, 'Два', 3.0, True]\n",
    "print(list_1)"
   ]
  },
  {
   "cell_type": "markdown",
   "metadata": {},
   "source": [
    "### Основные операции над списком"
   ]
  },
  {
   "cell_type": "code",
   "execution_count": 31,
   "metadata": {},
   "outputs": [
    {
     "name": "stdout",
     "output_type": "stream",
     "text": [
      "[1, 'Два', 3.0, True, 'Value']\n"
     ]
    }
   ],
   "source": [
    "# добавление элемента в конец списка .append()\n",
    "list_1.append('Value')\n",
    "print(list_1)"
   ]
  },
  {
   "cell_type": "code",
   "execution_count": 32,
   "metadata": {},
   "outputs": [
    {
     "name": "stdout",
     "output_type": "stream",
     "text": [
      "[1, 'Два', 'x', 3.0, True, 'Value']\n"
     ]
    }
   ],
   "source": [
    "# добавление элемента по индексу\n",
    "list_1.insert(2, 'x')\n",
    "print(list_1)"
   ]
  },
  {
   "cell_type": "code",
   "execution_count": 33,
   "metadata": {},
   "outputs": [
    {
     "name": "stdout",
     "output_type": "stream",
     "text": [
      "[1, 'Два', 'x', 3.0, True]\n"
     ]
    }
   ],
   "source": [
    "# удаление первого вхождения указанного значения\n",
    "list_1.remove('Value')\n",
    "print(list_1)"
   ]
  },
  {
   "cell_type": "code",
   "execution_count": 34,
   "metadata": {},
   "outputs": [
    {
     "name": "stdout",
     "output_type": "stream",
     "text": [
      "[1, 'Два', 3.0, True]\n"
     ]
    }
   ],
   "source": [
    "# удаление элемента по индексу\n",
    "list_1.pop(2)\n",
    "print(list_1)"
   ]
  },
  {
   "cell_type": "code",
   "execution_count": 35,
   "metadata": {},
   "outputs": [
    {
     "name": "stdout",
     "output_type": "stream",
     "text": [
      "[1, 'Два', 3.5, True]\n"
     ]
    }
   ],
   "source": [
    "# изменение элемента по индексу\n",
    "list_1[2] = 3.5\n",
    "print(list_1)"
   ]
  },
  {
   "cell_type": "code",
   "execution_count": 36,
   "metadata": {},
   "outputs": [
    {
     "name": "stdout",
     "output_type": "stream",
     "text": [
      "1\n",
      "True\n",
      "[1, 'Два']\n",
      "[3.5, True]\n"
     ]
    }
   ],
   "source": [
    "# доступ к элементам по индексу\n",
    "print(list_1[0]) # первый элемент списка\n",
    "print(list_1[-1]) # последний элемент списка\n",
    "print(list_1[0:2]) # первые два элемента\n",
    "print(list_1[-2:]) # два последних элемента"
   ]
  },
  {
   "cell_type": "markdown",
   "metadata": {},
   "source": [
    "## Кортеж (tuple)"
   ]
  },
  {
   "cell_type": "markdown",
   "metadata": {},
   "source": [
    "Кортеж (tuple) в Python — это неизменяемая последовательность элементов, которая может содержать данные различных типов. Кортежи схожи со списками, но в отличие от них, после создания кортеж не может быть изменен. Это делает их полезными для хранения данных, которые не должны изменяться в процессе выполнения программы."
   ]
  },
  {
   "cell_type": "markdown",
   "metadata": {},
   "source": [
    "Основные характеристики кортежей:\n",
    "* **Неизменяемость**: После создания кортеж нельзя изменить, добавлять или удалять его элементы.\n",
    "* **Упорядоченность**: Элементы имеют фиксированный порядок и могут быть доступны по индексу, начиная с нуля.\n",
    "* **Разнообразие типов**: Кортежи могут содержать элементы разных типов, включая другие кортежи.\n",
    "* **Эффективность**: Кортежи занимают меньше памяти и работают быстрее по сравнению со списками, что делает их предпочтительными в ситуациях, где важна производительность."
   ]
  },
  {
   "cell_type": "markdown",
   "metadata": {},
   "source": [
    "### Основные операции над кортежами"
   ]
  },
  {
   "cell_type": "code",
   "execution_count": 37,
   "metadata": {},
   "outputs": [
    {
     "name": "stdout",
     "output_type": "stream",
     "text": [
      "(1, 3, 'five', 7.14, True)\n"
     ]
    }
   ],
   "source": [
    "# создание кортежа\n",
    "tuple_1 = (1, 3, 'five', 7.14, True)\n",
    "print(tuple_1)"
   ]
  },
  {
   "cell_type": "code",
   "execution_count": 38,
   "metadata": {},
   "outputs": [
    {
     "name": "stdout",
     "output_type": "stream",
     "text": [
      "[1, 'Два', 3.5, True]\n"
     ]
    }
   ],
   "source": [
    "# создание кортежа из другого итерируемого объекта\n",
    "tuple_2 = (list_1)\n",
    "print(tuple_2)"
   ]
  },
  {
   "cell_type": "code",
   "execution_count": 40,
   "metadata": {},
   "outputs": [
    {
     "name": "stdout",
     "output_type": "stream",
     "text": [
      "1\n",
      "True\n"
     ]
    }
   ],
   "source": [
    "# доступ к элементам кортежа по индексу\n",
    "print(tuple_1[0])\n",
    "print(tuple_1[-1])"
   ]
  },
  {
   "cell_type": "code",
   "execution_count": 43,
   "metadata": {},
   "outputs": [
    {
     "name": "stdout",
     "output_type": "stream",
     "text": [
      "[1, 3, 5, 'x', True, -985.4]\n",
      "(1, 3, 5, 'x', True, -985.4)\n",
      "List: 88 bytes\n",
      "Tuple: 72 bytes\n"
     ]
    }
   ],
   "source": [
    "# Одинаковые кортеж и список занимают разное количество места\n",
    "list_3 = [1, 3, 5, 'x', True, -985.4]\n",
    "tuple_3 = (1, 3, 5, 'x', True, -985.4)\n",
    "\n",
    "print(list_3)\n",
    "print(tuple_3)\n",
    "\n",
    "print(f\"List: {list_3.__sizeof__()} bytes\")\n",
    "print(f\"Tuple: {tuple_3.__sizeof__()} bytes\")"
   ]
  }
 ],
 "metadata": {
  "kernelspec": {
   "display_name": "Python 3",
   "language": "python",
   "name": "python3"
  },
  "language_info": {
   "codemirror_mode": {
    "name": "ipython",
    "version": 3
   },
   "file_extension": ".py",
   "mimetype": "text/x-python",
   "name": "python",
   "nbconvert_exporter": "python",
   "pygments_lexer": "ipython3",
   "version": "3.13.0"
  }
 },
 "nbformat": 4,
 "nbformat_minor": 2
}
