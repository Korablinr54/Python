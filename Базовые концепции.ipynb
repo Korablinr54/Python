{
 "cells": [
  {
   "cell_type": "markdown",
   "metadata": {},
   "source": [
    "# Структуры данных"
   ]
  },
  {
   "cell_type": "markdown",
   "metadata": {},
   "source": [
    "## Список (list)"
   ]
  },
  {
   "cell_type": "markdown",
   "metadata": {},
   "source": [
    "Список в Python — это один из основных встроенных типов данных, который представляет собой упорядоченную коллекцию элементов. В отличие от кортежей, списки имеют переменную длину, а их содержимое\n",
    "можно модифицировать. Список определяется с помощью квадратных скобок ```[ ]``` или конструктора типа ```list```:\n",
    "\n",
    "Основные характеристики списков:\n",
    "* **Упорядоченность**: Элементы в списке имеют фиксированный порядок, и каждый элемент имеет свой индекс, начиная с нуля.\n",
    "* **Изменяемость**: Вы можете добавлять, удалять и изменять элементы в списке.\n",
    "* **Разнообразие типов**: Списки могут содержать элементы разных типов, включая другие списки.\n",
    "* **Динамическое выделение памяти**: Размер списка может изменяться во время выполнения программы."
   ]
  },
  {
   "cell_type": "markdown",
   "metadata": {},
   "source": [
    "### Создание списка"
   ]
  },
  {
   "cell_type": "code",
   "execution_count": 41,
   "metadata": {},
   "outputs": [
    {
     "name": "stdout",
     "output_type": "stream",
     "text": [
      "Создадим список\n",
      "[1, 'Два', 3.0, True]\n",
      "\n",
      "Создадим список используя функцию list()\n",
      "[1, 2, 3, 4, 5]\n",
      "\n",
      "Изменим элемент списка с индексом 1\n",
      "[1, 2000, 3, 4, 5]\n"
     ]
    }
   ],
   "source": [
    "# создание списка\n",
    "print(\"Создадим список\")\n",
    "list_1 = [1, 'Два', 3.0, True]\n",
    "print(list_1)\n",
    "\n",
    "print(\"\\nСоздадим список используя функцию list()\")\n",
    "tup = (1, 2, 3, 4, 5)\n",
    "list_2 = list(tup)\n",
    "print(list_2)\n",
    "\n",
    "print(f\"\\nИзменим элемент списка с индексом 1\")\n",
    "# модификация элеметов списка\n",
    "list_2[1] = 2000\n",
    "print(list_2)"
   ]
  },
  {
   "cell_type": "markdown",
   "metadata": {},
   "source": [
    "### Основные операции над списком"
   ]
  },
  {
   "cell_type": "code",
   "execution_count": 3,
   "metadata": {},
   "outputs": [
    {
     "name": "stdout",
     "output_type": "stream",
     "text": [
      "[1, 'Два', 3.0, True, 'Value']\n"
     ]
    }
   ],
   "source": [
    "# добавление элемента в конец списка .append()\n",
    "list_1.append('Value')\n",
    "print(list_1)"
   ]
  },
  {
   "cell_type": "code",
   "execution_count": 43,
   "metadata": {},
   "outputs": [
    {
     "name": "stdout",
     "output_type": "stream",
     "text": [
      "[1, 'Два', 'x', 3.0, True]\n"
     ]
    }
   ],
   "source": [
    "# добавление элемента по индексу\n",
    "# индекс позиции вставки должен принадлежать диапазону от 0 до длины списка включительно.\n",
    "list_1.insert(2, 'x')\n",
    "print(list_1)"
   ]
  },
  {
   "cell_type": "code",
   "execution_count": 5,
   "metadata": {},
   "outputs": [
    {
     "name": "stdout",
     "output_type": "stream",
     "text": [
      "[1, 'Два', 'x', 3.0, True]\n"
     ]
    }
   ],
   "source": [
    "# удаление первого вхождения указанного значения\n",
    "list_1.remove('Value')\n",
    "print(list_1)"
   ]
  },
  {
   "cell_type": "code",
   "execution_count": null,
   "metadata": {},
   "outputs": [
    {
     "data": {
      "text/plain": [
       "3.0"
      ]
     },
     "execution_count": 45,
     "metadata": {},
     "output_type": "execute_result"
    }
   ],
   "source": [
    "# удаление элемента по индексу и возвращает его\n",
    "list_1.pop(2)"
   ]
  },
  {
   "cell_type": "code",
   "execution_count": 7,
   "metadata": {},
   "outputs": [
    {
     "name": "stdout",
     "output_type": "stream",
     "text": [
      "[1, 'Два', 3.5, True]\n"
     ]
    }
   ],
   "source": [
    "# изменение элемента по индексу\n",
    "list_1[2] = 3.5\n",
    "print(list_1)"
   ]
  },
  {
   "cell_type": "code",
   "execution_count": 46,
   "metadata": {},
   "outputs": [
    {
     "data": {
      "text/plain": [
       "True"
      ]
     },
     "execution_count": 46,
     "metadata": {},
     "output_type": "execute_result"
    }
   ],
   "source": [
    "# Чтобы проверить, содержит ли список некоторое значение, используется ключевое слово in\n",
    "1 in list_1"
   ]
  },
  {
   "cell_type": "code",
   "execution_count": 8,
   "metadata": {},
   "outputs": [
    {
     "name": "stdout",
     "output_type": "stream",
     "text": [
      "1\n",
      "True\n",
      "[1, 'Два']\n",
      "[3.5, True]\n"
     ]
    }
   ],
   "source": [
    "# доступ к элементам по индексу\n",
    "print(list_1[0]) # первый элемент списка\n",
    "print(list_1[-1]) # последний элемент списка\n",
    "print(list_1[0:2]) # первые два элемента\n",
    "print(list_1[-2:]) # два последних элемента"
   ]
  },
  {
   "cell_type": "code",
   "execution_count": null,
   "metadata": {},
   "outputs": [
    {
     "data": {
      "text/plain": [
       "[1, 3, 3, 4, 7, 12, 32]"
      ]
     },
     "execution_count": 47,
     "metadata": {},
     "output_type": "execute_result"
    }
   ],
   "source": [
    "# сортировка списка\n",
    "# Список можно отсортировать на месте (без создания нового объекта), вызвавего метод sort\n",
    "\n",
    "list_4 = [1, 3, 7, 12, 3, 4, 32]\n",
    "list_4.sort()\n",
    "list_4"
   ]
  },
  {
   "cell_type": "markdown",
   "metadata": {},
   "source": [
    "## Кортеж (tuple)"
   ]
  },
  {
   "cell_type": "markdown",
   "metadata": {},
   "source": [
    "Кортеж (tuple) в Python — это неизменяемая последовательность элементов, которая может содержать данные различных типов. Кортежи схожи со списками, но в отличие от них, после создания кортеж не может быть изменен. Это делает их полезными для хранения данных, которые не должны изменяться в процессе выполнения программы."
   ]
  },
  {
   "cell_type": "markdown",
   "metadata": {},
   "source": [
    "Основные характеристики кортежей:\n",
    "* **Неизменяемость**: После создания кортеж нельзя изменить, добавлять или удалять его элементы.\n",
    "* **Упорядоченность**: Элементы имеют фиксированный порядок и могут быть доступны по индексу, начиная с нуля.\n",
    "* **Разнообразие типов**: Кортежи могут содержать элементы разных типов, включая другие кортежи.\n",
    "* **Эффективность**: Кортежи занимают меньше памяти и работают быстрее по сравнению со списками, что делает их предпочтительными в ситуациях, где важна производительность."
   ]
  },
  {
   "cell_type": "markdown",
   "metadata": {},
   "source": [
    "### Создание кортежа"
   ]
  },
  {
   "cell_type": "code",
   "execution_count": 9,
   "metadata": {},
   "outputs": [
    {
     "name": "stdout",
     "output_type": "stream",
     "text": [
      "(1, 3, 'five', 7.14, True)\n"
     ]
    }
   ],
   "source": [
    "# создание кортежа\n",
    "tuple_1 = (1, 3, 'five', 7.14, True)\n",
    "print(tuple_1)"
   ]
  },
  {
   "cell_type": "markdown",
   "metadata": {},
   "source": [
    "### Основные операции над кортежами"
   ]
  },
  {
   "cell_type": "code",
   "execution_count": 10,
   "metadata": {},
   "outputs": [
    {
     "name": "stdout",
     "output_type": "stream",
     "text": [
      "[1, 'Два', 3.5, True]\n"
     ]
    }
   ],
   "source": [
    "# создание кортежа из другого итерируемого объекта\n",
    "tuple_2 = (list_1)\n",
    "print(tuple_2)"
   ]
  },
  {
   "cell_type": "code",
   "execution_count": 11,
   "metadata": {},
   "outputs": [
    {
     "name": "stdout",
     "output_type": "stream",
     "text": [
      "1\n",
      "True\n"
     ]
    }
   ],
   "source": [
    "# доступ к элементам кортежа по индексу\n",
    "print(tuple_1[0])\n",
    "print(tuple_1[-1])"
   ]
  },
  {
   "cell_type": "code",
   "execution_count": 34,
   "metadata": {},
   "outputs": [
    {
     "data": {
      "text/plain": [
       "(1, 3, 'five', 7.14, True)"
      ]
     },
     "metadata": {},
     "output_type": "display_data"
    },
    {
     "data": {
      "text/plain": [
       "'В кортеже touple_1 содержится 5 элементов.'"
      ]
     },
     "metadata": {},
     "output_type": "display_data"
    },
    {
     "data": {
      "text/plain": [
       "\"В кортеже tuple_4, элемент 'four' встречается 3 раз.\""
      ]
     },
     "metadata": {},
     "output_type": "display_data"
    }
   ],
   "source": [
    "# подсчет количества элементов в кортеже\n",
    "display(tuple_1)\n",
    "display(f'В кортеже touple_1 содержится {len(tuple_1)} элементов.')\n",
    "\n",
    "tuple_4 = (1, 1, 1, 2, 2, 3, 'four', 'four', 'four')\n",
    "display(f\"В кортеже tuple_4, элемент 'four' встречается {tuple_4.count('four')} раз.\")"
   ]
  },
  {
   "cell_type": "code",
   "execution_count": 13,
   "metadata": {},
   "outputs": [
    {
     "name": "stdout",
     "output_type": "stream",
     "text": [
      "[1, 3, 5, 'x', True, -985.4]\n",
      "(1, 3, 5, 'x', True, -985.4)\n",
      "List: 88 bytes\n",
      "Tuple: 72 bytes\n"
     ]
    }
   ],
   "source": [
    "# Одинаковые кортеж и список занимают разное количество места\n",
    "list_3 = [1, 3, 5, 'x', True, -985.4]\n",
    "tuple_3 = (1, 3, 5, 'x', True, -985.4)\n",
    "\n",
    "print(list_3)\n",
    "print(tuple_3)\n",
    "\n",
    "print(f\"List: {list_3.__sizeof__()} bytes\")\n",
    "print(f\"Tuple: {tuple_3.__sizeof__()} bytes\")"
   ]
  },
  {
   "cell_type": "markdown",
   "metadata": {},
   "source": [
    "## Словарь (dict)"
   ]
  },
  {
   "cell_type": "markdown",
   "metadata": {},
   "source": [
    "Словарь — представляет собой коллекцию пар ключ-значение. Словари позволяют эффективно хранить и извлекать данные по ключу. Иногда называют хешем, отображением или ассоциативным массивом. \n",
    "\n",
    "Основные характеристики словарей:\n",
    "* **Ключи и значения**: Каждый элемент словаря состоит из уникального ключа и соответствующего ему значения. Ключи должны быть неизменяемыми (например, строки, числа или кортежи), тогда как значения могут быть любого типа.\n",
    "* **Изменяемость**: Словари являются изменяемыми, что означает, что вы можете добавлять, изменять и удалять элементы после их создания.\n",
    "* **Эффективность**: Словари обеспечивают быстрый доступ к данным благодаря использованию хэш-таблиц.\n",
    "\n",
    "Словарь создается с помощью фигурных скобок {} или с использованием функции dict()."
   ]
  },
  {
   "cell_type": "markdown",
   "metadata": {},
   "source": [
    "### Создание словаря"
   ]
  },
  {
   "cell_type": "code",
   "execution_count": 14,
   "metadata": {},
   "outputs": [
    {
     "name": "stdout",
     "output_type": "stream",
     "text": [
      "{'name': 'Harry', 'surname': 'Potter', 'Age': 12}\n",
      "{'name': 'Ronald', 'surname': 'Weasley', 'age': 13}\n"
     ]
    }
   ],
   "source": [
    "# создаем пустой словарь\n",
    "d = {} \n",
    "\n",
    "# создаем словарь с элементами\n",
    "d_1 = {\n",
    "    'name' : 'Harry',\n",
    "    'surname' : 'Potter',\n",
    "    'Age' : 12\n",
    "}\n",
    "print(d_1)\n",
    "\n",
    "# альтернативный способ создания словаря\n",
    "d_2 = dict(name = 'Ronald', surname = 'Weasley', age = 13)\n",
    "print(d_2)"
   ]
  },
  {
   "cell_type": "markdown",
   "metadata": {},
   "source": [
    "### Основные операции над словарями"
   ]
  },
  {
   "cell_type": "code",
   "execution_count": null,
   "metadata": {},
   "outputs": [
    {
     "name": "stdout",
     "output_type": "stream",
     "text": [
      "{'name': 'Harry', 'surname': 'Potter', 'Age': 12, 'Job': 'Wizard'}\n"
     ]
    }
   ],
   "source": [
    "# добавление элемента\n",
    "d_1['Job'] = 'Wizard'\n",
    "print(d_1)\n",
    "\n",
    "# при использовании нового ключа данные будут добавлены в словарь"
   ]
  },
  {
   "cell_type": "code",
   "execution_count": 51,
   "metadata": {},
   "outputs": [
    {
     "name": "stdout",
     "output_type": "stream",
     "text": [
      "{'name': 'Harry', 'surname': 'Potter', 'Age': '21'}\n",
      "dict_keys(['name', 'surname', 'Age'])\n",
      "dict_values(['Harry', 'Potter', '21'])\n"
     ]
    }
   ],
   "source": [
    "# методы keys и  values возвращают соответственно список ключей и  список значений\n",
    "print(d_1)\n",
    "print(d_1.keys())\n",
    "print(d_1.values())"
   ]
  },
  {
   "cell_type": "code",
   "execution_count": null,
   "metadata": {},
   "outputs": [
    {
     "name": "stdout",
     "output_type": "stream",
     "text": [
      "{'name': 'Harry', 'surname': 'Potter', 'Age': '21', 'Job': 'Wizard'}\n"
     ]
    }
   ],
   "source": [
    "# измнение элемента\n",
    "d_1['Age'] = '21'\n",
    "print(d_1)\n",
    "\n",
    "# при совпадении ключей данные будут перезаписаны"
   ]
  },
  {
   "cell_type": "code",
   "execution_count": 17,
   "metadata": {},
   "outputs": [
    {
     "name": "stdout",
     "output_type": "stream",
     "text": [
      "Harry Ronald\n"
     ]
    }
   ],
   "source": [
    "# чтение значения\n",
    "print(d_1['name'], d_2['name'])"
   ]
  },
  {
   "cell_type": "code",
   "execution_count": 18,
   "metadata": {},
   "outputs": [
    {
     "name": "stdout",
     "output_type": "stream",
     "text": [
      "{'name': 'Harry', 'surname': 'Potter', 'Age': '21'}\n"
     ]
    }
   ],
   "source": [
    "# удаление значений\n",
    "d_1.pop('Job')\n",
    "print(d_1)"
   ]
  },
  {
   "cell_type": "code",
   "execution_count": 19,
   "metadata": {},
   "outputs": [
    {
     "name": "stdout",
     "output_type": "stream",
     "text": [
      "Имя: Harry\n"
     ]
    },
    {
     "ename": "KeyError",
     "evalue": "'Job'",
     "output_type": "error",
     "traceback": [
      "\u001b[1;31m---------------------------------------------------------------------------\u001b[0m",
      "\u001b[1;31mKeyError\u001b[0m                                  Traceback (most recent call last)",
      "Cell \u001b[1;32mIn[19], line 7\u001b[0m\n\u001b[0;32m      3\u001b[0m     \u001b[38;5;28mprint\u001b[39m(\u001b[38;5;124m'\u001b[39m\u001b[38;5;124mИмя:\u001b[39m\u001b[38;5;124m'\u001b[39m, d_1[\u001b[38;5;124m'\u001b[39m\u001b[38;5;124mname\u001b[39m\u001b[38;5;124m'\u001b[39m])\n\u001b[0;32m      5\u001b[0m \u001b[38;5;66;03m# если попытаться читать ключ из словаря, которого нет, получим ошибку 'KeyError:'\u001b[39;00m\n\u001b[1;32m----> 7\u001b[0m \u001b[43md_1\u001b[49m\u001b[43m[\u001b[49m\u001b[38;5;124;43m'\u001b[39;49m\u001b[38;5;124;43mJob\u001b[39;49m\u001b[38;5;124;43m'\u001b[39;49m\u001b[43m]\u001b[49m\n",
      "\u001b[1;31mKeyError\u001b[0m: 'Job'"
     ]
    }
   ],
   "source": [
    "# проверка наличия ключа в словаре\n",
    "if 'name' in d_1:\n",
    "    print('Имя:', d_1['name'])\n",
    "\n",
    "# если попытаться читать ключ из словаря, которого нет, получим ошибку 'KeyError:'\n",
    "\n",
    "d_1['Job']\n"
   ]
  },
  {
   "cell_type": "markdown",
   "metadata": {},
   "source": [
    "## Множество (set)"
   ]
  },
  {
   "cell_type": "markdown",
   "metadata": {},
   "source": [
    "Множество (set) в Python — это изменяемая, неупорядоченная коллекция уникальных элементов. Оно используется для хранения данных, где важна уникальность значений, и поддерживает множество операций.\n",
    "\n",
    "Основные характеристики множеств:\n",
    "* **Неупорядоченность**: Элементы множества не имеют фиксированного порядка, и вы не можете обращаться к элементам по индексу.\n",
    "* **Уникальность**: В множестве не может быть повторяющихся элементов. При добавлении дублирующего значения оно будет игнорироваться.\n",
    "* **Изменяемость**: Множества можно изменять — добавлять или удалять элементы после их создания.\n",
    "* **Элементы должны быть хэшируемыми**: Это означает, что элементы множества должны быть неизменяемыми (например, числа, строки или кортежи), но не могут быть изменяемыми типами, такими как списки или другие множества.\n",
    "\n"
   ]
  },
  {
   "cell_type": "markdown",
   "metadata": {},
   "source": [
    "### Создание множества\n"
   ]
  },
  {
   "cell_type": "markdown",
   "metadata": {},
   "source": [
    "Множество создается с помощью фигурных скобок {} или функции set()."
   ]
  },
  {
   "cell_type": "code",
   "execution_count": null,
   "metadata": {},
   "outputs": [],
   "source": [
    "# создание пустого множества\n",
    "empty_set_1 = set()\n",
    "empty_set_2 = {}"
   ]
  },
  {
   "cell_type": "code",
   "execution_count": null,
   "metadata": {},
   "outputs": [
    {
     "name": "stdout",
     "output_type": "stream",
     "text": [
      "{1, 2, 'House'}\n",
      "{1, 3, 99, 4.5, -1}\n"
     ]
    }
   ],
   "source": [
    "# создание множества двумя способами\n",
    "\n",
    "# используя set()\n",
    "t_1 = (1, 2, True, 'House') # определим кортеж \n",
    "set_1 = set(t_1) # принимает на вход один аргумент, итерируемый аргумент\n",
    "print(set_1)\n",
    "\n",
    "# используя {}\n",
    "set_2 = {1, 3, 4.5, 99, -1}\n",
    "print(set_2)"
   ]
  },
  {
   "cell_type": "code",
   "execution_count": null,
   "metadata": {},
   "outputs": [
    {
     "name": "stdout",
     "output_type": "stream",
     "text": [
      "{1, 3, -12, 5, 7, 9.5}\n"
     ]
    }
   ],
   "source": [
    "# при создании множества с повторяющимися элементами они будут игнорированы\n",
    "set_3 = {1, 3, 3, 3, 5, 7, 9.5, -12}\n",
    "print(set_3)"
   ]
  },
  {
   "cell_type": "markdown",
   "metadata": {},
   "source": [
    "### Основные операции над множествами"
   ]
  },
  {
   "cell_type": "code",
   "execution_count": null,
   "metadata": {},
   "outputs": [
    {
     "name": "stdout",
     "output_type": "stream",
     "text": [
      "{1, 3, -12, 5, 999, 7, 9.5}\n"
     ]
    }
   ],
   "source": [
    "# добавление нового элемента в множество\n",
    "set_3.add(999)\n",
    "print(set_3)"
   ]
  },
  {
   "cell_type": "markdown",
   "metadata": {},
   "source": [
    "Удаление элемента: Для удаления элемента используйте метод remove() или discard(). Метод remove() вызовет ошибку, если элемент отсутствует."
   ]
  },
  {
   "cell_type": "code",
   "execution_count": null,
   "metadata": {},
   "outputs": [
    {
     "name": "stdout",
     "output_type": "stream",
     "text": [
      "{1, 3, -12, 5, 7, 9.5}\n"
     ]
    },
    {
     "ename": "KeyError",
     "evalue": "998",
     "output_type": "error",
     "traceback": [
      "\u001b[1;31m---------------------------------------------------------------------------\u001b[0m",
      "\u001b[1;31mKeyError\u001b[0m                                  Traceback (most recent call last)",
      "Cell \u001b[1;32mIn[49], line 5\u001b[0m\n\u001b[0;32m      2\u001b[0m set_3\u001b[38;5;241m.\u001b[39mremove(\u001b[38;5;241m999\u001b[39m)\n\u001b[0;32m      3\u001b[0m \u001b[38;5;28mprint\u001b[39m(set_3)\n\u001b[1;32m----> 5\u001b[0m \u001b[43mset_3\u001b[49m\u001b[38;5;241;43m.\u001b[39;49m\u001b[43mremove\u001b[49m\u001b[43m(\u001b[49m\u001b[38;5;241;43m998\u001b[39;49m\u001b[43m)\u001b[49m\n",
      "\u001b[1;31mKeyError\u001b[0m: 998"
     ]
    }
   ],
   "source": [
    "# remove\n",
    "set_3.remove(999)\n",
    "print(set_3)\n",
    "\n",
    "set_3.remove(998) # получил ошибку KeyError: 998"
   ]
  },
  {
   "cell_type": "code",
   "execution_count": null,
   "metadata": {},
   "outputs": [
    {
     "name": "stdout",
     "output_type": "stream",
     "text": [
      "{1, 3, -12, 5, 9.5}\n"
     ]
    }
   ],
   "source": [
    "# discard\n",
    "set_3.discard(7) # удаляем 7\n",
    "print(set_3)\n",
    "\n",
    "set_3.discard(1092) # удаляем 1092, которого нет в множестве. Ошибки не будет"
   ]
  },
  {
   "cell_type": "code",
   "execution_count": null,
   "metadata": {},
   "outputs": [
    {
     "name": "stdout",
     "output_type": "stream",
     "text": [
      "5\n"
     ]
    }
   ],
   "source": [
    "# подсчет количества элементов множества\n",
    "print(len(set_3))"
   ]
  },
  {
   "cell_type": "code",
   "execution_count": null,
   "metadata": {},
   "outputs": [
    {
     "name": "stdout",
     "output_type": "stream",
     "text": [
      "set()\n"
     ]
    }
   ],
   "source": [
    "# очистка множества\n",
    "set_1.clear()\n",
    "print(set_1)"
   ]
  },
  {
   "cell_type": "markdown",
   "metadata": {},
   "source": [
    "### Математические операции над множествами"
   ]
  },
  {
   "cell_type": "code",
   "execution_count": null,
   "metadata": {},
   "outputs": [
    {
     "name": "stdout",
     "output_type": "stream",
     "text": [
      "{1, 2, 3, 4.5, 27, -3}\n",
      "{3, 227, 4.51, 23, 12, -1}\n",
      "{'a', 3, True}\n"
     ]
    }
   ],
   "source": [
    "# определим множества для изучения\n",
    "set_a = {1, 2, 3, 4.5, 27, -3}\n",
    "set_b = {12, 23, 3, 4.51, 227, -1}\n",
    "set_c = {'a', True, 3}\n",
    "print(set_a)\n",
    "print(set_b)\n",
    "print(set_c)"
   ]
  },
  {
   "cell_type": "code",
   "execution_count": null,
   "metadata": {},
   "outputs": [
    {
     "name": "stdout",
     "output_type": "stream",
     "text": [
      "{1, 2, 3, 4.5, 227, 4.51, 12, 23, 27, -3, -1}\n",
      "{True, 3, 227, 4.51, 12, 'a', 23, -1}\n"
     ]
    }
   ],
   "source": [
    "# объединение множеств\n",
    "union_set = set_a | set_b\n",
    "union_set_2 = set_b | set_c\n",
    "print(union_set)\n",
    "print(union_set_2)"
   ]
  },
  {
   "cell_type": "code",
   "execution_count": null,
   "metadata": {},
   "outputs": [
    {
     "name": "stdout",
     "output_type": "stream",
     "text": [
      "Присуствует в обоих множествах: {2}\n"
     ]
    }
   ],
   "source": [
    "# пересечение множеств - вернуть значения, присуствующих в обоих множествах\n",
    "set_x = {1, 2, 3}\n",
    "set_xx = {2, 4, 6}\n",
    "intersect_set = set_x & set_xx\n",
    "print(f'Присуствует в обоих множествах: {intersect_set}')"
   ]
  },
  {
   "cell_type": "code",
   "execution_count": null,
   "metadata": {},
   "outputs": [
    {
     "name": "stdout",
     "output_type": "stream",
     "text": [
      "Элементы первого, отсуствующие во втором множестве: {1, 3}\n"
     ]
    }
   ],
   "source": [
    "# разность - возвращает элементы первого, отсуствующие во втором\n",
    "dif_set = set_x - set_xx\n",
    "print(f'Элементы первого, отсуствующие во втором множестве: {dif_set}')"
   ]
  },
  {
   "cell_type": "markdown",
   "metadata": {},
   "source": [
    "# Условыне конструкции"
   ]
  },
  {
   "cell_type": "markdown",
   "metadata": {},
   "source": [
    "## Условный оператор if"
   ]
  },
  {
   "cell_type": "code",
   "execution_count": null,
   "metadata": {},
   "outputs": [],
   "source": [
    "# синтаксис if\n",
    "\n",
    "# if логическое выражение:  \n",
    "#    ветка кода\n",
    "\n",
    "# заголовок (ключевое слово if, логическое выражение, двоеточие разделитель)\n",
    "# if логическое выражение:  \n",
    "\n",
    "# блок с инструкциями (набор инструкций, выполняеются если выражение True)\n",
    "#    ветка кода (отступ в 4 пробела)\n"
   ]
  },
  {
   "cell_type": "code",
   "execution_count": null,
   "metadata": {},
   "outputs": [
    {
     "name": "stdout",
     "output_type": "stream",
     "text": [
      "a > b\n"
     ]
    }
   ],
   "source": [
    "# пример\n",
    "a = 11\n",
    "b = 1\n",
    "\n",
    "if a > b:\n",
    "    print(f'a > b')\n",
    "elif a == b:\n",
    "    print(f'a = b')\n",
    "else: \n",
    "    print(f'a < b')"
   ]
  },
  {
   "cell_type": "markdown",
   "metadata": {},
   "source": [
    "## Сложные конструкции if"
   ]
  },
  {
   "cell_type": "code",
   "execution_count": null,
   "metadata": {},
   "outputs": [
    {
     "name": "stdout",
     "output_type": "stream",
     "text": [
      "Нормальная температура\n"
     ]
    }
   ],
   "source": [
    "# пример использования условной логики с and\n",
    "\n",
    "temperature = 23\n",
    "\n",
    "if temperature < 25 and temperature > 20:\n",
    "    print('Нормальная температура')\n",
    "elif temperature > 25:\n",
    "    print('Жарко')\n",
    "else:\n",
    "    print('Холодно')"
   ]
  },
  {
   "cell_type": "code",
   "execution_count": null,
   "metadata": {},
   "outputs": [
    {
     "name": "stdout",
     "output_type": "stream",
     "text": [
      "Скверная погода для прогулки\n"
     ]
    }
   ],
   "source": [
    "# пример использования условной логики с or\n",
    "\n",
    "weather = 'rain'\n",
    "temperature = 14\n",
    "\n",
    "if weather == 'rain' or temperature < 20:\n",
    "    print('Скверная погода для прогулки')\n",
    "else:\n",
    "    print('нормально? Нормааально')"
   ]
  },
  {
   "cell_type": "code",
   "execution_count": null,
   "metadata": {},
   "outputs": [
    {
     "name": "stdout",
     "output_type": "stream",
     "text": [
      "Надеть шапку и шарф\n"
     ]
    }
   ],
   "source": [
    "weather = 'снег'\n",
    "\n",
    "if weather == 'дождь': # если на улице дождь\n",
    "# первая ветка кода\n",
    "    print('Взять зонт')\n",
    "elif weather == 'солнце': # если на улице солнце\n",
    "# вторая ветка кода\n",
    "    print('Взять панаму')\n",
    "elif weather == 'снег': # если на улице снег\n",
    "# третья ветка кода\n",
    "    print('Надеть шапку и шарф')\n",
    "else: # если все три условных выражения ложные\n",
    "# четвёртая ветка кода\n",
    "    print('На улице отличная погода')"
   ]
  },
  {
   "cell_type": "markdown",
   "metadata": {},
   "source": [
    "# Циклы"
   ]
  },
  {
   "cell_type": "markdown",
   "metadata": {},
   "source": [
    "## for"
   ]
  },
  {
   "cell_type": "markdown",
   "metadata": {},
   "source": [
    "for  — от английского «для». Он повторяет заданную последовательность инструкций для каждого итерируемого объекта, например, списка, кортежа, строки. "
   ]
  },
  {
   "cell_type": "code",
   "execution_count": null,
   "metadata": {},
   "outputs": [
    {
     "name": "stdout",
     "output_type": "stream",
     "text": [
      "1\n",
      "2\n",
      "3\n",
      "4\n",
      "5\n"
     ]
    }
   ],
   "source": [
    "# напрмиер, выведем на экран последовательность из массива по элементу за раз\n",
    "\n",
    "for x in arr:\n",
    "    print(x)"
   ]
  },
  {
   "cell_type": "code",
   "execution_count": null,
   "metadata": {},
   "outputs": [
    {
     "name": "stdout",
     "output_type": "stream",
     "text": [
      "Одногруппник: Антон\n",
      "Одногруппник: Арина\n",
      "Одногруппник: Борис\n",
      "Одногруппник: Диана\n",
      "Одногруппник: Ольга\n"
     ]
    }
   ],
   "source": [
    "# выведем последовательность имен одногруппников\n",
    "\n",
    "names = ['Антон', 'Арина', 'Борис', 'Диана', 'Ольга']\n",
    "\n",
    "for name in names:\n",
    "    print(f'Одногруппник: {name}')"
   ]
  },
  {
   "cell_type": "markdown",
   "metadata": {},
   "source": [
    "Каждый цикл из примеров выше состоит из двух элементов — заголовка и тела.  \n",
    "\n",
    "**Заголовок цикла** — его первая строка, которая должна содержать:  \n",
    "* **Ключевое слово ```for```**;  \n",
    "* **Переменную-итератор**, которая перемещается по множеству значений слева направо, принимая на каждом шаге значение очередного элемента списка; в первом примере — это переменная ```x```, а во втором — ```name```;  \n",
    "* **Ключевое слово ```in```**;  \n",
    "* **Множество значений, по которому движется итератор**; в первом примере — это множество цифр от 1 до 5, а во втором — список одногруппников ```names```;  \n",
    "* **Знак ```:```**. Без него будет синтаксическая ошибка, а сам цикл не будет объявлен.  \n",
    "\n",
    "**Тело цикла** — набор инструкций, которые выполняются на каждом шаге цикла. Каждая строка тела цикла обязательно отделяется отступом в четыре пробела. "
   ]
  },
  {
   "cell_type": "code",
   "execution_count": null,
   "metadata": {},
   "outputs": [
    {
     "name": "stdout",
     "output_type": "stream",
     "text": [
      "H\n",
      "e\n",
      "l\n",
      "l\n",
      "o\n",
      " \n",
      "w\n",
      "o\n",
      "r\n",
      "l\n",
      "d\n",
      "!\n"
     ]
    }
   ],
   "source": [
    "# цикл и строка. Перебирать можно не только списки но и строки\n",
    "\n",
    "strings = 'Hello world!'\n",
    "\n",
    "for string in strings:\n",
    "    print(string)"
   ]
  },
  {
   "cell_type": "code",
   "execution_count": null,
   "metadata": {},
   "outputs": [
    {
     "name": "stdout",
     "output_type": "stream",
     "text": [
      "Базовая цена: 100; Обновленная цена: 110\n",
      "Базовая цена: 200; Обновленная цена: 220\n",
      "Базовая цена: 300; Обновленная цена: 330\n",
      "Базовая цена: 400; Обновленная цена: 440\n",
      "Базовая цена: 500; Обновленная цена: 550\n"
     ]
    }
   ],
   "source": [
    "# добавим к каждой цене 10%\n",
    "prices = [100, 200, 300, 400, 500]\n",
    "precentage = 1.1\n",
    "\n",
    "for price in prices:\n",
    "    new_price = price * precentage\n",
    "    print(f'Базовая цена: {price}; Обновленная цена: {round(new_price)}')"
   ]
  },
  {
   "cell_type": "markdown",
   "metadata": {},
   "source": [
    "### Фиксированное количество итераций цикла ```for```. Функция ```range()```"
   ]
  },
  {
   "cell_type": "code",
   "execution_count": null,
   "metadata": {},
   "outputs": [
    {
     "name": "stdout",
     "output_type": "stream",
     "text": [
      "2 * 0 = 0\n",
      "2 * 1 = 2\n",
      "2 * 2 = 4\n",
      "2 * 3 = 6\n",
      "2 * 4 = 8\n",
      "2 * 5 = 10\n",
      "2 * 6 = 12\n",
      "2 * 7 = 14\n",
      "2 * 8 = 16\n",
      "2 * 9 = 18\n"
     ]
    }
   ],
   "source": [
    "# запустим перебор цикла столько раз, сколько нам потребуется, напрмие, 10\n",
    "\n",
    "for i in range(10):\n",
    "    print(f'2 * {i} = {2*i}')"
   ]
  },
  {
   "cell_type": "code",
   "execution_count": null,
   "metadata": {},
   "outputs": [
    {
     "name": "stdout",
     "output_type": "stream",
     "text": [
      "Стоимость товара в 1 квартале составляет 1075\n",
      "Стоимость товара в 2 квартале составляет 1156\n",
      "Стоимость товара в 3 квартале составляет 1242\n",
      "Стоимость товара в 4 квартале составляет 1335\n"
     ]
    }
   ],
   "source": [
    "# рассмотрим пример с увеличением стоимости товара раз в квартал на 7.5%\n",
    "price = 1000 # базовая стоимость\n",
    "k = 1.075 # коэффициент увеличения\n",
    "\n",
    "for i in range(1, 5): # количество итераций\n",
    "    price *= k # увеличим базовое значение на коэффициент в кажом шаге \n",
    "    print(f'Стоимость товара в {i} квартале составляет {round(price)}')"
   ]
  },
  {
   "cell_type": "markdown",
   "metadata": {},
   "source": [
    "Поскольку переменная price глобальная, то есть была задана в основной части кода, то изменения переменной сохраняются: в последующей итерации цикл будет обрабатывать изменённое на предыдущей итерации значение price. "
   ]
  },
  {
   "cell_type": "markdown",
   "metadata": {},
   "source": [
    "### Перебор индексов элементов списка в цикле"
   ]
  },
  {
   "cell_type": "markdown",
   "metadata": {},
   "source": [
    "Если в функцию ```range()``` передать длину списка — результат работы функции ```len()```, то последовательность чисел будет соответствовать индексам списка. "
   ]
  },
  {
   "cell_type": "code",
   "execution_count": null,
   "metadata": {},
   "outputs": [
    {
     "name": "stdout",
     "output_type": "stream",
     "text": [
      "Имя одногруппника: Антон\n",
      "Имя одногруппника: Арина\n",
      "Имя одногруппника: Борис\n",
      "Имя одногруппника: Диана\n",
      "Имя одногруппника: Ольга\n"
     ]
    }
   ],
   "source": [
    "# выведем имена одногруппников с помощью индекса элемента списка\n",
    "names = ['Антон', 'Арина', 'Борис', 'Диана', 'Ольга']\n",
    "\n",
    "for i in range(len(names)):\n",
    "    print(f'Имя одногруппника: {names[i]}')"
   ]
  },
  {
   "cell_type": "markdown",
   "metadata": {},
   "source": [
    "Итератор ```i``` перемещается по последовательности целых чисел от 0 до ```len(names)``` - 1. А в теле цикла по значению итератора выводится элемент с индексом итератора — ```i```: ```names[i]```."
   ]
  },
  {
   "cell_type": "code",
   "execution_count": null,
   "metadata": {},
   "outputs": [
    {
     "name": "stdout",
     "output_type": "stream",
     "text": [
      "Исходный список: [1000, 2000, 3000, 4000, 5000]\n",
      "Измененный список: [0, 2000, 6000, 12000, 20000]\n"
     ]
    }
   ],
   "source": [
    "# при помощи цикла мы можем изменить набор значений исходного списка\n",
    "\n",
    "list = [1000, 2000, 3000, 4000, 5000]\n",
    "print(f'Исходный список: {list}')\n",
    "\n",
    "for i in range(len(list)):\n",
    "    list[i] *= i\n",
    "\n",
    "print(f'Измененный список: {list}')"
   ]
  },
  {
   "cell_type": "code",
   "execution_count": null,
   "metadata": {},
   "outputs": [
    {
     "name": "stdout",
     "output_type": "stream",
     "text": [
      "Список с добавлением 100: [1100, 2100, 3100, 4100, 5100]\n",
      "Список с вычитанием 100: [900, 1900, 2900, 3900, 4900]\n",
      "Список с умножением на 2: [2000, 4000, 6000, 8000, 10000]\n",
      "Список с делением на 2: [ 500. 1000. 1500. 2000. 2500.] | Тип данных: float64\n",
      "Список с возведением в квадрат: [1000000, 4000000, 9000000, 16000000, 25000000]\n"
     ]
    }
   ],
   "source": [
    "import numpy as np\n",
    "# Исходный набор чисел\n",
    "numbers = [1000, 2000, 3000, 4000, 5000]\n",
    "\n",
    "# Создание пустых списков для измененных массивов\n",
    "a = []  # Для добавления 100\n",
    "b = []  # Для вычитания 100\n",
    "c = []  # Для умножения на 2\n",
    "d = np.array([])  # Для деления на 2\n",
    "e = []  # Для возведения в квадрат\n",
    "\n",
    "# Обработка каждого элемента списка\n",
    "for number in numbers:\n",
    "    a.append(number + 100)      # Добавляем 100 к каждому элементу\n",
    "    b.append(number - 100)      # Вычитаем 100 из каждого элемента\n",
    "    c.append(number * 2)        # Умножаем каждый элемент на 2\n",
    "    d = np.append(d, number / 2)        # Делим каждый элемент на 2 (тип данных изменится)\n",
    "    e.append(number ** 2)       # Возводим каждый элемент в квадрат\n",
    "\n",
    "# Вывод результатов\n",
    "print(\"Список с добавлением 100:\", a)\n",
    "print(\"Список с вычитанием 100:\", b)\n",
    "print(\"Список с умножением на 2:\", c)\n",
    "print(\"Список с делением на 2:\", d, \"| Тип данных:\", d.dtype)\n",
    "print(\"Список с возведением в квадрат:\", e)\n"
   ]
  },
  {
   "cell_type": "code",
   "execution_count": null,
   "metadata": {},
   "outputs": [
    {
     "name": "stdout",
     "output_type": "stream",
     "text": [
      "1000\n",
      "3000\n",
      "5000\n"
     ]
    }
   ],
   "source": [
    "### перебор определенного интервала \n",
    "\n",
    "lst = [1000, 2000, 3000, 4000, 5000, 6000]\n",
    "\n",
    "for i in range(0, 5, 2): \n",
    "    # начальная позиция 0\n",
    "    # конечная позиция 5 не включительно\n",
    "    # шаг 2\n",
    "    print(lst[i])"
   ]
  },
  {
   "cell_type": "code",
   "execution_count": null,
   "metadata": {},
   "outputs": [],
   "source": []
  }
 ],
 "metadata": {
  "kernelspec": {
   "display_name": "Python 3",
   "language": "python",
   "name": "python3"
  },
  "language_info": {
   "codemirror_mode": {
    "name": "ipython",
    "version": 3
   },
   "file_extension": ".py",
   "mimetype": "text/x-python",
   "name": "python",
   "nbconvert_exporter": "python",
   "pygments_lexer": "ipython3",
   "version": "3.13.0"
  }
 },
 "nbformat": 4,
 "nbformat_minor": 2
}
