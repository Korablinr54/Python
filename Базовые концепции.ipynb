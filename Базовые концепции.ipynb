{
 "cells": [
  {
   "cell_type": "markdown",
   "metadata": {},
   "source": [
    "# Структуры данных"
   ]
  },
  {
   "cell_type": "markdown",
   "metadata": {},
   "source": [
    "## Список (list)"
   ]
  },
  {
   "cell_type": "markdown",
   "metadata": {},
   "source": [
    "Список в Python — это один из основных встроенных типов данных, который представляет собой упорядоченную коллекцию элементов.\n",
    "\n",
    "Основные характеристики списков:\n",
    "* **Упорядоченность**: Элементы в списке имеют фиксированный порядок, и каждый элемент имеет свой индекс, начиная с нуля.\n",
    "* **Изменяемость**: Вы можете добавлять, удалять и изменять элементы в списке.\n",
    "* **Разнообразие типов**: Списки могут содержать элементы разных типов, включая другие списки.\n",
    "* **Динамическое выделение памяти**: Размер списка может изменяться во время выполнения программы."
   ]
  },
  {
   "cell_type": "markdown",
   "metadata": {},
   "source": [
    "### Создание списка"
   ]
  },
  {
   "cell_type": "code",
   "execution_count": 28,
   "metadata": {},
   "outputs": [
    {
     "name": "stdout",
     "output_type": "stream",
     "text": [
      "[1, 'Два', 3.0, True]\n"
     ]
    }
   ],
   "source": [
    "# создание списка\n",
    "list_1 = [1, 'Два', 3.0, True]\n",
    "print(list_1)"
   ]
  },
  {
   "cell_type": "markdown",
   "metadata": {},
   "source": [
    "### Основные операции над списком"
   ]
  },
  {
   "cell_type": "code",
   "execution_count": 29,
   "metadata": {},
   "outputs": [
    {
     "name": "stdout",
     "output_type": "stream",
     "text": [
      "[1, 'Два', 3.0, True, 'Value']\n"
     ]
    }
   ],
   "source": [
    "# добавление элемента в конец списка .append()\n",
    "list_1.append('Value')\n",
    "print(list_1)"
   ]
  },
  {
   "cell_type": "code",
   "execution_count": 30,
   "metadata": {},
   "outputs": [
    {
     "name": "stdout",
     "output_type": "stream",
     "text": [
      "[1, 'Два', 'x', 3.0, True, 'Value']\n"
     ]
    }
   ],
   "source": [
    "# добавление элемента по индексу\n",
    "list_1.insert(2, 'x')\n",
    "print(list_1)"
   ]
  },
  {
   "cell_type": "code",
   "execution_count": 31,
   "metadata": {},
   "outputs": [
    {
     "name": "stdout",
     "output_type": "stream",
     "text": [
      "[1, 'Два', 'x', 3.0, True]\n"
     ]
    }
   ],
   "source": [
    "# удаление первого вхождения указанного значения\n",
    "list_1.remove('Value')\n",
    "print(list_1)"
   ]
  },
  {
   "cell_type": "code",
   "execution_count": 32,
   "metadata": {},
   "outputs": [
    {
     "name": "stdout",
     "output_type": "stream",
     "text": [
      "[1, 'Два', 3.0, True]\n"
     ]
    }
   ],
   "source": [
    "# удаление элемента по индексу\n",
    "list_1.pop(2)\n",
    "print(list_1)"
   ]
  },
  {
   "cell_type": "code",
   "execution_count": 33,
   "metadata": {},
   "outputs": [
    {
     "name": "stdout",
     "output_type": "stream",
     "text": [
      "[1, 'Два', 3.5, True]\n"
     ]
    }
   ],
   "source": [
    "# изменение элемента по индексу\n",
    "list_1[2] = 3.5\n",
    "print(list_1)"
   ]
  },
  {
   "cell_type": "code",
   "execution_count": 34,
   "metadata": {},
   "outputs": [
    {
     "name": "stdout",
     "output_type": "stream",
     "text": [
      "1\n",
      "True\n",
      "[1, 'Два']\n",
      "[3.5, True]\n"
     ]
    }
   ],
   "source": [
    "# доступ к элементам по индексу\n",
    "print(list_1[0]) # первый элемент списка\n",
    "print(list_1[-1]) # последний элемент списка\n",
    "print(list_1[0:2]) # первые два элемента\n",
    "print(list_1[-2:]) # два последних элемента"
   ]
  },
  {
   "cell_type": "markdown",
   "metadata": {},
   "source": [
    "## Кортеж (tuple)"
   ]
  },
  {
   "cell_type": "markdown",
   "metadata": {},
   "source": [
    "Кортеж (tuple) в Python — это неизменяемая последовательность элементов, которая может содержать данные различных типов. Кортежи схожи со списками, но в отличие от них, после создания кортеж не может быть изменен. Это делает их полезными для хранения данных, которые не должны изменяться в процессе выполнения программы."
   ]
  },
  {
   "cell_type": "markdown",
   "metadata": {},
   "source": [
    "Основные характеристики кортежей:\n",
    "* **Неизменяемость**: После создания кортеж нельзя изменить, добавлять или удалять его элементы.\n",
    "* **Упорядоченность**: Элементы имеют фиксированный порядок и могут быть доступны по индексу, начиная с нуля.\n",
    "* **Разнообразие типов**: Кортежи могут содержать элементы разных типов, включая другие кортежи.\n",
    "* **Эффективность**: Кортежи занимают меньше памяти и работают быстрее по сравнению со списками, что делает их предпочтительными в ситуациях, где важна производительность."
   ]
  },
  {
   "cell_type": "markdown",
   "metadata": {},
   "source": [
    "### Создание кортежа"
   ]
  },
  {
   "cell_type": "code",
   "execution_count": 35,
   "metadata": {},
   "outputs": [
    {
     "name": "stdout",
     "output_type": "stream",
     "text": [
      "(1, 3, 'five', 7.14, True)\n"
     ]
    }
   ],
   "source": [
    "# создание кортежа\n",
    "tuple_1 = (1, 3, 'five', 7.14, True)\n",
    "print(tuple_1)"
   ]
  },
  {
   "cell_type": "markdown",
   "metadata": {},
   "source": [
    "### Основные операции над кортежами"
   ]
  },
  {
   "cell_type": "code",
   "execution_count": 36,
   "metadata": {},
   "outputs": [
    {
     "name": "stdout",
     "output_type": "stream",
     "text": [
      "[1, 'Два', 3.5, True]\n"
     ]
    }
   ],
   "source": [
    "# создание кортежа из другого итерируемого объекта\n",
    "tuple_2 = (list_1)\n",
    "print(tuple_2)"
   ]
  },
  {
   "cell_type": "code",
   "execution_count": 37,
   "metadata": {},
   "outputs": [
    {
     "name": "stdout",
     "output_type": "stream",
     "text": [
      "1\n",
      "True\n"
     ]
    }
   ],
   "source": [
    "# доступ к элементам кортежа по индексу\n",
    "print(tuple_1[0])\n",
    "print(tuple_1[-1])"
   ]
  },
  {
   "cell_type": "code",
   "execution_count": 38,
   "metadata": {},
   "outputs": [
    {
     "name": "stdout",
     "output_type": "stream",
     "text": [
      "[1, 3, 5, 'x', True, -985.4]\n",
      "(1, 3, 5, 'x', True, -985.4)\n",
      "List: 88 bytes\n",
      "Tuple: 72 bytes\n"
     ]
    }
   ],
   "source": [
    "# Одинаковые кортеж и список занимают разное количество места\n",
    "list_3 = [1, 3, 5, 'x', True, -985.4]\n",
    "tuple_3 = (1, 3, 5, 'x', True, -985.4)\n",
    "\n",
    "print(list_3)\n",
    "print(tuple_3)\n",
    "\n",
    "print(f\"List: {list_3.__sizeof__()} bytes\")\n",
    "print(f\"Tuple: {tuple_3.__sizeof__()} bytes\")"
   ]
  },
  {
   "cell_type": "markdown",
   "metadata": {},
   "source": [
    "## Словарь (dict)"
   ]
  },
  {
   "cell_type": "markdown",
   "metadata": {},
   "source": [
    "Словарь — вторая по частоте использования структура данных в Python. Словари позволяют эффективно хранить и извлекать данные по ключу.\n",
    "\n",
    "Основные характеристики словарей:\n",
    "* **Ключи и значения**: Каждый элемент словаря состоит из уникального ключа и соответствующего ему значения. Ключи должны быть неизменяемыми (например, строки, числа или кортежи), тогда как значения могут быть любого типа.\n",
    "* **Изменяемость**: Словари являются изменяемыми, что означает, что вы можете добавлять, изменять и удалять элементы после их создания.\n",
    "* **Эффективность**: Словари обеспечивают быстрый доступ к данным благодаря использованию хэш-таблиц.\n",
    "\n",
    "Словарь создается с помощью фигурных скобок {} или с использованием функции dict()."
   ]
  },
  {
   "cell_type": "markdown",
   "metadata": {},
   "source": [
    "### Создание словаря"
   ]
  },
  {
   "cell_type": "code",
   "execution_count": 39,
   "metadata": {},
   "outputs": [
    {
     "name": "stdout",
     "output_type": "stream",
     "text": [
      "{'name': 'Harry', 'surname': 'Potter', 'Age': 12}\n",
      "{'name': 'Ronald', 'surname': 'Weasley', 'age': 13}\n"
     ]
    }
   ],
   "source": [
    "# создаем пустой словарь\n",
    "d = {} \n",
    "\n",
    "# создаем словарь с элементами\n",
    "d_1 = {\n",
    "    'name' : 'Harry',\n",
    "    'surname' : 'Potter',\n",
    "    'Age' : 12\n",
    "}\n",
    "print(d_1)\n",
    "\n",
    "# альтернативный способ создания словаря\n",
    "d_2 = dict(name = 'Ronald', surname = 'Weasley', age = 13)\n",
    "print(d_2)"
   ]
  },
  {
   "cell_type": "markdown",
   "metadata": {},
   "source": [
    "### Основные операции над словарями"
   ]
  },
  {
   "cell_type": "code",
   "execution_count": 40,
   "metadata": {},
   "outputs": [
    {
     "name": "stdout",
     "output_type": "stream",
     "text": [
      "{'name': 'Harry', 'surname': 'Potter', 'Age': 12, 'Job': 'Wizard'}\n"
     ]
    }
   ],
   "source": [
    "# Добавление элемента\n",
    "d_1['Job'] = 'Wizard'\n",
    "print(d_1)\n",
    "\n",
    "# при использовании нового ключа данные будут добавлены в словарь"
   ]
  },
  {
   "cell_type": "code",
   "execution_count": 41,
   "metadata": {},
   "outputs": [
    {
     "name": "stdout",
     "output_type": "stream",
     "text": [
      "{'name': 'Harry', 'surname': 'Potter', 'Age': '21', 'Job': 'Wizard'}\n"
     ]
    }
   ],
   "source": [
    "# Измнение элемента\n",
    "d_1['Age'] = '21'\n",
    "print(d_1)\n",
    "\n",
    "# при совпадении ключей данные будут перезаписаны"
   ]
  },
  {
   "cell_type": "code",
   "execution_count": 42,
   "metadata": {},
   "outputs": [
    {
     "name": "stdout",
     "output_type": "stream",
     "text": [
      "Harry Ronald\n"
     ]
    }
   ],
   "source": [
    "# чтение значения\n",
    "print(d_1['name'], d_2['name'])"
   ]
  },
  {
   "cell_type": "code",
   "execution_count": 43,
   "metadata": {},
   "outputs": [
    {
     "name": "stdout",
     "output_type": "stream",
     "text": [
      "{'name': 'Harry', 'surname': 'Potter', 'Age': '21'}\n"
     ]
    }
   ],
   "source": [
    "# удаление значений\n",
    "d_1.pop('Job')\n",
    "print(d_1)"
   ]
  },
  {
   "cell_type": "code",
   "execution_count": 44,
   "metadata": {},
   "outputs": [
    {
     "name": "stdout",
     "output_type": "stream",
     "text": [
      "Имя: Harry\n"
     ]
    },
    {
     "ename": "KeyError",
     "evalue": "'Job'",
     "output_type": "error",
     "traceback": [
      "\u001b[1;31m---------------------------------------------------------------------------\u001b[0m",
      "\u001b[1;31mKeyError\u001b[0m                                  Traceback (most recent call last)",
      "Cell \u001b[1;32mIn[44], line 7\u001b[0m\n\u001b[0;32m      3\u001b[0m     \u001b[38;5;28mprint\u001b[39m(\u001b[38;5;124m'\u001b[39m\u001b[38;5;124mИмя:\u001b[39m\u001b[38;5;124m'\u001b[39m, d_1[\u001b[38;5;124m'\u001b[39m\u001b[38;5;124mname\u001b[39m\u001b[38;5;124m'\u001b[39m])\n\u001b[0;32m      5\u001b[0m \u001b[38;5;66;03m# если попытаться читать ключ из словаря, которого нет, получим ошибку 'KeyError:'\u001b[39;00m\n\u001b[1;32m----> 7\u001b[0m \u001b[43md_1\u001b[49m\u001b[43m[\u001b[49m\u001b[38;5;124;43m'\u001b[39;49m\u001b[38;5;124;43mJob\u001b[39;49m\u001b[38;5;124;43m'\u001b[39;49m\u001b[43m]\u001b[49m\n",
      "\u001b[1;31mKeyError\u001b[0m: 'Job'"
     ]
    }
   ],
   "source": [
    "# проверка наличия ключа в словаре\n",
    "if 'name' in d_1:\n",
    "    print('Имя:', d_1['name'])\n",
    "\n",
    "# если попытаться читать ключ из словаря, которого нет, получим ошибку 'KeyError:'\n",
    "\n",
    "d_1['Job']\n"
   ]
  },
  {
   "cell_type": "markdown",
   "metadata": {},
   "source": [
    "## Множество (set)"
   ]
  },
  {
   "cell_type": "markdown",
   "metadata": {},
   "source": [
    "Множество (set) в Python — это изменяемая, неупорядоченная коллекция уникальных элементов. Оно используется для хранения данных, где важна уникальность значений, и поддерживает множество операций.\n",
    "\n",
    "Основные характеристики множеств:\n",
    "* **Неупорядоченность**: Элементы множества не имеют фиксированного порядка, и вы не можете обращаться к элементам по индексу.\n",
    "* **Уникальность**: В множестве не может быть повторяющихся элементов. При добавлении дублирующего значения оно будет игнорироваться.\n",
    "* **Изменяемость**: Множества можно изменять — добавлять или удалять элементы после их создания.\n",
    "* **Элементы должны быть хэшируемыми**: Это означает, что элементы множества должны быть неизменяемыми (например, числа, строки или кортежи), но не могут быть изменяемыми типами, такими как списки или другие множества.\n",
    "\n"
   ]
  },
  {
   "cell_type": "markdown",
   "metadata": {},
   "source": [
    "### Создание множества\n"
   ]
  },
  {
   "cell_type": "markdown",
   "metadata": {},
   "source": [
    "Множество создается с помощью фигурных скобок {} или функции set()."
   ]
  },
  {
   "cell_type": "code",
   "execution_count": 24,
   "metadata": {},
   "outputs": [],
   "source": [
    "# создание пустого множества\n",
    "empty_set_1 = set()\n",
    "empty_set_2 = {}"
   ]
  },
  {
   "cell_type": "code",
   "execution_count": 40,
   "metadata": {},
   "outputs": [
    {
     "name": "stdout",
     "output_type": "stream",
     "text": [
      "{1, 2, 'House'}\n",
      "{1, 3, 99, 4.5, -1}\n"
     ]
    }
   ],
   "source": [
    "# создание множества двумя способами\n",
    "\n",
    "# используя set()\n",
    "t_1 = (1, 2, True, 'House') # определим кортеж \n",
    "set_1 = set(t_1) # принимает на вход один аргумент, итерируемый аргумент\n",
    "print(set_1)\n",
    "\n",
    "# используя {}\n",
    "set_2 = {1, 3, 4.5, 99, -1}\n",
    "print(set_2)"
   ]
  },
  {
   "cell_type": "code",
   "execution_count": 41,
   "metadata": {},
   "outputs": [
    {
     "name": "stdout",
     "output_type": "stream",
     "text": [
      "{1, 3, -12, 5, 7, 9.5}\n"
     ]
    }
   ],
   "source": [
    "# при создании множества с повторяющимися элементами они будут игнорированы\n",
    "set_3 = {1, 3, 3, 3, 5, 7, 9.5, -12}\n",
    "print(set_3)"
   ]
  },
  {
   "cell_type": "markdown",
   "metadata": {},
   "source": [
    "### Основные операции над множествами"
   ]
  },
  {
   "cell_type": "code",
   "execution_count": 48,
   "metadata": {},
   "outputs": [
    {
     "name": "stdout",
     "output_type": "stream",
     "text": [
      "{1, 3, -12, 5, 999, 7, 9.5}\n"
     ]
    }
   ],
   "source": [
    "# добавление нового элемента в множество\n",
    "set_3.add(999)\n",
    "print(set_3)"
   ]
  },
  {
   "cell_type": "markdown",
   "metadata": {},
   "source": [
    "Удаление элемента: Для удаления элемента используйте метод remove() или discard(). Метод remove() вызовет ошибку, если элемент отсутствует."
   ]
  },
  {
   "cell_type": "code",
   "execution_count": 49,
   "metadata": {},
   "outputs": [
    {
     "name": "stdout",
     "output_type": "stream",
     "text": [
      "{1, 3, -12, 5, 7, 9.5}\n"
     ]
    },
    {
     "ename": "KeyError",
     "evalue": "998",
     "output_type": "error",
     "traceback": [
      "\u001b[1;31m---------------------------------------------------------------------------\u001b[0m",
      "\u001b[1;31mKeyError\u001b[0m                                  Traceback (most recent call last)",
      "Cell \u001b[1;32mIn[49], line 5\u001b[0m\n\u001b[0;32m      2\u001b[0m set_3\u001b[38;5;241m.\u001b[39mremove(\u001b[38;5;241m999\u001b[39m)\n\u001b[0;32m      3\u001b[0m \u001b[38;5;28mprint\u001b[39m(set_3)\n\u001b[1;32m----> 5\u001b[0m \u001b[43mset_3\u001b[49m\u001b[38;5;241;43m.\u001b[39;49m\u001b[43mremove\u001b[49m\u001b[43m(\u001b[49m\u001b[38;5;241;43m998\u001b[39;49m\u001b[43m)\u001b[49m\n",
      "\u001b[1;31mKeyError\u001b[0m: 998"
     ]
    }
   ],
   "source": [
    "# remove\n",
    "set_3.remove(999)\n",
    "print(set_3)\n",
    "\n",
    "set_3.remove(998) # получил ошибку KeyError: 998"
   ]
  },
  {
   "cell_type": "code",
   "execution_count": 54,
   "metadata": {},
   "outputs": [
    {
     "name": "stdout",
     "output_type": "stream",
     "text": [
      "{1, 3, -12, 5, 9.5}\n"
     ]
    }
   ],
   "source": [
    "# discard\n",
    "set_3.discard(7) # удаляем 7\n",
    "print(set_3)\n",
    "\n",
    "set_3.discard(1092) # удаляем 1092, которого нет в множестве. Ошибки не будет"
   ]
  },
  {
   "cell_type": "code",
   "execution_count": 55,
   "metadata": {},
   "outputs": [
    {
     "name": "stdout",
     "output_type": "stream",
     "text": [
      "5\n"
     ]
    }
   ],
   "source": [
    "# подсчет количества элементов множества\n",
    "print(len(set_3))"
   ]
  },
  {
   "cell_type": "code",
   "execution_count": 56,
   "metadata": {},
   "outputs": [
    {
     "name": "stdout",
     "output_type": "stream",
     "text": [
      "set()\n"
     ]
    }
   ],
   "source": [
    "# очистка множества\n",
    "set_1.clear()\n",
    "print(set_1)"
   ]
  },
  {
   "cell_type": "markdown",
   "metadata": {},
   "source": [
    "### Математические операции над множествами"
   ]
  },
  {
   "cell_type": "code",
   "execution_count": 2,
   "metadata": {},
   "outputs": [
    {
     "name": "stdout",
     "output_type": "stream",
     "text": [
      "{1, 2, 3, 4.5, 27, -3}\n",
      "{3, 227, 4.51, 23, 12, -1}\n",
      "{'a', 3, True}\n"
     ]
    }
   ],
   "source": [
    "# определим множества для изучения\n",
    "set_a = {1, 2, 3, 4.5, 27, -3}\n",
    "set_b = {12, 23, 3, 4.51, 227, -1}\n",
    "set_c = {'a', True, 3}\n",
    "print(set_a)\n",
    "print(set_b)\n",
    "print(set_c)"
   ]
  },
  {
   "cell_type": "code",
   "execution_count": 8,
   "metadata": {},
   "outputs": [
    {
     "name": "stdout",
     "output_type": "stream",
     "text": [
      "{1, 2, 3, 4.5, 227, 4.51, 12, 23, 27, -3, -1}\n",
      "{True, 3, 227, 4.51, 12, 'a', 23, -1}\n"
     ]
    }
   ],
   "source": [
    "# объединение множеств\n",
    "union_set = set_a | set_b\n",
    "union_set_2 = set_b | set_c\n",
    "print(union_set)\n",
    "print(union_set_2)"
   ]
  },
  {
   "cell_type": "code",
   "execution_count": 11,
   "metadata": {},
   "outputs": [
    {
     "name": "stdout",
     "output_type": "stream",
     "text": [
      "Присуствует в обоих множествах: {2}\n"
     ]
    }
   ],
   "source": [
    "# пересечение множеств - вернуть значения, присуствующих в обоих множествах\n",
    "set_x = {1, 2, 3}\n",
    "set_xx = {2, 4, 6}\n",
    "intersect_set = set_x & set_xx\n",
    "print(f'Присуствует в обоих множествах: {intersect_set}')"
   ]
  },
  {
   "cell_type": "code",
   "execution_count": 12,
   "metadata": {},
   "outputs": [
    {
     "name": "stdout",
     "output_type": "stream",
     "text": [
      "Элементы первого, отсуствующие во втором множестве: {1, 3}\n"
     ]
    }
   ],
   "source": [
    "# разность - возвращает элементы первого, отсуствующие во втором\n",
    "dif_set = set_x - set_xx\n",
    "print(f'Элементы первого, отсуствующие во втором множестве: {dif_set}')"
   ]
  },
  {
   "cell_type": "markdown",
   "metadata": {},
   "source": [
    "# Условыне конструкции"
   ]
  },
  {
   "cell_type": "markdown",
   "metadata": {},
   "source": [
    "## Условный оператор if"
   ]
  },
  {
   "cell_type": "code",
   "execution_count": 6,
   "metadata": {},
   "outputs": [],
   "source": [
    "# синтаксис if\n",
    "\n",
    "# if логическое выражение:  \n",
    "#    ветка кода\n",
    "\n",
    "# заголовок (ключевое слово if, логическое выражение, двоеточие разделитель)\n",
    "# if логическое выражение:  \n",
    "\n",
    "# блок с инструкциями (набор инструкций, выполняеются если выражение True)\n",
    "#    ветка кода (отступ в 4 пробела)\n"
   ]
  },
  {
   "cell_type": "code",
   "execution_count": 18,
   "metadata": {},
   "outputs": [
    {
     "name": "stdout",
     "output_type": "stream",
     "text": [
      "a > b\n"
     ]
    }
   ],
   "source": [
    "# пример\n",
    "a = 11\n",
    "b = 1\n",
    "\n",
    "if a > b:\n",
    "    print(f'a > b')\n",
    "elif a == b:\n",
    "    print(f'a = b')\n",
    "else: \n",
    "    print(f'a < b')"
   ]
  },
  {
   "cell_type": "markdown",
   "metadata": {},
   "source": [
    "## Сложные конструкции if"
   ]
  },
  {
   "cell_type": "code",
   "execution_count": 25,
   "metadata": {},
   "outputs": [
    {
     "name": "stdout",
     "output_type": "stream",
     "text": [
      "Нормальная температура\n"
     ]
    }
   ],
   "source": [
    "# пример использования условной логики с and\n",
    "\n",
    "temperature = 23\n",
    "\n",
    "if temperature < 25 and temperature > 20:\n",
    "    print('Нормальная температура')\n",
    "elif temperature > 25:\n",
    "    print('Жарко')\n",
    "else:\n",
    "    print('Холодно')"
   ]
  },
  {
   "cell_type": "code",
   "execution_count": 45,
   "metadata": {},
   "outputs": [
    {
     "name": "stdout",
     "output_type": "stream",
     "text": [
      "Скверная погода для прогулки\n"
     ]
    }
   ],
   "source": [
    "# пример использования условной логики с or\n",
    "\n",
    "weather = 'rain'\n",
    "temperature = 14\n",
    "\n",
    "if weather == 'rain' or temperature < 20:\n",
    "    print('Скверная погода для прогулки')\n",
    "else:\n",
    "    print('нормально? Нормааально')"
   ]
  },
  {
   "cell_type": "code",
   "execution_count": 46,
   "metadata": {},
   "outputs": [
    {
     "name": "stdout",
     "output_type": "stream",
     "text": [
      "Надеть шапку и шарф\n"
     ]
    }
   ],
   "source": [
    "weather = 'снег'\n",
    "\n",
    "if weather == 'дождь': # если на улице дождь\n",
    "# первая ветка кода\n",
    "    print('Взять зонт')\n",
    "elif weather == 'солнце': # если на улице солнце\n",
    "# вторая ветка кода\n",
    "    print('Взять панаму')\n",
    "elif weather == 'снег': # если на улице снег\n",
    "# третья ветка кода\n",
    "    print('Надеть шапку и шарф')\n",
    "else: # если все три условных выражения ложные\n",
    "# четвёртая ветка кода\n",
    "    print('На улице отличная погода')"
   ]
  },
  {
   "cell_type": "markdown",
   "metadata": {},
   "source": [
    "# Циклы"
   ]
  }
 ],
 "metadata": {
  "kernelspec": {
   "display_name": "Python 3",
   "language": "python",
   "name": "python3"
  },
  "language_info": {
   "codemirror_mode": {
    "name": "ipython",
    "version": 3
   },
   "file_extension": ".py",
   "mimetype": "text/x-python",
   "name": "python",
   "nbconvert_exporter": "python",
   "pygments_lexer": "ipython3",
   "version": "3.13.0"
  }
 },
 "nbformat": 4,
 "nbformat_minor": 2
}
