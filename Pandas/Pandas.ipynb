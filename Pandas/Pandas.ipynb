{
 "cells": [
  {
   "cell_type": "markdown",
   "metadata": {},
   "source": [
    "# Series и DataFrame"
   ]
  },
  {
   "cell_type": "markdown",
   "metadata": {},
   "source": [
    "## Series"
   ]
  },
  {
   "cell_type": "markdown",
   "metadata": {},
   "source": [
    "**Series** — это одномерный массив, который может хранить данные любого типа (например, числа, строки, объекты). Важной особенностью Series является то, что каждый элемент имеет уникальный индекс, который можно использовать для доступа к данным.  \n",
    "\n",
    "**Основные характеристики Series**:  \n",
    "* **Индекс**: Каждый элемент Series имеет свой индекс (по умолчанию это целые числа от 0 до n-1, где n — количество элементов).  \n",
    "* **Тип данных**: Все элементы в Series имеют одинаковый тип данных."
   ]
  },
  {
   "cell_type": "code",
   "execution_count": 1,
   "metadata": {},
   "outputs": [
    {
     "name": "stdout",
     "output_type": "stream",
     "text": [
      "0    10\n",
      "1    20\n",
      "2    30\n",
      "3    40\n",
      "4    50\n",
      "dtype: int64\n"
     ]
    }
   ],
   "source": [
    "# импортируем библиотеку \n",
    "import pandas as pd\n",
    "\n",
    "# создадим первый Series\n",
    "s_1 = pd.Series([10, 20, 30, 40, 50])\n",
    "\n",
    "print(s_1)"
   ]
  },
  {
   "cell_type": "code",
   "execution_count": 2,
   "metadata": {},
   "outputs": [
    {
     "name": "stdout",
     "output_type": "stream",
     "text": [
      "0       10\n",
      "1      2.5\n",
      "2    Hello\n",
      "3     True\n",
      "dtype: object\n",
      "\n",
      "0    10.00\n",
      "1    20.00\n",
      "2    30.00\n",
      "3     4.50\n",
      "4    -2.17\n",
      "dtype: float64\n"
     ]
    }
   ],
   "source": [
    "# давайте попробуем создать серию с разными типами данных\n",
    "s_test_1 = pd.Series([10, 2.5, 'Hello', True])\n",
    "print(f'{s_test_1}')\n",
    "\n",
    "# обратите внимание, если в серии есть текстовые данные тип данных меняется на object\n",
    "\n",
    "s_test_2 = pd.Series([10, 20, 30, 4.5, -2.17])\n",
    "print(f'\\n{s_test_2}')\n",
    "# то же касается и десятичных цисел, если в серии есть то тип данных меняется на float"
   ]
  },
  {
   "cell_type": "markdown",
   "metadata": {},
   "source": [
    "### Индексация"
   ]
  },
  {
   "cell_type": "code",
   "execution_count": 3,
   "metadata": {},
   "outputs": [
    {
     "name": "stdout",
     "output_type": "stream",
     "text": [
      "a    1\n",
      "b    3\n",
      "c    5\n",
      "d    7\n",
      "e    9\n",
      "dtype: int64\n"
     ]
    }
   ],
   "source": [
    "# индексы можно также задать при создании серии\n",
    "# По умолчанию серии присваивается целочисленная индексация с нуля, \n",
    "# но ее можно изменить с помощью параметра index.\n",
    "s_2 = pd.Series([1, 3, 5, 7, 9],\n",
    "                index=['a', 'b', 'c', 'd', 'e'])\n",
    "\n",
    "print(s_2)"
   ]
  },
  {
   "cell_type": "markdown",
   "metadata": {},
   "source": [
    "### Доступ по индексу"
   ]
  },
  {
   "cell_type": "code",
   "execution_count": 4,
   "metadata": {},
   "outputs": [
    {
     "name": "stdout",
     "output_type": "stream",
     "text": [
      "Исходная серия:\n",
      "0    10\n",
      "1    20\n",
      "2    30\n",
      "3    40\n",
      "4    50\n",
      "dtype: int64\n",
      "\n",
      "Вернем два элемента с конца:\n",
      "3    40\n",
      "4    50\n",
      "dtype: int64\n",
      "\n",
      "Логическая индексация:\n",
      "1    20\n",
      "2    30\n",
      "3    40\n",
      "dtype: int64\n",
      "\n",
      "Логическая индексация:\n",
      "2    30\n",
      "3    40\n",
      "4    50\n",
      "dtype: int64\n"
     ]
    }
   ],
   "source": [
    "# вернем последние два элемента серии\n",
    "print(f'Исходная серия:\\n{s_1}')\n",
    "print(f'\\nВернем два элемента с конца:\\n{s_1[-2:]}')\n",
    "print(f'\\nЛогическая индексация:\\n{s_1[(s_1 > 10) & (s_1 < 50)]}')\n",
    "print(f'\\nЛогическая индексация:\\n{s_1[s_1 >= 30]}')"
   ]
  },
  {
   "cell_type": "code",
   "execution_count": 5,
   "metadata": {},
   "outputs": [
    {
     "name": "stdout",
     "output_type": "stream",
     "text": [
      "Исходная серия:\n",
      "a    1\n",
      "b    3\n",
      "c    5\n",
      "d    7\n",
      "e    9\n",
      "dtype: int64\n",
      "\n",
      "Вернем элементы с b по d:\n",
      "b    3\n",
      "c    5\n",
      "d    7\n",
      "dtype: int64\n",
      "\n",
      "Или просто вернем элемент с индексом е:\n",
      "9\n"
     ]
    }
   ],
   "source": [
    "# вариант с заданной индексацией\n",
    "print(f'Исходная серия:\\n{s_2}')\n",
    "print(f'\\nВернем элементы с b по d:\\n{s_2['b':'d']}')\n",
    "print(f'\\nИли просто вернем элемент с индексом е:\\n{s_2['e']}')"
   ]
  },
  {
   "cell_type": "code",
   "execution_count": 6,
   "metadata": {},
   "outputs": [
    {
     "name": "stdout",
     "output_type": "stream",
     "text": [
      "Исходный вид Series s_3:\n",
      "0      Red\n",
      "1      Red\n",
      "2     Blue\n",
      "3    White\n",
      "4    Black\n",
      "5    Black\n",
      "dtype: object\n",
      "\n",
      "В series есть дубликаты\n"
     ]
    }
   ],
   "source": [
    "# проверим работы методов на series\n",
    "# создадим серию с повторами значений\n",
    "s_3 = pd.Series(['Red', 'Red', 'Blue', 'White', 'Black', 'Black']) \n",
    "print(f'Исходный вид Series s_3:\\n{s_3}')\n",
    "\n",
    "# воспользуемся методом is_unique, проверяющим на наличие дубликатов\n",
    "\n",
    "if s_3.is_unique == False:\n",
    "    print(f'\\nВ series есть дубликаты')\n",
    "else:\n",
    "    print(f'\\nВсе значения уникальны')"
   ]
  },
  {
   "cell_type": "markdown",
   "metadata": {},
   "source": [
    "## DataFrame"
   ]
  },
  {
   "cell_type": "markdown",
   "metadata": {},
   "source": [
    "DataFrame в библиотеке Pandas — это основной объект, который используется для хранения и обработки табличных данных. Он представляет собой двумерную структуру данных, где данные организованы в строки и столбцы, аналогично таблицам в базах данных или листам в Excel.  \n",
    "\n",
    "**Основные характеристики DataFrame**:  \n",
    "* **Столбцы**: Каждый столбец в DataFrame может содержать данные одного типа (например, числовые значения, строки, даты и т.д.), но типы данных в разных столбцах могут различаться.  \n",
    "* **Индексы**: У DataFrame есть два типа индексов:\n",
    "    * **Строковые индексы**: Индексация строк по умолчанию начинается с 0 и идет до n-1, где n — количество строк. Но можно задавать свои индексы, например, названия строк или временные метки.  \n",
    "    * **Столбцовые индексы**: Названия столбцов также могут быть изменены на пользовательские значения.  \n",
    "* **Гибкость**: DataFrame предоставляет мощные методы для работы с данными, включая фильтрацию, группировку, агрегирование, объединение и многое другое."
   ]
  },
  {
   "cell_type": "markdown",
   "metadata": {},
   "source": [
    "### Создание DataFrame"
   ]
  },
  {
   "cell_type": "markdown",
   "metadata": {},
   "source": [
    "DataFrame можно создать из различных источников данных, таких как списки, словари, файлы CSV, Excel и других форматов."
   ]
  },
  {
   "cell_type": "code",
   "execution_count": 10,
   "metadata": {},
   "outputs": [
    {
     "name": "stdout",
     "output_type": "stream",
     "text": [
      "     Имя Профессия  Рост\n",
      "0  Антон  Аналитик   180\n",
      "1  Павел   Плотник   175\n",
      "2   Анна    Тренер   165\n"
     ]
    }
   ],
   "source": [
    "# разберем пример создания DataFrame из словаря\n",
    "\n",
    "# определяем словарь\n",
    "dic_1 = {\n",
    "    'Имя' : ['Антон', 'Павел', 'Анна'],\n",
    "    'Профессия' : ['Аналитик', 'Плотник', 'Тренер'],\n",
    "    'Рост' : [180, 175, 165]\n",
    "}\n",
    "\n",
    "df_1 = pd.DataFrame(dic_1)\n",
    "\n",
    "print(df_1)"
   ]
  },
  {
   "cell_type": "code",
   "execution_count": 16,
   "metadata": {},
   "outputs": [
    {
     "name": "stdout",
     "output_type": "stream",
     "text": [
      "    0   1   2   3   4\n",
      "0   1   2   3   4   5\n",
      "1   6   7   8   9  10\n",
      "2  11  12  13  14  15\n"
     ]
    }
   ],
   "source": [
    "# из двумерного массива NumPy\n",
    "\n",
    "# импортируем библиотеку \n",
    "import numpy as np\n",
    "\n",
    "# определим двумерный массив\n",
    "arr_1 = np.array([\n",
    "    [1, 2, 3, 4, 5],\n",
    "    [6, 7, 8, 9, 10],\n",
    "    [11, 12, 13, 14, 15]\n",
    "])\n",
    "\n",
    "# используем массив numpy для создания DataFrame\n",
    "df_2 = pd.DataFrame(arr_1)\n",
    "\n",
    "print(df_2)"
   ]
  },
  {
   "cell_type": "code",
   "execution_count": null,
   "metadata": {},
   "outputs": [],
   "source": []
  }
 ],
 "metadata": {
  "kernelspec": {
   "display_name": "Python 3",
   "language": "python",
   "name": "python3"
  },
  "language_info": {
   "codemirror_mode": {
    "name": "ipython",
    "version": 3
   },
   "file_extension": ".py",
   "mimetype": "text/x-python",
   "name": "python",
   "nbconvert_exporter": "python",
   "pygments_lexer": "ipython3",
   "version": "3.13.0"
  }
 },
 "nbformat": 4,
 "nbformat_minor": 2
}
