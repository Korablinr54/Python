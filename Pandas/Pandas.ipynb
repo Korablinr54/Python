{
 "cells": [
  {
   "cell_type": "markdown",
   "metadata": {},
   "source": [
    "# Series и DataFrame"
   ]
  },
  {
   "cell_type": "markdown",
   "metadata": {},
   "source": [
    "## Series"
   ]
  },
  {
   "cell_type": "markdown",
   "metadata": {},
   "source": [
    "**Series** — это одномерный массив, который может хранить данные любого типа (например, числа, строки, объекты). Важной особенностью Series является то, что каждый элемент имеет уникальный индекс, который можно использовать для доступа к данным.  \n",
    "\n",
    "**Основные характеристики Series**:  \n",
    "* **Индекс**: Каждый элемент Series имеет свой индекс (по умолчанию это целые числа от 0 до n-1, где n — количество элементов).  \n",
    "* **Тип данных**: Все элементы в Series имеют одинаковый тип данных."
   ]
  },
  {
   "cell_type": "code",
   "execution_count": 44,
   "metadata": {},
   "outputs": [
    {
     "name": "stdout",
     "output_type": "stream",
     "text": [
      "0    10\n",
      "1    20\n",
      "2    30\n",
      "3    40\n",
      "4    50\n",
      "dtype: int64\n"
     ]
    }
   ],
   "source": [
    "# импортируем библиотеку \n",
    "import pandas as pd\n",
    "\n",
    "# создадим первый Series\n",
    "s_1 = pd.Series([10, 20, 30, 40, 50])\n",
    "\n",
    "print(s_1)"
   ]
  },
  {
   "cell_type": "code",
   "execution_count": 45,
   "metadata": {},
   "outputs": [
    {
     "name": "stdout",
     "output_type": "stream",
     "text": [
      "0       10\n",
      "1      2.5\n",
      "2    Hello\n",
      "3     True\n",
      "dtype: object\n",
      "\n",
      "0    10.00\n",
      "1    20.00\n",
      "2    30.00\n",
      "3     4.50\n",
      "4    -2.17\n",
      "dtype: float64\n"
     ]
    }
   ],
   "source": [
    "# давайте попробуем создать серию с разными типами данных\n",
    "s_test_1 = pd.Series([10, 2.5, 'Hello', True])\n",
    "print(f'{s_test_1}')\n",
    "\n",
    "# обратите внимание, если в серии есть текстовые данные тип данных меняется на object\n",
    "\n",
    "s_test_2 = pd.Series([10, 20, 30, 4.5, -2.17])\n",
    "print(f'\\n{s_test_2}')\n",
    "# то же касается и десятичных цисел, если в серии есть то тип данных меняется на float"
   ]
  },
  {
   "cell_type": "markdown",
   "metadata": {},
   "source": [
    "### Индексация"
   ]
  },
  {
   "cell_type": "code",
   "execution_count": 46,
   "metadata": {},
   "outputs": [
    {
     "name": "stdout",
     "output_type": "stream",
     "text": [
      "a    1\n",
      "b    3\n",
      "c    5\n",
      "d    7\n",
      "e    9\n",
      "dtype: int64\n"
     ]
    }
   ],
   "source": [
    "# индексы можно также задать при создании серии\n",
    "# По умолчанию серии присваивается целочисленная индексация с нуля, \n",
    "# но ее можно изменить с помощью параметра index.\n",
    "s_2 = pd.Series([1, 3, 5, 7, 9],\n",
    "                index=['a', 'b', 'c', 'd', 'e'])\n",
    "\n",
    "print(s_2)"
   ]
  },
  {
   "cell_type": "markdown",
   "metadata": {},
   "source": [
    "### Доступ по индексу"
   ]
  },
  {
   "cell_type": "code",
   "execution_count": 47,
   "metadata": {},
   "outputs": [
    {
     "name": "stdout",
     "output_type": "stream",
     "text": [
      "Исходная серия:\n",
      "0    10\n",
      "1    20\n",
      "2    30\n",
      "3    40\n",
      "4    50\n",
      "dtype: int64\n",
      "\n",
      "Вернем два элемента с конца:\n",
      "3    40\n",
      "4    50\n",
      "dtype: int64\n",
      "\n",
      "Логическая индексация:\n",
      "1    20\n",
      "2    30\n",
      "3    40\n",
      "dtype: int64\n",
      "\n",
      "Логическая индексация:\n",
      "2    30\n",
      "3    40\n",
      "4    50\n",
      "dtype: int64\n"
     ]
    }
   ],
   "source": [
    "# вернем последние два элемента серии\n",
    "print(f'Исходная серия:\\n{s_1}')\n",
    "print(f'\\nВернем два элемента с конца:\\n{s_1[-2:]}')\n",
    "print(f'\\nЛогическая индексация:\\n{s_1[(s_1 > 10) & (s_1 < 50)]}')\n",
    "print(f'\\nЛогическая индексация:\\n{s_1[s_1 >= 30]}')"
   ]
  },
  {
   "cell_type": "code",
   "execution_count": 48,
   "metadata": {},
   "outputs": [
    {
     "name": "stdout",
     "output_type": "stream",
     "text": [
      "Исходная серия:\n",
      "a    1\n",
      "b    3\n",
      "c    5\n",
      "d    7\n",
      "e    9\n",
      "dtype: int64\n",
      "\n",
      "Вернем элементы с b по d:\n",
      "b    3\n",
      "c    5\n",
      "d    7\n",
      "dtype: int64\n",
      "\n",
      "Или просто вернем элемент с индексом е:\n",
      "9\n"
     ]
    }
   ],
   "source": [
    "# вариант с заданной индексацией\n",
    "print(f'Исходная серия:\\n{s_2}')\n",
    "print(f'\\nВернем элементы с b по d:\\n{s_2['b':'d']}')\n",
    "print(f'\\nИли просто вернем элемент с индексом е:\\n{s_2['e']}')"
   ]
  },
  {
   "cell_type": "code",
   "execution_count": 49,
   "metadata": {},
   "outputs": [
    {
     "name": "stdout",
     "output_type": "stream",
     "text": [
      "Исходный вид Series s_3:\n",
      "0      Red\n",
      "1      Red\n",
      "2     Blue\n",
      "3    White\n",
      "4    Black\n",
      "5    Black\n",
      "dtype: object\n",
      "\n",
      "В series есть дубликаты\n"
     ]
    }
   ],
   "source": [
    "# проверим работы методов на series\n",
    "# создадим серию с повторами значений\n",
    "s_3 = pd.Series(['Red', 'Red', 'Blue', 'White', 'Black', 'Black']) \n",
    "print(f'Исходный вид Series s_3:\\n{s_3}')\n",
    "\n",
    "# воспользуемся методом is_unique, проверяющим на наличие дубликатов\n",
    "\n",
    "if s_3.is_unique == False:\n",
    "    print(f'\\nВ series есть дубликаты')\n",
    "else:\n",
    "    print(f'\\nВсе значения уникальны')"
   ]
  },
  {
   "cell_type": "markdown",
   "metadata": {},
   "source": [
    "## DataFrame"
   ]
  },
  {
   "cell_type": "markdown",
   "metadata": {},
   "source": [
    "DataFrame в библиотеке Pandas — это основной объект, который используется для хранения и обработки табличных данных. Он представляет собой двумерную структуру данных, где данные организованы в строки и столбцы, аналогично таблицам в базах данных или листам в Excel.  \n",
    "\n",
    "**Основные характеристики DataFrame**:  \n",
    "* **Столбцы**: Каждый столбец в DataFrame может содержать данные одного типа (например, числовые значения, строки, даты и т.д.), но типы данных в разных столбцах могут различаться.  \n",
    "* **Индексы**: У DataFrame есть два типа индексов:\n",
    "    * **Строковые индексы**: Индексация строк по умолчанию начинается с 0 и идет до n-1, где n — количество строк. Но можно задавать свои индексы, например, названия строк или временные метки.  \n",
    "    * **Столбцовые индексы**: Названия столбцов также могут быть изменены на пользовательские значения.  \n",
    "* **Гибкость**: DataFrame предоставляет мощные методы для работы с данными, включая фильтрацию, группировку, агрегирование, объединение и многое другое."
   ]
  },
  {
   "cell_type": "markdown",
   "metadata": {},
   "source": [
    "### Создание DataFrame"
   ]
  },
  {
   "cell_type": "markdown",
   "metadata": {},
   "source": [
    "DataFrame можно создать из различных источников данных, таких как списки, словари, файлы CSV, Excel и других форматов."
   ]
  },
  {
   "cell_type": "code",
   "execution_count": 50,
   "metadata": {},
   "outputs": [
    {
     "name": "stdout",
     "output_type": "stream",
     "text": [
      "     Имя Профессия  Рост\n",
      "0  Антон  Аналитик   180\n",
      "1  Павел   Плотник   175\n",
      "2   Анна    Тренер   165\n"
     ]
    }
   ],
   "source": [
    "# разберем пример создания DataFrame из словаря\n",
    "\n",
    "# определяем словарь\n",
    "dic_1 = {\n",
    "    'Имя' : ['Антон', 'Павел', 'Анна'],\n",
    "    'Профессия' : ['Аналитик', 'Плотник', 'Тренер'],\n",
    "    'Рост' : [180, 175, 165]\n",
    "}\n",
    "\n",
    "df_1 = pd.DataFrame(dic_1)\n",
    "\n",
    "print(df_1)"
   ]
  },
  {
   "cell_type": "code",
   "execution_count": 51,
   "metadata": {},
   "outputs": [
    {
     "name": "stdout",
     "output_type": "stream",
     "text": [
      "    0   1   2   3   4\n",
      "0   1   2   3   4   5\n",
      "1   6   7   8   9  10\n",
      "2  11  12  13  14  15\n"
     ]
    }
   ],
   "source": [
    "# из двумерного массива NumPy\n",
    "\n",
    "# импортируем библиотеку \n",
    "import numpy as np\n",
    "\n",
    "# определим двумерный массив\n",
    "arr_1 = np.array([\n",
    "    [1, 2, 3, 4, 5],\n",
    "    [6, 7, 8, 9, 10],\n",
    "    [11, 12, 13, 14, 15]\n",
    "])\n",
    "\n",
    "# используем массив numpy для создания DataFrame\n",
    "df_2 = pd.DataFrame(arr_1)\n",
    "\n",
    "print(df_2)"
   ]
  },
  {
   "cell_type": "markdown",
   "metadata": {},
   "source": [
    "### Изучаем DataFrame"
   ]
  },
  {
   "cell_type": "code",
   "execution_count": 52,
   "metadata": {},
   "outputs": [
    {
     "data": {
      "text/html": [
       "<div>\n",
       "<style scoped>\n",
       "    .dataframe tbody tr th:only-of-type {\n",
       "        vertical-align: middle;\n",
       "    }\n",
       "\n",
       "    .dataframe tbody tr th {\n",
       "        vertical-align: top;\n",
       "    }\n",
       "\n",
       "    .dataframe thead th {\n",
       "        text-align: right;\n",
       "    }\n",
       "</style>\n",
       "<table border=\"1\" class=\"dataframe\">\n",
       "  <thead>\n",
       "    <tr style=\"text-align: right;\">\n",
       "      <th></th>\n",
       "      <th>product_code</th>\n",
       "      <th>product_group</th>\n",
       "      <th>stock_qty</th>\n",
       "      <th>cost</th>\n",
       "      <th>price</th>\n",
       "      <th>last_week_sales</th>\n",
       "      <th>last_month_sales</th>\n",
       "    </tr>\n",
       "  </thead>\n",
       "  <tbody>\n",
       "    <tr>\n",
       "      <th>0</th>\n",
       "      <td>4187</td>\n",
       "      <td>PG2</td>\n",
       "      <td>498</td>\n",
       "      <td>420.76</td>\n",
       "      <td>569.91</td>\n",
       "      <td>13</td>\n",
       "      <td>58</td>\n",
       "    </tr>\n",
       "    <tr>\n",
       "      <th>1</th>\n",
       "      <td>4195</td>\n",
       "      <td>PG2</td>\n",
       "      <td>473</td>\n",
       "      <td>545.64</td>\n",
       "      <td>712.41</td>\n",
       "      <td>16</td>\n",
       "      <td>58</td>\n",
       "    </tr>\n",
       "    <tr>\n",
       "      <th>2</th>\n",
       "      <td>4204</td>\n",
       "      <td>PG2</td>\n",
       "      <td>968</td>\n",
       "      <td>640.42</td>\n",
       "      <td>854.91</td>\n",
       "      <td>22</td>\n",
       "      <td>88</td>\n",
       "    </tr>\n",
       "    <tr>\n",
       "      <th>3</th>\n",
       "      <td>4219</td>\n",
       "      <td>PG2</td>\n",
       "      <td>241</td>\n",
       "      <td>869.69</td>\n",
       "      <td>1034.55</td>\n",
       "      <td>14</td>\n",
       "      <td>45</td>\n",
       "    </tr>\n",
       "    <tr>\n",
       "      <th>4</th>\n",
       "      <td>4718</td>\n",
       "      <td>PG2</td>\n",
       "      <td>1401</td>\n",
       "      <td>12.54</td>\n",
       "      <td>26.59</td>\n",
       "      <td>50</td>\n",
       "      <td>285</td>\n",
       "    </tr>\n",
       "  </tbody>\n",
       "</table>\n",
       "</div>"
      ],
      "text/plain": [
       "   product_code product_group  stock_qty    cost    price  last_week_sales  \\\n",
       "0          4187           PG2        498  420.76   569.91               13   \n",
       "1          4195           PG2        473  545.64   712.41               16   \n",
       "2          4204           PG2        968  640.42   854.91               22   \n",
       "3          4219           PG2        241  869.69  1034.55               14   \n",
       "4          4718           PG2       1401   12.54    26.59               50   \n",
       "\n",
       "   last_month_sales  \n",
       "0                58  \n",
       "1                58  \n",
       "2                88  \n",
       "3                45  \n",
       "4               285  "
      ]
     },
     "metadata": {},
     "output_type": "display_data"
    }
   ],
   "source": [
    "# прочитаем csv и создадим DataFrame\n",
    "raw_data = pd.read_csv('datasets/sales.csv')\n",
    "\n",
    "# взглянем на полученный DataFrame\n",
    "display(raw_data.head())"
   ]
  },
  {
   "cell_type": "code",
   "execution_count": 53,
   "metadata": {},
   "outputs": [
    {
     "name": "stdout",
     "output_type": "stream",
     "text": [
      "В DataFrame 1000 строк и 7 столбцов\n",
      "\n",
      "В DataFrame 7000 ячеек\n",
      "\n",
      "В DataFrame 1000 строк\n"
     ]
    }
   ],
   "source": [
    "# изучим DataFrame\n",
    "\n",
    "# метод .shape возвращает количество строк и столбцов\n",
    "print(f'В DataFrame {raw_data.shape[0]} строк и {raw_data.shape[1]} столбцов')\n",
    "\n",
    "# метод .size возвращает переменоженное количество строк и столбцо\n",
    "print(f'\\nВ DataFrame {raw_data.size} ячеек')\n",
    "\n",
    "# функция len() вернет количество строк в DataFrame\n",
    "print(f'\\nВ DataFrame {len(raw_data)} строк')"
   ]
  },
  {
   "cell_type": "code",
   "execution_count": 54,
   "metadata": {},
   "outputs": [
    {
     "name": "stdout",
     "output_type": "stream",
     "text": [
      "<class 'pandas.core.frame.DataFrame'>\n",
      "RangeIndex: 1000 entries, 0 to 999\n",
      "Data columns (total 7 columns):\n",
      " #   Column            Non-Null Count  Dtype  \n",
      "---  ------            --------------  -----  \n",
      " 0   product_code      1000 non-null   int64  \n",
      " 1   product_group     1000 non-null   object \n",
      " 2   stock_qty         1000 non-null   int64  \n",
      " 3   cost              1000 non-null   float64\n",
      " 4   price             1000 non-null   float64\n",
      " 5   last_week_sales   1000 non-null   int64  \n",
      " 6   last_month_sales  1000 non-null   int64  \n",
      "dtypes: float64(2), int64(4), object(1)\n",
      "memory usage: 54.8+ KB\n",
      "\n",
      "Названия полей и типы данных:\n",
      "product_code          int64\n",
      "product_group        object\n",
      "stock_qty             int64\n",
      "cost                float64\n",
      "price               float64\n",
      "last_week_sales       int64\n",
      "last_month_sales      int64\n",
      "dtype: object\n"
     ]
    }
   ],
   "source": [
    "# подробную информацию о DataFrame можем получить используя метод .info\n",
    "raw_data.info()\n",
    "# 1000 вхождений или строк с индексом от 0 до 999\n",
    "# 7 полей\n",
    "# перечислены названия полей и типы данных в полях\n",
    "\n",
    "# названия полей и типы данных можно также получить используя метод .dtypes\n",
    "print(f'\\nНазвания полей и типы данных:\\n{raw_data.dtypes}')\n"
   ]
  },
  {
   "cell_type": "markdown",
   "metadata": {},
   "source": [
    "### Изменение типа данных"
   ]
  },
  {
   "cell_type": "code",
   "execution_count": 55,
   "metadata": {},
   "outputs": [
    {
     "data": {
      "text/plain": [
       "dtype('float64')"
      ]
     },
     "execution_count": 55,
     "metadata": {},
     "output_type": "execute_result"
    }
   ],
   "source": [
    "# для изменения типа данных используем метод .astype()\n",
    "\n",
    "raw_data['stock_qty'] = raw_data['stock_qty'].astype('float') # изменим тип данных\n",
    "raw_data['stock_qty'].dtypes # убедимся, что тип данных изменен\n"
   ]
  },
  {
   "cell_type": "code",
   "execution_count": 56,
   "metadata": {},
   "outputs": [
    {
     "data": {
      "text/plain": [
       "last_week_sales     float64\n",
       "last_month_sales    float64\n",
       "dtype: object"
      ]
     },
     "execution_count": 56,
     "metadata": {},
     "output_type": "execute_result"
    }
   ],
   "source": [
    "# используем метод astype но в этот раз со словарем, чтобы передать несколько колонок\n",
    "\n",
    "# меняем типы данных используя словарь\n",
    "raw_data = raw_data.astype ({\n",
    "    'last_week_sales' : 'float',\n",
    "    'last_month_sales' : 'float'\n",
    "})\n",
    "\n",
    "# проверяем\n",
    "raw_data[['last_week_sales', 'last_month_sales']].dtypes"
   ]
  },
  {
   "cell_type": "markdown",
   "metadata": {},
   "source": [
    "### nunique() / unique()"
   ]
  },
  {
   "cell_type": "code",
   "execution_count": 57,
   "metadata": {},
   "outputs": [
    {
     "name": "stdout",
     "output_type": "stream",
     "text": [
      "В DF представлены такие категории:\n",
      "['PG2' 'PG4' 'PG6' 'PG5' 'PG3' 'PG1']\n",
      "\n",
      "6 уникальных категорий.\n"
     ]
    }
   ],
   "source": [
    "# проверим уникальные значения в поле с категорией товара и сосчитаем их количество\n",
    " \n",
    "print(f'В DF представлены такие категории:\\n{raw_data['product_group'].unique()}') # 6 категорий\n",
    "\n",
    "print(f'\\n{raw_data['product_group'].nunique()} уникальных категорий.') # 6 категорий\n"
   ]
  },
  {
   "cell_type": "markdown",
   "metadata": {},
   "source": [
    "### value_counts"
   ]
  },
  {
   "cell_type": "code",
   "execution_count": 58,
   "metadata": {},
   "outputs": [
    {
     "data": {
      "text/plain": [
       "product_group\n",
       "PG4    349\n",
       "PG5    255\n",
       "PG6    243\n",
       "PG2     75\n",
       "PG3     39\n",
       "PG1     39\n",
       "Name: count, dtype: int64"
      ]
     },
     "execution_count": 58,
     "metadata": {},
     "output_type": "execute_result"
    }
   ],
   "source": [
    "# теперь посмотрим, сколько строк принадлежит к каждой из категорий\n",
    "raw_data['product_group'].value_counts()"
   ]
  },
  {
   "cell_type": "code",
   "execution_count": 59,
   "metadata": {},
   "outputs": [
    {
     "data": {
      "image/png": "[encoded data removed]",
      "text/plain": [
       "<Figure size 640x480 with 1 Axes>"
      ]
     },
     "metadata": {},
     "output_type": "display_data"
    }
   ],
   "source": [
    "# взглянем на данные\n",
    "\n",
    "# импортируем библиотеку\n",
    "import matplotlib.pyplot as plt\n",
    "\n",
    "# создаем переменную для визуализации\n",
    "data_for_vis = raw_data['product_group'].value_counts()\n",
    "\n",
    "# определяем параметры барчарта\n",
    "data_for_vis.plot(kind = 'bar', color = 'skyblue', edgecolor = 'black')\n",
    "\n",
    "# добавляем подписи\n",
    "plt.title('Распределение по группам продуктов')\n",
    "plt.xlabel('Группа продукта')\n",
    "plt.ylabel('Количество строк')\n",
    "\n",
    "# выводим на экран\n",
    "plt.show()"
   ]
  },
  {
   "cell_type": "markdown",
   "metadata": {},
   "source": [
    "## Меры центрально тенденции"
   ]
  },
  {
   "cell_type": "code",
   "execution_count": 60,
   "metadata": {},
   "outputs": [
    {
     "name": "stdout",
     "output_type": "stream",
     "text": [
      "<class 'pandas.core.series.Series'>\n",
      "RangeIndex: 1000 entries, 0 to 999\n",
      "Series name: cost\n",
      "Non-Null Count  Dtype  \n",
      "--------------  -----  \n",
      "1000 non-null   float64\n",
      "dtypes: float64(1)\n",
      "memory usage: 7.9 KB\n",
      "None\n",
      "<class 'pandas.core.frame.DataFrame'>\n",
      "RangeIndex: 1000 entries, 0 to 999\n",
      "Data columns (total 7 columns):\n",
      " #   Column            Non-Null Count  Dtype  \n",
      "---  ------            --------------  -----  \n",
      " 0   product_code      1000 non-null   int64  \n",
      " 1   product_group     1000 non-null   object \n",
      " 2   stock_qty         1000 non-null   float64\n",
      " 3   cost              1000 non-null   float64\n",
      " 4   price             1000 non-null   float64\n",
      " 5   last_week_sales   1000 non-null   float64\n",
      " 6   last_month_sales  1000 non-null   float64\n",
      "dtypes: float64(5), int64(1), object(1)\n",
      "memory usage: 54.8+ KB\n",
      "None\n"
     ]
    }
   ],
   "source": [
    "print(raw_data['cost'].info())\n",
    "print(raw_data.info())"
   ]
  },
  {
   "cell_type": "markdown",
   "metadata": {},
   "source": [
    "### Среднее"
   ]
  },
  {
   "cell_type": "code",
   "execution_count": 61,
   "metadata": {},
   "outputs": [
    {
     "name": "stdout",
     "output_type": "stream",
     "text": [
      "Максимальная цена: 1243.0\n",
      "Минимальная цена: 0.54\n",
      "Средняя цена: 45.95\n"
     ]
    }
   ],
   "source": [
    "# давайте найдем среднюю цену по всему датафрейму\n",
    "\n",
    "print(f'Максимальная цена: {raw_data['cost'].max()}')\n",
    "print(f'Минимальная цена: {raw_data['cost'].min()}')\n",
    "print(f'Средняя цена: {round(raw_data['cost'].mean(),2)}')"
   ]
  },
  {
   "cell_type": "code",
   "execution_count": 62,
   "metadata": {},
   "outputs": [
    {
     "data": {
      "text/html": [
       "<div>\n",
       "<style scoped>\n",
       "    .dataframe tbody tr th:only-of-type {\n",
       "        vertical-align: middle;\n",
       "    }\n",
       "\n",
       "    .dataframe tbody tr th {\n",
       "        vertical-align: top;\n",
       "    }\n",
       "\n",
       "    .dataframe thead th {\n",
       "        text-align: right;\n",
       "    }\n",
       "</style>\n",
       "<table border=\"1\" class=\"dataframe\">\n",
       "  <thead>\n",
       "    <tr style=\"text-align: right;\">\n",
       "      <th></th>\n",
       "      <th>max</th>\n",
       "      <th>min</th>\n",
       "      <th>mean</th>\n",
       "    </tr>\n",
       "    <tr>\n",
       "      <th>product_group</th>\n",
       "      <th></th>\n",
       "      <th></th>\n",
       "      <th></th>\n",
       "    </tr>\n",
       "  </thead>\n",
       "  <tbody>\n",
       "    <tr>\n",
       "      <th>PG1</th>\n",
       "      <td>1243.00</td>\n",
       "      <td>1.57</td>\n",
       "      <td>205.54</td>\n",
       "    </tr>\n",
       "    <tr>\n",
       "      <th>PG2</th>\n",
       "      <td>869.69</td>\n",
       "      <td>0.83</td>\n",
       "      <td>82.01</td>\n",
       "    </tr>\n",
       "    <tr>\n",
       "      <th>PG3</th>\n",
       "      <td>437.21</td>\n",
       "      <td>2.75</td>\n",
       "      <td>57.27</td>\n",
       "    </tr>\n",
       "    <tr>\n",
       "      <th>PG4</th>\n",
       "      <td>621.50</td>\n",
       "      <td>0.57</td>\n",
       "      <td>17.89</td>\n",
       "    </tr>\n",
       "    <tr>\n",
       "      <th>PG5</th>\n",
       "      <td>700.14</td>\n",
       "      <td>1.32</td>\n",
       "      <td>68.44</td>\n",
       "    </tr>\n",
       "    <tr>\n",
       "      <th>PG6</th>\n",
       "      <td>632.50</td>\n",
       "      <td>0.54</td>\n",
       "      <td>24.10</td>\n",
       "    </tr>\n",
       "  </tbody>\n",
       "</table>\n",
       "</div>"
      ],
      "text/plain": [
       "                   max   min    mean\n",
       "product_group                       \n",
       "PG1            1243.00  1.57  205.54\n",
       "PG2             869.69  0.83   82.01\n",
       "PG3             437.21  2.75   57.27\n",
       "PG4             621.50  0.57   17.89\n",
       "PG5             700.14  1.32   68.44\n",
       "PG6             632.50  0.54   24.10"
      ]
     },
     "metadata": {},
     "output_type": "display_data"
    }
   ],
   "source": [
    "# давайте найдем среднюю цену внутри групп товаров\n",
    "\n",
    "# сгруппируем данные\n",
    "group_data_1 = round(raw_data.groupby('product_group')['cost'].agg(['max', 'min', 'mean']),2)\n",
    "\n",
    "# выведем результат на экран\n",
    "display(group_data_1)"
   ]
  },
  {
   "cell_type": "markdown",
   "metadata": {},
   "source": [
    "### Мода\n"
   ]
  },
  {
   "cell_type": "code",
   "execution_count": 79,
   "metadata": {},
   "outputs": [
    {
     "name": "stdout",
     "output_type": "stream",
     "text": [
      "Наиболее часто встречающая группа в наборе данных: PG4\n",
      "  product_group  count\n",
      "0           PG4    349\n",
      "1           PG5    255\n",
      "2           PG6    243\n",
      "3           PG2     75\n",
      "4           PG1     39\n",
      "5           PG3     39\n"
     ]
    }
   ],
   "source": [
    "# мода - наиболее часто встречающееся значение в наборе данных.\n",
    "\n",
    "print(f'Наиболее часто встречающая группа в наборе данных: {raw_data['product_group'].mode()[0]}')\n",
    "\n",
    "# сгруппируем по группе товаров и посчитаем количество строк, чтобы убедиться, что мода определена верно\n",
    "print(raw_data.groupby('product_group')['product_group'].agg('count').sort_values(ascending=False).reset_index(name='count'))"
   ]
  },
  {
   "cell_type": "markdown",
   "metadata": {},
   "source": [
    "### Дисперсия"
   ]
  },
  {
   "cell_type": "code",
   "execution_count": null,
   "metadata": {},
   "outputs": [],
   "source": []
  }
 ],
 "metadata": {
  "kernelspec": {
   "display_name": "Python 3",
   "language": "python",
   "name": "python3"
  },
  "language_info": {
   "codemirror_mode": {
    "name": "ipython",
    "version": 3
   },
   "file_extension": ".py",
   "mimetype": "text/x-python",
   "name": "python",
   "nbconvert_exporter": "python",
   "pygments_lexer": "ipython3",
   "version": "3.13.0"
  }
 },
 "nbformat": 4,
 "nbformat_minor": 2
}
