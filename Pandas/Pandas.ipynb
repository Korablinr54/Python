{
 "cells": [
  {
   "cell_type": "markdown",
   "metadata": {},
   "source": [
    "## Series"
   ]
  },
  {
   "cell_type": "markdown",
   "metadata": {},
   "source": [
    "**Series** — это одномерный массив, который может хранить данные любого типа (например, числа, строки, объекты). Важной особенностью Series является то, что каждый элемент имеет уникальный индекс, который можно использовать для доступа к данным.  \n",
    "\n",
    "**Основные характеристики Series**:  \n",
    "* **Индекс**: Каждый элемент Series имеет свой индекс (по умолчанию это целые числа от 0 до n-1, где n — количество элементов).  \n",
    "* **Тип данных**: Все элементы в Series имеют одинаковый тип данных."
   ]
  },
  {
   "cell_type": "code",
   "execution_count": 1,
   "metadata": {},
   "outputs": [
    {
     "name": "stdout",
     "output_type": "stream",
     "text": [
      "0    10\n",
      "1    20\n",
      "2    30\n",
      "3    40\n",
      "4    50\n",
      "dtype: int64\n"
     ]
    }
   ],
   "source": [
    "# импортируем библиотеку \n",
    "import pandas as pd\n",
    "\n",
    "# создадим первый Series\n",
    "s_1 = pd.Series([10, 20, 30, 40, 50])\n",
    "\n",
    "print(s_1)"
   ]
  },
  {
   "cell_type": "code",
   "execution_count": 2,
   "metadata": {},
   "outputs": [
    {
     "name": "stdout",
     "output_type": "stream",
     "text": [
      "0       10\n",
      "1      2.5\n",
      "2    Hello\n",
      "3     True\n",
      "dtype: object\n",
      "\n",
      "0    10.00\n",
      "1    20.00\n",
      "2    30.00\n",
      "3     4.50\n",
      "4    -2.17\n",
      "dtype: float64\n"
     ]
    }
   ],
   "source": [
    "# давайте попробуем создать серию с разными типами данных\n",
    "s_test_1 = pd.Series([10, 2.5, 'Hello', True])\n",
    "print(f'{s_test_1}')\n",
    "\n",
    "# обратите внимание, если в серии есть текстовые данные тип данных меняется на object\n",
    "\n",
    "s_test_2 = pd.Series([10, 20, 30, 4.5, -2.17])\n",
    "print(f'\\n{s_test_2}')\n",
    "# то же касается и десятичных цисел, если в серии есть то тип данных меняется на float"
   ]
  },
  {
   "cell_type": "markdown",
   "metadata": {},
   "source": [
    "### Индексация"
   ]
  },
  {
   "cell_type": "code",
   "execution_count": 3,
   "metadata": {},
   "outputs": [
    {
     "name": "stdout",
     "output_type": "stream",
     "text": [
      "a    1\n",
      "b    3\n",
      "c    5\n",
      "d    7\n",
      "e    9\n",
      "dtype: int64\n"
     ]
    }
   ],
   "source": [
    "# индексы можно также задать при создании серии\n",
    "# По умолчанию серии присваивается целочисленная индексация с нуля, \n",
    "# но ее можно изменить с помощью параметра index.\n",
    "s_2 = pd.Series([1, 3, 5, 7, 9],\n",
    "                index=['a', 'b', 'c', 'd', 'e'])\n",
    "\n",
    "print(s_2)"
   ]
  },
  {
   "cell_type": "markdown",
   "metadata": {},
   "source": [
    "### Доступ по индексу"
   ]
  },
  {
   "cell_type": "code",
   "execution_count": 4,
   "metadata": {},
   "outputs": [
    {
     "name": "stdout",
     "output_type": "stream",
     "text": [
      "Исходная серия:\n",
      "0    10\n",
      "1    20\n",
      "2    30\n",
      "3    40\n",
      "4    50\n",
      "dtype: int64\n",
      "\n",
      "Вернем два элемента с конца:\n",
      "3    40\n",
      "4    50\n",
      "dtype: int64\n",
      "\n",
      "Логическая индексация:\n",
      "1    20\n",
      "2    30\n",
      "3    40\n",
      "dtype: int64\n",
      "\n",
      "Логическая индексация:\n",
      "2    30\n",
      "3    40\n",
      "4    50\n",
      "dtype: int64\n"
     ]
    }
   ],
   "source": [
    "# вернем последние два элемента серии\n",
    "print(f'Исходная серия:\\n{s_1}')\n",
    "print(f'\\nВернем два элемента с конца:\\n{s_1[-2:]}')\n",
    "print(f'\\nЛогическая индексация:\\n{s_1[(s_1 > 10) & (s_1 < 50)]}')\n",
    "print(f'\\nЛогическая индексация:\\n{s_1[s_1 >= 30]}')"
   ]
  },
  {
   "cell_type": "code",
   "execution_count": 5,
   "metadata": {},
   "outputs": [
    {
     "name": "stdout",
     "output_type": "stream",
     "text": [
      "Исходная серия:\n",
      "a    1\n",
      "b    3\n",
      "c    5\n",
      "d    7\n",
      "e    9\n",
      "dtype: int64\n",
      "\n",
      "Вернем элементы с b по d:\n",
      "b    3\n",
      "c    5\n",
      "d    7\n",
      "dtype: int64\n",
      "\n",
      "Или просто вернем элемент с индексом е:\n",
      "9\n"
     ]
    }
   ],
   "source": [
    "# вариант с заданной индексацией\n",
    "print(f'Исходная серия:\\n{s_2}')\n",
    "print(f'\\nВернем элементы с b по d:\\n{s_2['b':'d']}')\n",
    "print(f'\\nИли просто вернем элемент с индексом е:\\n{s_2['e']}')"
   ]
  },
  {
   "cell_type": "code",
   "execution_count": 6,
   "metadata": {},
   "outputs": [
    {
     "name": "stdout",
     "output_type": "stream",
     "text": [
      "Исходный вид Series s_3:\n",
      "0      Red\n",
      "1      Red\n",
      "2     Blue\n",
      "3    White\n",
      "4    Black\n",
      "5    Black\n",
      "dtype: object\n",
      "\n",
      "В series есть дубликаты\n"
     ]
    }
   ],
   "source": [
    "# проверим работы методов на series\n",
    "# создадим серию с повторами значений\n",
    "s_3 = pd.Series(['Red', 'Red', 'Blue', 'White', 'Black', 'Black']) \n",
    "print(f'Исходный вид Series s_3:\\n{s_3}')\n",
    "\n",
    "# воспользуемся методом is_unique, проверяющим на наличие дубликатов\n",
    "\n",
    "if s_3.is_unique == False:\n",
    "    print(f'\\nВ series есть дубликаты')\n",
    "else:\n",
    "    print(f'\\nВсе значения уникальны')"
   ]
  },
  {
   "cell_type": "markdown",
   "metadata": {},
   "source": [
    "## DataFrame"
   ]
  },
  {
   "cell_type": "markdown",
   "metadata": {},
   "source": [
    "DataFrame в библиотеке Pandas — это основной объект, который используется для хранения и обработки табличных данных. Он представляет собой двумерную структуру данных, где данные организованы в строки и столбцы, аналогично таблицам в базах данных или листам в Excel.  \n",
    "\n",
    "**Основные характеристики DataFrame**:  \n",
    "* **Столбцы**: Каждый столбец в DataFrame может содержать данные одного типа (например, числовые значения, строки, даты и т.д.), но типы данных в разных столбцах могут различаться.  \n",
    "* **Индексы**: У DataFrame есть два типа индексов:\n",
    "    * **Строковые индексы**: Индексация строк по умолчанию начинается с 0 и идет до n-1, где n — количество строк. Но можно задавать свои индексы, например, названия строк или временные метки.  \n",
    "    * **Столбцовые индексы**: Названия столбцов также могут быть изменены на пользовательские значения.  \n",
    "* **Гибкость**: DataFrame предоставляет мощные методы для работы с данными, включая фильтрацию, группировку, агрегирование, объединение и многое другое."
   ]
  },
  {
   "cell_type": "markdown",
   "metadata": {},
   "source": [
    "### Создание DataFrame"
   ]
  },
  {
   "cell_type": "markdown",
   "metadata": {},
   "source": [
    "DataFrame можно создать из различных источников данных, таких как списки, словари, файлы CSV, Excel и других форматов."
   ]
  },
  {
   "cell_type": "code",
   "execution_count": 7,
   "metadata": {},
   "outputs": [
    {
     "name": "stdout",
     "output_type": "stream",
     "text": [
      "     Имя Профессия  Рост\n",
      "0  Антон  Аналитик   180\n",
      "1  Павел   Плотник   175\n",
      "2   Анна    Тренер   165\n"
     ]
    }
   ],
   "source": [
    "# разберем пример создания DataFrame из словаря\n",
    "\n",
    "# определяем словарь\n",
    "dic_1 = {\n",
    "    'Имя' : ['Антон', 'Павел', 'Анна'],\n",
    "    'Профессия' : ['Аналитик', 'Плотник', 'Тренер'],\n",
    "    'Рост' : [180, 175, 165]\n",
    "}\n",
    "\n",
    "df_1 = pd.DataFrame(dic_1)\n",
    "\n",
    "print(df_1)"
   ]
  },
  {
   "cell_type": "code",
   "execution_count": 8,
   "metadata": {},
   "outputs": [
    {
     "name": "stdout",
     "output_type": "stream",
     "text": [
      "    0   1   2   3   4\n",
      "0   1   2   3   4   5\n",
      "1   6   7   8   9  10\n",
      "2  11  12  13  14  15\n"
     ]
    }
   ],
   "source": [
    "# из двумерного массива NumPy\n",
    "\n",
    "# импортируем библиотеку \n",
    "import numpy as np\n",
    "\n",
    "# определим двумерный массив\n",
    "arr_1 = np.array([\n",
    "    [1, 2, 3, 4, 5],\n",
    "    [6, 7, 8, 9, 10],\n",
    "    [11, 12, 13, 14, 15]\n",
    "])\n",
    "\n",
    "# используем массив numpy для создания DataFrame\n",
    "df_2 = pd.DataFrame(arr_1)\n",
    "\n",
    "print(df_2)"
   ]
  },
  {
   "cell_type": "markdown",
   "metadata": {},
   "source": [
    "### Изучаем DataFrame"
   ]
  },
  {
   "cell_type": "code",
   "execution_count": 9,
   "metadata": {},
   "outputs": [
    {
     "data": {
      "text/html": [
       "<div>\n",
       "<style scoped>\n",
       "    .dataframe tbody tr th:only-of-type {\n",
       "        vertical-align: middle;\n",
       "    }\n",
       "\n",
       "    .dataframe tbody tr th {\n",
       "        vertical-align: top;\n",
       "    }\n",
       "\n",
       "    .dataframe thead th {\n",
       "        text-align: right;\n",
       "    }\n",
       "</style>\n",
       "<table border=\"1\" class=\"dataframe\">\n",
       "  <thead>\n",
       "    <tr style=\"text-align: right;\">\n",
       "      <th></th>\n",
       "      <th>product_code</th>\n",
       "      <th>product_group</th>\n",
       "      <th>stock_qty</th>\n",
       "      <th>cost</th>\n",
       "      <th>price</th>\n",
       "      <th>last_week_sales</th>\n",
       "      <th>last_month_sales</th>\n",
       "    </tr>\n",
       "  </thead>\n",
       "  <tbody>\n",
       "    <tr>\n",
       "      <th>0</th>\n",
       "      <td>4187</td>\n",
       "      <td>PG2</td>\n",
       "      <td>498</td>\n",
       "      <td>420.76</td>\n",
       "      <td>569.91</td>\n",
       "      <td>13</td>\n",
       "      <td>58</td>\n",
       "    </tr>\n",
       "    <tr>\n",
       "      <th>1</th>\n",
       "      <td>4195</td>\n",
       "      <td>PG2</td>\n",
       "      <td>473</td>\n",
       "      <td>545.64</td>\n",
       "      <td>712.41</td>\n",
       "      <td>16</td>\n",
       "      <td>58</td>\n",
       "    </tr>\n",
       "    <tr>\n",
       "      <th>2</th>\n",
       "      <td>4204</td>\n",
       "      <td>PG2</td>\n",
       "      <td>968</td>\n",
       "      <td>640.42</td>\n",
       "      <td>854.91</td>\n",
       "      <td>22</td>\n",
       "      <td>88</td>\n",
       "    </tr>\n",
       "    <tr>\n",
       "      <th>3</th>\n",
       "      <td>4219</td>\n",
       "      <td>PG2</td>\n",
       "      <td>241</td>\n",
       "      <td>869.69</td>\n",
       "      <td>1034.55</td>\n",
       "      <td>14</td>\n",
       "      <td>45</td>\n",
       "    </tr>\n",
       "    <tr>\n",
       "      <th>4</th>\n",
       "      <td>4718</td>\n",
       "      <td>PG2</td>\n",
       "      <td>1401</td>\n",
       "      <td>12.54</td>\n",
       "      <td>26.59</td>\n",
       "      <td>50</td>\n",
       "      <td>285</td>\n",
       "    </tr>\n",
       "  </tbody>\n",
       "</table>\n",
       "</div>"
      ],
      "text/plain": [
       "   product_code product_group  stock_qty    cost    price  last_week_sales  \\\n",
       "0          4187           PG2        498  420.76   569.91               13   \n",
       "1          4195           PG2        473  545.64   712.41               16   \n",
       "2          4204           PG2        968  640.42   854.91               22   \n",
       "3          4219           PG2        241  869.69  1034.55               14   \n",
       "4          4718           PG2       1401   12.54    26.59               50   \n",
       "\n",
       "   last_month_sales  \n",
       "0                58  \n",
       "1                58  \n",
       "2                88  \n",
       "3                45  \n",
       "4               285  "
      ]
     },
     "metadata": {},
     "output_type": "display_data"
    }
   ],
   "source": [
    "# прочитаем csv и создадим DataFrame\n",
    "raw_data = pd.read_csv('datasets/sales.csv')\n",
    "\n",
    "# взглянем на полученный DataFrame\n",
    "display(raw_data.head())"
   ]
  },
  {
   "cell_type": "code",
   "execution_count": 10,
   "metadata": {},
   "outputs": [
    {
     "name": "stdout",
     "output_type": "stream",
     "text": [
      "В DataFrame 1000 строк и 7 столбцов\n",
      "\n",
      "В DataFrame 7000 ячеек\n",
      "\n",
      "В DataFrame 1000 строк\n"
     ]
    }
   ],
   "source": [
    "# изучим DataFrame\n",
    "\n",
    "# метод .shape возвращает количество строк и столбцов\n",
    "print(f'В DataFrame {raw_data.shape[0]} строк и {raw_data.shape[1]} столбцов')\n",
    "\n",
    "# метод .size возвращает переменоженное количество строк и столбцо\n",
    "print(f'\\nВ DataFrame {raw_data.size} ячеек')\n",
    "\n",
    "# функция len() вернет количество строк в DataFrame\n",
    "print(f'\\nВ DataFrame {len(raw_data)} строк')"
   ]
  },
  {
   "cell_type": "code",
   "execution_count": 11,
   "metadata": {},
   "outputs": [
    {
     "name": "stdout",
     "output_type": "stream",
     "text": [
      "<class 'pandas.core.frame.DataFrame'>\n",
      "RangeIndex: 1000 entries, 0 to 999\n",
      "Data columns (total 7 columns):\n",
      " #   Column            Non-Null Count  Dtype  \n",
      "---  ------            --------------  -----  \n",
      " 0   product_code      1000 non-null   int64  \n",
      " 1   product_group     1000 non-null   object \n",
      " 2   stock_qty         1000 non-null   int64  \n",
      " 3   cost              1000 non-null   float64\n",
      " 4   price             1000 non-null   float64\n",
      " 5   last_week_sales   1000 non-null   int64  \n",
      " 6   last_month_sales  1000 non-null   int64  \n",
      "dtypes: float64(2), int64(4), object(1)\n",
      "memory usage: 54.8+ KB\n",
      "\n",
      "Названия полей и типы данных:\n",
      "product_code          int64\n",
      "product_group        object\n",
      "stock_qty             int64\n",
      "cost                float64\n",
      "price               float64\n",
      "last_week_sales       int64\n",
      "last_month_sales      int64\n",
      "dtype: object\n"
     ]
    }
   ],
   "source": [
    "# подробную информацию о DataFrame можем получить используя метод .info\n",
    "raw_data.info()\n",
    "# 1000 вхождений или строк с индексом от 0 до 999\n",
    "# 7 полей\n",
    "# перечислены названия полей и типы данных в полях\n",
    "\n",
    "# названия полей и типы данных можно также получить используя метод .dtypes\n",
    "print(f'\\nНазвания полей и типы данных:\\n{raw_data.dtypes}')\n"
   ]
  },
  {
   "cell_type": "markdown",
   "metadata": {},
   "source": [
    "### Изменение типа данных"
   ]
  },
  {
   "cell_type": "code",
   "execution_count": 12,
   "metadata": {},
   "outputs": [
    {
     "data": {
      "text/plain": [
       "dtype('float64')"
      ]
     },
     "execution_count": 12,
     "metadata": {},
     "output_type": "execute_result"
    }
   ],
   "source": [
    "# для изменения типа данных используем метод .astype()\n",
    "\n",
    "raw_data['stock_qty'] = raw_data['stock_qty'].astype('float') # изменим тип данных\n",
    "raw_data['stock_qty'].dtypes # убедимся, что тип данных изменен\n"
   ]
  },
  {
   "cell_type": "code",
   "execution_count": 13,
   "metadata": {},
   "outputs": [
    {
     "data": {
      "text/plain": [
       "last_week_sales     float64\n",
       "last_month_sales    float64\n",
       "dtype: object"
      ]
     },
     "execution_count": 13,
     "metadata": {},
     "output_type": "execute_result"
    }
   ],
   "source": [
    "# используем метод astype но в этот раз со словарем, чтобы передать несколько колонок\n",
    "\n",
    "# меняем типы данных используя словарь\n",
    "raw_data = raw_data.astype ({\n",
    "    'last_week_sales' : 'float',\n",
    "    'last_month_sales' : 'float'\n",
    "})\n",
    "\n",
    "# проверяем\n",
    "raw_data[['last_week_sales', 'last_month_sales']].dtypes"
   ]
  },
  {
   "cell_type": "markdown",
   "metadata": {},
   "source": [
    "### nunique() / unique()"
   ]
  },
  {
   "cell_type": "code",
   "execution_count": 14,
   "metadata": {},
   "outputs": [
    {
     "name": "stdout",
     "output_type": "stream",
     "text": [
      "В DF представлены такие категории:\n",
      "['PG2' 'PG4' 'PG6' 'PG5' 'PG3' 'PG1']\n",
      "\n",
      "6 уникальных категорий.\n"
     ]
    }
   ],
   "source": [
    "# проверим уникальные значения в поле с категорией товара и сосчитаем их количество\n",
    " \n",
    "print(f'В DF представлены такие категории:\\n{raw_data['product_group'].unique()}') # 6 категорий\n",
    "\n",
    "print(f'\\n{raw_data['product_group'].nunique()} уникальных категорий.') # 6 категорий\n"
   ]
  },
  {
   "cell_type": "markdown",
   "metadata": {},
   "source": [
    "### value_counts"
   ]
  },
  {
   "cell_type": "code",
   "execution_count": 15,
   "metadata": {},
   "outputs": [
    {
     "data": {
      "text/plain": [
       "product_group\n",
       "PG4    349\n",
       "PG5    255\n",
       "PG6    243\n",
       "PG2     75\n",
       "PG3     39\n",
       "PG1     39\n",
       "Name: count, dtype: int64"
      ]
     },
     "execution_count": 15,
     "metadata": {},
     "output_type": "execute_result"
    }
   ],
   "source": [
    "# теперь посмотрим, сколько строк принадлежит к каждой из категорий\n",
    "raw_data['product_group'].value_counts()"
   ]
  },
  {
   "cell_type": "code",
   "execution_count": 16,
   "metadata": {},
   "outputs": [
    {
     "data": {
      "image/png": "[encoded data removed]",
      "text/plain": [
       "<Figure size 640x480 with 1 Axes>"
      ]
     },
     "metadata": {},
     "output_type": "display_data"
    }
   ],
   "source": [
    "# взглянем на данные\n",
    "\n",
    "# импортируем библиотеку\n",
    "import matplotlib.pyplot as plt\n",
    "\n",
    "# создаем переменную для визуализации\n",
    "data_for_vis = raw_data['product_group'].value_counts()\n",
    "\n",
    "# определяем параметры барчарта\n",
    "data_for_vis.plot(kind = 'bar', color = 'skyblue', edgecolor = 'black')\n",
    "\n",
    "# добавляем подписи\n",
    "plt.title('Распределение по группам продуктов')\n",
    "plt.xlabel('Группа продукта')\n",
    "plt.ylabel('Количество строк')\n",
    "\n",
    "# выводим на экран\n",
    "plt.show()"
   ]
  },
  {
   "cell_type": "markdown",
   "metadata": {},
   "source": [
    "## Меры центрально тенденции"
   ]
  },
  {
   "cell_type": "code",
   "execution_count": 17,
   "metadata": {},
   "outputs": [
    {
     "name": "stdout",
     "output_type": "stream",
     "text": [
      "<class 'pandas.core.series.Series'>\n",
      "RangeIndex: 1000 entries, 0 to 999\n",
      "Series name: price\n",
      "Non-Null Count  Dtype  \n",
      "--------------  -----  \n",
      "1000 non-null   float64\n",
      "dtypes: float64(1)\n",
      "memory usage: 7.9 KB\n",
      "None\n",
      "<class 'pandas.core.frame.DataFrame'>\n",
      "RangeIndex: 1000 entries, 0 to 999\n",
      "Data columns (total 7 columns):\n",
      " #   Column            Non-Null Count  Dtype  \n",
      "---  ------            --------------  -----  \n",
      " 0   product_code      1000 non-null   int64  \n",
      " 1   product_group     1000 non-null   object \n",
      " 2   stock_qty         1000 non-null   float64\n",
      " 3   cost              1000 non-null   float64\n",
      " 4   price             1000 non-null   float64\n",
      " 5   last_week_sales   1000 non-null   float64\n",
      " 6   last_month_sales  1000 non-null   float64\n",
      "dtypes: float64(5), int64(1), object(1)\n",
      "memory usage: 54.8+ KB\n",
      "None\n"
     ]
    }
   ],
   "source": [
    "print(raw_data['price'].info())\n",
    "print(raw_data.info())"
   ]
  },
  {
   "cell_type": "markdown",
   "metadata": {},
   "source": [
    "### Среднее .mean()"
   ]
  },
  {
   "cell_type": "code",
   "execution_count": 18,
   "metadata": {},
   "outputs": [
    {
     "name": "stdout",
     "output_type": "stream",
     "text": [
      "Максимальная цена: 1500.05\n",
      "Минимальная цена: 0.66\n",
      "Средняя цена: 67.06\n"
     ]
    }
   ],
   "source": [
    "# давайте найдем среднюю цену по всему датафрейму\n",
    "\n",
    "print(f'Максимальная цена: {raw_data['price'].max()}')\n",
    "print(f'Минимальная цена: {raw_data['price'].min()}')\n",
    "print(f'Средняя цена: {round(raw_data['price'].mean(),2)}')"
   ]
  },
  {
   "cell_type": "code",
   "execution_count": 19,
   "metadata": {},
   "outputs": [
    {
     "data": {
      "text/html": [
       "<div>\n",
       "<style scoped>\n",
       "    .dataframe tbody tr th:only-of-type {\n",
       "        vertical-align: middle;\n",
       "    }\n",
       "\n",
       "    .dataframe tbody tr th {\n",
       "        vertical-align: top;\n",
       "    }\n",
       "\n",
       "    .dataframe thead th {\n",
       "        text-align: right;\n",
       "    }\n",
       "</style>\n",
       "<table border=\"1\" class=\"dataframe\">\n",
       "  <thead>\n",
       "    <tr style=\"text-align: right;\">\n",
       "      <th></th>\n",
       "      <th>max</th>\n",
       "      <th>min</th>\n",
       "      <th>mean</th>\n",
       "    </tr>\n",
       "    <tr>\n",
       "      <th>product_group</th>\n",
       "      <th></th>\n",
       "      <th></th>\n",
       "      <th></th>\n",
       "    </tr>\n",
       "  </thead>\n",
       "  <tbody>\n",
       "    <tr>\n",
       "      <th>PG1</th>\n",
       "      <td>1500.05</td>\n",
       "      <td>3.79</td>\n",
       "      <td>303.61</td>\n",
       "    </tr>\n",
       "    <tr>\n",
       "      <th>PG2</th>\n",
       "      <td>1034.55</td>\n",
       "      <td>1.42</td>\n",
       "      <td>124.98</td>\n",
       "    </tr>\n",
       "    <tr>\n",
       "      <th>PG3</th>\n",
       "      <td>593.66</td>\n",
       "      <td>9.49</td>\n",
       "      <td>83.57</td>\n",
       "    </tr>\n",
       "    <tr>\n",
       "      <th>PG4</th>\n",
       "      <td>949.91</td>\n",
       "      <td>0.66</td>\n",
       "      <td>31.03</td>\n",
       "    </tr>\n",
       "    <tr>\n",
       "      <th>PG5</th>\n",
       "      <td>740.91</td>\n",
       "      <td>0.76</td>\n",
       "      <td>87.09</td>\n",
       "    </tr>\n",
       "    <tr>\n",
       "      <th>PG6</th>\n",
       "      <td>712.41</td>\n",
       "      <td>2.84</td>\n",
       "      <td>39.30</td>\n",
       "    </tr>\n",
       "  </tbody>\n",
       "</table>\n",
       "</div>"
      ],
      "text/plain": [
       "                   max   min    mean\n",
       "product_group                       \n",
       "PG1            1500.05  3.79  303.61\n",
       "PG2            1034.55  1.42  124.98\n",
       "PG3             593.66  9.49   83.57\n",
       "PG4             949.91  0.66   31.03\n",
       "PG5             740.91  0.76   87.09\n",
       "PG6             712.41  2.84   39.30"
      ]
     },
     "metadata": {},
     "output_type": "display_data"
    }
   ],
   "source": [
    "# давайте найдем среднюю цену внутри групп товаров\n",
    "\n",
    "# сгруппируем данные\n",
    "group_data_1 = round(raw_data.groupby('product_group')['price'].agg(['max', 'min', 'mean']),2)\n",
    "\n",
    "# выведем результат на экран\n",
    "display(group_data_1)"
   ]
  },
  {
   "cell_type": "markdown",
   "metadata": {},
   "source": [
    "### Мода .mode()\n"
   ]
  },
  {
   "cell_type": "code",
   "execution_count": 20,
   "metadata": {},
   "outputs": [
    {
     "name": "stdout",
     "output_type": "stream",
     "text": [
      "Наиболее часто встречающая группа в наборе данных: PG4\n",
      "  product_group  count\n",
      "0           PG4    349\n",
      "1           PG5    255\n",
      "2           PG6    243\n",
      "3           PG2     75\n",
      "4           PG1     39\n",
      "5           PG3     39\n"
     ]
    }
   ],
   "source": [
    "# мода - наиболее часто встречающееся значение в наборе данных.\n",
    "\n",
    "print(f'Наиболее часто встречающая группа в наборе данных: {raw_data['product_group'].mode()[0]}')\n",
    "\n",
    "# сгруппируем по группе товаров и посчитаем количество строк, чтобы убедиться, что мода определена верно\n",
    "print(raw_data.groupby('product_group')['product_group'].agg('count').sort_values(ascending=False).reset_index(name='count'))"
   ]
  },
  {
   "cell_type": "markdown",
   "metadata": {},
   "source": [
    "### Дисперсия .var()"
   ]
  },
  {
   "cell_type": "markdown",
   "metadata": {},
   "source": [
    "**Дисперсия** — это статистическая мера, которая показывает, насколько значения в наборе данных отклоняются от среднего значения. Другими словами, дисперсия измеряет разброс данных. Чем больше дисперсия, тем сильнее значения отклоняются от среднего, и наоборот. Используется в теоретических вычислениях и при сравнении нескольких распределений."
   ]
  },
  {
   "cell_type": "code",
   "execution_count": 21,
   "metadata": {},
   "outputs": [
    {
     "name": "stdout",
     "output_type": "stream",
     "text": [
      "Дисперсия: 20766.24\n",
      "Средняя цена: 67.06\n",
      "Значение дисперсии 20766.24 говорит о том, что данные в столбце price имеют значительный разброс.\n"
     ]
    }
   ],
   "source": [
    "print(f'Дисперсия: {round(raw_data['price'].var(),2)}')\n",
    "print(f'Средняя цена: {round(raw_data['price'].mean(),2)}')\n",
    "\n",
    "print('Значение дисперсии 20766.24 говорит о том, что данные в столбце price имеют значительный разброс.')"
   ]
  },
  {
   "cell_type": "markdown",
   "metadata": {},
   "source": [
    "### Стандартное отклонение .std()"
   ]
  },
  {
   "cell_type": "markdown",
   "metadata": {},
   "source": [
    "**Стандартное отклонение** - это мера рассеивания данных вокруг среднего значения. Чем больше стандартное отклонение, тем больше разброс значений в наборе данных. Используется для практической интерпретации разброса данных, так как оно выражено в тех же единицах, что и сами данные."
   ]
  },
  {
   "cell_type": "code",
   "execution_count": 22,
   "metadata": {},
   "outputs": [
    {
     "name": "stdout",
     "output_type": "stream",
     "text": [
      "Стандартное отклонение: 144.1\n",
      "Средняя цена: 67.06\n",
      "Цены очень сильно варьируются и могут быть как значительно ниже, так и значительно выше средней цены\n"
     ]
    }
   ],
   "source": [
    "print(f'Стандартное отклонение: {round(raw_data['price'].std(),2)}')\n",
    "print(f'Средняя цена: {round(raw_data['price'].mean(),2)}')\n",
    "\n",
    "print('Цены очень сильно варьируются и могут быть как значительно ниже, так и значительно выше средней цены')"
   ]
  },
  {
   "cell_type": "markdown",
   "metadata": {},
   "source": [
    "## Фильтрация данных"
   ]
  },
  {
   "cell_type": "markdown",
   "metadata": {},
   "source": [
    "### loc / iloc"
   ]
  },
  {
   "cell_type": "markdown",
   "metadata": {},
   "source": [
    "Методы loc и iloc в библиотеке Pandas используются для выборки данных из DataFrame или Series, но они работают по-разному:  \n",
    "**loc:**  \n",
    "* Использует метки индексов (labels)  \n",
    "* Обращается к данным по названиям строк и столбцов  \n",
    "* Включает верхнюю и нижнюю границы диапазона  \n",
    "* Синтаксис: ```df.loc[строки, столбцы]``` \n",
    "\n",
    "**iloc:**  \n",
    "* Использует целочисленные позиции (integer positions)  \n",
    "* Обращается к данным по числовым индексам  \n",
    "* Не включает верхнюю границу диапазона (как в стандартных срезах Python)  \n",
    "* Синтаксис: ```df.iloc[строки, столбцы]```"
   ]
  },
  {
   "cell_type": "code",
   "execution_count": 23,
   "metadata": {},
   "outputs": [
    {
     "data": {
      "text/html": [
       "<div>\n",
       "<style scoped>\n",
       "    .dataframe tbody tr th:only-of-type {\n",
       "        vertical-align: middle;\n",
       "    }\n",
       "\n",
       "    .dataframe tbody tr th {\n",
       "        vertical-align: top;\n",
       "    }\n",
       "\n",
       "    .dataframe thead th {\n",
       "        text-align: right;\n",
       "    }\n",
       "</style>\n",
       "<table border=\"1\" class=\"dataframe\">\n",
       "  <thead>\n",
       "    <tr style=\"text-align: right;\">\n",
       "      <th></th>\n",
       "      <th>product_code</th>\n",
       "      <th>product_group</th>\n",
       "      <th>stock_qty</th>\n",
       "      <th>cost</th>\n",
       "      <th>price</th>\n",
       "      <th>last_week_sales</th>\n",
       "      <th>last_month_sales</th>\n",
       "    </tr>\n",
       "  </thead>\n",
       "  <tbody>\n",
       "    <tr>\n",
       "      <th>0</th>\n",
       "      <td>4187</td>\n",
       "      <td>PG2</td>\n",
       "      <td>498.0</td>\n",
       "      <td>420.76</td>\n",
       "      <td>569.91</td>\n",
       "      <td>13.0</td>\n",
       "      <td>58.0</td>\n",
       "    </tr>\n",
       "    <tr>\n",
       "      <th>1</th>\n",
       "      <td>4195</td>\n",
       "      <td>PG2</td>\n",
       "      <td>473.0</td>\n",
       "      <td>545.64</td>\n",
       "      <td>712.41</td>\n",
       "      <td>16.0</td>\n",
       "      <td>58.0</td>\n",
       "    </tr>\n",
       "    <tr>\n",
       "      <th>2</th>\n",
       "      <td>4204</td>\n",
       "      <td>PG2</td>\n",
       "      <td>968.0</td>\n",
       "      <td>640.42</td>\n",
       "      <td>854.91</td>\n",
       "      <td>22.0</td>\n",
       "      <td>88.0</td>\n",
       "    </tr>\n",
       "    <tr>\n",
       "      <th>3</th>\n",
       "      <td>4219</td>\n",
       "      <td>PG2</td>\n",
       "      <td>241.0</td>\n",
       "      <td>869.69</td>\n",
       "      <td>1034.55</td>\n",
       "      <td>14.0</td>\n",
       "      <td>45.0</td>\n",
       "    </tr>\n",
       "    <tr>\n",
       "      <th>4</th>\n",
       "      <td>4718</td>\n",
       "      <td>PG2</td>\n",
       "      <td>1401.0</td>\n",
       "      <td>12.54</td>\n",
       "      <td>26.59</td>\n",
       "      <td>50.0</td>\n",
       "      <td>285.0</td>\n",
       "    </tr>\n",
       "  </tbody>\n",
       "</table>\n",
       "</div>"
      ],
      "text/plain": [
       "   product_code product_group  stock_qty    cost    price  last_week_sales  \\\n",
       "0          4187           PG2      498.0  420.76   569.91             13.0   \n",
       "1          4195           PG2      473.0  545.64   712.41             16.0   \n",
       "2          4204           PG2      968.0  640.42   854.91             22.0   \n",
       "3          4219           PG2      241.0  869.69  1034.55             14.0   \n",
       "4          4718           PG2     1401.0   12.54    26.59             50.0   \n",
       "\n",
       "   last_month_sales  \n",
       "0              58.0  \n",
       "1              58.0  \n",
       "2              88.0  \n",
       "3              45.0  \n",
       "4             285.0  "
      ]
     },
     "metadata": {},
     "output_type": "display_data"
    }
   ],
   "source": [
    "# взглянем на датафрейм\n",
    "display(raw_data.head())"
   ]
  },
  {
   "cell_type": "markdown",
   "metadata": {},
   "source": [
    "### loc"
   ]
  },
  {
   "cell_type": "code",
   "execution_count": 24,
   "metadata": {},
   "outputs": [
    {
     "data": {
      "text/html": [
       "<div>\n",
       "<style scoped>\n",
       "    .dataframe tbody tr th:only-of-type {\n",
       "        vertical-align: middle;\n",
       "    }\n",
       "\n",
       "    .dataframe tbody tr th {\n",
       "        vertical-align: top;\n",
       "    }\n",
       "\n",
       "    .dataframe thead th {\n",
       "        text-align: right;\n",
       "    }\n",
       "</style>\n",
       "<table border=\"1\" class=\"dataframe\">\n",
       "  <thead>\n",
       "    <tr style=\"text-align: right;\">\n",
       "      <th></th>\n",
       "      <th>product_group</th>\n",
       "      <th>price</th>\n",
       "    </tr>\n",
       "  </thead>\n",
       "  <tbody>\n",
       "    <tr>\n",
       "      <th>0</th>\n",
       "      <td>PG2</td>\n",
       "      <td>569.91</td>\n",
       "    </tr>\n",
       "    <tr>\n",
       "      <th>1</th>\n",
       "      <td>PG2</td>\n",
       "      <td>712.41</td>\n",
       "    </tr>\n",
       "    <tr>\n",
       "      <th>2</th>\n",
       "      <td>PG2</td>\n",
       "      <td>854.91</td>\n",
       "    </tr>\n",
       "    <tr>\n",
       "      <th>3</th>\n",
       "      <td>PG2</td>\n",
       "      <td>1034.55</td>\n",
       "    </tr>\n",
       "    <tr>\n",
       "      <th>4</th>\n",
       "      <td>PG2</td>\n",
       "      <td>26.59</td>\n",
       "    </tr>\n",
       "    <tr>\n",
       "      <th>5</th>\n",
       "      <td>PG4</td>\n",
       "      <td>7.59</td>\n",
       "    </tr>\n",
       "  </tbody>\n",
       "</table>\n",
       "</div>"
      ],
      "text/plain": [
       "  product_group    price\n",
       "0           PG2   569.91\n",
       "1           PG2   712.41\n",
       "2           PG2   854.91\n",
       "3           PG2  1034.55\n",
       "4           PG2    26.59\n",
       "5           PG4     7.59"
      ]
     },
     "metadata": {},
     "output_type": "display_data"
    }
   ],
   "source": [
    "# выведем первые 5 строк для полей 'product_group' и 'price'\n",
    "display(raw_data.loc[:5, ['product_group', 'price']])"
   ]
  },
  {
   "cell_type": "markdown",
   "metadata": {},
   "source": [
    "### iloc"
   ]
  },
  {
   "cell_type": "code",
   "execution_count": 25,
   "metadata": {},
   "outputs": [
    {
     "data": {
      "text/html": [
       "<div>\n",
       "<style scoped>\n",
       "    .dataframe tbody tr th:only-of-type {\n",
       "        vertical-align: middle;\n",
       "    }\n",
       "\n",
       "    .dataframe tbody tr th {\n",
       "        vertical-align: top;\n",
       "    }\n",
       "\n",
       "    .dataframe thead th {\n",
       "        text-align: right;\n",
       "    }\n",
       "</style>\n",
       "<table border=\"1\" class=\"dataframe\">\n",
       "  <thead>\n",
       "    <tr style=\"text-align: right;\">\n",
       "      <th></th>\n",
       "      <th>product_code</th>\n",
       "      <th>price</th>\n",
       "    </tr>\n",
       "  </thead>\n",
       "  <tbody>\n",
       "    <tr>\n",
       "      <th>0</th>\n",
       "      <td>4187</td>\n",
       "      <td>569.91</td>\n",
       "    </tr>\n",
       "    <tr>\n",
       "      <th>1</th>\n",
       "      <td>4195</td>\n",
       "      <td>712.41</td>\n",
       "    </tr>\n",
       "    <tr>\n",
       "      <th>2</th>\n",
       "      <td>4204</td>\n",
       "      <td>854.91</td>\n",
       "    </tr>\n",
       "    <tr>\n",
       "      <th>3</th>\n",
       "      <td>4219</td>\n",
       "      <td>1034.55</td>\n",
       "    </tr>\n",
       "    <tr>\n",
       "      <th>4</th>\n",
       "      <td>4718</td>\n",
       "      <td>26.59</td>\n",
       "    </tr>\n",
       "    <tr>\n",
       "      <th>5</th>\n",
       "      <td>5630</td>\n",
       "      <td>7.59</td>\n",
       "    </tr>\n",
       "  </tbody>\n",
       "</table>\n",
       "</div>"
      ],
      "text/plain": [
       "   product_code    price\n",
       "0          4187   569.91\n",
       "1          4195   712.41\n",
       "2          4204   854.91\n",
       "3          4219  1034.55\n",
       "4          4718    26.59\n",
       "5          5630     7.59"
      ]
     },
     "metadata": {},
     "output_type": "display_data"
    }
   ],
   "source": [
    "# выведем первые 5 строк для полей 'product_group' и 'price' используя метод iloc\n",
    "display(raw_data.iloc[:6, [0,4]])"
   ]
  },
  {
   "cell_type": "code",
   "execution_count": 26,
   "metadata": {},
   "outputs": [
    {
     "data": {
      "text/html": [
       "<div>\n",
       "<style scoped>\n",
       "    .dataframe tbody tr th:only-of-type {\n",
       "        vertical-align: middle;\n",
       "    }\n",
       "\n",
       "    .dataframe tbody tr th {\n",
       "        vertical-align: top;\n",
       "    }\n",
       "\n",
       "    .dataframe thead th {\n",
       "        text-align: right;\n",
       "    }\n",
       "</style>\n",
       "<table border=\"1\" class=\"dataframe\">\n",
       "  <thead>\n",
       "    <tr style=\"text-align: right;\">\n",
       "      <th></th>\n",
       "      <th>product_code</th>\n",
       "      <th>price</th>\n",
       "      <th>last_month_sales</th>\n",
       "    </tr>\n",
       "  </thead>\n",
       "  <tbody>\n",
       "    <tr>\n",
       "      <th>1</th>\n",
       "      <td>4195</td>\n",
       "      <td>712.41</td>\n",
       "      <td>58.0</td>\n",
       "    </tr>\n",
       "    <tr>\n",
       "      <th>16</th>\n",
       "      <td>5696</td>\n",
       "      <td>13.29</td>\n",
       "      <td>98.0</td>\n",
       "    </tr>\n",
       "    <tr>\n",
       "      <th>25</th>\n",
       "      <td>4837</td>\n",
       "      <td>89.29</td>\n",
       "      <td>102.0</td>\n",
       "    </tr>\n",
       "  </tbody>\n",
       "</table>\n",
       "</div>"
      ],
      "text/plain": [
       "    product_code   price  last_month_sales\n",
       "1           4195  712.41              58.0\n",
       "16          5696   13.29              98.0\n",
       "25          4837   89.29             102.0"
      ]
     },
     "metadata": {},
     "output_type": "display_data"
    }
   ],
   "source": [
    "# случайный набор строк и полей\n",
    "display(raw_data.iloc[[1, 16, 25], [0,4,6]])"
   ]
  },
  {
   "cell_type": "code",
   "execution_count": 27,
   "metadata": {},
   "outputs": [
    {
     "name": "stdout",
     "output_type": "stream",
     "text": [
      "  product_code product_group\n",
      "0         A001        Group1\n",
      "1         A002        Group2\n",
      "2         A003        Group3\n",
      "3         A004        Group4\n",
      "4         A005        Group5\n"
     ]
    }
   ],
   "source": [
    "df = pd.DataFrame({\n",
    "    \"product_code\": [\"A001\", \"A002\", \"A003\", \"A004\", \"A005\", \"A006\"],\n",
    "    \"product_group\": [\"Group1\", \"Group2\", \"Group3\", \"Group4\", \"Group5\", \"Group6\"],\n",
    "    \"price\": [100, 200, 300, 400, 500, 600]\n",
    "})\n",
    "\n",
    "\n",
    "result = print(df.loc[:4,['product_code', 'product_group']])"
   ]
  },
  {
   "cell_type": "markdown",
   "metadata": {},
   "source": [
    "### Выбор столбцов"
   ]
  },
  {
   "cell_type": "code",
   "execution_count": 28,
   "metadata": {},
   "outputs": [
    {
     "data": {
      "text/html": [
       "<div>\n",
       "<style scoped>\n",
       "    .dataframe tbody tr th:only-of-type {\n",
       "        vertical-align: middle;\n",
       "    }\n",
       "\n",
       "    .dataframe tbody tr th {\n",
       "        vertical-align: top;\n",
       "    }\n",
       "\n",
       "    .dataframe thead th {\n",
       "        text-align: right;\n",
       "    }\n",
       "</style>\n",
       "<table border=\"1\" class=\"dataframe\">\n",
       "  <thead>\n",
       "    <tr style=\"text-align: right;\">\n",
       "      <th></th>\n",
       "      <th>product_code</th>\n",
       "      <th>product_group</th>\n",
       "      <th>stock_qty</th>\n",
       "      <th>cost</th>\n",
       "      <th>price</th>\n",
       "      <th>last_week_sales</th>\n",
       "      <th>last_month_sales</th>\n",
       "    </tr>\n",
       "  </thead>\n",
       "  <tbody>\n",
       "    <tr>\n",
       "      <th>0</th>\n",
       "      <td>4187</td>\n",
       "      <td>PG2</td>\n",
       "      <td>498.0</td>\n",
       "      <td>420.76</td>\n",
       "      <td>569.91</td>\n",
       "      <td>13.0</td>\n",
       "      <td>58.0</td>\n",
       "    </tr>\n",
       "    <tr>\n",
       "      <th>1</th>\n",
       "      <td>4195</td>\n",
       "      <td>PG2</td>\n",
       "      <td>473.0</td>\n",
       "      <td>545.64</td>\n",
       "      <td>712.41</td>\n",
       "      <td>16.0</td>\n",
       "      <td>58.0</td>\n",
       "    </tr>\n",
       "    <tr>\n",
       "      <th>2</th>\n",
       "      <td>4204</td>\n",
       "      <td>PG2</td>\n",
       "      <td>968.0</td>\n",
       "      <td>640.42</td>\n",
       "      <td>854.91</td>\n",
       "      <td>22.0</td>\n",
       "      <td>88.0</td>\n",
       "    </tr>\n",
       "    <tr>\n",
       "      <th>3</th>\n",
       "      <td>4219</td>\n",
       "      <td>PG2</td>\n",
       "      <td>241.0</td>\n",
       "      <td>869.69</td>\n",
       "      <td>1034.55</td>\n",
       "      <td>14.0</td>\n",
       "      <td>45.0</td>\n",
       "    </tr>\n",
       "    <tr>\n",
       "      <th>4</th>\n",
       "      <td>4718</td>\n",
       "      <td>PG2</td>\n",
       "      <td>1401.0</td>\n",
       "      <td>12.54</td>\n",
       "      <td>26.59</td>\n",
       "      <td>50.0</td>\n",
       "      <td>285.0</td>\n",
       "    </tr>\n",
       "  </tbody>\n",
       "</table>\n",
       "</div>"
      ],
      "text/plain": [
       "   product_code product_group  stock_qty    cost    price  last_week_sales  \\\n",
       "0          4187           PG2      498.0  420.76   569.91             13.0   \n",
       "1          4195           PG2      473.0  545.64   712.41             16.0   \n",
       "2          4204           PG2      968.0  640.42   854.91             22.0   \n",
       "3          4219           PG2      241.0  869.69  1034.55             14.0   \n",
       "4          4718           PG2     1401.0   12.54    26.59             50.0   \n",
       "\n",
       "   last_month_sales  \n",
       "0              58.0  \n",
       "1              58.0  \n",
       "2              88.0  \n",
       "3              45.0  \n",
       "4             285.0  "
      ]
     },
     "metadata": {},
     "output_type": "display_data"
    }
   ],
   "source": [
    "# посмотрим на датафрейм\n",
    "display(raw_data.head())"
   ]
  },
  {
   "cell_type": "code",
   "execution_count": 29,
   "metadata": {},
   "outputs": [
    {
     "data": {
      "text/html": [
       "<div>\n",
       "<style scoped>\n",
       "    .dataframe tbody tr th:only-of-type {\n",
       "        vertical-align: middle;\n",
       "    }\n",
       "\n",
       "    .dataframe tbody tr th {\n",
       "        vertical-align: top;\n",
       "    }\n",
       "\n",
       "    .dataframe thead th {\n",
       "        text-align: right;\n",
       "    }\n",
       "</style>\n",
       "<table border=\"1\" class=\"dataframe\">\n",
       "  <thead>\n",
       "    <tr style=\"text-align: right;\">\n",
       "      <th></th>\n",
       "      <th>product_code</th>\n",
       "      <th>product_group</th>\n",
       "      <th>stock_qty</th>\n",
       "      <th>cost</th>\n",
       "      <th>price</th>\n",
       "      <th>last_week_sales</th>\n",
       "      <th>last_month_sales</th>\n",
       "    </tr>\n",
       "  </thead>\n",
       "  <tbody>\n",
       "    <tr>\n",
       "      <th>1</th>\n",
       "      <td>4195</td>\n",
       "      <td>PG2</td>\n",
       "      <td>473.0</td>\n",
       "      <td>545.64</td>\n",
       "      <td>712.41</td>\n",
       "      <td>16.0</td>\n",
       "      <td>58.0</td>\n",
       "    </tr>\n",
       "    <tr>\n",
       "      <th>2</th>\n",
       "      <td>4204</td>\n",
       "      <td>PG2</td>\n",
       "      <td>968.0</td>\n",
       "      <td>640.42</td>\n",
       "      <td>854.91</td>\n",
       "      <td>22.0</td>\n",
       "      <td>88.0</td>\n",
       "    </tr>\n",
       "    <tr>\n",
       "      <th>3</th>\n",
       "      <td>4219</td>\n",
       "      <td>PG2</td>\n",
       "      <td>241.0</td>\n",
       "      <td>869.69</td>\n",
       "      <td>1034.55</td>\n",
       "      <td>14.0</td>\n",
       "      <td>45.0</td>\n",
       "    </tr>\n",
       "    <tr>\n",
       "      <th>4</th>\n",
       "      <td>4718</td>\n",
       "      <td>PG2</td>\n",
       "      <td>1401.0</td>\n",
       "      <td>12.54</td>\n",
       "      <td>26.59</td>\n",
       "      <td>50.0</td>\n",
       "      <td>285.0</td>\n",
       "    </tr>\n",
       "  </tbody>\n",
       "</table>\n",
       "</div>"
      ],
      "text/plain": [
       "   product_code product_group  stock_qty    cost    price  last_week_sales  \\\n",
       "1          4195           PG2      473.0  545.64   712.41             16.0   \n",
       "2          4204           PG2      968.0  640.42   854.91             22.0   \n",
       "3          4219           PG2      241.0  869.69  1034.55             14.0   \n",
       "4          4718           PG2     1401.0   12.54    26.59             50.0   \n",
       "\n",
       "   last_month_sales  \n",
       "1              58.0  \n",
       "2              88.0  \n",
       "3              45.0  \n",
       "4             285.0  "
      ]
     },
     "metadata": {},
     "output_type": "display_data"
    }
   ],
   "source": [
    "# теперь выведем столбцы со вторго по 5\n",
    "display(raw_data[1:5].head())"
   ]
  },
  {
   "cell_type": "code",
   "execution_count": 30,
   "metadata": {},
   "outputs": [
    {
     "data": {
      "text/html": [
       "<div>\n",
       "<style scoped>\n",
       "    .dataframe tbody tr th:only-of-type {\n",
       "        vertical-align: middle;\n",
       "    }\n",
       "\n",
       "    .dataframe tbody tr th {\n",
       "        vertical-align: top;\n",
       "    }\n",
       "\n",
       "    .dataframe thead th {\n",
       "        text-align: right;\n",
       "    }\n",
       "</style>\n",
       "<table border=\"1\" class=\"dataframe\">\n",
       "  <thead>\n",
       "    <tr style=\"text-align: right;\">\n",
       "      <th></th>\n",
       "      <th>product_code</th>\n",
       "      <th>product_group</th>\n",
       "      <th>price</th>\n",
       "    </tr>\n",
       "  </thead>\n",
       "  <tbody>\n",
       "    <tr>\n",
       "      <th>0</th>\n",
       "      <td>4187</td>\n",
       "      <td>PG2</td>\n",
       "      <td>569.91</td>\n",
       "    </tr>\n",
       "    <tr>\n",
       "      <th>1</th>\n",
       "      <td>4195</td>\n",
       "      <td>PG2</td>\n",
       "      <td>712.41</td>\n",
       "    </tr>\n",
       "    <tr>\n",
       "      <th>2</th>\n",
       "      <td>4204</td>\n",
       "      <td>PG2</td>\n",
       "      <td>854.91</td>\n",
       "    </tr>\n",
       "    <tr>\n",
       "      <th>3</th>\n",
       "      <td>4219</td>\n",
       "      <td>PG2</td>\n",
       "      <td>1034.55</td>\n",
       "    </tr>\n",
       "    <tr>\n",
       "      <th>4</th>\n",
       "      <td>4718</td>\n",
       "      <td>PG2</td>\n",
       "      <td>26.59</td>\n",
       "    </tr>\n",
       "  </tbody>\n",
       "</table>\n",
       "</div>"
      ],
      "text/plain": [
       "   product_code product_group    price\n",
       "0          4187           PG2   569.91\n",
       "1          4195           PG2   712.41\n",
       "2          4204           PG2   854.91\n",
       "3          4219           PG2  1034.55\n",
       "4          4718           PG2    26.59"
      ]
     },
     "metadata": {},
     "output_type": "display_data"
    }
   ],
   "source": [
    "# или укажем явно\n",
    "display(raw_data[['product_code', 'product_group', 'price']].head())"
   ]
  },
  {
   "cell_type": "code",
   "execution_count": 31,
   "metadata": {},
   "outputs": [
    {
     "data": {
      "text/html": [
       "<div>\n",
       "<style scoped>\n",
       "    .dataframe tbody tr th:only-of-type {\n",
       "        vertical-align: middle;\n",
       "    }\n",
       "\n",
       "    .dataframe tbody tr th {\n",
       "        vertical-align: top;\n",
       "    }\n",
       "\n",
       "    .dataframe thead th {\n",
       "        text-align: right;\n",
       "    }\n",
       "</style>\n",
       "<table border=\"1\" class=\"dataframe\">\n",
       "  <thead>\n",
       "    <tr style=\"text-align: right;\">\n",
       "      <th></th>\n",
       "      <th>product_code</th>\n",
       "    </tr>\n",
       "  </thead>\n",
       "  <tbody>\n",
       "    <tr>\n",
       "      <th>0</th>\n",
       "      <td>4187</td>\n",
       "    </tr>\n",
       "    <tr>\n",
       "      <th>1</th>\n",
       "      <td>4195</td>\n",
       "    </tr>\n",
       "    <tr>\n",
       "      <th>2</th>\n",
       "      <td>4204</td>\n",
       "    </tr>\n",
       "    <tr>\n",
       "      <th>3</th>\n",
       "      <td>4219</td>\n",
       "    </tr>\n",
       "    <tr>\n",
       "      <th>4</th>\n",
       "      <td>4718</td>\n",
       "    </tr>\n",
       "  </tbody>\n",
       "</table>\n",
       "</div>"
      ],
      "text/plain": [
       "   product_code\n",
       "0          4187\n",
       "1          4195\n",
       "2          4204\n",
       "3          4219\n",
       "4          4718"
      ]
     },
     "metadata": {},
     "output_type": "display_data"
    }
   ],
   "source": [
    "# даже если нужен один столбец указываем его в списке иначе вернется Series а не DataFrame\n",
    "display(raw_data[['product_code']].head())"
   ]
  },
  {
   "cell_type": "code",
   "execution_count": 32,
   "metadata": {},
   "outputs": [
    {
     "data": {
      "text/plain": [
       "0    4187\n",
       "1    4195\n",
       "2    4204\n",
       "3    4219\n",
       "4    4718\n",
       "Name: product_code, dtype: int64"
      ]
     },
     "metadata": {},
     "output_type": "display_data"
    }
   ],
   "source": [
    "# например вот так вернется Series\n",
    "display(raw_data['product_code'].head())"
   ]
  },
  {
   "cell_type": "markdown",
   "metadata": {},
   "source": [
    "## Фильтрация по условию"
   ]
  },
  {
   "cell_type": "code",
   "execution_count": 33,
   "metadata": {},
   "outputs": [
    {
     "data": {
      "text/html": [
       "<div>\n",
       "<style scoped>\n",
       "    .dataframe tbody tr th:only-of-type {\n",
       "        vertical-align: middle;\n",
       "    }\n",
       "\n",
       "    .dataframe tbody tr th {\n",
       "        vertical-align: top;\n",
       "    }\n",
       "\n",
       "    .dataframe thead th {\n",
       "        text-align: right;\n",
       "    }\n",
       "</style>\n",
       "<table border=\"1\" class=\"dataframe\">\n",
       "  <thead>\n",
       "    <tr style=\"text-align: right;\">\n",
       "      <th></th>\n",
       "      <th>product_code</th>\n",
       "      <th>product_group</th>\n",
       "      <th>stock_qty</th>\n",
       "      <th>cost</th>\n",
       "      <th>price</th>\n",
       "      <th>last_week_sales</th>\n",
       "      <th>last_month_sales</th>\n",
       "    </tr>\n",
       "  </thead>\n",
       "  <tbody>\n",
       "    <tr>\n",
       "      <th>0</th>\n",
       "      <td>4187</td>\n",
       "      <td>PG2</td>\n",
       "      <td>498.0</td>\n",
       "      <td>420.76</td>\n",
       "      <td>569.91</td>\n",
       "      <td>13.0</td>\n",
       "      <td>58.0</td>\n",
       "    </tr>\n",
       "    <tr>\n",
       "      <th>1</th>\n",
       "      <td>4195</td>\n",
       "      <td>PG2</td>\n",
       "      <td>473.0</td>\n",
       "      <td>545.64</td>\n",
       "      <td>712.41</td>\n",
       "      <td>16.0</td>\n",
       "      <td>58.0</td>\n",
       "    </tr>\n",
       "    <tr>\n",
       "      <th>2</th>\n",
       "      <td>4204</td>\n",
       "      <td>PG2</td>\n",
       "      <td>968.0</td>\n",
       "      <td>640.42</td>\n",
       "      <td>854.91</td>\n",
       "      <td>22.0</td>\n",
       "      <td>88.0</td>\n",
       "    </tr>\n",
       "    <tr>\n",
       "      <th>3</th>\n",
       "      <td>4219</td>\n",
       "      <td>PG2</td>\n",
       "      <td>241.0</td>\n",
       "      <td>869.69</td>\n",
       "      <td>1034.55</td>\n",
       "      <td>14.0</td>\n",
       "      <td>45.0</td>\n",
       "    </tr>\n",
       "    <tr>\n",
       "      <th>4</th>\n",
       "      <td>4718</td>\n",
       "      <td>PG2</td>\n",
       "      <td>1401.0</td>\n",
       "      <td>12.54</td>\n",
       "      <td>26.59</td>\n",
       "      <td>50.0</td>\n",
       "      <td>285.0</td>\n",
       "    </tr>\n",
       "  </tbody>\n",
       "</table>\n",
       "</div>"
      ],
      "text/plain": [
       "   product_code product_group  stock_qty    cost    price  last_week_sales  \\\n",
       "0          4187           PG2      498.0  420.76   569.91             13.0   \n",
       "1          4195           PG2      473.0  545.64   712.41             16.0   \n",
       "2          4204           PG2      968.0  640.42   854.91             22.0   \n",
       "3          4219           PG2      241.0  869.69  1034.55             14.0   \n",
       "4          4718           PG2     1401.0   12.54    26.59             50.0   \n",
       "\n",
       "   last_month_sales  \n",
       "0              58.0  \n",
       "1              58.0  \n",
       "2              88.0  \n",
       "3              45.0  \n",
       "4             285.0  "
      ]
     },
     "metadata": {},
     "output_type": "display_data"
    }
   ],
   "source": [
    "display(raw_data.head())"
   ]
  },
  {
   "cell_type": "code",
   "execution_count": 34,
   "metadata": {},
   "outputs": [
    {
     "data": {
      "text/html": [
       "<div>\n",
       "<style scoped>\n",
       "    .dataframe tbody tr th:only-of-type {\n",
       "        vertical-align: middle;\n",
       "    }\n",
       "\n",
       "    .dataframe tbody tr th {\n",
       "        vertical-align: top;\n",
       "    }\n",
       "\n",
       "    .dataframe thead th {\n",
       "        text-align: right;\n",
       "    }\n",
       "</style>\n",
       "<table border=\"1\" class=\"dataframe\">\n",
       "  <thead>\n",
       "    <tr style=\"text-align: right;\">\n",
       "      <th></th>\n",
       "      <th>product_code</th>\n",
       "      <th>product_group</th>\n",
       "      <th>stock_qty</th>\n",
       "      <th>cost</th>\n",
       "      <th>price</th>\n",
       "      <th>last_week_sales</th>\n",
       "      <th>last_month_sales</th>\n",
       "    </tr>\n",
       "  </thead>\n",
       "  <tbody>\n",
       "    <tr>\n",
       "      <th>0</th>\n",
       "      <td>4187</td>\n",
       "      <td>PG2</td>\n",
       "      <td>498.0</td>\n",
       "      <td>420.76</td>\n",
       "      <td>569.91</td>\n",
       "      <td>13.0</td>\n",
       "      <td>58.0</td>\n",
       "    </tr>\n",
       "    <tr>\n",
       "      <th>1</th>\n",
       "      <td>4195</td>\n",
       "      <td>PG2</td>\n",
       "      <td>473.0</td>\n",
       "      <td>545.64</td>\n",
       "      <td>712.41</td>\n",
       "      <td>16.0</td>\n",
       "      <td>58.0</td>\n",
       "    </tr>\n",
       "    <tr>\n",
       "      <th>2</th>\n",
       "      <td>4204</td>\n",
       "      <td>PG2</td>\n",
       "      <td>968.0</td>\n",
       "      <td>640.42</td>\n",
       "      <td>854.91</td>\n",
       "      <td>22.0</td>\n",
       "      <td>88.0</td>\n",
       "    </tr>\n",
       "    <tr>\n",
       "      <th>3</th>\n",
       "      <td>4219</td>\n",
       "      <td>PG2</td>\n",
       "      <td>241.0</td>\n",
       "      <td>869.69</td>\n",
       "      <td>1034.55</td>\n",
       "      <td>14.0</td>\n",
       "      <td>45.0</td>\n",
       "    </tr>\n",
       "    <tr>\n",
       "      <th>4</th>\n",
       "      <td>4718</td>\n",
       "      <td>PG2</td>\n",
       "      <td>1401.0</td>\n",
       "      <td>12.54</td>\n",
       "      <td>26.59</td>\n",
       "      <td>50.0</td>\n",
       "      <td>285.0</td>\n",
       "    </tr>\n",
       "    <tr>\n",
       "      <th>...</th>\n",
       "      <td>...</td>\n",
       "      <td>...</td>\n",
       "      <td>...</td>\n",
       "      <td>...</td>\n",
       "      <td>...</td>\n",
       "      <td>...</td>\n",
       "      <td>...</td>\n",
       "    </tr>\n",
       "    <tr>\n",
       "      <th>973</th>\n",
       "      <td>6341</td>\n",
       "      <td>PG2</td>\n",
       "      <td>1274.0</td>\n",
       "      <td>12.06</td>\n",
       "      <td>18.99</td>\n",
       "      <td>39.0</td>\n",
       "      <td>181.0</td>\n",
       "    </tr>\n",
       "    <tr>\n",
       "      <th>979</th>\n",
       "      <td>2218</td>\n",
       "      <td>PG2</td>\n",
       "      <td>3049.0</td>\n",
       "      <td>8.20</td>\n",
       "      <td>16.14</td>\n",
       "      <td>148.0</td>\n",
       "      <td>555.0</td>\n",
       "    </tr>\n",
       "    <tr>\n",
       "      <th>980</th>\n",
       "      <td>2219</td>\n",
       "      <td>PG2</td>\n",
       "      <td>3525.0</td>\n",
       "      <td>9.02</td>\n",
       "      <td>16.14</td>\n",
       "      <td>164.0</td>\n",
       "      <td>657.0</td>\n",
       "    </tr>\n",
       "    <tr>\n",
       "      <th>997</th>\n",
       "      <td>952</td>\n",
       "      <td>PG2</td>\n",
       "      <td>5388.0</td>\n",
       "      <td>37.71</td>\n",
       "      <td>61.74</td>\n",
       "      <td>331.0</td>\n",
       "      <td>1041.0</td>\n",
       "    </tr>\n",
       "    <tr>\n",
       "      <th>998</th>\n",
       "      <td>1307</td>\n",
       "      <td>PG2</td>\n",
       "      <td>44996.0</td>\n",
       "      <td>31.44</td>\n",
       "      <td>42.74</td>\n",
       "      <td>1772.0</td>\n",
       "      <td>6394.0</td>\n",
       "    </tr>\n",
       "  </tbody>\n",
       "</table>\n",
       "<p>75 rows × 7 columns</p>\n",
       "</div>"
      ],
      "text/plain": [
       "     product_code product_group  stock_qty    cost    price  last_week_sales  \\\n",
       "0            4187           PG2      498.0  420.76   569.91             13.0   \n",
       "1            4195           PG2      473.0  545.64   712.41             16.0   \n",
       "2            4204           PG2      968.0  640.42   854.91             22.0   \n",
       "3            4219           PG2      241.0  869.69  1034.55             14.0   \n",
       "4            4718           PG2     1401.0   12.54    26.59             50.0   \n",
       "..            ...           ...        ...     ...      ...              ...   \n",
       "973          6341           PG2     1274.0   12.06    18.99             39.0   \n",
       "979          2218           PG2     3049.0    8.20    16.14            148.0   \n",
       "980          2219           PG2     3525.0    9.02    16.14            164.0   \n",
       "997           952           PG2     5388.0   37.71    61.74            331.0   \n",
       "998          1307           PG2    44996.0   31.44    42.74           1772.0   \n",
       "\n",
       "     last_month_sales  \n",
       "0                58.0  \n",
       "1                58.0  \n",
       "2                88.0  \n",
       "3                45.0  \n",
       "4               285.0  \n",
       "..                ...  \n",
       "973             181.0  \n",
       "979             555.0  \n",
       "980             657.0  \n",
       "997            1041.0  \n",
       "998            6394.0  \n",
       "\n",
       "[75 rows x 7 columns]"
      ]
     },
     "metadata": {},
     "output_type": "display_data"
    }
   ],
   "source": [
    "# вернем записи группы PG2\n",
    "display(raw_data[raw_data['product_group'] == 'PG2'])"
   ]
  },
  {
   "cell_type": "code",
   "execution_count": 35,
   "metadata": {},
   "outputs": [
    {
     "data": {
      "text/html": [
       "<div>\n",
       "<style scoped>\n",
       "    .dataframe tbody tr th:only-of-type {\n",
       "        vertical-align: middle;\n",
       "    }\n",
       "\n",
       "    .dataframe tbody tr th {\n",
       "        vertical-align: top;\n",
       "    }\n",
       "\n",
       "    .dataframe thead th {\n",
       "        text-align: right;\n",
       "    }\n",
       "</style>\n",
       "<table border=\"1\" class=\"dataframe\">\n",
       "  <thead>\n",
       "    <tr style=\"text-align: right;\">\n",
       "      <th></th>\n",
       "      <th>product_code</th>\n",
       "      <th>price</th>\n",
       "    </tr>\n",
       "  </thead>\n",
       "  <tbody>\n",
       "    <tr>\n",
       "      <th>0</th>\n",
       "      <td>4187</td>\n",
       "      <td>569.91</td>\n",
       "    </tr>\n",
       "    <tr>\n",
       "      <th>1</th>\n",
       "      <td>4195</td>\n",
       "      <td>712.41</td>\n",
       "    </tr>\n",
       "    <tr>\n",
       "      <th>2</th>\n",
       "      <td>4204</td>\n",
       "      <td>854.91</td>\n",
       "    </tr>\n",
       "    <tr>\n",
       "      <th>3</th>\n",
       "      <td>4219</td>\n",
       "      <td>1034.55</td>\n",
       "    </tr>\n",
       "    <tr>\n",
       "      <th>8</th>\n",
       "      <td>2650</td>\n",
       "      <td>111.06</td>\n",
       "    </tr>\n",
       "    <tr>\n",
       "      <th>...</th>\n",
       "      <td>...</td>\n",
       "      <td>...</td>\n",
       "    </tr>\n",
       "    <tr>\n",
       "      <th>865</th>\n",
       "      <td>3012</td>\n",
       "      <td>189.91</td>\n",
       "    </tr>\n",
       "    <tr>\n",
       "      <th>867</th>\n",
       "      <td>5486</td>\n",
       "      <td>104.41</td>\n",
       "    </tr>\n",
       "    <tr>\n",
       "      <th>892</th>\n",
       "      <td>2971</td>\n",
       "      <td>180.41</td>\n",
       "    </tr>\n",
       "    <tr>\n",
       "      <th>929</th>\n",
       "      <td>1600</td>\n",
       "      <td>137.66</td>\n",
       "    </tr>\n",
       "    <tr>\n",
       "      <th>966</th>\n",
       "      <td>5630</td>\n",
       "      <td>161.49</td>\n",
       "    </tr>\n",
       "  </tbody>\n",
       "</table>\n",
       "<p>140 rows × 2 columns</p>\n",
       "</div>"
      ],
      "text/plain": [
       "     product_code    price\n",
       "0            4187   569.91\n",
       "1            4195   712.41\n",
       "2            4204   854.91\n",
       "3            4219  1034.55\n",
       "8            2650   111.06\n",
       "..            ...      ...\n",
       "865          3012   189.91\n",
       "867          5486   104.41\n",
       "892          2971   180.41\n",
       "929          1600   137.66\n",
       "966          5630   161.49\n",
       "\n",
       "[140 rows x 2 columns]"
      ]
     },
     "metadata": {},
     "output_type": "display_data"
    }
   ],
   "source": [
    "# позиции стоимостью более 100 и выберем только код продукта и его цену\n",
    "display(raw_data.loc[raw_data['price'] > 100, ['product_code', 'price' ]])"
   ]
  },
  {
   "cell_type": "code",
   "execution_count": 36,
   "metadata": {},
   "outputs": [
    {
     "data": {
      "text/html": [
       "<div>\n",
       "<style scoped>\n",
       "    .dataframe tbody tr th:only-of-type {\n",
       "        vertical-align: middle;\n",
       "    }\n",
       "\n",
       "    .dataframe tbody tr th {\n",
       "        vertical-align: top;\n",
       "    }\n",
       "\n",
       "    .dataframe thead th {\n",
       "        text-align: right;\n",
       "    }\n",
       "</style>\n",
       "<table border=\"1\" class=\"dataframe\">\n",
       "  <thead>\n",
       "    <tr style=\"text-align: right;\">\n",
       "      <th></th>\n",
       "      <th>product_code</th>\n",
       "      <th>price</th>\n",
       "    </tr>\n",
       "  </thead>\n",
       "  <tbody>\n",
       "    <tr>\n",
       "      <th>4</th>\n",
       "      <td>4718</td>\n",
       "      <td>26.59</td>\n",
       "    </tr>\n",
       "    <tr>\n",
       "      <th>11</th>\n",
       "      <td>4721</td>\n",
       "      <td>30.39</td>\n",
       "    </tr>\n",
       "    <tr>\n",
       "      <th>12</th>\n",
       "      <td>4724</td>\n",
       "      <td>37.99</td>\n",
       "    </tr>\n",
       "    <tr>\n",
       "      <th>21</th>\n",
       "      <td>4726</td>\n",
       "      <td>40.84</td>\n",
       "    </tr>\n",
       "    <tr>\n",
       "      <th>22</th>\n",
       "      <td>4728</td>\n",
       "      <td>40.84</td>\n",
       "    </tr>\n",
       "  </tbody>\n",
       "</table>\n",
       "</div>"
      ],
      "text/plain": [
       "    product_code  price\n",
       "4           4718  26.59\n",
       "11          4721  30.39\n",
       "12          4724  37.99\n",
       "21          4726  40.84\n",
       "22          4728  40.84"
      ]
     },
     "metadata": {},
     "output_type": "display_data"
    }
   ],
   "source": [
    "# выполним фильтрацию по нескольким условиям и сохраним в отдельынй DataFrame\n",
    "\n",
    "filtred_data = raw_data.loc[(raw_data['price'] < 100) & (raw_data['product_group'] == 'PG2'), \n",
    "                            ['product_code', 'price']]\n",
    "\n",
    "display(filtred_data.head())"
   ]
  },
  {
   "cell_type": "code",
   "execution_count": null,
   "metadata": {},
   "outputs": [],
   "source": []
  },
  {
   "cell_type": "markdown",
   "metadata": {},
   "source": [
    "### Фильтрация query"
   ]
  },
  {
   "cell_type": "markdown",
   "metadata": {},
   "source": [
    "Фильтрация с помощью функции query в Pandas — это мощный и удобный способ отбирать данные из DataFrame, используя строковые выражения, похожие на SQL-запросы. Метод .query() позволяет писать более читаемый и компактный код.  \n",
    "```DataFrame.query(expr, inplace=False, **kwargs)```  \n",
    "* ```expr```: строковое выражение (SQL-подобное), которое определяет условия фильтрации.  \n",
    "* ```inplace```: если True, изменения применяются к исходному DataFrame (по умолчанию False).  \n",
    "* ```**kwargs```: дополнительные параметры, такие как доступ к внешним переменным через local_dict или global_dict"
   ]
  },
  {
   "cell_type": "code",
   "execution_count": 37,
   "metadata": {},
   "outputs": [
    {
     "data": {
      "text/html": [
       "<div>\n",
       "<style scoped>\n",
       "    .dataframe tbody tr th:only-of-type {\n",
       "        vertical-align: middle;\n",
       "    }\n",
       "\n",
       "    .dataframe tbody tr th {\n",
       "        vertical-align: top;\n",
       "    }\n",
       "\n",
       "    .dataframe thead th {\n",
       "        text-align: right;\n",
       "    }\n",
       "</style>\n",
       "<table border=\"1\" class=\"dataframe\">\n",
       "  <thead>\n",
       "    <tr style=\"text-align: right;\">\n",
       "      <th></th>\n",
       "      <th>product_code</th>\n",
       "      <th>product_group</th>\n",
       "      <th>stock_qty</th>\n",
       "      <th>cost</th>\n",
       "      <th>price</th>\n",
       "      <th>last_week_sales</th>\n",
       "      <th>last_month_sales</th>\n",
       "    </tr>\n",
       "  </thead>\n",
       "  <tbody>\n",
       "    <tr>\n",
       "      <th>0</th>\n",
       "      <td>4187</td>\n",
       "      <td>PG2</td>\n",
       "      <td>498.0</td>\n",
       "      <td>420.76</td>\n",
       "      <td>569.91</td>\n",
       "      <td>13.0</td>\n",
       "      <td>58.0</td>\n",
       "    </tr>\n",
       "    <tr>\n",
       "      <th>1</th>\n",
       "      <td>4195</td>\n",
       "      <td>PG2</td>\n",
       "      <td>473.0</td>\n",
       "      <td>545.64</td>\n",
       "      <td>712.41</td>\n",
       "      <td>16.0</td>\n",
       "      <td>58.0</td>\n",
       "    </tr>\n",
       "    <tr>\n",
       "      <th>2</th>\n",
       "      <td>4204</td>\n",
       "      <td>PG2</td>\n",
       "      <td>968.0</td>\n",
       "      <td>640.42</td>\n",
       "      <td>854.91</td>\n",
       "      <td>22.0</td>\n",
       "      <td>88.0</td>\n",
       "    </tr>\n",
       "    <tr>\n",
       "      <th>3</th>\n",
       "      <td>4219</td>\n",
       "      <td>PG2</td>\n",
       "      <td>241.0</td>\n",
       "      <td>869.69</td>\n",
       "      <td>1034.55</td>\n",
       "      <td>14.0</td>\n",
       "      <td>45.0</td>\n",
       "    </tr>\n",
       "    <tr>\n",
       "      <th>4</th>\n",
       "      <td>4718</td>\n",
       "      <td>PG2</td>\n",
       "      <td>1401.0</td>\n",
       "      <td>12.54</td>\n",
       "      <td>26.59</td>\n",
       "      <td>50.0</td>\n",
       "      <td>285.0</td>\n",
       "    </tr>\n",
       "  </tbody>\n",
       "</table>\n",
       "</div>"
      ],
      "text/plain": [
       "   product_code product_group  stock_qty    cost    price  last_week_sales  \\\n",
       "0          4187           PG2      498.0  420.76   569.91             13.0   \n",
       "1          4195           PG2      473.0  545.64   712.41             16.0   \n",
       "2          4204           PG2      968.0  640.42   854.91             22.0   \n",
       "3          4219           PG2      241.0  869.69  1034.55             14.0   \n",
       "4          4718           PG2     1401.0   12.54    26.59             50.0   \n",
       "\n",
       "   last_month_sales  \n",
       "0              58.0  \n",
       "1              58.0  \n",
       "2              88.0  \n",
       "3              45.0  \n",
       "4             285.0  "
      ]
     },
     "metadata": {},
     "output_type": "display_data"
    }
   ],
   "source": [
    "# вновь взглянем на Datafame\n",
    "display(raw_data.head()) "
   ]
  },
  {
   "cell_type": "code",
   "execution_count": 38,
   "metadata": {},
   "outputs": [
    {
     "data": {
      "text/html": [
       "<div>\n",
       "<style scoped>\n",
       "    .dataframe tbody tr th:only-of-type {\n",
       "        vertical-align: middle;\n",
       "    }\n",
       "\n",
       "    .dataframe tbody tr th {\n",
       "        vertical-align: top;\n",
       "    }\n",
       "\n",
       "    .dataframe thead th {\n",
       "        text-align: right;\n",
       "    }\n",
       "</style>\n",
       "<table border=\"1\" class=\"dataframe\">\n",
       "  <thead>\n",
       "    <tr style=\"text-align: right;\">\n",
       "      <th></th>\n",
       "      <th>product_code</th>\n",
       "      <th>product_group</th>\n",
       "      <th>stock_qty</th>\n",
       "      <th>cost</th>\n",
       "      <th>price</th>\n",
       "      <th>last_week_sales</th>\n",
       "      <th>last_month_sales</th>\n",
       "    </tr>\n",
       "  </thead>\n",
       "  <tbody>\n",
       "    <tr>\n",
       "      <th>3</th>\n",
       "      <td>4219</td>\n",
       "      <td>PG2</td>\n",
       "      <td>241.0</td>\n",
       "      <td>869.69</td>\n",
       "      <td>1034.55</td>\n",
       "      <td>14.0</td>\n",
       "      <td>45.0</td>\n",
       "    </tr>\n",
       "    <tr>\n",
       "      <th>599</th>\n",
       "      <td>1941</td>\n",
       "      <td>PG1</td>\n",
       "      <td>213.0</td>\n",
       "      <td>847.00</td>\n",
       "      <td>1177.05</td>\n",
       "      <td>18.0</td>\n",
       "      <td>72.0</td>\n",
       "    </tr>\n",
       "    <tr>\n",
       "      <th>710</th>\n",
       "      <td>4140</td>\n",
       "      <td>PG1</td>\n",
       "      <td>92.0</td>\n",
       "      <td>803.00</td>\n",
       "      <td>1201.75</td>\n",
       "      <td>12.0</td>\n",
       "      <td>24.0</td>\n",
       "    </tr>\n",
       "    <tr>\n",
       "      <th>565</th>\n",
       "      <td>7773</td>\n",
       "      <td>PG1</td>\n",
       "      <td>602.0</td>\n",
       "      <td>975.70</td>\n",
       "      <td>1325.16</td>\n",
       "      <td>19.0</td>\n",
       "      <td>60.0</td>\n",
       "    </tr>\n",
       "    <tr>\n",
       "      <th>528</th>\n",
       "      <td>9692</td>\n",
       "      <td>PG1</td>\n",
       "      <td>68.0</td>\n",
       "      <td>1243.00</td>\n",
       "      <td>1500.05</td>\n",
       "      <td>26.0</td>\n",
       "      <td>94.0</td>\n",
       "    </tr>\n",
       "  </tbody>\n",
       "</table>\n",
       "</div>"
      ],
      "text/plain": [
       "     product_code product_group  stock_qty     cost    price  last_week_sales  \\\n",
       "3            4219           PG2      241.0   869.69  1034.55             14.0   \n",
       "599          1941           PG1      213.0   847.00  1177.05             18.0   \n",
       "710          4140           PG1       92.0   803.00  1201.75             12.0   \n",
       "565          7773           PG1      602.0   975.70  1325.16             19.0   \n",
       "528          9692           PG1       68.0  1243.00  1500.05             26.0   \n",
       "\n",
       "     last_month_sales  \n",
       "3                45.0  \n",
       "599              72.0  \n",
       "710              24.0  \n",
       "565              60.0  \n",
       "528              94.0  "
      ]
     },
     "metadata": {},
     "output_type": "display_data"
    }
   ],
   "source": [
    "# попробуем выполнить фильтрация по одному условию, по цене\n",
    "display(raw_data.query('price > 1000').sort_values(by = 'price', ascending = True).head())\n",
    "\n",
    "# .query('price > 1000') - выбираем записи со значением аргумента price больше 1000\n",
    "# .sort_values(by = 'price', ascending = True) - сортируем строки по возрастанию аргумента price\n",
    "# .head() - возвращаем первые 5 строк"
   ]
  },
  {
   "cell_type": "code",
   "execution_count": 39,
   "metadata": {},
   "outputs": [
    {
     "data": {
      "text/html": [
       "<div>\n",
       "<style scoped>\n",
       "    .dataframe tbody tr th:only-of-type {\n",
       "        vertical-align: middle;\n",
       "    }\n",
       "\n",
       "    .dataframe tbody tr th {\n",
       "        vertical-align: top;\n",
       "    }\n",
       "\n",
       "    .dataframe thead th {\n",
       "        text-align: right;\n",
       "    }\n",
       "</style>\n",
       "<table border=\"1\" class=\"dataframe\">\n",
       "  <thead>\n",
       "    <tr style=\"text-align: right;\">\n",
       "      <th></th>\n",
       "      <th>product_code</th>\n",
       "      <th>product_group</th>\n",
       "      <th>stock_qty</th>\n",
       "      <th>cost</th>\n",
       "      <th>price</th>\n",
       "      <th>last_week_sales</th>\n",
       "      <th>last_month_sales</th>\n",
       "    </tr>\n",
       "  </thead>\n",
       "  <tbody>\n",
       "    <tr>\n",
       "      <th>528</th>\n",
       "      <td>9692</td>\n",
       "      <td>PG1</td>\n",
       "      <td>68.0</td>\n",
       "      <td>1243.0</td>\n",
       "      <td>1500.05</td>\n",
       "      <td>26.0</td>\n",
       "      <td>94.0</td>\n",
       "    </tr>\n",
       "    <tr>\n",
       "      <th>565</th>\n",
       "      <td>7773</td>\n",
       "      <td>PG1</td>\n",
       "      <td>602.0</td>\n",
       "      <td>975.7</td>\n",
       "      <td>1325.16</td>\n",
       "      <td>19.0</td>\n",
       "      <td>60.0</td>\n",
       "    </tr>\n",
       "  </tbody>\n",
       "</table>\n",
       "</div>"
      ],
      "text/plain": [
       "     product_code product_group  stock_qty    cost    price  last_week_sales  \\\n",
       "528          9692           PG1       68.0  1243.0  1500.05             26.0   \n",
       "565          7773           PG1      602.0   975.7  1325.16             19.0   \n",
       "\n",
       "     last_month_sales  \n",
       "528              94.0  \n",
       "565              60.0  "
      ]
     },
     "metadata": {},
     "output_type": "display_data"
    }
   ],
   "source": [
    "# попробуем выполнить фильтрация по двум условиям (И)\n",
    "display(raw_data.query('price > 1300 and product_group == \"PG1\"').head())"
   ]
  },
  {
   "cell_type": "code",
   "execution_count": 40,
   "metadata": {},
   "outputs": [
    {
     "data": {
      "text/html": [
       "<div>\n",
       "<style scoped>\n",
       "    .dataframe tbody tr th:only-of-type {\n",
       "        vertical-align: middle;\n",
       "    }\n",
       "\n",
       "    .dataframe tbody tr th {\n",
       "        vertical-align: top;\n",
       "    }\n",
       "\n",
       "    .dataframe thead th {\n",
       "        text-align: right;\n",
       "    }\n",
       "</style>\n",
       "<table border=\"1\" class=\"dataframe\">\n",
       "  <thead>\n",
       "    <tr style=\"text-align: right;\">\n",
       "      <th></th>\n",
       "      <th>product_code</th>\n",
       "      <th>product_group</th>\n",
       "      <th>stock_qty</th>\n",
       "      <th>cost</th>\n",
       "      <th>price</th>\n",
       "      <th>last_week_sales</th>\n",
       "      <th>last_month_sales</th>\n",
       "    </tr>\n",
       "  </thead>\n",
       "  <tbody>\n",
       "    <tr>\n",
       "      <th>528</th>\n",
       "      <td>9692</td>\n",
       "      <td>PG1</td>\n",
       "      <td>68.0</td>\n",
       "      <td>1243.0</td>\n",
       "      <td>1500.05</td>\n",
       "      <td>26.0</td>\n",
       "      <td>94.0</td>\n",
       "    </tr>\n",
       "    <tr>\n",
       "      <th>565</th>\n",
       "      <td>7773</td>\n",
       "      <td>PG1</td>\n",
       "      <td>602.0</td>\n",
       "      <td>975.7</td>\n",
       "      <td>1325.16</td>\n",
       "      <td>19.0</td>\n",
       "      <td>60.0</td>\n",
       "    </tr>\n",
       "  </tbody>\n",
       "</table>\n",
       "</div>"
      ],
      "text/plain": [
       "     product_code product_group  stock_qty    cost    price  last_week_sales  \\\n",
       "528          9692           PG1       68.0  1243.0  1500.05             26.0   \n",
       "565          7773           PG1      602.0   975.7  1325.16             19.0   \n",
       "\n",
       "     last_month_sales  \n",
       "528              94.0  \n",
       "565              60.0  "
      ]
     },
     "metadata": {},
     "output_type": "display_data"
    }
   ],
   "source": [
    "# попробуем выполнить фильтрация по двум условиям (ИЛИ)\n",
    "display(raw_data.query('product_code == 9692 or product_code == 7773').head())"
   ]
  },
  {
   "cell_type": "code",
   "execution_count": 41,
   "metadata": {},
   "outputs": [
    {
     "data": {
      "text/html": [
       "<div>\n",
       "<style scoped>\n",
       "    .dataframe tbody tr th:only-of-type {\n",
       "        vertical-align: middle;\n",
       "    }\n",
       "\n",
       "    .dataframe tbody tr th {\n",
       "        vertical-align: top;\n",
       "    }\n",
       "\n",
       "    .dataframe thead th {\n",
       "        text-align: right;\n",
       "    }\n",
       "</style>\n",
       "<table border=\"1\" class=\"dataframe\">\n",
       "  <thead>\n",
       "    <tr style=\"text-align: right;\">\n",
       "      <th></th>\n",
       "      <th>product_code</th>\n",
       "      <th>product_group</th>\n",
       "      <th>stock_qty</th>\n",
       "      <th>cost</th>\n",
       "      <th>price</th>\n",
       "      <th>last_week_sales</th>\n",
       "      <th>last_month_sales</th>\n",
       "    </tr>\n",
       "  </thead>\n",
       "  <tbody>\n",
       "    <tr>\n",
       "      <th>528</th>\n",
       "      <td>9692</td>\n",
       "      <td>PG1</td>\n",
       "      <td>68.0</td>\n",
       "      <td>1243.0</td>\n",
       "      <td>1500.05</td>\n",
       "      <td>26.0</td>\n",
       "      <td>94.0</td>\n",
       "    </tr>\n",
       "    <tr>\n",
       "      <th>565</th>\n",
       "      <td>7773</td>\n",
       "      <td>PG1</td>\n",
       "      <td>602.0</td>\n",
       "      <td>975.7</td>\n",
       "      <td>1325.16</td>\n",
       "      <td>19.0</td>\n",
       "      <td>60.0</td>\n",
       "    </tr>\n",
       "  </tbody>\n",
       "</table>\n",
       "</div>"
      ],
      "text/plain": [
       "     product_code product_group  stock_qty    cost    price  last_week_sales  \\\n",
       "528          9692           PG1       68.0  1243.0  1500.05             26.0   \n",
       "565          7773           PG1      602.0   975.7  1325.16             19.0   \n",
       "\n",
       "     last_month_sales  \n",
       "528              94.0  \n",
       "565              60.0  "
      ]
     },
     "metadata": {},
     "output_type": "display_data"
    }
   ],
   "source": [
    "# попробуем выполнить фильтрация по списку\n",
    "display(raw_data.query('product_code in [9692, 7773]').head())"
   ]
  },
  {
   "cell_type": "markdown",
   "metadata": {},
   "source": [
    "## Работа со строками"
   ]
  },
  {
   "cell_type": "code",
   "execution_count": 42,
   "metadata": {},
   "outputs": [
    {
     "data": {
      "text/html": [
       "<div>\n",
       "<style scoped>\n",
       "    .dataframe tbody tr th:only-of-type {\n",
       "        vertical-align: middle;\n",
       "    }\n",
       "\n",
       "    .dataframe tbody tr th {\n",
       "        vertical-align: top;\n",
       "    }\n",
       "\n",
       "    .dataframe thead th {\n",
       "        text-align: right;\n",
       "    }\n",
       "</style>\n",
       "<table border=\"1\" class=\"dataframe\">\n",
       "  <thead>\n",
       "    <tr style=\"text-align: right;\">\n",
       "      <th></th>\n",
       "      <th>name</th>\n",
       "      <th>city</th>\n",
       "      <th>date_of_birth</th>\n",
       "      <th>start_date</th>\n",
       "      <th>salary</th>\n",
       "      <th>department</th>\n",
       "    </tr>\n",
       "  </thead>\n",
       "  <tbody>\n",
       "    <tr>\n",
       "      <th>0</th>\n",
       "      <td>John Doe</td>\n",
       "      <td>Houston, TX</td>\n",
       "      <td>1998-11-04</td>\n",
       "      <td>2018-08-11</td>\n",
       "      <td>$65,000</td>\n",
       "      <td>Accounting</td>\n",
       "    </tr>\n",
       "    <tr>\n",
       "      <th>1</th>\n",
       "      <td>Jane Doe</td>\n",
       "      <td>San Jose, CA</td>\n",
       "      <td>1995-08-05</td>\n",
       "      <td>2017-08-24</td>\n",
       "      <td>$70,000</td>\n",
       "      <td>Field Quality</td>\n",
       "    </tr>\n",
       "    <tr>\n",
       "      <th>2</th>\n",
       "      <td>Matt smith</td>\n",
       "      <td>Dallas, TX</td>\n",
       "      <td>1996-11-25</td>\n",
       "      <td>2020-04-16</td>\n",
       "      <td>$58,500</td>\n",
       "      <td>human resources</td>\n",
       "    </tr>\n",
       "    <tr>\n",
       "      <th>3</th>\n",
       "      <td>Ashley Harris</td>\n",
       "      <td>Miami, FL</td>\n",
       "      <td>1995-01-08</td>\n",
       "      <td>2021-02-11</td>\n",
       "      <td>$49,500</td>\n",
       "      <td>accounting</td>\n",
       "    </tr>\n",
       "    <tr>\n",
       "      <th>4</th>\n",
       "      <td>Jonathan targett</td>\n",
       "      <td>Santa Clara, CA</td>\n",
       "      <td>1998-08-14</td>\n",
       "      <td>2020-09-01</td>\n",
       "      <td>$62,000</td>\n",
       "      <td>field quality</td>\n",
       "    </tr>\n",
       "    <tr>\n",
       "      <th>5</th>\n",
       "      <td>Hale Cole</td>\n",
       "      <td>Atlanta, GA</td>\n",
       "      <td>2000-10-24</td>\n",
       "      <td>2021-10-20</td>\n",
       "      <td>$54,500</td>\n",
       "      <td>engineering</td>\n",
       "    </tr>\n",
       "  </tbody>\n",
       "</table>\n",
       "</div>"
      ],
      "text/plain": [
       "               name             city date_of_birth  start_date   salary  \\\n",
       "0          John Doe      Houston, TX    1998-11-04  2018-08-11  $65,000   \n",
       "1          Jane Doe     San Jose, CA    1995-08-05  2017-08-24  $70,000   \n",
       "2        Matt smith       Dallas, TX    1996-11-25  2020-04-16  $58,500   \n",
       "3     Ashley Harris        Miami, FL    1995-01-08  2021-02-11  $49,500   \n",
       "4  Jonathan targett  Santa Clara, CA    1998-08-14  2020-09-01  $62,000   \n",
       "5         Hale Cole      Atlanta, GA    2000-10-24  2021-10-20  $54,500   \n",
       "\n",
       "        department  \n",
       "0       Accounting  \n",
       "1    Field Quality  \n",
       "2  human resources  \n",
       "3       accounting  \n",
       "4    field quality  \n",
       "5      engineering  "
      ]
     },
     "metadata": {},
     "output_type": "display_data"
    },
    {
     "name": "stdout",
     "output_type": "stream",
     "text": [
      "<class 'pandas.core.frame.DataFrame'>\n",
      "RangeIndex: 6 entries, 0 to 5\n",
      "Data columns (total 6 columns):\n",
      " #   Column         Non-Null Count  Dtype \n",
      "---  ------         --------------  ----- \n",
      " 0   name           6 non-null      object\n",
      " 1   city           6 non-null      object\n",
      " 2   date_of_birth  6 non-null      object\n",
      " 3   start_date     6 non-null      object\n",
      " 4   salary         6 non-null      object\n",
      " 5   department     6 non-null      object\n",
      "dtypes: object(6)\n",
      "memory usage: 420.0+ bytes\n",
      "None\n"
     ]
    }
   ],
   "source": [
    "# взглянем на датасет\n",
    "staff = pd.read_csv('datasets/staff.csv')\n",
    "display(staff)\n",
    "\n",
    "# выведем основную информацию о датасете\n",
    "print(staff.info())"
   ]
  },
  {
   "cell_type": "markdown",
   "metadata": {},
   "source": [
    "### .str[ ]"
   ]
  },
  {
   "cell_type": "markdown",
   "metadata": {},
   "source": [
    ".str[] позволяет обращаться к символам или подстрокам внутри каждой строки в Series по индексу или срезу. Это работает аналогично тому, как вы бы использовали индексацию строк в Python, но применяется ко всем элементам Series одновременно.  \n",
    "```str[start : end : step size]```"
   ]
  },
  {
   "cell_type": "code",
   "execution_count": 43,
   "metadata": {},
   "outputs": [
    {
     "data": {
      "text/plain": [
       "0    J\n",
       "1    J\n",
       "2    M\n",
       "3    A\n",
       "4    J\n",
       "5    H\n",
       "Name: name, dtype: object"
      ]
     },
     "metadata": {},
     "output_type": "display_data"
    }
   ],
   "source": [
    "# выбор первого символа в строке\n",
    "display(staff['name'].str[0])"
   ]
  },
  {
   "cell_type": "code",
   "execution_count": 44,
   "metadata": {},
   "outputs": [
    {
     "data": {
      "text/plain": [
       "0    e\n",
       "1    e\n",
       "2    h\n",
       "3    s\n",
       "4    t\n",
       "5    e\n",
       "Name: name, dtype: object"
      ]
     },
     "metadata": {},
     "output_type": "display_data"
    }
   ],
   "source": [
    "# выбор последнего символа в строке\n",
    "display(staff['name'].str[-1])"
   ]
  },
  {
   "cell_type": "code",
   "execution_count": 45,
   "metadata": {},
   "outputs": [
    {
     "data": {
      "text/plain": [
       "0    John\n",
       "1    Jane\n",
       "2    Matt\n",
       "3    Ashl\n",
       "4    Jona\n",
       "5    Hale\n",
       "Name: name, dtype: object"
      ]
     },
     "metadata": {},
     "output_type": "display_data"
    }
   ],
   "source": [
    "# выбор диапазона символов строки\n",
    "display(staff['name'].str[0:4])"
   ]
  },
  {
   "cell_type": "markdown",
   "metadata": {},
   "source": [
    "### srt.split( )"
   ]
  },
  {
   "cell_type": "markdown",
   "metadata": {},
   "source": [
    "Метод ```.str.split()``` в pandas используется для разделения строковых значений в Series на части, основываясь на указанном разделителе. Этот метод возвращает список (или список списков, если применяется к Series), где каждая строка разбивается на подстроки.  \n",
    "\n",
    "Синтаксис:  \n",
    "```Series.str.split(pat=None, n=-1, expand=False)```  \n",
    "\n",
    "Параметры:  \n",
    "* ```pat``` (string, optional):  \n",
    "Разделитель, по которому происходит разделение строки.  \n",
    "Если pat=None, то разделение происходит по любым последовательностям пробельных символов (пробелы, табуляции, переводы строки и т.д.).  \n",
    "Можно использовать регулярные выражения.\n",
    "* ```n``` (int, default -1):  \n",
    "Определяет максимальное количество разбиений:  \n",
    "Если n=-1 или n=0, разбиение происходит столько раз, сколько возможно.  \n",
    "Если n=1, то строка делится только на две части (первое разбиение).  \n",
    "* ```expand``` (bool, default False):  \n",
    "Если expand=True, результат преобразуется в DataFrame, где каждая часть становится отдельной колонкой.  \n",
    "Если expand=False (по умолчанию), результат остается Series, содержащим списки.  "
   ]
  },
  {
   "cell_type": "code",
   "execution_count": 46,
   "metadata": {},
   "outputs": [
    {
     "data": {
      "text/plain": [
       "0            [John, Doe]\n",
       "1            [Jane, Doe]\n",
       "2          [Matt, smith]\n",
       "3       [Ashley, Harris]\n",
       "4    [Jonathan, targett]\n",
       "5           [Hale, Cole]\n",
       "Name: name, dtype: object"
      ]
     },
     "metadata": {},
     "output_type": "display_data"
    }
   ],
   "source": [
    "# разобьем фио сотрудника на имя и фамилию\n",
    "display(staff['name'].str.split())"
   ]
  },
  {
   "cell_type": "code",
   "execution_count": 47,
   "metadata": {},
   "outputs": [
    {
     "data": {
      "text/html": [
       "<div>\n",
       "<style scoped>\n",
       "    .dataframe tbody tr th:only-of-type {\n",
       "        vertical-align: middle;\n",
       "    }\n",
       "\n",
       "    .dataframe tbody tr th {\n",
       "        vertical-align: top;\n",
       "    }\n",
       "\n",
       "    .dataframe thead th {\n",
       "        text-align: right;\n",
       "    }\n",
       "</style>\n",
       "<table border=\"1\" class=\"dataframe\">\n",
       "  <thead>\n",
       "    <tr style=\"text-align: right;\">\n",
       "      <th></th>\n",
       "      <th>name</th>\n",
       "      <th>city</th>\n",
       "      <th>date_of_birth</th>\n",
       "      <th>start_date</th>\n",
       "      <th>salary</th>\n",
       "      <th>department</th>\n",
       "      <th>first_name</th>\n",
       "      <th>last_name</th>\n",
       "    </tr>\n",
       "  </thead>\n",
       "  <tbody>\n",
       "    <tr>\n",
       "      <th>0</th>\n",
       "      <td>John Doe</td>\n",
       "      <td>Houston, TX</td>\n",
       "      <td>1998-11-04</td>\n",
       "      <td>2018-08-11</td>\n",
       "      <td>$65,000</td>\n",
       "      <td>Accounting</td>\n",
       "      <td>John</td>\n",
       "      <td>Doe</td>\n",
       "    </tr>\n",
       "    <tr>\n",
       "      <th>1</th>\n",
       "      <td>Jane Doe</td>\n",
       "      <td>San Jose, CA</td>\n",
       "      <td>1995-08-05</td>\n",
       "      <td>2017-08-24</td>\n",
       "      <td>$70,000</td>\n",
       "      <td>Field Quality</td>\n",
       "      <td>Jane</td>\n",
       "      <td>Doe</td>\n",
       "    </tr>\n",
       "    <tr>\n",
       "      <th>2</th>\n",
       "      <td>Matt smith</td>\n",
       "      <td>Dallas, TX</td>\n",
       "      <td>1996-11-25</td>\n",
       "      <td>2020-04-16</td>\n",
       "      <td>$58,500</td>\n",
       "      <td>human resources</td>\n",
       "      <td>Matt</td>\n",
       "      <td>smith</td>\n",
       "    </tr>\n",
       "    <tr>\n",
       "      <th>3</th>\n",
       "      <td>Ashley Harris</td>\n",
       "      <td>Miami, FL</td>\n",
       "      <td>1995-01-08</td>\n",
       "      <td>2021-02-11</td>\n",
       "      <td>$49,500</td>\n",
       "      <td>accounting</td>\n",
       "      <td>Ashley</td>\n",
       "      <td>Harris</td>\n",
       "    </tr>\n",
       "    <tr>\n",
       "      <th>4</th>\n",
       "      <td>Jonathan targett</td>\n",
       "      <td>Santa Clara, CA</td>\n",
       "      <td>1998-08-14</td>\n",
       "      <td>2020-09-01</td>\n",
       "      <td>$62,000</td>\n",
       "      <td>field quality</td>\n",
       "      <td>Jonathan</td>\n",
       "      <td>targett</td>\n",
       "    </tr>\n",
       "    <tr>\n",
       "      <th>5</th>\n",
       "      <td>Hale Cole</td>\n",
       "      <td>Atlanta, GA</td>\n",
       "      <td>2000-10-24</td>\n",
       "      <td>2021-10-20</td>\n",
       "      <td>$54,500</td>\n",
       "      <td>engineering</td>\n",
       "      <td>Hale</td>\n",
       "      <td>Cole</td>\n",
       "    </tr>\n",
       "  </tbody>\n",
       "</table>\n",
       "</div>"
      ],
      "text/plain": [
       "               name             city date_of_birth  start_date   salary  \\\n",
       "0          John Doe      Houston, TX    1998-11-04  2018-08-11  $65,000   \n",
       "1          Jane Doe     San Jose, CA    1995-08-05  2017-08-24  $70,000   \n",
       "2        Matt smith       Dallas, TX    1996-11-25  2020-04-16  $58,500   \n",
       "3     Ashley Harris        Miami, FL    1995-01-08  2021-02-11  $49,500   \n",
       "4  Jonathan targett  Santa Clara, CA    1998-08-14  2020-09-01  $62,000   \n",
       "5         Hale Cole      Atlanta, GA    2000-10-24  2021-10-20  $54,500   \n",
       "\n",
       "        department first_name last_name  \n",
       "0       Accounting       John       Doe  \n",
       "1    Field Quality       Jane       Doe  \n",
       "2  human resources       Matt     smith  \n",
       "3       accounting     Ashley    Harris  \n",
       "4    field quality   Jonathan   targett  \n",
       "5      engineering       Hale      Cole  "
      ]
     },
     "metadata": {},
     "output_type": "display_data"
    }
   ],
   "source": [
    "# или если необходимо, разделить по полям и добавим их в основной датасет\n",
    "staff [['first_name', 'last_name']] = staff['name'].str.split(expand = True)\n",
    "display(staff)"
   ]
  },
  {
   "cell_type": "markdown",
   "metadata": {},
   "source": [
    "### Cложение строк"
   ]
  },
  {
   "cell_type": "code",
   "execution_count": 48,
   "metadata": {},
   "outputs": [
    {
     "data": {
      "text/html": [
       "<div>\n",
       "<style scoped>\n",
       "    .dataframe tbody tr th:only-of-type {\n",
       "        vertical-align: middle;\n",
       "    }\n",
       "\n",
       "    .dataframe tbody tr th {\n",
       "        vertical-align: top;\n",
       "    }\n",
       "\n",
       "    .dataframe thead th {\n",
       "        text-align: right;\n",
       "    }\n",
       "</style>\n",
       "<table border=\"1\" class=\"dataframe\">\n",
       "  <thead>\n",
       "    <tr style=\"text-align: right;\">\n",
       "      <th></th>\n",
       "      <th>name</th>\n",
       "      <th>city</th>\n",
       "      <th>date_of_birth</th>\n",
       "      <th>start_date</th>\n",
       "      <th>salary</th>\n",
       "      <th>department</th>\n",
       "      <th>first_name</th>\n",
       "      <th>last_name</th>\n",
       "      <th>article</th>\n",
       "    </tr>\n",
       "  </thead>\n",
       "  <tbody>\n",
       "    <tr>\n",
       "      <th>0</th>\n",
       "      <td>John Doe</td>\n",
       "      <td>Houston, TX</td>\n",
       "      <td>1998-11-04</td>\n",
       "      <td>2018-08-11</td>\n",
       "      <td>$65,000</td>\n",
       "      <td>Accounting</td>\n",
       "      <td>John</td>\n",
       "      <td>Doe</td>\n",
       "      <td>John - Accounting</td>\n",
       "    </tr>\n",
       "    <tr>\n",
       "      <th>1</th>\n",
       "      <td>Jane Doe</td>\n",
       "      <td>San Jose, CA</td>\n",
       "      <td>1995-08-05</td>\n",
       "      <td>2017-08-24</td>\n",
       "      <td>$70,000</td>\n",
       "      <td>Field Quality</td>\n",
       "      <td>Jane</td>\n",
       "      <td>Doe</td>\n",
       "      <td>Jane - Field Quality</td>\n",
       "    </tr>\n",
       "    <tr>\n",
       "      <th>2</th>\n",
       "      <td>Matt smith</td>\n",
       "      <td>Dallas, TX</td>\n",
       "      <td>1996-11-25</td>\n",
       "      <td>2020-04-16</td>\n",
       "      <td>$58,500</td>\n",
       "      <td>human resources</td>\n",
       "      <td>Matt</td>\n",
       "      <td>smith</td>\n",
       "      <td>Matt - human resources</td>\n",
       "    </tr>\n",
       "    <tr>\n",
       "      <th>3</th>\n",
       "      <td>Ashley Harris</td>\n",
       "      <td>Miami, FL</td>\n",
       "      <td>1995-01-08</td>\n",
       "      <td>2021-02-11</td>\n",
       "      <td>$49,500</td>\n",
       "      <td>accounting</td>\n",
       "      <td>Ashley</td>\n",
       "      <td>Harris</td>\n",
       "      <td>Ashley - accounting</td>\n",
       "    </tr>\n",
       "    <tr>\n",
       "      <th>4</th>\n",
       "      <td>Jonathan targett</td>\n",
       "      <td>Santa Clara, CA</td>\n",
       "      <td>1998-08-14</td>\n",
       "      <td>2020-09-01</td>\n",
       "      <td>$62,000</td>\n",
       "      <td>field quality</td>\n",
       "      <td>Jonathan</td>\n",
       "      <td>targett</td>\n",
       "      <td>Jonathan - field quality</td>\n",
       "    </tr>\n",
       "    <tr>\n",
       "      <th>5</th>\n",
       "      <td>Hale Cole</td>\n",
       "      <td>Atlanta, GA</td>\n",
       "      <td>2000-10-24</td>\n",
       "      <td>2021-10-20</td>\n",
       "      <td>$54,500</td>\n",
       "      <td>engineering</td>\n",
       "      <td>Hale</td>\n",
       "      <td>Cole</td>\n",
       "      <td>Hale - engineering</td>\n",
       "    </tr>\n",
       "  </tbody>\n",
       "</table>\n",
       "</div>"
      ],
      "text/plain": [
       "               name             city date_of_birth  start_date   salary  \\\n",
       "0          John Doe      Houston, TX    1998-11-04  2018-08-11  $65,000   \n",
       "1          Jane Doe     San Jose, CA    1995-08-05  2017-08-24  $70,000   \n",
       "2        Matt smith       Dallas, TX    1996-11-25  2020-04-16  $58,500   \n",
       "3     Ashley Harris        Miami, FL    1995-01-08  2021-02-11  $49,500   \n",
       "4  Jonathan targett  Santa Clara, CA    1998-08-14  2020-09-01  $62,000   \n",
       "5         Hale Cole      Atlanta, GA    2000-10-24  2021-10-20  $54,500   \n",
       "\n",
       "        department first_name last_name                   article  \n",
       "0       Accounting       John       Doe         John - Accounting  \n",
       "1    Field Quality       Jane       Doe      Jane - Field Quality  \n",
       "2  human resources       Matt     smith    Matt - human resources  \n",
       "3       accounting     Ashley    Harris       Ashley - accounting  \n",
       "4    field quality   Jonathan   targett  Jonathan - field quality  \n",
       "5      engineering       Hale      Cole        Hale - engineering  "
      ]
     },
     "metadata": {},
     "output_type": "display_data"
    }
   ],
   "source": [
    "\n",
    "staff['article'] = staff['first_name'] + ' - '+ staff['department']\n",
    "display(staff)"
   ]
  },
  {
   "cell_type": "code",
   "execution_count": 49,
   "metadata": {},
   "outputs": [
    {
     "data": {
      "text/html": [
       "<div>\n",
       "<style scoped>\n",
       "    .dataframe tbody tr th:only-of-type {\n",
       "        vertical-align: middle;\n",
       "    }\n",
       "\n",
       "    .dataframe tbody tr th {\n",
       "        vertical-align: top;\n",
       "    }\n",
       "\n",
       "    .dataframe thead th {\n",
       "        text-align: right;\n",
       "    }\n",
       "</style>\n",
       "<table border=\"1\" class=\"dataframe\">\n",
       "  <thead>\n",
       "    <tr style=\"text-align: right;\">\n",
       "      <th></th>\n",
       "      <th>name</th>\n",
       "      <th>city</th>\n",
       "      <th>date_of_birth</th>\n",
       "      <th>start_date</th>\n",
       "      <th>salary</th>\n",
       "      <th>department</th>\n",
       "    </tr>\n",
       "  </thead>\n",
       "  <tbody>\n",
       "    <tr>\n",
       "      <th>0</th>\n",
       "      <td>John Doe</td>\n",
       "      <td>Houston, TX</td>\n",
       "      <td>1998-11-04</td>\n",
       "      <td>2018-08-11</td>\n",
       "      <td>$65,000</td>\n",
       "      <td>Accounting</td>\n",
       "    </tr>\n",
       "    <tr>\n",
       "      <th>1</th>\n",
       "      <td>Jane Doe</td>\n",
       "      <td>San Jose, CA</td>\n",
       "      <td>1995-08-05</td>\n",
       "      <td>2017-08-24</td>\n",
       "      <td>$70,000</td>\n",
       "      <td>Field Quality</td>\n",
       "    </tr>\n",
       "    <tr>\n",
       "      <th>2</th>\n",
       "      <td>Matt smith</td>\n",
       "      <td>Dallas, TX</td>\n",
       "      <td>1996-11-25</td>\n",
       "      <td>2020-04-16</td>\n",
       "      <td>$58,500</td>\n",
       "      <td>human resources</td>\n",
       "    </tr>\n",
       "    <tr>\n",
       "      <th>3</th>\n",
       "      <td>Ashley Harris</td>\n",
       "      <td>Miami, FL</td>\n",
       "      <td>1995-01-08</td>\n",
       "      <td>2021-02-11</td>\n",
       "      <td>$49,500</td>\n",
       "      <td>accounting</td>\n",
       "    </tr>\n",
       "    <tr>\n",
       "      <th>4</th>\n",
       "      <td>Jonathan targett</td>\n",
       "      <td>Santa Clara, CA</td>\n",
       "      <td>1998-08-14</td>\n",
       "      <td>2020-09-01</td>\n",
       "      <td>$62,000</td>\n",
       "      <td>field quality</td>\n",
       "    </tr>\n",
       "    <tr>\n",
       "      <th>5</th>\n",
       "      <td>Hale Cole</td>\n",
       "      <td>Atlanta, GA</td>\n",
       "      <td>2000-10-24</td>\n",
       "      <td>2021-10-20</td>\n",
       "      <td>$54,500</td>\n",
       "      <td>engineering</td>\n",
       "    </tr>\n",
       "  </tbody>\n",
       "</table>\n",
       "</div>"
      ],
      "text/plain": [
       "               name             city date_of_birth  start_date   salary  \\\n",
       "0          John Doe      Houston, TX    1998-11-04  2018-08-11  $65,000   \n",
       "1          Jane Doe     San Jose, CA    1995-08-05  2017-08-24  $70,000   \n",
       "2        Matt smith       Dallas, TX    1996-11-25  2020-04-16  $58,500   \n",
       "3     Ashley Harris        Miami, FL    1995-01-08  2021-02-11  $49,500   \n",
       "4  Jonathan targett  Santa Clara, CA    1998-08-14  2020-09-01  $62,000   \n",
       "5         Hale Cole      Atlanta, GA    2000-10-24  2021-10-20  $54,500   \n",
       "\n",
       "        department  \n",
       "0       Accounting  \n",
       "1    Field Quality  \n",
       "2  human resources  \n",
       "3       accounting  \n",
       "4    field quality  \n",
       "5      engineering  "
      ]
     },
     "metadata": {},
     "output_type": "display_data"
    }
   ],
   "source": [
    "# вернем df к исходном виду\n",
    "staff.drop(columns = ['article', 'first_name', 'last_name'], inplace=True)\n",
    "display(staff)"
   ]
  },
  {
   "cell_type": "markdown",
   "metadata": {},
   "source": [
    "### str.upper / lower( )"
   ]
  },
  {
   "cell_type": "code",
   "execution_count": 50,
   "metadata": {},
   "outputs": [
    {
     "data": {
      "text/plain": [
       "0            JOHN DOE\n",
       "1            JANE DOE\n",
       "2          MATT SMITH\n",
       "3       ASHLEY HARRIS\n",
       "4    JONATHAN TARGETT\n",
       "5           HALE COLE\n",
       "Name: name, dtype: object"
      ]
     },
     "metadata": {},
     "output_type": "display_data"
    }
   ],
   "source": [
    "# приведем в верний все знаки в строке\n",
    "display(staff['name'].str.upper())"
   ]
  },
  {
   "cell_type": "code",
   "execution_count": 51,
   "metadata": {},
   "outputs": [
    {
     "data": {
      "text/plain": [
       "0            john doe\n",
       "1            jane doe\n",
       "2          matt smith\n",
       "3       ashley harris\n",
       "4    jonathan targett\n",
       "5           hale cole\n",
       "Name: name, dtype: object"
      ]
     },
     "metadata": {},
     "output_type": "display_data"
    }
   ],
   "source": [
    "# приведем в нижний все знаки в строке\n",
    "display(staff['name'].str.lower())"
   ]
  },
  {
   "cell_type": "markdown",
   "metadata": {},
   "source": [
    "### str.capitalize( )"
   ]
  },
  {
   "cell_type": "code",
   "execution_count": 52,
   "metadata": {},
   "outputs": [
    {
     "data": {
      "text/plain": [
       "0            John doe\n",
       "1            Jane doe\n",
       "2          Matt smith\n",
       "3       Ashley harris\n",
       "4    Jonathan targett\n",
       "5           Hale cole\n",
       "Name: name, dtype: object"
      ]
     },
     "metadata": {},
     "output_type": "display_data"
    }
   ],
   "source": [
    "# в верхнем регистре будет только первая буква в строке\n",
    "display(staff['name'].str.capitalize())"
   ]
  },
  {
   "cell_type": "markdown",
   "metadata": {},
   "source": [
    "### str.title( )"
   ]
  },
  {
   "cell_type": "code",
   "execution_count": 53,
   "metadata": {},
   "outputs": [
    {
     "data": {
      "text/plain": [
       "0            John Doe\n",
       "1            Jane Doe\n",
       "2          Matt Smith\n",
       "3       Ashley Harris\n",
       "4    Jonathan Targett\n",
       "5           Hale Cole\n",
       "Name: name, dtype: object"
      ]
     },
     "metadata": {},
     "output_type": "display_data"
    }
   ],
   "source": [
    "# каждое слово будет начинаться с заглавной\n",
    "display(staff['name'].str.title())"
   ]
  },
  {
   "cell_type": "markdown",
   "metadata": {},
   "source": [
    "### Замена символов в строке"
   ]
  },
  {
   "cell_type": "markdown",
   "metadata": {},
   "source": [
    "### str.replace( )"
   ]
  },
  {
   "cell_type": "code",
   "execution_count": 54,
   "metadata": {},
   "outputs": [
    {
     "data": {
      "text/html": [
       "<div>\n",
       "<style scoped>\n",
       "    .dataframe tbody tr th:only-of-type {\n",
       "        vertical-align: middle;\n",
       "    }\n",
       "\n",
       "    .dataframe tbody tr th {\n",
       "        vertical-align: top;\n",
       "    }\n",
       "\n",
       "    .dataframe thead th {\n",
       "        text-align: right;\n",
       "    }\n",
       "</style>\n",
       "<table border=\"1\" class=\"dataframe\">\n",
       "  <thead>\n",
       "    <tr style=\"text-align: right;\">\n",
       "      <th></th>\n",
       "      <th>name</th>\n",
       "      <th>city</th>\n",
       "      <th>date_of_birth</th>\n",
       "      <th>start_date</th>\n",
       "      <th>salary</th>\n",
       "      <th>department</th>\n",
       "    </tr>\n",
       "  </thead>\n",
       "  <tbody>\n",
       "    <tr>\n",
       "      <th>0</th>\n",
       "      <td>John Doe</td>\n",
       "      <td>Houston, TX</td>\n",
       "      <td>1998-11-04</td>\n",
       "      <td>2018-08-11</td>\n",
       "      <td>$65,000</td>\n",
       "      <td>Accounting</td>\n",
       "    </tr>\n",
       "    <tr>\n",
       "      <th>1</th>\n",
       "      <td>Jane Doe</td>\n",
       "      <td>San Jose, CA</td>\n",
       "      <td>1995-08-05</td>\n",
       "      <td>2017-08-24</td>\n",
       "      <td>$70,000</td>\n",
       "      <td>Field Quality</td>\n",
       "    </tr>\n",
       "    <tr>\n",
       "      <th>2</th>\n",
       "      <td>Matt smith</td>\n",
       "      <td>Dallas, TX</td>\n",
       "      <td>1996-11-25</td>\n",
       "      <td>2020-04-16</td>\n",
       "      <td>$58,500</td>\n",
       "      <td>human resources</td>\n",
       "    </tr>\n",
       "    <tr>\n",
       "      <th>3</th>\n",
       "      <td>Ashley Harris</td>\n",
       "      <td>Miami, FL</td>\n",
       "      <td>1995-01-08</td>\n",
       "      <td>2021-02-11</td>\n",
       "      <td>$49,500</td>\n",
       "      <td>accounting</td>\n",
       "    </tr>\n",
       "    <tr>\n",
       "      <th>4</th>\n",
       "      <td>Jonathan targett</td>\n",
       "      <td>Santa Clara, CA</td>\n",
       "      <td>1998-08-14</td>\n",
       "      <td>2020-09-01</td>\n",
       "      <td>$62,000</td>\n",
       "      <td>field quality</td>\n",
       "    </tr>\n",
       "    <tr>\n",
       "      <th>5</th>\n",
       "      <td>Hale Cole</td>\n",
       "      <td>Atlanta, GA</td>\n",
       "      <td>2000-10-24</td>\n",
       "      <td>2021-10-20</td>\n",
       "      <td>$54,500</td>\n",
       "      <td>engineering</td>\n",
       "    </tr>\n",
       "  </tbody>\n",
       "</table>\n",
       "</div>"
      ],
      "text/plain": [
       "               name             city date_of_birth  start_date   salary  \\\n",
       "0          John Doe      Houston, TX    1998-11-04  2018-08-11  $65,000   \n",
       "1          Jane Doe     San Jose, CA    1995-08-05  2017-08-24  $70,000   \n",
       "2        Matt smith       Dallas, TX    1996-11-25  2020-04-16  $58,500   \n",
       "3     Ashley Harris        Miami, FL    1995-01-08  2021-02-11  $49,500   \n",
       "4  Jonathan targett  Santa Clara, CA    1998-08-14  2020-09-01  $62,000   \n",
       "5         Hale Cole      Atlanta, GA    2000-10-24  2021-10-20  $54,500   \n",
       "\n",
       "        department  \n",
       "0       Accounting  \n",
       "1    Field Quality  \n",
       "2  human resources  \n",
       "3       accounting  \n",
       "4    field quality  \n",
       "5      engineering  "
      ]
     },
     "metadata": {},
     "output_type": "display_data"
    }
   ],
   "source": [
    "# произведем замену символа в строке\n",
    "display(staff)"
   ]
  },
  {
   "cell_type": "code",
   "execution_count": 55,
   "metadata": {},
   "outputs": [
    {
     "data": {
      "text/plain": [
       "0        Houston - TX\n",
       "1       San Jose - CA\n",
       "2         Dallas - TX\n",
       "3          Miami - FL\n",
       "4    Santa Clara - CA\n",
       "5        Atlanta - GA\n",
       "Name: city, dtype: object"
      ]
     },
     "metadata": {},
     "output_type": "display_data"
    }
   ],
   "source": [
    "# в поле с наименованием города, изменим ', ' на \" - \"\n",
    "display(staff['city'].str.replace(', ', ' - '))"
   ]
  },
  {
   "cell_type": "code",
   "execution_count": 56,
   "metadata": {},
   "outputs": [
    {
     "data": {
      "text/html": [
       "<div>\n",
       "<style scoped>\n",
       "    .dataframe tbody tr th:only-of-type {\n",
       "        vertical-align: middle;\n",
       "    }\n",
       "\n",
       "    .dataframe tbody tr th {\n",
       "        vertical-align: top;\n",
       "    }\n",
       "\n",
       "    .dataframe thead th {\n",
       "        text-align: right;\n",
       "    }\n",
       "</style>\n",
       "<table border=\"1\" class=\"dataframe\">\n",
       "  <thead>\n",
       "    <tr style=\"text-align: right;\">\n",
       "      <th></th>\n",
       "      <th>name</th>\n",
       "      <th>city</th>\n",
       "      <th>date_of_birth</th>\n",
       "      <th>start_date</th>\n",
       "      <th>salary</th>\n",
       "      <th>department</th>\n",
       "      <th>state</th>\n",
       "    </tr>\n",
       "  </thead>\n",
       "  <tbody>\n",
       "    <tr>\n",
       "      <th>0</th>\n",
       "      <td>John Doe</td>\n",
       "      <td>Houston, TX</td>\n",
       "      <td>1998-11-04</td>\n",
       "      <td>2018-08-11</td>\n",
       "      <td>$65,000</td>\n",
       "      <td>Accounting</td>\n",
       "      <td>Texas</td>\n",
       "    </tr>\n",
       "    <tr>\n",
       "      <th>1</th>\n",
       "      <td>Jane Doe</td>\n",
       "      <td>San Jose, CA</td>\n",
       "      <td>1995-08-05</td>\n",
       "      <td>2017-08-24</td>\n",
       "      <td>$70,000</td>\n",
       "      <td>Field Quality</td>\n",
       "      <td>California</td>\n",
       "    </tr>\n",
       "    <tr>\n",
       "      <th>2</th>\n",
       "      <td>Matt smith</td>\n",
       "      <td>Dallas, TX</td>\n",
       "      <td>1996-11-25</td>\n",
       "      <td>2020-04-16</td>\n",
       "      <td>$58,500</td>\n",
       "      <td>human resources</td>\n",
       "      <td>Texas</td>\n",
       "    </tr>\n",
       "    <tr>\n",
       "      <th>3</th>\n",
       "      <td>Ashley Harris</td>\n",
       "      <td>Miami, FL</td>\n",
       "      <td>1995-01-08</td>\n",
       "      <td>2021-02-11</td>\n",
       "      <td>$49,500</td>\n",
       "      <td>accounting</td>\n",
       "      <td>Florida</td>\n",
       "    </tr>\n",
       "    <tr>\n",
       "      <th>4</th>\n",
       "      <td>Jonathan targett</td>\n",
       "      <td>Santa Clara, CA</td>\n",
       "      <td>1998-08-14</td>\n",
       "      <td>2020-09-01</td>\n",
       "      <td>$62,000</td>\n",
       "      <td>field quality</td>\n",
       "      <td>California</td>\n",
       "    </tr>\n",
       "    <tr>\n",
       "      <th>5</th>\n",
       "      <td>Hale Cole</td>\n",
       "      <td>Atlanta, GA</td>\n",
       "      <td>2000-10-24</td>\n",
       "      <td>2021-10-20</td>\n",
       "      <td>$54,500</td>\n",
       "      <td>engineering</td>\n",
       "      <td>Georgia</td>\n",
       "    </tr>\n",
       "  </tbody>\n",
       "</table>\n",
       "</div>"
      ],
      "text/plain": [
       "               name             city date_of_birth  start_date   salary  \\\n",
       "0          John Doe      Houston, TX    1998-11-04  2018-08-11  $65,000   \n",
       "1          Jane Doe     San Jose, CA    1995-08-05  2017-08-24  $70,000   \n",
       "2        Matt smith       Dallas, TX    1996-11-25  2020-04-16  $58,500   \n",
       "3     Ashley Harris        Miami, FL    1995-01-08  2021-02-11  $49,500   \n",
       "4  Jonathan targett  Santa Clara, CA    1998-08-14  2020-09-01  $62,000   \n",
       "5         Hale Cole      Atlanta, GA    2000-10-24  2021-10-20  $54,500   \n",
       "\n",
       "        department       state  \n",
       "0       Accounting       Texas  \n",
       "1    Field Quality  California  \n",
       "2  human resources       Texas  \n",
       "3       accounting     Florida  \n",
       "4    field quality  California  \n",
       "5      engineering     Georgia  "
      ]
     },
     "metadata": {},
     "output_type": "display_data"
    }
   ],
   "source": [
    "# применим replace к DataFrame \n",
    "staff_2 = staff\n",
    "\n",
    "# создадим столбец\n",
    "staff_2['state'] = staff['city'].str[-2:]\n",
    "\n",
    "# выполним замену значений\n",
    "staff_2.replace({\"TX\": \"Texas\", \"CA\": \"California\", \"FL\": \"Florida\", \"GA\": \"Georgia\"},\n",
    "                 inplace = True)\n",
    "\n",
    "# посмотрим на результа\n",
    "display(staff_2)"
   ]
  },
  {
   "cell_type": "code",
   "execution_count": 57,
   "metadata": {},
   "outputs": [
    {
     "data": {
      "text/html": [
       "<div>\n",
       "<style scoped>\n",
       "    .dataframe tbody tr th:only-of-type {\n",
       "        vertical-align: middle;\n",
       "    }\n",
       "\n",
       "    .dataframe tbody tr th {\n",
       "        vertical-align: top;\n",
       "    }\n",
       "\n",
       "    .dataframe thead th {\n",
       "        text-align: right;\n",
       "    }\n",
       "</style>\n",
       "<table border=\"1\" class=\"dataframe\">\n",
       "  <thead>\n",
       "    <tr style=\"text-align: right;\">\n",
       "      <th></th>\n",
       "      <th>first_name</th>\n",
       "      <th>last_name</th>\n",
       "      <th>year_hired</th>\n",
       "      <th>combined</th>\n",
       "    </tr>\n",
       "  </thead>\n",
       "  <tbody>\n",
       "    <tr>\n",
       "      <th>0</th>\n",
       "      <td>Alice</td>\n",
       "      <td>Smith</td>\n",
       "      <td>2010</td>\n",
       "      <td>Smith - 2010</td>\n",
       "    </tr>\n",
       "    <tr>\n",
       "      <th>1</th>\n",
       "      <td>Bob</td>\n",
       "      <td>Johnson</td>\n",
       "      <td>2015</td>\n",
       "      <td>Johnson - 2015</td>\n",
       "    </tr>\n",
       "    <tr>\n",
       "      <th>2</th>\n",
       "      <td>Charlie</td>\n",
       "      <td>Brown</td>\n",
       "      <td>2020</td>\n",
       "      <td>Brown - 2020</td>\n",
       "    </tr>\n",
       "  </tbody>\n",
       "</table>\n",
       "</div>"
      ],
      "text/plain": [
       "  first_name last_name  year_hired        combined\n",
       "0      Alice     Smith        2010    Smith - 2010\n",
       "1        Bob   Johnson        2015  Johnson - 2015\n",
       "2    Charlie     Brown        2020    Brown - 2020"
      ]
     },
     "execution_count": 57,
     "metadata": {},
     "output_type": "execute_result"
    }
   ],
   "source": [
    "import pandas as pd\n",
    "data = {\n",
    "    'name': ['Alice Smith', 'Bob Johnson', 'Charlie Brown'],\n",
    "    'hire_date': ['15/03/2010', '22/07/2015', '01/01/2020']\n",
    "}\n",
    "df=pd.DataFrame(data)\n",
    "def solution(df):\n",
    "    df[['first_name', 'last_name']] = df['name'].str.split(expand = True)\n",
    "    df['year_hired'] = pd.to_datetime(df['hire_date'], format='%d/%m/%Y').dt.year\n",
    "    df['combined'] = df['last_name'] + ' - ' + df['year_hired'].astype(str)\n",
    "    result = df[['first_name', 'last_name', 'year_hired', 'combined']]\n",
    "    return result\n",
    "\n",
    "solution(df)"
   ]
  },
  {
   "cell_type": "markdown",
   "metadata": {},
   "source": [
    "## Работа с датой и временем"
   ]
  },
  {
   "cell_type": "markdown",
   "metadata": {},
   "source": [
    "### pd.to_datetime()"
   ]
  },
  {
   "cell_type": "code",
   "execution_count": 58,
   "metadata": {},
   "outputs": [
    {
     "data": {
      "text/html": [
       "<div>\n",
       "<style scoped>\n",
       "    .dataframe tbody tr th:only-of-type {\n",
       "        vertical-align: middle;\n",
       "    }\n",
       "\n",
       "    .dataframe tbody tr th {\n",
       "        vertical-align: top;\n",
       "    }\n",
       "\n",
       "    .dataframe thead th {\n",
       "        text-align: right;\n",
       "    }\n",
       "</style>\n",
       "<table border=\"1\" class=\"dataframe\">\n",
       "  <thead>\n",
       "    <tr style=\"text-align: right;\">\n",
       "      <th></th>\n",
       "      <th>Dates</th>\n",
       "    </tr>\n",
       "  </thead>\n",
       "  <tbody>\n",
       "    <tr>\n",
       "      <th>0</th>\n",
       "      <td>2024-02-12</td>\n",
       "    </tr>\n",
       "    <tr>\n",
       "      <th>1</th>\n",
       "      <td>2023-03-01</td>\n",
       "    </tr>\n",
       "    <tr>\n",
       "      <th>2</th>\n",
       "      <td>2024-02-15</td>\n",
       "    </tr>\n",
       "  </tbody>\n",
       "</table>\n",
       "</div>"
      ],
      "text/plain": [
       "       Dates\n",
       "0 2024-02-12\n",
       "1 2023-03-01\n",
       "2 2024-02-15"
      ]
     },
     "metadata": {},
     "output_type": "display_data"
    },
    {
     "data": {
      "text/plain": [
       "Dates    datetime64[ns]\n",
       "dtype: object"
      ]
     },
     "metadata": {},
     "output_type": "display_data"
    }
   ],
   "source": [
    "# создадим список с датами\n",
    "date = ['2024-02-12', '2023-03-01', '2024-02-15']\n",
    "\n",
    "# преобразуем в дату\n",
    "date = pd.DataFrame({'Dates' : pd.to_datetime(date)})\n",
    "\n",
    "# взглянем на получившийся DataFrame с датой\n",
    "display(date, date.dtypes)"
   ]
  },
  {
   "cell_type": "markdown",
   "metadata": {},
   "source": [
    "### Разница между двумя датами"
   ]
  },
  {
   "cell_type": "code",
   "execution_count": 59,
   "metadata": {},
   "outputs": [
    {
     "data": {
      "text/plain": [
       "348"
      ]
     },
     "metadata": {},
     "output_type": "display_data"
    }
   ],
   "source": [
    "diff = date['Dates'][0] - date['Dates'][1]\n",
    "display(diff.days)"
   ]
  },
  {
   "cell_type": "code",
   "execution_count": 60,
   "metadata": {},
   "outputs": [
    {
     "data": {
      "text/plain": [
       "'Разница: 0 лет, 11 месяцев, 11 дней, 0 часов, 0 минут, 0 секунд'"
      ]
     },
     "metadata": {},
     "output_type": "display_data"
    }
   ],
   "source": [
    "from dateutil.relativedelta import relativedelta\n",
    "\n",
    "# Получаем даты из DataFrame\n",
    "date1 = date['Dates'][0]\n",
    "date2 = date['Dates'][1]\n",
    "\n",
    "# Вычисляем разницу с помощью relativedelta\n",
    "diff = relativedelta(date1, date2)\n",
    "\n",
    "# Выводим полную разницу\n",
    "display(f'Разница: {diff.years} лет, {diff.months} месяцев, {diff.days} дней, '\n",
    "        f'{diff.hours} часов, {diff.minutes} минут, {diff.seconds} секунд')"
   ]
  },
  {
   "cell_type": "markdown",
   "metadata": {},
   "source": [
    "### Извлечение информации из даты"
   ]
  },
  {
   "cell_type": "code",
   "execution_count": 61,
   "metadata": {},
   "outputs": [
    {
     "name": "stdout",
     "output_type": "stream",
     "text": [
      "Год: 1990\n",
      "Месяц: 12\n",
      "День: 5\n",
      "Квартал: 4\n",
      "Неделя: 49\n",
      "Час: 19\n",
      "Минута: 54\n",
      "Секунда: 23\n"
     ]
    }
   ],
   "source": [
    "# Создадим объект timestamp и извелечем из него доступную информацию\n",
    "date_1 = pd.to_datetime('1990-12-05 19:54:23')\n",
    "\n",
    "print(f'Год: {date_1.year}')\n",
    "print(f'Месяц: {date_1.month}')\n",
    "print(f'День: {date_1.day}')\n",
    "print(f'Квартал: {date_1.quarter}')\n",
    "print(f'Неделя: {date_1.week}')\n",
    "print(f'Час: {date_1.hour}')\n",
    "print(f'Минута: {date_1.minute}')\n",
    "print(f'Секунда: {date_1.second}')"
   ]
  },
  {
   "cell_type": "markdown",
   "metadata": {},
   "source": [
    "### Работа с временными интервалами pd.DateOffset( )\n"
   ]
  },
  {
   "cell_type": "code",
   "execution_count": 71,
   "metadata": {},
   "outputs": [
    {
     "data": {
      "text/html": [
       "<div>\n",
       "<style scoped>\n",
       "    .dataframe tbody tr th:only-of-type {\n",
       "        vertical-align: middle;\n",
       "    }\n",
       "\n",
       "    .dataframe tbody tr th {\n",
       "        vertical-align: top;\n",
       "    }\n",
       "\n",
       "    .dataframe thead th {\n",
       "        text-align: right;\n",
       "    }\n",
       "</style>\n",
       "<table border=\"1\" class=\"dataframe\">\n",
       "  <thead>\n",
       "    <tr style=\"text-align: right;\">\n",
       "      <th></th>\n",
       "      <th>name</th>\n",
       "      <th>city</th>\n",
       "      <th>date_of_birth</th>\n",
       "      <th>start_date</th>\n",
       "      <th>salary</th>\n",
       "      <th>department</th>\n",
       "    </tr>\n",
       "  </thead>\n",
       "  <tbody>\n",
       "    <tr>\n",
       "      <th>0</th>\n",
       "      <td>John Doe</td>\n",
       "      <td>Houston, TX</td>\n",
       "      <td>1998-11-04</td>\n",
       "      <td>2018-08-11</td>\n",
       "      <td>$65,000</td>\n",
       "      <td>Accounting</td>\n",
       "    </tr>\n",
       "    <tr>\n",
       "      <th>1</th>\n",
       "      <td>Jane Doe</td>\n",
       "      <td>San Jose, CA</td>\n",
       "      <td>1995-08-05</td>\n",
       "      <td>2017-08-24</td>\n",
       "      <td>$70,000</td>\n",
       "      <td>Field Quality</td>\n",
       "    </tr>\n",
       "    <tr>\n",
       "      <th>2</th>\n",
       "      <td>Matt smith</td>\n",
       "      <td>Dallas, TX</td>\n",
       "      <td>1996-11-25</td>\n",
       "      <td>2020-04-16</td>\n",
       "      <td>$58,500</td>\n",
       "      <td>human resources</td>\n",
       "    </tr>\n",
       "    <tr>\n",
       "      <th>3</th>\n",
       "      <td>Ashley Harris</td>\n",
       "      <td>Miami, FL</td>\n",
       "      <td>1995-01-08</td>\n",
       "      <td>2021-02-11</td>\n",
       "      <td>$49,500</td>\n",
       "      <td>accounting</td>\n",
       "    </tr>\n",
       "    <tr>\n",
       "      <th>4</th>\n",
       "      <td>Jonathan targett</td>\n",
       "      <td>Santa Clara, CA</td>\n",
       "      <td>1998-08-14</td>\n",
       "      <td>2020-09-01</td>\n",
       "      <td>$62,000</td>\n",
       "      <td>field quality</td>\n",
       "    </tr>\n",
       "  </tbody>\n",
       "</table>\n",
       "</div>"
      ],
      "text/plain": [
       "               name             city date_of_birth  start_date   salary  \\\n",
       "0          John Doe      Houston, TX    1998-11-04  2018-08-11  $65,000   \n",
       "1          Jane Doe     San Jose, CA    1995-08-05  2017-08-24  $70,000   \n",
       "2        Matt smith       Dallas, TX    1996-11-25  2020-04-16  $58,500   \n",
       "3     Ashley Harris        Miami, FL    1995-01-08  2021-02-11  $49,500   \n",
       "4  Jonathan targett  Santa Clara, CA    1998-08-14  2020-09-01  $62,000   \n",
       "\n",
       "        department  \n",
       "0       Accounting  \n",
       "1    Field Quality  \n",
       "2  human resources  \n",
       "3       accounting  \n",
       "4    field quality  "
      ]
     },
     "metadata": {},
     "output_type": "display_data"
    },
    {
     "name": "stdout",
     "output_type": "stream",
     "text": [
      "<class 'pandas.core.frame.DataFrame'>\n",
      "RangeIndex: 6 entries, 0 to 5\n",
      "Data columns (total 2 columns):\n",
      " #   Column         Non-Null Count  Dtype         \n",
      "---  ------         --------------  -----         \n",
      " 0   date_of_birth  6 non-null      datetime64[ns]\n",
      " 1   start_date     6 non-null      datetime64[ns]\n",
      "dtypes: datetime64[ns](2)\n",
      "memory usage: 228.0 bytes\n"
     ]
    },
    {
     "data": {
      "text/plain": [
       "None"
      ]
     },
     "metadata": {},
     "output_type": "display_data"
    },
    {
     "data": {
      "text/html": [
       "<div>\n",
       "<style scoped>\n",
       "    .dataframe tbody tr th:only-of-type {\n",
       "        vertical-align: middle;\n",
       "    }\n",
       "\n",
       "    .dataframe tbody tr th {\n",
       "        vertical-align: top;\n",
       "    }\n",
       "\n",
       "    .dataframe thead th {\n",
       "        text-align: right;\n",
       "    }\n",
       "</style>\n",
       "<table border=\"1\" class=\"dataframe\">\n",
       "  <thead>\n",
       "    <tr style=\"text-align: right;\">\n",
       "      <th></th>\n",
       "      <th>start_date</th>\n",
       "      <th>one_year_date</th>\n",
       "    </tr>\n",
       "  </thead>\n",
       "  <tbody>\n",
       "    <tr>\n",
       "      <th>0</th>\n",
       "      <td>2018-08-11</td>\n",
       "      <td>2019-08-11</td>\n",
       "    </tr>\n",
       "    <tr>\n",
       "      <th>1</th>\n",
       "      <td>2017-08-24</td>\n",
       "      <td>2018-08-24</td>\n",
       "    </tr>\n",
       "    <tr>\n",
       "      <th>2</th>\n",
       "      <td>2020-04-16</td>\n",
       "      <td>2021-04-16</td>\n",
       "    </tr>\n",
       "    <tr>\n",
       "      <th>3</th>\n",
       "      <td>2021-02-11</td>\n",
       "      <td>2022-02-11</td>\n",
       "    </tr>\n",
       "    <tr>\n",
       "      <th>4</th>\n",
       "      <td>2020-09-01</td>\n",
       "      <td>2021-09-01</td>\n",
       "    </tr>\n",
       "  </tbody>\n",
       "</table>\n",
       "</div>"
      ],
      "text/plain": [
       "  start_date one_year_date\n",
       "0 2018-08-11    2019-08-11\n",
       "1 2017-08-24    2018-08-24\n",
       "2 2020-04-16    2021-04-16\n",
       "3 2021-02-11    2022-02-11\n",
       "4 2020-09-01    2021-09-01"
      ]
     },
     "metadata": {},
     "output_type": "display_data"
    }
   ],
   "source": [
    "# читаем csv с информацией о сотрудниках\n",
    "staff = pd.read_csv('datasets/staff.csv')\n",
    "\n",
    "# смотрим на датасет\n",
    "display(staff.head())\n",
    "\n",
    "# преобразуем поля с датой в формате datetime \n",
    "staff = staff.astype({\n",
    "    'date_of_birth' : 'datetime64[ns]',\n",
    "    'start_date' : 'datetime64[ns]'\n",
    "})\n",
    "\n",
    "# убеждаемся, что изменили тип данных для полей\n",
    "display(staff[['date_of_birth', 'start_date']].info())\n",
    "\n",
    "# добавляем новый столбец равный дата приема сотрудника + 1 год\n",
    "staff['one_year_date'] = staff['start_date'] + pd.DateOffset(years=1)\n",
    "\n",
    "# выводим поля с датой приема и датой + 1 год\n",
    "display(staff[['start_date', 'one_year_date']].head())"
   ]
  },
  {
   "cell_type": "markdown",
   "metadata": {},
   "source": [
    "В функции ```DataOffset``` можно использовать следующие единицы измерения:  \n",
    "* years  \n",
    "* months  \n",
    "* weeks  \n",
    "* days  \n",
    "* hours  \n",
    "* minutes  \n",
    "* seconds  \n",
    "* microseconds  \n",
    "* nanoseconds  "
   ]
  },
  {
   "cell_type": "markdown",
   "metadata": {},
   "source": []
  }
 ],
 "metadata": {
  "kernelspec": {
   "display_name": "Python 3",
   "language": "python",
   "name": "python3"
  },
  "language_info": {
   "codemirror_mode": {
    "name": "ipython",
    "version": 3
   },
   "file_extension": ".py",
   "mimetype": "text/x-python",
   "name": "python",
   "nbconvert_exporter": "python",
   "pygments_lexer": "ipython3",
   "version": "3.13.0"
  }
 },
 "nbformat": 4,
 "nbformat_minor": 2
}
