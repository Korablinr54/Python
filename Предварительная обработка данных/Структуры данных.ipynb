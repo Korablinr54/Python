{
 "cells": [
  {
   "cell_type": "markdown",
   "metadata": {},
   "source": [
    "# Кортеж ( )"
   ]
  },
  {
   "cell_type": "code",
   "execution_count": 1,
   "metadata": {},
   "outputs": [],
   "source": [
    "# импортируем библиотеки\n",
    "import pandas as pd\n",
    "import numpy as np\n",
    "import collections"
   ]
  },
  {
   "cell_type": "markdown",
   "metadata": {},
   "source": [
    "**Кортеж** – это неизменяемая последовательность с упорядоченными элементами. Мы можем создать кортеж, записав последовательность значений через\n",
    "запятую."
   ]
  },
  {
   "cell_type": "code",
   "execution_count": 3,
   "metadata": {},
   "outputs": [
    {
     "data": {
      "text/plain": [
       "(1, 2, 3, 4, 5)"
      ]
     },
     "execution_count": 3,
     "metadata": {},
     "output_type": "execute_result"
    }
   ],
   "source": [
    "# создадим кортеж\n",
    "tup_1 = (1, 2, 3, 4, 5)\n",
    "tup_1"
   ]
  },
  {
   "cell_type": "code",
   "execution_count": 9,
   "metadata": {},
   "outputs": [
    {
     "data": {
      "text/plain": [
       "((1, 2, 3), (4, 5, 6), (7, 8, 9, 0), ('hello', True, '2 x 2 = 4'))"
      ]
     },
     "execution_count": 9,
     "metadata": {},
     "output_type": "execute_result"
    }
   ],
   "source": [
    "# можем создать кортже кортеже\n",
    "tup_2 = (1, 2, 3), (4, 5, 6), (7, 8, 9, 0), ('hello', True, '2 x 2 = 4')\n",
    "tup_2"
   ]
  },
  {
   "cell_type": "markdown",
   "metadata": {},
   "source": [
    "Любую последовательность или итератор можно преобразовать в кортеж"
   ]
  },
  {
   "cell_type": "code",
   "execution_count": 16,
   "metadata": {},
   "outputs": [
    {
     "name": "stdout",
     "output_type": "stream",
     "text": [
      "Список: [3, 5, 7, 9]\n",
      "\n",
      "Кортеж: (3, 5, 7, 9)\n"
     ]
    }
   ],
   "source": [
    "# создадим список\n",
    "lst_1 = [3, 5, 7, 9]\n",
    "print(f'Список: {lst_1}')\n",
    "\n",
    "# преобразуем его в кортеж\n",
    "lst_1_tup = tuple(lst_1)\n",
    "print(f'\\nКортеж: {lst_1_tup}')"
   ]
  },
  {
   "cell_type": "code",
   "execution_count": 18,
   "metadata": {},
   "outputs": [
    {
     "name": "stdout",
     "output_type": "stream",
     "text": [
      "Строка: hello world\n",
      "\n",
      "Кортеж: ('h', 'e', 'l', 'l', 'o', ' ', 'w', 'o', 'r', 'l', 'd')\n"
     ]
    }
   ],
   "source": [
    "# создадим строку для преобразования в кортже\n",
    "str_1 = 'hello world'\n",
    "print(f'Строка: {str_1}')\n",
    "\n",
    "# преобразуем строку в кортеж\n",
    "str_1_tup = tuple(str_1)\n",
    "print(f'\\nКортеж: {str_1_tup}')"
   ]
  },
  {
   "cell_type": "markdown",
   "metadata": {},
   "source": [
    "К элементам кортежа, как и  к элементам большинства других последовательностей Python, можно обращаться с помощью квадратных скобок []. Нумерация элементов последовательностей в Python начинается с нуля."
   ]
  },
  {
   "cell_type": "code",
   "execution_count": 23,
   "metadata": {},
   "outputs": [
    {
     "name": "stdout",
     "output_type": "stream",
     "text": [
      "h\n",
      "d\n",
      "('h', 'e', 'l', 'l', 'o')\n"
     ]
    }
   ],
   "source": [
    "print(str_1_tup[0]) # выведем первый символ котрежа\n",
    "print(str_1_tup[-1]) # и последний\n",
    "print(str_1_tup[0:5]) # первое слово"
   ]
  },
  {
   "cell_type": "markdown",
   "metadata": {},
   "source": [
    "# Список list [ ]"
   ]
  },
  {
   "cell_type": "markdown",
   "metadata": {},
   "source": []
  }
 ],
 "metadata": {
  "kernelspec": {
   "display_name": "Python 3",
   "language": "python",
   "name": "python3"
  },
  "language_info": {
   "codemirror_mode": {
    "name": "ipython",
    "version": 3
   },
   "file_extension": ".py",
   "mimetype": "text/x-python",
   "name": "python",
   "nbconvert_exporter": "python",
   "pygments_lexer": "ipython3",
   "version": "3.13.0"
  }
 },
 "nbformat": 4,
 "nbformat_minor": 2
}
