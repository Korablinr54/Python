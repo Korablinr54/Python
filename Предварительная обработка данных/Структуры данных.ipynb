{
 "cells": [
  {
   "cell_type": "markdown",
   "metadata": {},
   "source": [
    "# Кортеж tuple ( )"
   ]
  },
  {
   "cell_type": "code",
   "execution_count": 68,
   "metadata": {},
   "outputs": [],
   "source": [
    "# импортируем библиотеки\n",
    "import pandas as pd\n",
    "import numpy as np\n",
    "import collections"
   ]
  },
  {
   "cell_type": "markdown",
   "metadata": {},
   "source": [
    "**Кортеж** – это неизменяемая последовательность элементов. Мы можем создать кортеж, записав последовательность значений через запятую. Создаем кортеж используя круглые скобки () или функцию ```tuple()```."
   ]
  },
  {
   "cell_type": "code",
   "execution_count": 69,
   "metadata": {},
   "outputs": [
    {
     "data": {
      "text/plain": [
       "(1, 2, 3, 4, 5)"
      ]
     },
     "execution_count": 69,
     "metadata": {},
     "output_type": "execute_result"
    }
   ],
   "source": [
    "# создадим кортеж\n",
    "tup_1 = (1, 2, 3, 4, 5)\n",
    "tup_1"
   ]
  },
  {
   "cell_type": "code",
   "execution_count": 70,
   "metadata": {},
   "outputs": [
    {
     "data": {
      "text/plain": [
       "((1, 2, 3), (4, 5, 6), (7, 8, 9, 0), ('hello', True, '2 x 2 = 4'))"
      ]
     },
     "execution_count": 70,
     "metadata": {},
     "output_type": "execute_result"
    }
   ],
   "source": [
    "# можем создать кортже кортеже\n",
    "tup_2 = (1, 2, 3), (4, 5, 6), (7, 8, 9, 0), ('hello', True, '2 x 2 = 4')\n",
    "tup_2"
   ]
  },
  {
   "cell_type": "markdown",
   "metadata": {},
   "source": [
    "Любую последовательность или итератор можно преобразовать в кортеж"
   ]
  },
  {
   "cell_type": "code",
   "execution_count": 71,
   "metadata": {},
   "outputs": [
    {
     "name": "stdout",
     "output_type": "stream",
     "text": [
      "Список: [3, 5, 7, 9]\n",
      "\n",
      "Кортеж: (3, 5, 7, 9)\n"
     ]
    }
   ],
   "source": [
    "# создадим список\n",
    "lst_1 = [3, 5, 7, 9]\n",
    "print(f'Список: {lst_1}')\n",
    "\n",
    "# преобразуем его в кортеж\n",
    "lst_1_tup = tuple(lst_1)\n",
    "print(f'\\nКортеж: {lst_1_tup}')"
   ]
  },
  {
   "cell_type": "code",
   "execution_count": 72,
   "metadata": {},
   "outputs": [
    {
     "name": "stdout",
     "output_type": "stream",
     "text": [
      "Строка: hello world\n",
      "\n",
      "Кортеж: ('h', 'e', 'l', 'l', 'o', ' ', 'w', 'o', 'r', 'l', 'd')\n"
     ]
    }
   ],
   "source": [
    "# создадим строку для преобразования в кортже\n",
    "str_1 = 'hello world'\n",
    "print(f'Строка: {str_1}')\n",
    "\n",
    "# преобразуем строку в кортеж\n",
    "str_1_tup = tuple(str_1)\n",
    "print(f'\\nКортеж: {str_1_tup}')"
   ]
  },
  {
   "cell_type": "markdown",
   "metadata": {},
   "source": [
    "К элементам кортежа, как и  к элементам большинства других последовательностей Python, можно обращаться с помощью квадратных скобок []. Нумерация элементов последовательностей в Python начинается с нуля."
   ]
  },
  {
   "cell_type": "code",
   "execution_count": 73,
   "metadata": {},
   "outputs": [
    {
     "name": "stdout",
     "output_type": "stream",
     "text": [
      "h\n",
      "d\n",
      "('h', 'e', 'l', 'l', 'o')\n"
     ]
    }
   ],
   "source": [
    "print(str_1_tup[0]) # выведем первый символ котрежа\n",
    "print(str_1_tup[-1]) # и последний\n",
    "print(str_1_tup[0:5]) # первое слово"
   ]
  },
  {
   "cell_type": "markdown",
   "metadata": {},
   "source": [
    "# Список list [ ]"
   ]
  },
  {
   "cell_type": "markdown",
   "metadata": {},
   "source": [
    "**Список** – это изменяемая последовательность элементов, т.е. в отличие от кортежей содержимое списков можно изменять.  \n",
    "Список определяется с помощью квадратных скобок [] или функции ```list()```.\n"
   ]
  },
  {
   "cell_type": "code",
   "execution_count": 74,
   "metadata": {},
   "outputs": [
    {
     "name": "stdout",
     "output_type": "stream",
     "text": [
      "[1, 2, 'x', True]\n",
      "[[2, 4, 6], ['a', 'b', 'c'], [True, False]]\n",
      "[1, 2, 3, 4, 5]\n",
      "['h', 'e', 'l', 'l', 'o', ' ', 'w', 'o', 'r', 'l', 'd']\n"
     ]
    }
   ],
   "source": [
    "# создадим список \n",
    "lst_1 = [1, 2, 'x', True]\n",
    "print(lst_1)\n",
    "\n",
    "# создадим список списков\n",
    "lst_2 = [[2, 4, 6], ['a', 'b', 'c'], [True, False]]\n",
    "print(lst_2)\n",
    "\n",
    "# создадим список из кортежа\n",
    "lst_3 = list(tup_1)\n",
    "print(lst_3)\n",
    "\n",
    "# создадим список из строки\n",
    "lst_4 = list(str_1)\n",
    "print(lst_4)"
   ]
  },
  {
   "cell_type": "markdown",
   "metadata": {},
   "source": [
    "## .append() Метод добавления нового элемента в конец списка."
   ]
  },
  {
   "cell_type": "code",
   "execution_count": 75,
   "metadata": {},
   "outputs": [
    {
     "name": "stdout",
     "output_type": "stream",
     "text": [
      "[1, 2, 3, 4, 5]\n",
      "[1, 2, 3, 4, 5, 6]\n"
     ]
    }
   ],
   "source": [
    "# обратимся к существующему списку\n",
    "print(lst_3) \n",
    "\n",
    "# добавим в него новый элемент \n",
    "lst_3.append(6)\n",
    "print(lst_3)"
   ]
  },
  {
   "cell_type": "markdown",
   "metadata": {},
   "source": [
    "## .insert() и .pop() Методы добавления и удаления элементов"
   ]
  },
  {
   "cell_type": "code",
   "execution_count": 76,
   "metadata": {},
   "outputs": [
    {
     "name": "stdout",
     "output_type": "stream",
     "text": [
      "Изначальный вид списка: [8, 32, 64, 128]\n",
      "Список после вставки значения: [8, 16, 32, 64, 128]\n"
     ]
    }
   ],
   "source": [
    "# синтаксис требует указания значения и позиции\n",
    "# вставка значения в указанную позицию .insert(индекс позиции, значение)\n",
    "\n",
    "# Создадим список\n",
    "lst_6 = [8, 32, 64, 128]\n",
    "print(f'Изначальный вид списка: {lst_6}')\n",
    "\n",
    "# вставим пропущенное значение\n",
    "lst_6.insert(1, 16) # вставим значение 16 на 2 позицию\n",
    "print(f'Список после вставки значения: {lst_6}')"
   ]
  },
  {
   "cell_type": "code",
   "execution_count": 77,
   "metadata": {},
   "outputs": [
    {
     "name": "stdout",
     "output_type": "stream",
     "text": [
      "[8, 16, 32, 64]\n"
     ]
    }
   ],
   "source": [
    "# удалим последнее значение используя .pop()\n",
    "# .pop(индекс позиции)\n",
    "\n",
    "lst_6.pop(-1) # удалим значение 128 из списка\n",
    "print(lst_6)"
   ]
  },
  {
   "cell_type": "markdown",
   "metadata": {},
   "source": [
    "## .remove() метод для удаления первого найденного указанного значения из списка"
   ]
  },
  {
   "cell_type": "code",
   "execution_count": 78,
   "metadata": {},
   "outputs": [
    {
     "name": "stdout",
     "output_type": "stream",
     "text": [
      "[8, 16, 32, 64, 'Harry Potter']\n",
      "[8, 16, 32, 64]\n"
     ]
    }
   ],
   "source": [
    "# в наш список добавим новое значение\n",
    "lst_6.append('Harry Potter')\n",
    "print(lst_6)\n",
    "\n",
    "# теперь давайте удалим подстроку с именем волшебника из нашего списка\n",
    "lst_6.remove('Harry Potter')\n",
    "print(lst_6)"
   ]
  },
  {
   "cell_type": "markdown",
   "metadata": {},
   "source": [
    "## in для проверки вхождений в список"
   ]
  },
  {
   "cell_type": "code",
   "execution_count": 79,
   "metadata": {},
   "outputs": [
    {
     "name": "stdout",
     "output_type": "stream",
     "text": [
      "Входит ли 128 в список:False\n",
      "Входит ли 64 в список:True\n"
     ]
    }
   ],
   "source": [
    "print(f'Входит ли 128 в список:{128 in lst_6}')\n",
    "print(f'Входит ли 64 в список:{64 in lst_6}')"
   ]
  },
  {
   "cell_type": "code",
   "execution_count": 80,
   "metadata": {},
   "outputs": [
    {
     "name": "stdout",
     "output_type": "stream",
     "text": [
      "(1, 2, 3, 4)\n",
      "(5, 6)\n",
      "(1, 2, 3, 4, 5, 6)\n"
     ]
    }
   ],
   "source": [
    "# сложение списков и кортежей\n",
    "\n",
    "# пример сложения кортежей\n",
    "tup_3 = (1, 2, 3, 4)\n",
    "tup_4 = (5, 6)\n",
    "\n",
    "tup_add = tup_3 + tup_4\n",
    "print(tup_3)\n",
    "print(tup_4)\n",
    "print(tup_add)"
   ]
  },
  {
   "cell_type": "code",
   "execution_count": 81,
   "metadata": {},
   "outputs": [
    {
     "name": "stdout",
     "output_type": "stream",
     "text": [
      "[1, 2, 3, 4]\n",
      "[5, 6]\n",
      "[1, 2, 3, 4, 5, 6]\n"
     ]
    }
   ],
   "source": [
    "# пример сложения кортежей\n",
    "lst_7 = [1, 2, 3, 4]\n",
    "lst_8 = [5, 6]\n",
    "\n",
    "lst_add = lst_7 + lst_8\n",
    "print(lst_7)\n",
    "print(lst_8)\n",
    "print(lst_add)"
   ]
  },
  {
   "cell_type": "markdown",
   "metadata": {},
   "source": [
    "## .extend() Для добавления в конец списка нескольких значений"
   ]
  },
  {
   "cell_type": "code",
   "execution_count": 82,
   "metadata": {},
   "outputs": [
    {
     "data": {
      "text/plain": [
       "[8, 16, 32, 64, 128]"
      ]
     },
     "execution_count": 82,
     "metadata": {},
     "output_type": "execute_result"
    }
   ],
   "source": [
    "# создадим список\n",
    "lst_9 = [8, 16, 32]\n",
    "\n",
    "# дополним список новыми значениями\n",
    "lst_9.extend([64, 128])\n",
    "\n",
    "# выведем на экран\n",
    "lst_9"
   ]
  },
  {
   "cell_type": "markdown",
   "metadata": {},
   "source": [
    "## .clear() метод очистки списка"
   ]
  },
  {
   "cell_type": "code",
   "execution_count": 83,
   "metadata": {},
   "outputs": [
    {
     "name": "stdout",
     "output_type": "stream",
     "text": [
      "[]\n"
     ]
    }
   ],
   "source": [
    "lst_9.clear() # очищаем список\n",
    "print(lst_9) # выводим на экран\n",
    "\n",
    "# список пуст"
   ]
  },
  {
   "cell_type": "markdown",
   "metadata": {},
   "source": [
    "## .sort() сортировка списка без созданя нового объекта"
   ]
  },
  {
   "cell_type": "code",
   "execution_count": 84,
   "metadata": {},
   "outputs": [
    {
     "name": "stdout",
     "output_type": "stream",
     "text": [
      "[8, 16, 32, 64, 128, 256, 512]\n"
     ]
    }
   ],
   "source": [
    "# создадим список\n",
    "lst_10 = [8, 16, 32, 64, 128, 256, 512]\n",
    "print(lst_10)"
   ]
  },
  {
   "cell_type": "code",
   "execution_count": 85,
   "metadata": {},
   "outputs": [
    {
     "data": {
      "text/plain": [
       "[512, 256, 128, 64, 32, 16, 8]"
      ]
     },
     "execution_count": 85,
     "metadata": {},
     "output_type": "execute_result"
    }
   ],
   "source": [
    "# отсорируем его по убыванию\n",
    "lst_10.sort(reverse = True) # reverse = True - по убыванию / False - по возрастанию\n",
    "lst_10"
   ]
  },
  {
   "cell_type": "markdown",
   "metadata": {},
   "source": [
    "## .count() подсчет количества элементов"
   ]
  },
  {
   "cell_type": "code",
   "execution_count": 86,
   "metadata": {},
   "outputs": [
    {
     "data": {
      "text/plain": [
       "['Black',\n",
       " 'Black',\n",
       " 'Red',\n",
       " 'Black',\n",
       " 'Blue',\n",
       " 'Green',\n",
       " 'White',\n",
       " 'Yellow',\n",
       " 'Orange',\n",
       " 'Purple']"
      ]
     },
     "execution_count": 86,
     "metadata": {},
     "output_type": "execute_result"
    }
   ],
   "source": [
    "lst_11 = ['Black', 'Black', 'Red', 'Black', 'Blue', 'Green', 'White', 'Yellow', 'Orange', 'Purple']\n",
    "lst_11"
   ]
  },
  {
   "cell_type": "code",
   "execution_count": 87,
   "metadata": {},
   "outputs": [
    {
     "name": "stdout",
     "output_type": "stream",
     "text": [
      "В списке 10 элементов\n",
      "Из них уникальных 8 элементов\n",
      "Список уникальных элементов: ['Black' 'Red' 'Blue' 'Green' 'White' 'Yellow' 'Orange' 'Purple']\n",
      "\n",
      "Black     3\n",
      "Red       1\n",
      "Blue      1\n",
      "Green     1\n",
      "White     1\n",
      "Yellow    1\n",
      "Orange    1\n",
      "Purple    1\n",
      "Name: count, dtype: int64\n",
      "\n",
      "Цвет Black встречается 3 раз\n"
     ]
    }
   ],
   "source": [
    "# подсчитаем количество элементов в списке\n",
    "print(f'В списке {len(lst_11)} элементов')\n",
    "print(f'Из них уникальных {pd.Series(lst_11).nunique()} элементов')\n",
    "print(f'Список уникальных элементов: {pd.Series(lst_11).unique()}')\n",
    "\n",
    "# сгруппируем и посчитаем количество вхождений каждого уникального цвета\n",
    "agg_lst = pd.Series(lst_11).value_counts()\n",
    "print(f'\\n{agg_lst}')\n",
    "\n",
    "# проверим, что черный цвет встречается действительно 3 раза\n",
    "color = 'Black'\n",
    "print(f'\\nЦвет {color} встречается {lst_11.count(color)} раз')"
   ]
  },
  {
   "cell_type": "markdown",
   "metadata": {},
   "source": [
    "# Абсолютные и относительные частоты элементов"
   ]
  },
  {
   "cell_type": "code",
   "execution_count": 88,
   "metadata": {},
   "outputs": [
    {
     "name": "stdout",
     "output_type": "stream",
     "text": [
      "['Black', 'Black', 'Red', 'Black', 'Blue', 'Green', 'White', 'Yellow', 'Orange', 'Purple']\n"
     ]
    }
   ],
   "source": [
    "# выведем на экран содержимое нашего списка\n",
    "print(lst_11)"
   ]
  },
  {
   "cell_type": "code",
   "execution_count": 89,
   "metadata": {},
   "outputs": [
    {
     "data": {
      "text/plain": [
       "(array(['Black', 'Blue', 'Green', 'Orange', 'Purple', 'Red', 'White',\n",
       "        'Yellow'], dtype='<U6'),\n",
       " array([3, 1, 1, 1, 1, 1, 1, 1]))"
      ]
     },
     "execution_count": 89,
     "metadata": {},
     "output_type": "execute_result"
    }
   ],
   "source": [
    "# выделим абсолютные частоты элементов массива\n",
    "\n",
    "# получим массив уникальных значений и их частот\n",
    "np.unique(lst_11, return_counts=True)"
   ]
  },
  {
   "cell_type": "code",
   "execution_count": 90,
   "metadata": {},
   "outputs": [
    {
     "data": {
      "text/plain": [
       "{np.str_('Black'): np.int64(3),\n",
       " np.str_('Blue'): np.int64(1),\n",
       " np.str_('Green'): np.int64(1),\n",
       " np.str_('Orange'): np.int64(1),\n",
       " np.str_('Purple'): np.int64(1),\n",
       " np.str_('Red'): np.int64(1),\n",
       " np.str_('White'): np.int64(1),\n",
       " np.str_('Yellow'): np.int64(1)}"
      ]
     },
     "execution_count": 90,
     "metadata": {},
     "output_type": "execute_result"
    }
   ],
   "source": [
    "# создаем переменные для объединения\n",
    "uniq, counts = np.unique(lst_11, return_counts=True)\n",
    "\n",
    "\n",
    "# используем zip для объединения данных из двух массивов в один\n",
    "# dict для преобразования массива в словарь\n",
    "\n",
    "freq = dict(zip(uniq, counts)) # доля в абсолютном выражении\n",
    "freq"
   ]
  },
  {
   "cell_type": "code",
   "execution_count": 91,
   "metadata": {},
   "outputs": [
    {
     "data": {
      "text/plain": [
       "{np.str_('Black'): np.float64(30.0),\n",
       " np.str_('Blue'): np.float64(10.0),\n",
       " np.str_('Green'): np.float64(10.0),\n",
       " np.str_('Orange'): np.float64(10.0),\n",
       " np.str_('Purple'): np.float64(10.0),\n",
       " np.str_('Red'): np.float64(10.0),\n",
       " np.str_('White'): np.float64(10.0),\n",
       " np.str_('Yellow'): np.float64(10.0)}"
      ]
     },
     "execution_count": 91,
     "metadata": {},
     "output_type": "execute_result"
    }
   ],
   "source": [
    "freq_p = dict(zip(uniq, counts * 100 / len(lst_11))) # доля в относительном выражении\n",
    "freq_p"
   ]
  },
  {
   "cell_type": "code",
   "execution_count": 92,
   "metadata": {},
   "outputs": [
    {
     "data": {
      "text/plain": [
       "{'Black': 3,\n",
       " 'Red': 1,\n",
       " 'Blue': 1,\n",
       " 'Green': 1,\n",
       " 'White': 1,\n",
       " 'Yellow': 1,\n",
       " 'Orange': 1,\n",
       " 'Purple': 1}"
      ]
     },
     "execution_count": 92,
     "metadata": {},
     "output_type": "execute_result"
    }
   ],
   "source": [
    "# Кроме того, можно вычислить абсолютные частоты элементов с помощью класса Counter модуля collections.\n",
    "freq_x = dict(collections.Counter(lst_11)) \n",
    "freq_x"
   ]
  },
  {
   "cell_type": "markdown",
   "metadata": {},
   "source": [
    "# Словарь dict { }"
   ]
  },
  {
   "cell_type": "markdown",
   "metadata": {},
   "source": [
    "**Словарь** – его также называют хешем, отображением или ассоциативным массивом. Он представляет собой коллекцию пар ключ-значение. Создать словарь можно с помощью фигурных скобок {} или функцией ```dict()```, отделяя ключи от значений двоеточием."
   ]
  },
  {
   "cell_type": "markdown",
   "metadata": {},
   "source": [
    "### Создание словаря"
   ]
  },
  {
   "cell_type": "code",
   "execution_count": 93,
   "metadata": {},
   "outputs": [
    {
     "name": "stdout",
     "output_type": "stream",
     "text": [
      "{}\n",
      "{}\n"
     ]
    }
   ],
   "source": [
    "# создадим пустой словарь\n",
    "\n",
    "# с помощью фигурных скобок\n",
    "dict_1_empty = {}\n",
    "print(dict_1_empty)\n",
    "\n",
    "# с помощью функции dict()\n",
    "dict_2_empty = dict()\n",
    "print(dict_2_empty)"
   ]
  },
  {
   "cell_type": "code",
   "execution_count": 94,
   "metadata": {},
   "outputs": [
    {
     "data": {
      "text/plain": [
       "[{'name': 'Alison', 'surname': 'Wilson', 'country': 'USA'},\n",
       " {'name': 'Robert', 'surname': 'Gibson', 'country': 'Germany'},\n",
       " {'name': 'Flacky', 'surname': 'Lorenz', 'country': 'Poland'}]"
      ]
     },
     "metadata": {},
     "output_type": "display_data"
    },
    {
     "data": {
      "text/plain": [
       "({'name': 'Robert', 'surname': 'Gibson', 'country': 'Germany'},\n",
       " {'name': 'Albert', 'surname': 'Gore', 'country': 'France'})"
      ]
     },
     "metadata": {},
     "output_type": "display_data"
    }
   ],
   "source": [
    "# создадим словарь с данными также двумя способами\n",
    "\n",
    "# с помощью фигурных скобок - список словарей\n",
    "d_1 = [{\n",
    "    'name' : 'Alison',\n",
    "    'surname' : 'Wilson',\n",
    "    'country' : 'USA'},\n",
    "\n",
    "    {'name' : 'Robert',\n",
    "    'surname' : 'Gibson',\n",
    "    'country' : 'Germany'},\n",
    "\n",
    "    {'name' : 'Flacky',\n",
    "    'surname' : 'Lorenz',\n",
    "    'country' : 'Poland'}]\n",
    "\n",
    "\n",
    "display(d_1)\n",
    "\n",
    "# с помощью функции dict() - функция ожидает итерируемый объект длиной 2, пару (ключ, значение).\n",
    "d_2 = (\n",
    "    dict(name = 'Robert', \n",
    "    surname = 'Gibson', \n",
    "    country = 'Germany'),\n",
    "\n",
    "    dict(name = 'Albert', \n",
    "    surname = 'Gore', \n",
    "    country = 'France')\n",
    "\n",
    ")\n",
    "\n",
    "display(d_2)"
   ]
  },
  {
   "cell_type": "markdown",
   "metadata": {},
   "source": [
    "## .fromkeys() метод создания словаря"
   ]
  },
  {
   "cell_type": "code",
   "execution_count": 95,
   "metadata": {},
   "outputs": [
    {
     "data": {
      "text/plain": [
       "{'A': 25, 'B': 25}"
      ]
     },
     "metadata": {},
     "output_type": "display_data"
    }
   ],
   "source": [
    "d_3 = dict.fromkeys(['A', 'B'], 25)\n",
    "display(d_3)"
   ]
  },
  {
   "cell_type": "code",
   "execution_count": 96,
   "metadata": {},
   "outputs": [
    {
     "data": {
      "text/plain": [
       "{'Maximum': [55, 78, 96], 'Minimum': [1, 3, 5]}"
      ]
     },
     "metadata": {},
     "output_type": "display_data"
    }
   ],
   "source": [
    "# создадим словарь где ключи - строки, а значения - списки\n",
    "\n",
    "key_list = ('Maximum', 'Minimum')\n",
    "value_list = [[55, 78, 96], [1, 3, 5]]\n",
    "\n",
    "d_4 = dict(zip(key_list, value_list))\n",
    "\n",
    "display(d_4)"
   ]
  },
  {
   "cell_type": "markdown",
   "metadata": {},
   "source": [
    "## Доступ к элементам, присваивание, удаление, вставка"
   ]
  },
  {
   "cell_type": "code",
   "execution_count": 97,
   "metadata": {},
   "outputs": [
    {
     "data": {
      "text/plain": [
       "[{'name': 'Alison', 'surname': 'Wilson', 'country': 'USA'},\n",
       " {'name': 'Robert', 'surname': 'Gibson', 'country': 'Germany'},\n",
       " {'name': 'Flacky', 'surname': 'Lorenz', 'country': 'Poland'}]"
      ]
     },
     "metadata": {},
     "output_type": "display_data"
    }
   ],
   "source": [
    "# исходный словарь\n",
    "display(d_1)"
   ]
  },
  {
   "cell_type": "code",
   "execution_count": 98,
   "metadata": {},
   "outputs": [
    {
     "name": "stdout",
     "output_type": "stream",
     "text": [
      "Robert\n"
     ]
    }
   ],
   "source": [
    "# Доступ к элементам\n",
    "\n",
    "# Словари в Python не поддерживают индексацию по числам. Для доступа к значениям используйте ключи.\n",
    "print(d_1[1]['name'])"
   ]
  },
  {
   "cell_type": "code",
   "execution_count": 99,
   "metadata": {},
   "outputs": [
    {
     "data": {
      "text/plain": [
       "[{'name': 'Alison', 'surname': 'Wilson', 'country': 'USA'},\n",
       " {'name': 'Robert', 'surname': 'Gibson', 'country': 'Germany'},\n",
       " {'name': 'Bob', 'surname': 'Balcher', 'country': 'usa'}]"
      ]
     },
     "metadata": {},
     "output_type": "display_data"
    }
   ],
   "source": [
    "# Присваивание\n",
    "\n",
    "d_1[2]['name'] = 'Bob'\n",
    "d_1[2]['surname'] = 'Balcher'\n",
    "d_1[2]['country'] = 'usa'\n",
    "display(d_1)"
   ]
  },
  {
   "cell_type": "code",
   "execution_count": 100,
   "metadata": {},
   "outputs": [
    {
     "data": {
      "text/plain": [
       "[{'name': 'Alison', 'surname': 'Wilson', 'country': 'USA'},\n",
       " {'name': 'Robert', 'surname': 'Gibson', 'country': 'Germany'},\n",
       " {'name': 'Bob', 'surname': 'Balcher', 'country': 'usa'},\n",
       " {'name': 'x'}]"
      ]
     },
     "metadata": {},
     "output_type": "display_data"
    }
   ],
   "source": [
    "# Добавление элемента методом .append() для списка словарей\n",
    "d_1.append({'name' : 'x'})\n",
    "\n",
    "display(d_1)"
   ]
  },
  {
   "cell_type": "code",
   "execution_count": 101,
   "metadata": {},
   "outputs": [
    {
     "data": {
      "text/plain": [
       "[{'name': 'Alison', 'surname': 'Wilson', 'country': 'USA'},\n",
       " {'name': 'Robert', 'surname': 'Gibson', 'country': 'Germany'},\n",
       " {'name': 'Bob', 'surname': 'Balcher', 'country': 'usa'},\n",
       " {'name': 'x', 'surname': 'xx', 'country': 'xxx'}]"
      ]
     },
     "metadata": {},
     "output_type": "display_data"
    }
   ],
   "source": [
    "d_1[3]['surname'] = 'xx'\n",
    "d_1[3]['country'] = 'xxx'\n",
    "\n",
    "display(d_1)"
   ]
  },
  {
   "cell_type": "code",
   "execution_count": 102,
   "metadata": {},
   "outputs": [
    {
     "data": {
      "text/plain": [
       "{'a': 10, 'b': 20}"
      ]
     },
     "execution_count": 102,
     "metadata": {},
     "output_type": "execute_result"
    }
   ],
   "source": [
    "# создадим словарь\n",
    "\n",
    "d_3 = { 'a' : 10,\n",
    "        'b' : 20}\n",
    "d_3"
   ]
  },
  {
   "cell_type": "code",
   "execution_count": 103,
   "metadata": {},
   "outputs": [
    {
     "data": {
      "text/plain": [
       "{'a': 10, 'b': 20, 'c': 30}"
      ]
     },
     "execution_count": 103,
     "metadata": {},
     "output_type": "execute_result"
    }
   ],
   "source": [
    "# добавим в него новую пару\n",
    "\n",
    "d_3['c'] = 30\n",
    "d_3"
   ]
  },
  {
   "cell_type": "code",
   "execution_count": 105,
   "metadata": {},
   "outputs": [
    {
     "data": {
      "text/plain": [
       "30"
      ]
     },
     "execution_count": 105,
     "metadata": {},
     "output_type": "execute_result"
    }
   ],
   "source": [
    "# удаление праы ключ - значение из словаря\n",
    "d_3.pop('c')"
   ]
  },
  {
   "cell_type": "code",
   "execution_count": 106,
   "metadata": {},
   "outputs": [
    {
     "data": {
      "text/plain": [
       "'Уже удалено'"
      ]
     },
     "execution_count": 106,
     "metadata": {},
     "output_type": "execute_result"
    }
   ],
   "source": [
    "# удаление праы ключ - значение из словаря\n",
    "d_3.pop('c', 'Уже удалено') # второй аргумент - сообщение, в случае отсуствия ключа"
   ]
  },
  {
   "cell_type": "markdown",
   "metadata": {},
   "source": [
    "## Првоерка вхождения ключа в словарь"
   ]
  },
  {
   "cell_type": "code",
   "execution_count": null,
   "metadata": {},
   "outputs": [],
   "source": [
    "'c' in d_3"
   ]
  },
  {
   "cell_type": "markdown",
   "metadata": {},
   "source": [
    "## .keys(), .values()"
   ]
  },
  {
   "cell_type": "code",
   "execution_count": 109,
   "metadata": {},
   "outputs": [
    {
     "data": {
      "text/plain": [
       "dict_keys(['a', 'b'])"
      ]
     },
     "metadata": {},
     "output_type": "display_data"
    },
    {
     "data": {
      "text/plain": [
       "dict_values([10, 20])"
      ]
     },
     "metadata": {},
     "output_type": "display_data"
    }
   ],
   "source": [
    "# методы возвращают ключи и значения соотвественно\n",
    "display(d_3.keys())\n",
    "display(d_3.values())"
   ]
  },
  {
   "cell_type": "markdown",
   "metadata": {},
   "source": [
    "Обратите внимание, что возвращаемые объекты не являются обычными\n",
    "списками. Речь идет о динамическом представлении элементов словаря. Чтобы получить списки ключей или списки значений, нужно воспользоваться генераторами списков ```[... for ... in ....keys()]``` или ```[... for ... in ....values()]```."
   ]
  },
  {
   "cell_type": "code",
   "execution_count": 112,
   "metadata": {},
   "outputs": [
    {
     "data": {
      "text/plain": [
       "['a', 'b']"
      ]
     },
     "metadata": {},
     "output_type": "display_data"
    },
    {
     "data": {
      "text/plain": [
       "[10, 20]"
      ]
     },
     "metadata": {},
     "output_type": "display_data"
    }
   ],
   "source": [
    "# вернем список ключей и список значений словаря\n",
    "\n",
    "keys = [k for k in d_3.keys()]\n",
    "display(keys)\n",
    "\n",
    "values = [v for v in d_3.values()]\n",
    "display(values)"
   ]
  },
  {
   "cell_type": "markdown",
   "metadata": {},
   "source": [
    "## .items()"
   ]
  },
  {
   "cell_type": "code",
   "execution_count": 116,
   "metadata": {},
   "outputs": [
    {
     "name": "stdout",
     "output_type": "stream",
     "text": [
      "('b', 20)\n"
     ]
    }
   ],
   "source": [
    "# извлечем последнюю пару ключ - значение\n",
    "\n",
    "# Метод items() возвращает объект типа dict_items, который содержит все пары ключ-значение из словаря в виде кортежей.\n",
    "items = list(d_3.items()) # Преобразует объект dict_items в список кортежей.\n",
    "print(items[-1]) # Используется индекс -1 для получения последнего элемента списка."
   ]
  },
  {
   "cell_type": "code",
   "execution_count": 126,
   "metadata": {},
   "outputs": [
    {
     "name": "stdout",
     "output_type": "stream",
     "text": [
      "{'x': 1, 'y': 2}\n",
      "{'z': 3}\n",
      "{'x': 1, 'y': 2, 'z': 3}\n"
     ]
    }
   ],
   "source": [
    "# Создание первого словаря\n",
    "d_4 = {'x': 1, 'y': 2}\n",
    "print(d_4)  \n",
    "\n",
    "# Создание второго словаря\n",
    "d_5 = {'z': 3}\n",
    "print(d_5)  \n",
    "\n",
    "# Создание пустого словаря\n",
    "d_6 = {}\n",
    "\n",
    "# Объединение словарей с помощью .update()\n",
    "d_6.update(d_4)  # Добавляем пары ключ-значение из d_4 в d_6\n",
    "d_6.update(d_5)  # Добавляем пары ключ-значение из d_5 в d_6\n",
    "\n",
    "# Вывод результата\n",
    "print(d_6)  "
   ]
  },
  {
   "cell_type": "markdown",
   "metadata": {},
   "source": [
    "## .pop() / .del()"
   ]
  },
  {
   "cell_type": "code",
   "execution_count": 127,
   "metadata": {},
   "outputs": [
    {
     "name": "stdout",
     "output_type": "stream",
     "text": [
      "Удаленное значение: 2\n",
      "Словарь после удаления: {'a': 1, 'c': 3}\n"
     ]
    }
   ],
   "source": [
    "# Создаем словарь\n",
    "d = {'a': 1, 'b': 2, 'c': 3}\n",
    "\n",
    "# Удаляем элемент по ключу 'b'\n",
    "removed_value = d.pop('b')\n",
    "\n",
    "print(\"Удаленное значение:\", removed_value)  # Выведет: 2\n",
    "print(\"Словарь после удаления:\", d)        "
   ]
  },
  {
   "cell_type": "code",
   "execution_count": 128,
   "metadata": {},
   "outputs": [
    {
     "name": "stdout",
     "output_type": "stream",
     "text": [
      "Удаленное значение: 20\n",
      "Список после удаления: [10, 30, 40]\n"
     ]
    }
   ],
   "source": [
    "# Создаем список\n",
    "lst = [10, 20, 30, 40]\n",
    "\n",
    "# Удаляем элемент по индексу 1\n",
    "# Метод .pop() удаляет элемент по ключу и возвращает соответствующее ключу значение.\n",
    "removed_value = lst.pop(1)\n",
    "\n",
    "print(\"Удаленное значение:\", removed_value)  # Выведет: 20\n",
    "print(\"Список после удаления:\", lst)     "
   ]
  },
  {
   "cell_type": "code",
   "execution_count": 129,
   "metadata": {},
   "outputs": [
    {
     "name": "stdout",
     "output_type": "stream",
     "text": [
      "Список после удаления: [10, 20, 40]\n"
     ]
    }
   ],
   "source": [
    "# Создаем список\n",
    "lst = [10, 20, 30, 40]\n",
    "\n",
    "# Удаляем элемент по индексу 2\n",
    "del lst[2]\n",
    "\n",
    "print(\"Список после удаления:\", lst)  # Выведет: [10, 20, 40]"
   ]
  },
  {
   "cell_type": "markdown",
   "metadata": {},
   "source": [
    "## .popitem()"
   ]
  },
  {
   "cell_type": "code",
   "execution_count": 130,
   "metadata": {},
   "outputs": [
    {
     "name": "stdout",
     "output_type": "stream",
     "text": [
      "Удаленная пара: ('d', 12)\n",
      "Словарь после удаления: {'a': 1, 'b': 2, 'c': 10}\n"
     ]
    }
   ],
   "source": [
    "# Создаем словарь\n",
    "d = {'a': 1, 'b': 2, 'c': 10, 'd': 12}\n",
    "\n",
    "# Удаляем последний элемент с помощью .popitem()\n",
    "# Метод .popitem() удаляет последний элемент словаря и  возвращает удаленный ключ и значение.\n",
    "removed_item = d.popitem()\n",
    "\n",
    "print(\"Удаленная пара:\", removed_item)  # Выведет: ('d', 12)\n",
    "print(\"Словарь после удаления:\", d)     # Выведет: {'a': 1, 'b': 2, 'c': 10}"
   ]
  },
  {
   "cell_type": "markdown",
   "metadata": {},
   "source": [
    "## .get()"
   ]
  },
  {
   "cell_type": "code",
   "execution_count": 132,
   "metadata": {},
   "outputs": [
    {
     "name": "stdout",
     "output_type": "stream",
     "text": [
      "Значение по ключу 'c': 10\n",
      "Значение по ключу 'z': None\n",
      "Значение по ключу 'z': Ключ не найден\n"
     ]
    }
   ],
   "source": [
    "# Создаем словарь\n",
    "d = {'a': 1, 'b': 2, 'c': 10}\n",
    "\n",
    "# Получаем значение по ключу 'c'\n",
    "# Метод .get() возвращает значение словаря по ключу.\n",
    "value = d.get('c')\n",
    "print(\"Значение по ключу 'c':\", value)  # Выведет: 10\n",
    "\n",
    "# Попытка получить значение по несуществующему ключу\n",
    "value = d.get('z')\n",
    "print(\"Значение по ключу 'z':\", value)  \n",
    "\n",
    "# Попытка получить значение по несуществующему ключу с указанием значения по умолчанию\n",
    "value = d.get('z', \"Ключ не найден\")\n",
    "print(\"Значение по ключу 'z':\", value)  "
   ]
  },
  {
   "cell_type": "code",
   "execution_count": null,
   "metadata": {},
   "outputs": [],
   "source": []
  }
 ],
 "metadata": {
  "kernelspec": {
   "display_name": "Python 3",
   "language": "python",
   "name": "python3"
  },
  "language_info": {
   "codemirror_mode": {
    "name": "ipython",
    "version": 3
   },
   "file_extension": ".py",
   "mimetype": "text/x-python",
   "name": "python",
   "nbconvert_exporter": "python",
   "pygments_lexer": "ipython3",
   "version": "3.13.0"
  }
 },
 "nbformat": 4,
 "nbformat_minor": 2
}
