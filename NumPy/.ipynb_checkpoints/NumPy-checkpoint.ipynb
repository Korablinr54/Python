{
 "cells": [
  {
   "cell_type": "markdown",
   "id": "1c45ec9c-f833-4fae-b6bf-0c02f77c8101",
   "metadata": {
    "panel-layout": {
     "height": 94.8499984741211,
     "visible": true,
     "width": 100
    }
   },
   "source": [
    "# Конспект: библиотека NumPy для Python"
   ]
  },
  {
   "cell_type": "markdown",
   "id": "bb4b0836-a94b-4056-bf96-c80092a4909a",
   "metadata": {
    "panel-layout": {
     "height": 50.8125,
     "visible": true,
     "width": 100
    }
   },
   "source": [
    "## Создание одномерного массива"
   ]
  },
  {
   "cell_type": "code",
   "execution_count": 3,
   "id": "e2c1aaf5-daa4-4a1f-ac0d-c0483f23b29e",
   "metadata": {},
   "outputs": [],
   "source": [
    "import numpy as np"
   ]
  },
  {
   "cell_type": "markdown",
   "id": "606ee411-bfc6-41ea-abde-e716af13bb1c",
   "metadata": {
    "panel-layout": {
     "height": 44.07500076293945,
     "visible": true,
     "width": 100
    }
   },
   "source": [
    "### Создание одномерного массива из списка однородных элементов"
   ]
  },
  {
   "cell_type": "code",
   "execution_count": 5,
   "id": "c9108e82-f3f3-4e37-a497-adb9ad8dbec7",
   "metadata": {
    "panel-layout": {
     "height": 37.13750076293945,
     "visible": true,
     "width": 100
    }
   },
   "outputs": [
    {
     "data": {
      "text/plain": [
       "array([1, 2, 3, 4, 5])"
      ]
     },
     "metadata": {},
     "output_type": "display_data"
    },
    {
     "data": {
      "text/plain": [
       "numpy.ndarray"
      ]
     },
     "metadata": {},
     "output_type": "display_data"
    }
   ],
   "source": [
    "array = np.array([1, 2, 3, 4, 5])\n",
    "display(array, type(array))"
   ]
  },
  {
   "cell_type": "markdown",
   "id": "ca7c242c-5240-483d-af4b-35c1bb0ed5ab",
   "metadata": {
    "panel-layout": {
     "height": 64.125,
     "visible": true,
     "width": 100
    }
   },
   "source": [
    "### Создание одномерного массива из переменной, содержащей список однородных элеметов"
   ]
  },
  {
   "cell_type": "code",
   "execution_count": 7,
   "id": "4a283780-5062-468f-b684-787d2cdb9a0e",
   "metadata": {},
   "outputs": [],
   "source": [
    "list = ([1,2,3,4,5])"
   ]
  },
  {
   "cell_type": "code",
   "execution_count": 8,
   "id": "c699de48-9db1-4d75-9f6c-e389582aa527",
   "metadata": {
    "panel-layout": {
     "height": 37.13750076293945,
     "visible": true,
     "width": 100
    }
   },
   "outputs": [
    {
     "data": {
      "text/plain": [
       "array([1, 2, 3, 4, 5])"
      ]
     },
     "metadata": {},
     "output_type": "display_data"
    },
    {
     "data": {
      "text/plain": [
       "numpy.ndarray"
      ]
     },
     "metadata": {},
     "output_type": "display_data"
    }
   ],
   "source": [
    "array_from_list = np.array(list)\n",
    "display(array_from_list, type(array_from_list))"
   ]
  },
  {
   "cell_type": "markdown",
   "id": "c085ba5d-e6e2-403c-b669-10ea85acc2cb",
   "metadata": {
    "panel-layout": {
     "height": 78.20000457763672,
     "visible": true,
     "width": 100
    }
   },
   "source": [
    "### Создание одномерного массива используя диапазон значений\n",
    "numpy.arange(start, end, step)"
   ]
  },
  {
   "cell_type": "code",
   "execution_count": 10,
   "id": "7d8b3bde-19c4-4eae-901c-262a10f663f6",
   "metadata": {
    "panel-layout": {
     "height": 37.13750076293945,
     "visible": true,
     "width": 100
    }
   },
   "outputs": [
    {
     "data": {
      "text/plain": [
       "array([1, 3, 5, 7, 9])"
      ]
     },
     "metadata": {},
     "output_type": "display_data"
    },
    {
     "data": {
      "text/plain": [
       "numpy.ndarray"
      ]
     },
     "metadata": {},
     "output_type": "display_data"
    }
   ],
   "source": [
    "array_from_range = np.arange(1, 11, 2) \n",
    "display(array_from_range, type(array_from_range))"
   ]
  },
  {
   "cell_type": "markdown",
   "id": "0373bba1-3b13-4f22-af59-06061d32dac6",
   "metadata": {
    "panel-layout": {
     "height": 51.13750076293945,
     "visible": true,
     "width": 100
    }
   },
   "source": [
    "Список может хранить любиые типы данных, например, строки:"
   ]
  },
  {
   "cell_type": "code",
   "execution_count": 12,
   "id": "e5988510-5b0d-4f8f-ad44-bbb20c7b360b",
   "metadata": {
    "panel-layout": {
     "height": 37.13750076293945,
     "visible": true,
     "width": 100
    }
   },
   "outputs": [
    {
     "data": {
      "text/plain": [
       "array(['1', '2', '3', '6.5', 'Hello world!'], dtype='<U32')"
      ]
     },
     "metadata": {},
     "output_type": "display_data"
    },
    {
     "data": {
      "text/plain": [
       "numpy.ndarray"
      ]
     },
     "metadata": {},
     "output_type": "display_data"
    }
   ],
   "source": [
    "orject_array = np.array([1, 2, 3, 6.5, 'Hello world!'])\n",
    "display(orject_array, type(orject_array))"
   ]
  },
  {
   "cell_type": "markdown",
   "id": "33b073d5-8065-464d-a034-5ff788923bd5",
   "metadata": {
    "editable": true,
    "panel-layout": {
     "height": 51.13750076293945,
     "visible": true,
     "width": 100
    },
    "slideshow": {
     "slide_type": ""
    },
    "tags": []
   },
   "source": [
    "dtype='<U32' - весь массив теерь хранит в себе только строки"
   ]
  },
  {
   "cell_type": "code",
   "execution_count": 20,
   "id": "fe298348-cd5f-4acb-bb67-9104863f9d5d",
   "metadata": {},
   "outputs": [
    {
     "ename": "NameError",
     "evalue": "name 'test' is not defined",
     "output_type": "error",
     "traceback": [
      "\u001b[1;31m---------------------------------------------------------------------------\u001b[0m",
      "\u001b[1;31mNameError\u001b[0m                                 Traceback (most recent call last)",
      "Cell \u001b[1;32mIn[20], line 1\u001b[0m\n\u001b[1;32m----> 1\u001b[0m test\n",
      "\u001b[1;31mNameError\u001b[0m: name 'test' is not defined"
     ]
    }
   ],
   "source": [
    "test\n"
   ]
  },
  {
   "cell_type": "code",
   "execution_count": null,
   "id": "46077b8e-c36d-46a1-a1c3-f96304d1e155",
   "metadata": {},
   "outputs": [],
   "source": []
  }
 ],
 "metadata": {
  "kernelspec": {
   "display_name": "Python 3 (ipykernel)",
   "language": "python",
   "name": "python3"
  },
  "language_info": {
   "codemirror_mode": {
    "name": "ipython",
    "version": 3
   },
   "file_extension": ".py",
   "mimetype": "text/x-python",
   "name": "python",
   "nbconvert_exporter": "python",
   "pygments_lexer": "ipython3",
   "version": "3.12.4"
  },
  "panel-cell-order": [
   "1c45ec9c-f833-4fae-b6bf-0c02f77c8101",
   "bb4b0836-a94b-4056-bf96-c80092a4909a",
   "606ee411-bfc6-41ea-abde-e716af13bb1c",
   "c9108e82-f3f3-4e37-a497-adb9ad8dbec7",
   "ca7c242c-5240-483d-af4b-35c1bb0ed5ab",
   "c699de48-9db1-4d75-9f6c-e389582aa527",
   "c085ba5d-e6e2-403c-b669-10ea85acc2cb",
   "7d8b3bde-19c4-4eae-901c-262a10f663f6",
   "0373bba1-3b13-4f22-af59-06061d32dac6",
   "e5988510-5b0d-4f8f-ad44-bbb20c7b360b",
   "33b073d5-8065-464d-a034-5ff788923bd5"
  ]
 },
 "nbformat": 4,
 "nbformat_minor": 5
}
