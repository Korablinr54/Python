{
 "cells": [
  {
   "cell_type": "markdown",
   "id": "1c45ec9c-f833-4fae-b6bf-0c02f77c8101",
   "metadata": {},
   "source": [
    "# Обзор команд библиотеки NumPy для Python"
   ]
  },
  {
   "cell_type": "markdown",
   "id": "bb4b0836-a94b-4056-bf96-c80092a4909a",
   "metadata": {},
   "source": [
    "## Создание одномерного массива"
   ]
  },
  {
   "cell_type": "code",
   "execution_count": 6,
   "id": "e2c1aaf5-daa4-4a1f-ac0d-c0483f23b29e",
   "metadata": {},
   "outputs": [],
   "source": [
    "import numpy as np"
   ]
  },
  {
   "cell_type": "markdown",
   "id": "606ee411-bfc6-41ea-abde-e716af13bb1c",
   "metadata": {},
   "source": [
    "Создание одномерного массива из списка однородных элементов"
   ]
  },
  {
   "cell_type": "code",
   "execution_count": 26,
   "id": "c9108e82-f3f3-4e37-a497-adb9ad8dbec7",
   "metadata": {},
   "outputs": [
    {
     "data": {
      "text/plain": [
       "array([1, 2, 3, 4, 5])"
      ]
     },
     "metadata": {},
     "output_type": "display_data"
    },
    {
     "data": {
      "text/plain": [
       "numpy.ndarray"
      ]
     },
     "metadata": {},
     "output_type": "display_data"
    }
   ],
   "source": [
    "array = np.array([1, 2, 3, 4, 5])\n",
    "display(array, type(array))"
   ]
  },
  {
   "cell_type": "code",
   "execution_count": null,
   "id": "00a32483-4516-4b9e-b56b-98c425d69232",
   "metadata": {},
   "outputs": [],
   "source": [
    "Создание одномерного массива из переменной, содержащей список однородных элеметов"
   ]
  },
  {
   "cell_type": "code",
   "execution_count": 12,
   "id": "4a283780-5062-468f-b684-787d2cdb9a0e",
   "metadata": {},
   "outputs": [],
   "source": [
    "list = ([1,2,3,4,5])"
   ]
  },
  {
   "cell_type": "code",
   "execution_count": 32,
   "id": "c699de48-9db1-4d75-9f6c-e389582aa527",
   "metadata": {},
   "outputs": [
    {
     "data": {
      "text/plain": [
       "array([1, 2, 3, 4, 5])"
      ]
     },
     "metadata": {},
     "output_type": "display_data"
    },
    {
     "data": {
      "text/plain": [
       "numpy.ndarray"
      ]
     },
     "metadata": {},
     "output_type": "display_data"
    }
   ],
   "source": [
    "array_from_list = np.array(list)\n",
    "display(array_from_list, type(array_from_list))"
   ]
  },
  {
   "cell_type": "code",
   "execution_count": null,
   "id": "48ea3ed3-4776-4269-acd8-09a71b1c5619",
   "metadata": {},
   "outputs": [],
   "source": []
  }
 ],
 "metadata": {
  "kernelspec": {
   "display_name": "Python 3 (ipykernel)",
   "language": "python",
   "name": "python3"
  },
  "language_info": {
   "codemirror_mode": {
    "name": "ipython",
    "version": 3
   },
   "file_extension": ".py",
   "mimetype": "text/x-python",
   "name": "python",
   "nbconvert_exporter": "python",
   "pygments_lexer": "ipython3",
   "version": "3.12.4"
  }
 },
 "nbformat": 4,
 "nbformat_minor": 5
}
