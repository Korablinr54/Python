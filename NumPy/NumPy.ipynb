{
 "cells": [
  {
   "cell_type": "markdown",
   "id": "1c45ec9c-f833-4fae-b6bf-0c02f77c8101",
   "metadata": {
    "panel-layout": {
     "height": 94.8499984741211,
     "visible": true,
     "width": 100
    }
   },
   "source": [
    "# Конспект: библиотека NumPy для Python"
   ]
  },
  {
   "cell_type": "markdown",
   "id": "301d01dc-0a90-4494-834d-83aa81f63670",
   "metadata": {},
   "source": [
    "# Одномерные массивы"
   ]
  },
  {
   "cell_type": "markdown",
   "id": "bb4b0836-a94b-4056-bf96-c80092a4909a",
   "metadata": {
    "panel-layout": {
     "height": 50.8125,
     "visible": true,
     "width": 100
    }
   },
   "source": [
    "## Создание одномерного массива"
   ]
  },
  {
   "cell_type": "code",
   "execution_count": 1,
   "id": "e2c1aaf5-daa4-4a1f-ac0d-c0483f23b29e",
   "metadata": {},
   "outputs": [],
   "source": [
    "import numpy as np"
   ]
  },
  {
   "cell_type": "markdown",
   "id": "606ee411-bfc6-41ea-abde-e716af13bb1c",
   "metadata": {
    "panel-layout": {
     "height": 44.07500076293945,
     "visible": true,
     "width": 100
    }
   },
   "source": [
    "### Создание одномерного массива из списка однородных элементов"
   ]
  },
  {
   "cell_type": "code",
   "execution_count": 2,
   "id": "c9108e82-f3f3-4e37-a497-adb9ad8dbec7",
   "metadata": {
    "panel-layout": {
     "height": 37.13750076293945,
     "visible": true,
     "width": 100
    }
   },
   "outputs": [
    {
     "data": {
      "text/plain": [
       "array([1, 2, 3, 4, 5])"
      ]
     },
     "metadata": {},
     "output_type": "display_data"
    }
   ],
   "source": [
    "array = np.array([1, 2, 3, 4, 5])\n",
    "display(array)"
   ]
  },
  {
   "cell_type": "markdown",
   "id": "ca7c242c-5240-483d-af4b-35c1bb0ed5ab",
   "metadata": {
    "panel-layout": {
     "height": 64.125,
     "visible": true,
     "width": 100
    }
   },
   "source": [
    "### Создание одномерного массива из переменной, содержащей список однородных элеметов"
   ]
  },
  {
   "cell_type": "code",
   "execution_count": 3,
   "id": "4a283780-5062-468f-b684-787d2cdb9a0e",
   "metadata": {},
   "outputs": [],
   "source": [
    "list = ([1,2,3,4,5])"
   ]
  },
  {
   "cell_type": "code",
   "execution_count": 4,
   "id": "c699de48-9db1-4d75-9f6c-e389582aa527",
   "metadata": {
    "panel-layout": {
     "height": 37.13750076293945,
     "visible": true,
     "width": 100
    }
   },
   "outputs": [
    {
     "data": {
      "text/plain": [
       "array([1, 2, 3, 4, 5])"
      ]
     },
     "metadata": {},
     "output_type": "display_data"
    }
   ],
   "source": [
    "array_from_list = np.array(list)\n",
    "display(array_from_list)"
   ]
  },
  {
   "cell_type": "markdown",
   "id": "c085ba5d-e6e2-403c-b669-10ea85acc2cb",
   "metadata": {
    "panel-layout": {
     "height": 78.20000457763672,
     "visible": true,
     "width": 100
    }
   },
   "source": [
    "### Создание одномерного массива используя диапазон значений\n",
    "numpy.arange(start, end, step)"
   ]
  },
  {
   "cell_type": "code",
   "execution_count": 5,
   "id": "7d8b3bde-19c4-4eae-901c-262a10f663f6",
   "metadata": {
    "panel-layout": {
     "height": 37.13750076293945,
     "visible": true,
     "width": 100
    }
   },
   "outputs": [
    {
     "data": {
      "text/plain": [
       "array([1, 3, 5, 7, 9])"
      ]
     },
     "metadata": {},
     "output_type": "display_data"
    }
   ],
   "source": [
    "array_from_range = np.arange(1, 11, 2) \n",
    "display(array_from_range)"
   ]
  },
  {
   "cell_type": "markdown",
   "id": "0373bba1-3b13-4f22-af59-06061d32dac6",
   "metadata": {
    "panel-layout": {
     "height": 51.13750076293945,
     "visible": true,
     "width": 100
    }
   },
   "source": [
    "Список может хранить любиые типы данных, например, строки:"
   ]
  },
  {
   "cell_type": "code",
   "execution_count": 6,
   "id": "e5988510-5b0d-4f8f-ad44-bbb20c7b360b",
   "metadata": {
    "panel-layout": {
     "height": 37.13750076293945,
     "visible": true,
     "width": 100
    }
   },
   "outputs": [
    {
     "data": {
      "text/plain": [
       "array(['1', '2', '3', '6.5', 'Hello world!'], dtype='<U32')"
      ]
     },
     "metadata": {},
     "output_type": "display_data"
    }
   ],
   "source": [
    "orject_array = np.array([1, 2, 3, 6.5, 'Hello world!'])\n",
    "display(orject_array)"
   ]
  },
  {
   "cell_type": "markdown",
   "id": "33b073d5-8065-464d-a034-5ff788923bd5",
   "metadata": {
    "editable": true,
    "panel-layout": {
     "height": 51.13750076293945,
     "visible": true,
     "width": 100
    },
    "slideshow": {
     "slide_type": ""
    },
    "tags": []
   },
   "source": [
    "Тип данных ```dtype='<U32'``` в NumPy обозначает, что массив содержит строки (Unicode) фиксированной длины до 32 символов. Вот более подробное объяснение:  \n",
    "```<``` Указывает на порядок байтов (little-endian), что означает, что младший байт хранится первым;  \n",
    "```U``` Обозначает, что элементы массива являются строками Unicode;  \n",
    "```32``` Максимальная длина каждой строки в массиве составляет 32 символа."
   ]
  },
  {
   "cell_type": "markdown",
   "id": "b5f08cc5",
   "metadata": {},
   "source": [
    "### Создание одномерного массива используя: zeros, ones, full"
   ]
  },
  {
   "cell_type": "markdown",
   "id": "38255eb5-cc4f-42b9-a75e-95ac60b8a6d5",
   "metadata": {},
   "source": [
    "#### zeros"
   ]
  },
  {
   "cell_type": "markdown",
   "id": "926a2d6e-405a-4476-8785-7830b4f32b30",
   "metadata": {},
   "source": [
    "numpy.zeros(shape)"
   ]
  },
  {
   "cell_type": "code",
   "execution_count": 7,
   "id": "ee15e9a7-cad4-489b-b087-26b12886fde3",
   "metadata": {},
   "outputs": [
    {
     "data": {
      "text/plain": [
       "array([0., 0., 0., 0., 0.])"
      ]
     },
     "metadata": {},
     "output_type": "display_data"
    }
   ],
   "source": [
    "array_zeros = np.zeros(5)\n",
    "display(array_zeros)"
   ]
  },
  {
   "cell_type": "markdown",
   "id": "b504bfda-9bbd-4868-b135-247f0c95feec",
   "metadata": {},
   "source": [
    "#### ones"
   ]
  },
  {
   "cell_type": "markdown",
   "id": "7042a85b-2e55-4299-bbdc-2bf78017bc1f",
   "metadata": {},
   "source": [
    "numpy.ones(shape)"
   ]
  },
  {
   "cell_type": "code",
   "execution_count": 8,
   "id": "b5b993f7-b73f-4e5b-9767-07fa36fa1c31",
   "metadata": {},
   "outputs": [
    {
     "data": {
      "text/plain": [
       "array([1., 1., 1., 1., 1.])"
      ]
     },
     "metadata": {},
     "output_type": "display_data"
    }
   ],
   "source": [
    "array_ones = np.ones(5)\n",
    "display(array_ones)"
   ]
  },
  {
   "cell_type": "markdown",
   "id": "24de99df-292c-43da-add6-846b53eaa860",
   "metadata": {},
   "source": [
    "#### full"
   ]
  },
  {
   "cell_type": "markdown",
   "id": "e8c4c981-f75b-4237-a181-76eabc47d626",
   "metadata": {},
   "source": [
    "numpy.full(shape, fill_value)"
   ]
  },
  {
   "cell_type": "code",
   "execution_count": 9,
   "id": "88cba55c-99f8-4205-b6e0-e2c7ee854d28",
   "metadata": {},
   "outputs": [
    {
     "data": {
      "text/plain": [
       "array([7, 7, 7, 7, 7])"
      ]
     },
     "metadata": {},
     "output_type": "display_data"
    },
    {
     "data": {
      "text/plain": [
       "array(['x', 'x', 'x', 'x', 'x'], dtype='<U1')"
      ]
     },
     "metadata": {},
     "output_type": "display_data"
    }
   ],
   "source": [
    "array_digit = np.full(5, 7)\n",
    "display(array_digit)\n",
    "\n",
    "array_str = np.full(5, 'x')\n",
    "display(array_str)"
   ]
  },
  {
   "cell_type": "markdown",
   "id": "4e685f70-7b87-4dde-aadc-ee81a15de01b",
   "metadata": {},
   "source": [
    "Тип данных ```dtype='<U1'``` обозначает, что массив содержит строки (Unicode) фиксированной длины. В данном случае:  \n",
    "```<``` указывает на порядок байтов (little-endian);  \n",
    "```U``` обозначает, что это строки Unicode;  \n",
    "```1``` указывает максимальную длину каждой строки в массиве (в данном случае 1 символ).  "
   ]
  },
  {
   "cell_type": "markdown",
   "id": "31046b90-7744-4702-bb85-c207d2db3fba",
   "metadata": {},
   "source": [
    "## Включение данных в одномерный массив - append"
   ]
  },
  {
   "cell_type": "markdown",
   "id": "42878029-811f-433b-86e1-56170e39e037",
   "metadata": {},
   "source": [
    "```numpy.append(arr, values, axis=None)```  \n",
    "```arr``` Это входной массив, к которому вы хотите добавить значения.  \n",
    "```values``` Это значения, которые вы хотите добавить к входному массиву. Форма values должна соответствовать форме arr, за исключением указанной оси.   \n",
    "```axis``` Этот необязательный параметр указывает ось, вдоль которой будут добавлены значения. Если не указано, массивы будут преобразованы в одномерные, и значения будут добавлены как одномерный массив."
   ]
  },
  {
   "cell_type": "code",
   "execution_count": 10,
   "id": "26003d51-b64d-465e-9ab3-5949e5fdc397",
   "metadata": {},
   "outputs": [
    {
     "data": {
      "text/plain": [
       "array([1, 2, 3, 4, 5])"
      ]
     },
     "metadata": {},
     "output_type": "display_data"
    },
    {
     "data": {
      "text/plain": [
       "array([ 6,  7,  8,  9, 10])"
      ]
     },
     "metadata": {},
     "output_type": "display_data"
    }
   ],
   "source": [
    "array_example = np.array([1, 2, 3, 4, 5])\n",
    "display(array_example)\n",
    "\n",
    "append_example = np.array([6, 7, 8, 9, 10])\n",
    "display(append_example)"
   ]
  },
  {
   "cell_type": "code",
   "execution_count": 11,
   "id": "bd8a7e2c-ecc1-465e-a800-92b267c78a1e",
   "metadata": {},
   "outputs": [
    {
     "data": {
      "text/plain": [
       "array([ 1,  2,  3,  4,  5,  6,  7,  8,  9, 10])"
      ]
     },
     "metadata": {},
     "output_type": "display_data"
    }
   ],
   "source": [
    "array_example = np.append(array_example, append_example)\n",
    "display(array_example)"
   ]
  },
  {
   "cell_type": "markdown",
   "id": "01a7f291-461e-4d4b-882f-353209119bbc",
   "metadata": {},
   "source": [
    "## Арифметические операции"
   ]
  },
  {
   "cell_type": "code",
   "execution_count": 12,
   "id": "5053c347-23ad-447f-a81d-f4ab356980ca",
   "metadata": {},
   "outputs": [],
   "source": [
    "arr_1 = np.arange(0,5)\n",
    "arr_2 = np.arange(6,11)"
   ]
  },
  {
   "cell_type": "markdown",
   "id": "72958277-95f8-453f-94ea-a2dc81dc1b95",
   "metadata": {},
   "source": [
    "### Арифметические операции над одномерными массивами"
   ]
  },
  {
   "cell_type": "code",
   "execution_count": 13,
   "id": "64f68d01-b7c2-4dd5-bdab-4ec148f3a75c",
   "metadata": {},
   "outputs": [
    {
     "data": {
      "text/plain": [
       "'Исходный массив - [0 1 2 3 4]'"
      ]
     },
     "metadata": {},
     "output_type": "display_data"
    },
    {
     "data": {
      "text/plain": [
       "'Сложение: [100 101 102 103 104]'"
      ]
     },
     "metadata": {},
     "output_type": "display_data"
    },
    {
     "data": {
      "text/plain": [
       "'Вычитание: [-1  0  1  2  3]'"
      ]
     },
     "metadata": {},
     "output_type": "display_data"
    },
    {
     "data": {
      "text/plain": [
       "'Умножение: [ 0  3  6  9 12]'"
      ]
     },
     "metadata": {},
     "output_type": "display_data"
    },
    {
     "data": {
      "text/plain": [
       "'Деление: [0.  0.5 1.  1.5 2. ]'"
      ]
     },
     "metadata": {},
     "output_type": "display_data"
    },
    {
     "data": {
      "text/plain": [
       "'Возведение в степень: [ 0  1  8 27 64]'"
      ]
     },
     "metadata": {},
     "output_type": "display_data"
    }
   ],
   "source": [
    "display(f'Исходный массив - {arr_1}')\n",
    "display(f'Сложение: {arr_1 + 100}')\n",
    "display(f'Вычитание: {arr_1 - 1}')\n",
    "display(f'Умножение: {arr_1 * 3}')\n",
    "display(f'Деление: {arr_1 / 2}')\n",
    "display(f'Возведение в степень: {arr_1 ** 3}')"
   ]
  },
  {
   "cell_type": "markdown",
   "id": "7ba071fc-704d-4059-88a3-8b88e6759153",
   "metadata": {},
   "source": [
    "### Арифметические операции между одномерными массивами"
   ]
  },
  {
   "cell_type": "code",
   "execution_count": 14,
   "id": "238c123e-14a5-4c29-a874-6448bd25db32",
   "metadata": {},
   "outputs": [
    {
     "data": {
      "text/plain": [
       "array([0, 1, 2, 3, 4])"
      ]
     },
     "metadata": {},
     "output_type": "display_data"
    },
    {
     "data": {
      "text/plain": [
       "array([ 6,  7,  8,  9, 10])"
      ]
     },
     "metadata": {},
     "output_type": "display_data"
    }
   ],
   "source": [
    "display(arr_1)\n",
    "display(arr_2)"
   ]
  },
  {
   "cell_type": "code",
   "execution_count": 15,
   "id": "d6e8e26f-39c1-4efa-b51f-21b57149e6c5",
   "metadata": {},
   "outputs": [
    {
     "data": {
      "text/plain": [
       "'Сложение: [ 6  8 10 12 14]'"
      ]
     },
     "metadata": {},
     "output_type": "display_data"
    },
    {
     "data": {
      "text/plain": [
       "'Вычитание: [6 6 6 6 6]'"
      ]
     },
     "metadata": {},
     "output_type": "display_data"
    },
    {
     "data": {
      "text/plain": [
       "'Умножение: [ 0  7 16 27 40]'"
      ]
     },
     "metadata": {},
     "output_type": "display_data"
    },
    {
     "data": {
      "text/plain": [
       "'Деление: [0.         0.14285714 0.25       0.33333333 0.4       ]'"
      ]
     },
     "metadata": {},
     "output_type": "display_data"
    },
    {
     "data": {
      "text/plain": [
       "'Возведение в степень: [      0       1     256   19683 1048576]'"
      ]
     },
     "metadata": {},
     "output_type": "display_data"
    }
   ],
   "source": [
    "display(f'Сложение: {arr_1 + arr_2}')\n",
    "display(f'Вычитание: {arr_2 - arr_1}')\n",
    "display(f'Умножение: {arr_1 * arr_2}')\n",
    "display(f'Деление: {arr_1 / arr_2}')\n",
    "display(f'Возведение в степень: {arr_1 ** arr_2}')"
   ]
  },
  {
   "cell_type": "markdown",
   "id": "54b48cf3-0cc6-4041-b4e7-4133ff60f837",
   "metadata": {},
   "source": [
    "**Внимание:** для выполнения арифметических операций между массивами они должны иметь одну размерность."
   ]
  },
  {
   "cell_type": "code",
   "execution_count": 16,
   "id": "2d2778ed-60f1-47b9-821c-789a4e24a4ea",
   "metadata": {},
   "outputs": [],
   "source": [
    "arr_3 = np.array([1, 2, 3])"
   ]
  },
  {
   "cell_type": "code",
   "execution_count": 17,
   "id": "29c8efca-4ce5-4a66-afa3-1194d4a6aa79",
   "metadata": {},
   "outputs": [
    {
     "data": {
      "text/plain": [
       "array([0, 1, 2, 3, 4])"
      ]
     },
     "metadata": {},
     "output_type": "display_data"
    },
    {
     "data": {
      "text/plain": [
       "array([1, 2, 3])"
      ]
     },
     "metadata": {},
     "output_type": "display_data"
    }
   ],
   "source": [
    "display(arr_1)\n",
    "display(arr_3)"
   ]
  },
  {
   "cell_type": "code",
   "execution_count": 18,
   "id": "68ae5a9f-36de-460d-95cc-d4a5c727d991",
   "metadata": {},
   "outputs": [
    {
     "ename": "ValueError",
     "evalue": "operands could not be broadcast together with shapes (5,) (3,) ",
     "output_type": "error",
     "traceback": [
      "\u001b[1;31m---------------------------------------------------------------------------\u001b[0m",
      "\u001b[1;31mValueError\u001b[0m                                Traceback (most recent call last)",
      "Cell \u001b[1;32mIn[18], line 1\u001b[0m\n\u001b[1;32m----> 1\u001b[0m display(\u001b[38;5;124mf\u001b[39m\u001b[38;5;124m'\u001b[39m\u001b[38;5;124mСложение: \u001b[39m\u001b[38;5;132;01m{\u001b[39;00m\u001b[43marr_1\u001b[49m\u001b[38;5;250;43m \u001b[39;49m\u001b[38;5;241;43m+\u001b[39;49m\u001b[38;5;250;43m \u001b[39;49m\u001b[43marr_3\u001b[49m\u001b[38;5;132;01m}\u001b[39;00m\u001b[38;5;124m'\u001b[39m)\n\u001b[0;32m      2\u001b[0m display(\u001b[38;5;124mf\u001b[39m\u001b[38;5;124m'\u001b[39m\u001b[38;5;124mВычитание: \u001b[39m\u001b[38;5;132;01m{\u001b[39;00marr_2\u001b[38;5;250m \u001b[39m\u001b[38;5;241m-\u001b[39m\u001b[38;5;250m \u001b[39marr_3\u001b[38;5;132;01m}\u001b[39;00m\u001b[38;5;124m'\u001b[39m)\n\u001b[0;32m      3\u001b[0m display(\u001b[38;5;124mf\u001b[39m\u001b[38;5;124m'\u001b[39m\u001b[38;5;124mУмножение: \u001b[39m\u001b[38;5;132;01m{\u001b[39;00marr_1\u001b[38;5;250m \u001b[39m\u001b[38;5;241m*\u001b[39m\u001b[38;5;250m \u001b[39marr_3\u001b[38;5;132;01m}\u001b[39;00m\u001b[38;5;124m'\u001b[39m)\n",
      "\u001b[1;31mValueError\u001b[0m: operands could not be broadcast together with shapes (5,) (3,) "
     ]
    }
   ],
   "source": [
    "display(f'Сложение: {arr_1 + arr_3}')\n",
    "display(f'Вычитание: {arr_2 - arr_3}')\n",
    "display(f'Умножение: {arr_1 * arr_3}')\n",
    "display(f'Деление: {arr_1 / arr_3}')\n",
    "display(f'Возведение в степень: {arr_1 ** arr_3}')"
   ]
  },
  {
   "cell_type": "markdown",
   "id": "1f946b42-45f0-4f1b-8498-36a0d82b1bfc",
   "metadata": {},
   "source": [
    "Вы полнение будет заершено с ошибкой, т.к. размерность массива arr_1 - 5, а arr_3 всего 3."
   ]
  },
  {
   "cell_type": "markdown",
   "id": "02cc0f1e-c704-4410-806e-9f6f072b3d8d",
   "metadata": {},
   "source": [
    "## Типы данных в NumPy"
   ]
  },
  {
   "cell_type": "markdown",
   "id": "1df09b60-d792-46ff-99f1-1af55ac80861",
   "metadata": {},
   "source": [
    "### Определение типа данных в массиве"
   ]
  },
  {
   "cell_type": "code",
   "execution_count": 20,
   "id": "7063c20c-f766-4728-87cf-287498e38bb7",
   "metadata": {},
   "outputs": [
    {
     "name": "stdout",
     "output_type": "stream",
     "text": [
      "<class 'numpy.ndarray'>\n",
      "int64\n"
     ]
    }
   ],
   "source": [
    "# Создание массива\n",
    "array = np.array([1, 2, 3, 4, 5])\n",
    "\n",
    "# Проверка типа самого объекта\n",
    "print(type(array))  # Это вернет <class 'numpy.ndarray'>\n",
    "\n",
    "# Проверка типа данных элементов массива, того, что внутри объекта\n",
    "print(array.dtype)  # Это вернет dtype('int64')\n"
   ]
  },
  {
   "cell_type": "code",
   "execution_count": 24,
   "id": "16672fdf-f6a6-4dba-b582-bfbca5020e6c",
   "metadata": {},
   "outputs": [
    {
     "name": "stdout",
     "output_type": "stream",
     "text": [
      "<U1\n"
     ]
    }
   ],
   "source": [
    "# Сосздадим строковый массив\n",
    "array = np.array(['1', '2', '3'])\n",
    "\n",
    "# Првоерим, что теперь хранится в массиве\n",
    "print(array.dtype) # вернет U1 - т.е. юникод с максимальной длинной в 1 символ"
   ]
  },
  {
   "cell_type": "markdown",
   "id": "1278944a-3ad4-4648-aa1d-a77cc7970c52",
   "metadata": {},
   "source": [
    "### Изменение типа данных в массиве"
   ]
  },
  {
   "cell_type": "code",
   "execution_count": 25,
   "id": "cd235841-2732-47dd-85a6-ac160f5bc84d",
   "metadata": {},
   "outputs": [
    {
     "name": "stdout",
     "output_type": "stream",
     "text": [
      "<U1\n",
      "int64\n"
     ]
    }
   ],
   "source": [
    "# изменим типа даных в строковом массиве array на целочисленый\n",
    "\n",
    "print(array.dtype) # вернет U1, т.к пока тип данных еще строковый\n",
    "\n",
    "# указываем тип данных\n",
    "array = array.astype(int) \n",
    "\n",
    "# првоерим, что тип сменился на целочисленный, integer\n",
    "print(array.dtype) # вернет int64"
   ]
  },
  {
   "cell_type": "code",
   "execution_count": 34,
   "id": "4e9dd289-0b7c-427d-ae09-c020e3b9393d",
   "metadata": {},
   "outputs": [
    {
     "data": {
      "text/plain": [
       "array([1., 1.])"
      ]
     },
     "metadata": {},
     "output_type": "display_data"
    },
    {
     "data": {
      "text/plain": [
       "array([0., 0., 0.])"
      ]
     },
     "metadata": {},
     "output_type": "display_data"
    },
    {
     "data": {
      "text/plain": [
       "array([1., 1., 0., 0., 0.])"
      ]
     },
     "metadata": {},
     "output_type": "display_data"
    },
    {
     "data": {
      "text/plain": [
       "array([ True,  True, False, False, False])"
      ]
     },
     "metadata": {},
     "output_type": "display_data"
    }
   ],
   "source": [
    "# Работа с типом данных boolean\n",
    "\n",
    "# создадим массив с парой единиц\n",
    "ones = np.ones(2)\n",
    "display(ones) # вернет array([1., 1.])\n",
    "\n",
    "# создаем массив с нулями\n",
    "zeros = np.zeros(3)\n",
    "display(zeros) # вернет array([0., 0., 0.])\n",
    "\n",
    "# объединим в один массив\n",
    "array_bool = np.append(ones, zeros)\n",
    "display(array_bool) # вернет оба массива вместе array([1., 1., 0., 0., 0.]) \n",
    "\n",
    "# изменим теперь тип данных на boolean\n",
    "array_bool = array_bool.astype(bool)\n",
    "display(array_bool) # вернет array([ True,  True, False, False, False]) "
   ]
  },
  {
   "cell_type": "code",
   "execution_count": null,
   "id": "57dffe21-6e21-4a5f-befe-96de8537d0d7",
   "metadata": {},
   "outputs": [],
   "source": []
  }
 ],
 "metadata": {
  "kernelspec": {
   "display_name": "Python 3 (ipykernel)",
   "language": "python",
   "name": "python3"
  },
  "language_info": {
   "codemirror_mode": {
    "name": "ipython",
    "version": 3
   },
   "file_extension": ".py",
   "mimetype": "text/x-python",
   "name": "python",
   "nbconvert_exporter": "python",
   "pygments_lexer": "ipython3",
   "version": "3.13.0"
  },
  "panel-cell-order": [
   "1c45ec9c-f833-4fae-b6bf-0c02f77c8101",
   "bb4b0836-a94b-4056-bf96-c80092a4909a",
   "606ee411-bfc6-41ea-abde-e716af13bb1c",
   "c9108e82-f3f3-4e37-a497-adb9ad8dbec7",
   "ca7c242c-5240-483d-af4b-35c1bb0ed5ab",
   "c699de48-9db1-4d75-9f6c-e389582aa527",
   "c085ba5d-e6e2-403c-b669-10ea85acc2cb",
   "7d8b3bde-19c4-4eae-901c-262a10f663f6",
   "0373bba1-3b13-4f22-af59-06061d32dac6",
   "e5988510-5b0d-4f8f-ad44-bbb20c7b360b",
   "33b073d5-8065-464d-a034-5ff788923bd5"
  ]
 },
 "nbformat": 4,
 "nbformat_minor": 5
}
