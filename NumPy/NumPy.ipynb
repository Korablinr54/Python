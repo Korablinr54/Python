{
 "cells": [
  {
   "cell_type": "markdown",
   "id": "1c45ec9c-f833-4fae-b6bf-0c02f77c8101",
   "metadata": {
    "panel-layout": {
     "height": 94.8499984741211,
     "visible": true,
     "width": 100
    }
   },
   "source": [
    "# Конспект: библиотека NumPy для Python"
   ]
  },
  {
   "cell_type": "markdown",
   "id": "301d01dc-0a90-4494-834d-83aa81f63670",
   "metadata": {},
   "source": [
    "# Одномерные массивы"
   ]
  },
  {
   "cell_type": "markdown",
   "id": "bb4b0836-a94b-4056-bf96-c80092a4909a",
   "metadata": {
    "panel-layout": {
     "height": 50.8125,
     "visible": true,
     "width": 100
    }
   },
   "source": [
    "## Создание одномерного массива"
   ]
  },
  {
   "cell_type": "code",
   "execution_count": 1,
   "id": "e2c1aaf5-daa4-4a1f-ac0d-c0483f23b29e",
   "metadata": {},
   "outputs": [],
   "source": [
    "import numpy as np"
   ]
  },
  {
   "cell_type": "markdown",
   "id": "606ee411-bfc6-41ea-abde-e716af13bb1c",
   "metadata": {
    "panel-layout": {
     "height": 44.07500076293945,
     "visible": true,
     "width": 100
    }
   },
   "source": [
    "### Создание одномерного массива из списка"
   ]
  },
  {
   "cell_type": "code",
   "execution_count": 2,
   "id": "c9108e82-f3f3-4e37-a497-adb9ad8dbec7",
   "metadata": {
    "panel-layout": {
     "height": 37.13750076293945,
     "visible": true,
     "width": 100
    }
   },
   "outputs": [
    {
     "data": {
      "text/plain": [
       "array([1, 2, 3, 4, 5])"
      ]
     },
     "metadata": {},
     "output_type": "display_data"
    }
   ],
   "source": [
    "array = np.array([1, 2, 3, 4, 5])\n",
    "display(array)"
   ]
  },
  {
   "cell_type": "markdown",
   "id": "ca7c242c-5240-483d-af4b-35c1bb0ed5ab",
   "metadata": {
    "panel-layout": {
     "height": 64.125,
     "visible": true,
     "width": 100
    }
   },
   "source": [
    "### Создание одномерного массива из переменной"
   ]
  },
  {
   "cell_type": "code",
   "execution_count": 3,
   "id": "4a283780-5062-468f-b684-787d2cdb9a0e",
   "metadata": {},
   "outputs": [],
   "source": [
    "list = ([1,2,3,4,5])"
   ]
  },
  {
   "cell_type": "code",
   "execution_count": 4,
   "id": "c699de48-9db1-4d75-9f6c-e389582aa527",
   "metadata": {
    "panel-layout": {
     "height": 37.13750076293945,
     "visible": true,
     "width": 100
    }
   },
   "outputs": [
    {
     "data": {
      "text/plain": [
       "array([1, 2, 3, 4, 5])"
      ]
     },
     "metadata": {},
     "output_type": "display_data"
    }
   ],
   "source": [
    "array_from_list = np.array(list)\n",
    "display(array_from_list)"
   ]
  },
  {
   "cell_type": "markdown",
   "id": "c085ba5d-e6e2-403c-b669-10ea85acc2cb",
   "metadata": {
    "panel-layout": {
     "height": 78.20000457763672,
     "visible": true,
     "width": 100
    }
   },
   "source": [
    "### Создание одномерного массива используя диапазон значений\n",
    "numpy.arange(start, end, step)"
   ]
  },
  {
   "cell_type": "code",
   "execution_count": 5,
   "id": "7d8b3bde-19c4-4eae-901c-262a10f663f6",
   "metadata": {
    "panel-layout": {
     "height": 37.13750076293945,
     "visible": true,
     "width": 100
    }
   },
   "outputs": [
    {
     "data": {
      "text/plain": [
       "array([1, 3, 5, 7, 9])"
      ]
     },
     "metadata": {},
     "output_type": "display_data"
    }
   ],
   "source": [
    "array_from_range = np.arange(1, 11, 2) \n",
    "display(array_from_range)"
   ]
  },
  {
   "cell_type": "markdown",
   "id": "0373bba1-3b13-4f22-af59-06061d32dac6",
   "metadata": {
    "panel-layout": {
     "height": 51.13750076293945,
     "visible": true,
     "width": 100
    }
   },
   "source": [
    "Список может хранить любиые типы данных, например, строки:"
   ]
  },
  {
   "cell_type": "code",
   "execution_count": 6,
   "id": "e5988510-5b0d-4f8f-ad44-bbb20c7b360b",
   "metadata": {
    "panel-layout": {
     "height": 37.13750076293945,
     "visible": true,
     "width": 100
    }
   },
   "outputs": [
    {
     "data": {
      "text/plain": [
       "array(['1', '2', '3', '6.5', 'Hello world!'], dtype='<U32')"
      ]
     },
     "metadata": {},
     "output_type": "display_data"
    }
   ],
   "source": [
    "orject_array = np.array([1, 2, 3, 6.5, 'Hello world!'])\n",
    "display(orject_array)"
   ]
  },
  {
   "cell_type": "markdown",
   "id": "33b073d5-8065-464d-a034-5ff788923bd5",
   "metadata": {
    "editable": true,
    "panel-layout": {
     "height": 51.13750076293945,
     "visible": true,
     "width": 100
    },
    "slideshow": {
     "slide_type": ""
    },
    "tags": []
   },
   "source": [
    "Тип данных ```dtype='<U32'``` в NumPy обозначает, что массив содержит строки (Unicode) фиксированной длины до 32 символов. Вот более подробное объяснение:  \n",
    "```<``` Указывает на порядок байтов (little-endian), что означает, что младший байт хранится первым;  \n",
    "```U``` Обозначает, что элементы массива являются строками Unicode;  \n",
    "```32``` Максимальная длина каждой строки в массиве составляет 32 символа."
   ]
  },
  {
   "cell_type": "markdown",
   "id": "b5f08cc5",
   "metadata": {},
   "source": [
    "### Создание одномерного массива используя: zeros, ones, full"
   ]
  },
  {
   "cell_type": "markdown",
   "id": "38255eb5-cc4f-42b9-a75e-95ac60b8a6d5",
   "metadata": {},
   "source": [
    "#### zeros"
   ]
  },
  {
   "cell_type": "markdown",
   "id": "926a2d6e-405a-4476-8785-7830b4f32b30",
   "metadata": {},
   "source": [
    "numpy.zeros(shape)"
   ]
  },
  {
   "cell_type": "code",
   "execution_count": 7,
   "id": "ee15e9a7-cad4-489b-b087-26b12886fde3",
   "metadata": {},
   "outputs": [
    {
     "data": {
      "text/plain": [
       "array([0., 0., 0., 0., 0.])"
      ]
     },
     "metadata": {},
     "output_type": "display_data"
    }
   ],
   "source": [
    "array_zeros = np.zeros(5)\n",
    "display(array_zeros)"
   ]
  },
  {
   "cell_type": "markdown",
   "id": "b504bfda-9bbd-4868-b135-247f0c95feec",
   "metadata": {},
   "source": [
    "#### ones"
   ]
  },
  {
   "cell_type": "markdown",
   "id": "7042a85b-2e55-4299-bbdc-2bf78017bc1f",
   "metadata": {},
   "source": [
    "numpy.ones(shape)"
   ]
  },
  {
   "cell_type": "code",
   "execution_count": 8,
   "id": "b5b993f7-b73f-4e5b-9767-07fa36fa1c31",
   "metadata": {},
   "outputs": [
    {
     "data": {
      "text/plain": [
       "array([1., 1., 1., 1., 1.])"
      ]
     },
     "metadata": {},
     "output_type": "display_data"
    }
   ],
   "source": [
    "array_ones = np.ones(5)\n",
    "display(array_ones)"
   ]
  },
  {
   "cell_type": "markdown",
   "id": "24de99df-292c-43da-add6-846b53eaa860",
   "metadata": {},
   "source": [
    "#### full"
   ]
  },
  {
   "cell_type": "markdown",
   "id": "e8c4c981-f75b-4237-a181-76eabc47d626",
   "metadata": {},
   "source": [
    "numpy.full(shape, fill_value)"
   ]
  },
  {
   "cell_type": "code",
   "execution_count": 9,
   "id": "88cba55c-99f8-4205-b6e0-e2c7ee854d28",
   "metadata": {},
   "outputs": [
    {
     "data": {
      "text/plain": [
       "array([7, 7, 7, 7, 7])"
      ]
     },
     "metadata": {},
     "output_type": "display_data"
    },
    {
     "data": {
      "text/plain": [
       "array(['x', 'x', 'x', 'x', 'x'], dtype='<U1')"
      ]
     },
     "metadata": {},
     "output_type": "display_data"
    }
   ],
   "source": [
    "array_digit = np.full(5, 7)\n",
    "display(array_digit)\n",
    "\n",
    "array_str = np.full(5, 'x')\n",
    "display(array_str)"
   ]
  },
  {
   "cell_type": "markdown",
   "id": "4e685f70-7b87-4dde-aadc-ee81a15de01b",
   "metadata": {},
   "source": [
    "Тип данных ```dtype='<U1'``` обозначает, что массив содержит строки (Unicode) фиксированной длины. В данном случае:  \n",
    "```<``` указывает на порядок байтов (little-endian);  \n",
    "```U``` обозначает, что это строки Unicode;  \n",
    "```1``` указывает максимальную длину каждой строки в массиве (в данном случае 1 символ).  "
   ]
  },
  {
   "cell_type": "markdown",
   "id": "31046b90-7744-4702-bb85-c207d2db3fba",
   "metadata": {},
   "source": [
    "## Включение данных в одномерный массив - append"
   ]
  },
  {
   "cell_type": "markdown",
   "id": "42878029-811f-433b-86e1-56170e39e037",
   "metadata": {},
   "source": [
    "```numpy.append(arr, values, axis=None)```  \n",
    "```arr``` Это входной массив, к которому вы хотите добавить значения.  \n",
    "```values``` Это значения, которые вы хотите добавить к входному массиву. Форма values должна соответствовать форме arr, за исключением указанной оси.   \n",
    "```axis``` Этот необязательный параметр указывает ось, вдоль которой будут добавлены значения. Если не указано, массивы будут преобразованы в одномерные, и значения будут добавлены как одномерный массив."
   ]
  },
  {
   "cell_type": "code",
   "execution_count": 10,
   "id": "26003d51-b64d-465e-9ab3-5949e5fdc397",
   "metadata": {},
   "outputs": [
    {
     "data": {
      "text/plain": [
       "array([1, 2, 3, 4, 5])"
      ]
     },
     "metadata": {},
     "output_type": "display_data"
    },
    {
     "data": {
      "text/plain": [
       "array([ 6,  7,  8,  9, 10])"
      ]
     },
     "metadata": {},
     "output_type": "display_data"
    }
   ],
   "source": [
    "array_example = np.array([1, 2, 3, 4, 5])\n",
    "display(array_example)\n",
    "\n",
    "append_example = np.array([6, 7, 8, 9, 10])\n",
    "display(append_example)"
   ]
  },
  {
   "cell_type": "code",
   "execution_count": 11,
   "id": "bd8a7e2c-ecc1-465e-a800-92b267c78a1e",
   "metadata": {},
   "outputs": [
    {
     "data": {
      "text/plain": [
       "array([ 1,  2,  3,  4,  5,  6,  7,  8,  9, 10])"
      ]
     },
     "metadata": {},
     "output_type": "display_data"
    }
   ],
   "source": [
    "array_example = np.append(array_example, append_example)\n",
    "display(array_example)"
   ]
  },
  {
   "cell_type": "markdown",
   "id": "01a7f291-461e-4d4b-882f-353209119bbc",
   "metadata": {},
   "source": [
    "## Арифметические операции"
   ]
  },
  {
   "cell_type": "code",
   "execution_count": 12,
   "id": "5053c347-23ad-447f-a81d-f4ab356980ca",
   "metadata": {},
   "outputs": [],
   "source": [
    "arr_1 = np.arange(0,5)\n",
    "arr_2 = np.arange(6,11)"
   ]
  },
  {
   "cell_type": "markdown",
   "id": "72958277-95f8-453f-94ea-a2dc81dc1b95",
   "metadata": {},
   "source": [
    "### Арифметические операции над одномерными массивами"
   ]
  },
  {
   "cell_type": "code",
   "execution_count": 13,
   "id": "64f68d01-b7c2-4dd5-bdab-4ec148f3a75c",
   "metadata": {},
   "outputs": [
    {
     "data": {
      "text/plain": [
       "'Исходный массив - [0 1 2 3 4]'"
      ]
     },
     "metadata": {},
     "output_type": "display_data"
    },
    {
     "data": {
      "text/plain": [
       "'Сложение: [100 101 102 103 104]'"
      ]
     },
     "metadata": {},
     "output_type": "display_data"
    },
    {
     "data": {
      "text/plain": [
       "'Вычитание: [-1  0  1  2  3]'"
      ]
     },
     "metadata": {},
     "output_type": "display_data"
    },
    {
     "data": {
      "text/plain": [
       "'Умножение: [ 0  3  6  9 12]'"
      ]
     },
     "metadata": {},
     "output_type": "display_data"
    },
    {
     "data": {
      "text/plain": [
       "'Деление: [0.  0.5 1.  1.5 2. ]'"
      ]
     },
     "metadata": {},
     "output_type": "display_data"
    },
    {
     "data": {
      "text/plain": [
       "'Возведение в степень: [ 0  1  8 27 64]'"
      ]
     },
     "metadata": {},
     "output_type": "display_data"
    }
   ],
   "source": [
    "display(f'Исходный массив - {arr_1}')\n",
    "display(f'Сложение: {arr_1 + 100}')\n",
    "display(f'Вычитание: {arr_1 - 1}')\n",
    "display(f'Умножение: {arr_1 * 3}')\n",
    "display(f'Деление: {arr_1 / 2}')\n",
    "display(f'Возведение в степень: {arr_1 ** 3}')"
   ]
  },
  {
   "cell_type": "markdown",
   "id": "7ba071fc-704d-4059-88a3-8b88e6759153",
   "metadata": {},
   "source": [
    "### Арифметические операции между одномерными массивами"
   ]
  },
  {
   "cell_type": "code",
   "execution_count": null,
   "id": "238c123e-14a5-4c29-a874-6448bd25db32",
   "metadata": {},
   "outputs": [
    {
     "data": {
      "text/plain": [
       "array([0, 1, 2, 3, 4])"
      ]
     },
     "metadata": {},
     "output_type": "display_data"
    },
    {
     "data": {
      "text/plain": [
       "array([ 6,  7,  8,  9, 10])"
      ]
     },
     "metadata": {},
     "output_type": "display_data"
    }
   ],
   "source": [
    "display(arr_1)\n",
    "display(arr_2)"
   ]
  },
  {
   "cell_type": "code",
   "execution_count": 15,
   "id": "d6e8e26f-39c1-4efa-b51f-21b57149e6c5",
   "metadata": {},
   "outputs": [
    {
     "data": {
      "text/plain": [
       "'Сложение: [ 6  8 10 12 14]'"
      ]
     },
     "metadata": {},
     "output_type": "display_data"
    },
    {
     "data": {
      "text/plain": [
       "'Вычитание: [6 6 6 6 6]'"
      ]
     },
     "metadata": {},
     "output_type": "display_data"
    },
    {
     "data": {
      "text/plain": [
       "'Умножение: [ 0  7 16 27 40]'"
      ]
     },
     "metadata": {},
     "output_type": "display_data"
    },
    {
     "data": {
      "text/plain": [
       "'Деление: [0.         0.14285714 0.25       0.33333333 0.4       ]'"
      ]
     },
     "metadata": {},
     "output_type": "display_data"
    },
    {
     "data": {
      "text/plain": [
       "'Возведение в степень: [      0       1     256   19683 1048576]'"
      ]
     },
     "metadata": {},
     "output_type": "display_data"
    }
   ],
   "source": [
    "display(f'Сложение: {arr_1 + arr_2}')\n",
    "display(f'Вычитание: {arr_2 - arr_1}')\n",
    "display(f'Умножение: {arr_1 * arr_2}')\n",
    "display(f'Деление: {arr_1 / arr_2}')\n",
    "display(f'Возведение в степень: {arr_1 ** arr_2}')"
   ]
  },
  {
   "cell_type": "markdown",
   "id": "54b48cf3-0cc6-4041-b4e7-4133ff60f837",
   "metadata": {},
   "source": [
    "**Внимание:** для выполнения арифметических операций между массивами они должны иметь одну размерность."
   ]
  },
  {
   "cell_type": "code",
   "execution_count": 16,
   "id": "2d2778ed-60f1-47b9-821c-789a4e24a4ea",
   "metadata": {},
   "outputs": [],
   "source": [
    "arr_3 = np.array([1, 2, 3])"
   ]
  },
  {
   "cell_type": "code",
   "execution_count": 17,
   "id": "29c8efca-4ce5-4a66-afa3-1194d4a6aa79",
   "metadata": {},
   "outputs": [
    {
     "data": {
      "text/plain": [
       "array([0, 1, 2, 3, 4])"
      ]
     },
     "metadata": {},
     "output_type": "display_data"
    },
    {
     "data": {
      "text/plain": [
       "array([1, 2, 3])"
      ]
     },
     "metadata": {},
     "output_type": "display_data"
    }
   ],
   "source": [
    "display(arr_1)\n",
    "display(arr_3)"
   ]
  },
  {
   "cell_type": "markdown",
   "id": "7147ee23-7e74-4dcb-b079-2bc8e10b0050",
   "metadata": {},
   "source": [
    "display(f'Сложение: {arr_1 + arr_3}')\n",
    "display(f'Вычитание: {arr_2 - arr_3}')\n",
    "display(f'Умножение: {arr_1 * arr_3}')\n",
    "display(f'Деление: {arr_1 / arr_3}')\n",
    "display(f'Возведение в степень: {arr_1 ** arr_3}')"
   ]
  },
  {
   "cell_type": "markdown",
   "id": "1f946b42-45f0-4f1b-8498-36a0d82b1bfc",
   "metadata": {},
   "source": [
    "Вы полнение будет заершено с ошибкой, т.к. размерность массива arr_1 - 5, а arr_3 всего 3."
   ]
  },
  {
   "cell_type": "markdown",
   "id": "02cc0f1e-c704-4410-806e-9f6f072b3d8d",
   "metadata": {},
   "source": [
    "# Типы данных в NumPy"
   ]
  },
  {
   "cell_type": "markdown",
   "id": "1df09b60-d792-46ff-99f1-1af55ac80861",
   "metadata": {},
   "source": [
    "### Определение типа данных в массиве"
   ]
  },
  {
   "cell_type": "code",
   "execution_count": 18,
   "id": "7063c20c-f766-4728-87cf-287498e38bb7",
   "metadata": {},
   "outputs": [
    {
     "name": "stdout",
     "output_type": "stream",
     "text": [
      "<class 'numpy.ndarray'>\n",
      "int64\n"
     ]
    }
   ],
   "source": [
    "# Создание массива\n",
    "array = np.array([1, 2, 3, 4, 5])\n",
    "\n",
    "# Проверка типа самого объекта\n",
    "print(type(array))  # Это вернет <class 'numpy.ndarray'>\n",
    "\n",
    "# Проверка типа данных элементов массива, того, что внутри объекта\n",
    "print(array.dtype)  # Это вернет dtype('int64')\n"
   ]
  },
  {
   "cell_type": "code",
   "execution_count": 19,
   "id": "16672fdf-f6a6-4dba-b582-bfbca5020e6c",
   "metadata": {},
   "outputs": [
    {
     "name": "stdout",
     "output_type": "stream",
     "text": [
      "<U1\n"
     ]
    }
   ],
   "source": [
    "# Сосздадим строковый массив\n",
    "array = np.array(['1', '2', '3'])\n",
    "\n",
    "# Првоерим, что теперь хранится в массиве\n",
    "print(array.dtype) # вернет U1 - т.е. юникод с максимальной длинной в 1 символ"
   ]
  },
  {
   "cell_type": "markdown",
   "id": "1278944a-3ad4-4648-aa1d-a77cc7970c52",
   "metadata": {},
   "source": [
    "### Изменение типа данных в массиве"
   ]
  },
  {
   "cell_type": "code",
   "execution_count": 20,
   "id": "cd235841-2732-47dd-85a6-ac160f5bc84d",
   "metadata": {},
   "outputs": [
    {
     "name": "stdout",
     "output_type": "stream",
     "text": [
      "<U1\n",
      "int64\n"
     ]
    }
   ],
   "source": [
    "# изменим типа даных в строковом массиве array на целочисленый\n",
    "\n",
    "print(array.dtype) # вернет U1, т.к пока тип данных еще строковый\n",
    "\n",
    "# указываем тип данных\n",
    "array = array.astype(int) \n",
    "\n",
    "# првоерим, что тип сменился на целочисленный, integer\n",
    "print(array.dtype) # вернет int64"
   ]
  },
  {
   "cell_type": "code",
   "execution_count": 21,
   "id": "4e9dd289-0b7c-427d-ae09-c020e3b9393d",
   "metadata": {},
   "outputs": [
    {
     "data": {
      "text/plain": [
       "array([1., 1.])"
      ]
     },
     "metadata": {},
     "output_type": "display_data"
    },
    {
     "data": {
      "text/plain": [
       "array([0., 0., 0.])"
      ]
     },
     "metadata": {},
     "output_type": "display_data"
    },
    {
     "data": {
      "text/plain": [
       "array([1., 1., 0., 0., 0.])"
      ]
     },
     "metadata": {},
     "output_type": "display_data"
    },
    {
     "data": {
      "text/plain": [
       "array([ True,  True, False, False, False])"
      ]
     },
     "metadata": {},
     "output_type": "display_data"
    }
   ],
   "source": [
    "# Работа с типом данных boolean\n",
    "\n",
    "# создадим массив с парой единиц\n",
    "ones = np.ones(2)\n",
    "display(ones) # вернет array([1., 1.])\n",
    "\n",
    "# создаем массив с нулями\n",
    "zeros = np.zeros(3)\n",
    "display(zeros) # вернет array([0., 0., 0.])\n",
    "\n",
    "# объединим в один массив\n",
    "array_bool = np.append(ones, zeros)\n",
    "display(array_bool) # вернет оба массива вместе array([1., 1., 0., 0., 0.]) \n",
    "\n",
    "# изменим теперь тип данных на boolean\n",
    "array_bool = array_bool.astype(bool)\n",
    "display(array_bool) # вернет array([ True,  True, False, False, False]) "
   ]
  },
  {
   "cell_type": "markdown",
   "id": "b04b704e-e6ab-4160-8067-f4ff6ddc4e8a",
   "metadata": {},
   "source": [
    "# Многомерные массивы"
   ]
  },
  {
   "cell_type": "markdown",
   "id": "cfb64871-5084-46a9-aca7-14be3156c16e",
   "metadata": {},
   "source": [
    "## Создание многомерного массива из переменной"
   ]
  },
  {
   "cell_type": "code",
   "execution_count": 22,
   "id": "497884fa-49e8-4256-b053-cec395399c09",
   "metadata": {},
   "outputs": [
    {
     "name": "stdout",
     "output_type": "stream",
     "text": [
      "Содержимое объекта: [[1, 2, 3], [4, 5, 6]], \n",
      "Тип объекта: <class 'list'>\n",
      "\n",
      "Массив:\n",
      " [['1' '2' '3']\n",
      " ['4' '5' '6']]\n",
      "Тип данных в массиве: <U21\n"
     ]
    }
   ],
   "source": [
    "\n",
    "# Создадим объект python (список списков)\n",
    "lst_1 = ([[1, 2, 3,], [4, 5, 6]])\n",
    "\n",
    "# выведем результат\n",
    "print(f'Содержимое объекта: {lst_1}, \\n'\n",
    "      f'Тип объекта: {type(lst_1)}')\n",
    "\n",
    "# создадим массив из переменной\n",
    "arr_1 = np.array(lst_1).astype(str) # для практики изменим тип данных на str\n",
    "\n",
    "# выведем результат\n",
    "print('\\nМассив:\\n', arr_1)\n",
    "print('Тип данных в массиве:', arr_1.dtype)"
   ]
  },
  {
   "cell_type": "markdown",
   "id": "ce487606-2140-4c04-92ba-e7c92dc4ed46",
   "metadata": {},
   "source": [
    "## Создание многомерного массива в ручном режиме"
   ]
  },
  {
   "cell_type": "markdown",
   "id": "4b1cef1d-226e-4142-a508-b398c893cd5b",
   "metadata": {},
   "source": [
    "# создадим многомерный массив в ручном режиме\n",
    "arr_2 = np.array([\n",
    "                    [1.5, 2.3, 1.1],     # 3 элемента\n",
    "                    [3.1, 2.5, 11, 6.1]  # 4 элемента\n",
    "])"
   ]
  },
  {
   "cell_type": "markdown",
   "id": "a3b5b93c-2f83-4f60-9af6-09d604cd9f90",
   "metadata": {},
   "source": [
    "Такой скрипт вернет нам ошибку. Причина заключается в том, что все уровни многомерного массива должны содержать равное число элеметонв. Исправим наш код."
   ]
  },
  {
   "cell_type": "code",
   "execution_count": 23,
   "id": "1c143832-503b-42d2-8014-7dbbf4287ad5",
   "metadata": {},
   "outputs": [
    {
     "data": {
      "text/plain": [
       "array([[ 1.5,  2.3,  1.1],\n",
       "       [ 3.1,  2.5, 11. ]])"
      ]
     },
     "metadata": {},
     "output_type": "display_data"
    },
    {
     "data": {
      "text/plain": [
       "dtype('float64')"
      ]
     },
     "metadata": {},
     "output_type": "display_data"
    }
   ],
   "source": [
    "arr_2 = np.array([\n",
    "                    [1.5, 2.3, 1.1],     \n",
    "                    [3.1, 2.5, 11] \n",
    "])\n",
    "\n",
    "display(arr_2, arr_2.dtype)"
   ]
  },
  {
   "cell_type": "markdown",
   "id": "d6e2a875-f044-4ff2-87ae-344580b5e5be",
   "metadata": {},
   "source": [
    "При изменении типа данных у числел с плавающей точкой на целочисленный тип, значения будут округлены вниз, т.е. дробная часть будет просто отсечена."
   ]
  },
  {
   "cell_type": "code",
   "execution_count": 24,
   "id": "a2bbf93f-2e17-44cf-a9f0-ec089129a4df",
   "metadata": {},
   "outputs": [
    {
     "data": {
      "text/plain": [
       "array([[ 1,  2,  1],\n",
       "       [ 3,  2, 11]])"
      ]
     },
     "metadata": {},
     "output_type": "display_data"
    },
    {
     "data": {
      "text/plain": [
       "dtype('int64')"
      ]
     },
     "metadata": {},
     "output_type": "display_data"
    }
   ],
   "source": [
    "arr_3 = arr_2.astype(int)\n",
    "display(arr_3, arr_3.dtype)"
   ]
  },
  {
   "cell_type": "markdown",
   "id": "15322f27-1b80-4d9c-8801-30a6f1691286",
   "metadata": {},
   "source": [
    "## Создание многомерных массивов: zeros, ones, full, range"
   ]
  },
  {
   "cell_type": "markdown",
   "id": "3199e014-37b0-4126-aaa9-3519dd25e6dd",
   "metadata": {},
   "source": [
    "### zeros"
   ]
  },
  {
   "cell_type": "code",
   "execution_count": 25,
   "id": "2be347bc-0650-4564-a0dd-3434ac7a343a",
   "metadata": {},
   "outputs": [
    {
     "data": {
      "text/plain": [
       "array([[0, 0, 0],\n",
       "       [0, 0, 0]])"
      ]
     },
     "metadata": {},
     "output_type": "display_data"
    },
    {
     "data": {
      "text/plain": [
       "dtype('int64')"
      ]
     },
     "metadata": {},
     "output_type": "display_data"
    }
   ],
   "source": [
    "# создадим многомерный массив\n",
    "arr_zeros = np.zeros([2, 3]).astype(int) # изменим тип данных на int\n",
    "    # где 2 и 3 - размерность массив\n",
    "       # 2 - число элементов массива\n",
    "       # количество значений внутри элемента массива\n",
    "\n",
    "display(arr_zeros, arr_zeros.dtype)"
   ]
  },
  {
   "cell_type": "markdown",
   "id": "1d7ca367-386a-41d6-92e5-0f01c0b128ad",
   "metadata": {},
   "source": [
    "### ones"
   ]
  },
  {
   "cell_type": "code",
   "execution_count": 26,
   "id": "398c637e-f048-4ab1-aa85-0301ae5589ba",
   "metadata": {},
   "outputs": [
    {
     "data": {
      "text/plain": [
       "array([[1, 1, 1],\n",
       "       [1, 1, 1]])"
      ]
     },
     "metadata": {},
     "output_type": "display_data"
    },
    {
     "data": {
      "text/plain": [
       "dtype('int64')"
      ]
     },
     "metadata": {},
     "output_type": "display_data"
    }
   ],
   "source": [
    "# логика аналогична zeros\n",
    "arr_ones = np.ones([2, 3]).astype(int)\n",
    "display(arr_ones, arr_ones.dtype)"
   ]
  },
  {
   "cell_type": "markdown",
   "id": "80e10762-e014-43e8-97e6-d9934b0c497e",
   "metadata": {},
   "source": [
    "### full"
   ]
  },
  {
   "cell_type": "code",
   "execution_count": 27,
   "id": "09ea2273-8728-4990-a4b5-5bd24422fdb2",
   "metadata": {},
   "outputs": [
    {
     "data": {
      "text/plain": [
       "array([[7, 7, 7, 7, 7],\n",
       "       [7, 7, 7, 7, 7],\n",
       "       [7, 7, 7, 7, 7]])"
      ]
     },
     "metadata": {},
     "output_type": "display_data"
    },
    {
     "data": {
      "text/plain": [
       "dtype('int64')"
      ]
     },
     "metadata": {},
     "output_type": "display_data"
    }
   ],
   "source": [
    "# создадим многомерный массив используя full\n",
    "arr_full = np.full([3, 5], 7)\n",
    "    # где 3 и 5 это значения размерности массива\n",
    "        # 7 - то, чем мы заполняем этот массив\n",
    "\n",
    "display(arr_full, arr_full.dtype)"
   ]
  },
  {
   "cell_type": "markdown",
   "id": "1aa49da2-2e9e-4940-8990-f8a68d615f05",
   "metadata": {},
   "source": [
    "### range"
   ]
  },
  {
   "cell_type": "code",
   "execution_count": 28,
   "id": "c30577d9-5a4a-4c27-aa0c-b054d81f63c7",
   "metadata": {},
   "outputs": [
    {
     "name": "stdout",
     "output_type": "stream",
     "text": [
      "Изначальфынй массив\n",
      "[0 1 2 3 4 5 6 7 8 9] \n",
      "\n",
      "Измененный массив\n",
      "[[0 1 2 3 4]\n",
      " [5 6 7 8 9]]\n"
     ]
    }
   ],
   "source": [
    "# создаем одномерный массив используя range\n",
    "arr_range = np.array(range(10))\n",
    "print(f'Изначальфынй массив')\n",
    "print(f'{arr_range} \\n')\n",
    "\n",
    "# меняем форму массива используя reshape\n",
    "arr_reshape = arr_range.reshape(2, 5)\n",
    "print(f'Измененный массив')\n",
    "print(arr_reshape)"
   ]
  },
  {
   "cell_type": "markdown",
   "id": "1877a690-94fa-4ae6-9777-4f6332776811",
   "metadata": {},
   "source": [
    "## Арифметические операции"
   ]
  },
  {
   "cell_type": "markdown",
   "id": "c4a4251e-2e2e-479a-a830-1f6b32bb50ce",
   "metadata": {},
   "source": [
    "### Арифметические операции над многомерными массивам"
   ]
  },
  {
   "cell_type": "code",
   "execution_count": 29,
   "id": "29c302c0-45c5-44bc-b823-53eacf4960a6",
   "metadata": {},
   "outputs": [
    {
     "name": "stdout",
     "output_type": "stream",
     "text": [
      "[[0 1 2]\n",
      " [3 4 5]\n",
      " [6 7 8]]\n",
      "Тип данных в массиве: int64\n",
      "\n",
      " Умножение\n",
      "[[ 0  2  4]\n",
      " [ 6  8 10]\n",
      " [12 14 16]]\n",
      "\n",
      " Деление\n",
      "[[0.  0.5 1. ]\n",
      " [1.5 2.  2.5]\n",
      " [3.  3.5 4. ]]\n",
      "При делении тип автоматически преобразуется во float\n",
      "\n",
      " Сложение\n",
      "[[100 101 102]\n",
      " [103 104 105]\n",
      " [106 107 108]]\n",
      "\n",
      " Вычитание\n",
      "[[-0.33  0.67  1.67]\n",
      " [ 2.67  3.67  4.67]\n",
      " [ 5.67  6.67  7.67]]\n",
      "\n",
      " Возведение в степень\n",
      "[[  0   1   8]\n",
      " [ 27  64 125]\n",
      " [216 343 512]]\n"
     ]
    }
   ],
   "source": [
    "\n",
    "# создадим массив\n",
    "array_test = np.array(range(9)).reshape(3, 3)\n",
    "\n",
    "# взглянем на результат\n",
    "print(array_test)\n",
    "print(f'Тип данных в массиве: {array_test.dtype}')\n",
    "\n",
    "# выполним стандартные арифметические дедйствия над многомерным массивом\n",
    "print(f'\\n Умножение')\n",
    "print(f'{array_test * 2}')\n",
    "\n",
    "print(f'\\n Деление')\n",
    "print(f'{array_test / 2}')\n",
    "print('При делении тип автоматически преобразуется во float')\n",
    "\n",
    "print(f'\\n Сложение')\n",
    "print(f'{array_test + 100}')\n",
    "\n",
    "print(f'\\n Вычитание')\n",
    "print(f'{array_test - 0.33}')\n",
    "\n",
    "print(f'\\n Возведение в степень')\n",
    "print(f'{array_test ** 3}')"
   ]
  },
  {
   "cell_type": "markdown",
   "id": "654459ae-731f-4d11-a1c2-0f35a31566be",
   "metadata": {},
   "source": [
    "### Арифметические операции между многомерными массивами"
   ]
  },
  {
   "cell_type": "code",
   "execution_count": 30,
   "id": "9a049b98-2df9-42f2-8f2b-1d85207108f5",
   "metadata": {},
   "outputs": [
    {
     "name": "stdout",
     "output_type": "stream",
     "text": [
      "Массив а: \n",
      " [[100 100 100 100 100]\n",
      " [100 100 100 100 100]\n",
      " [100 100 100 100 100]]\n",
      "\n",
      " Массив b: \n",
      " [[33 33 33 33 33]\n",
      " [33 33 33 33 33]\n",
      " [33 33 33 33 33]]\n"
     ]
    }
   ],
   "source": [
    "# для демонстарции создадим два массива\n",
    "arr_a = np.full((3, 5), 100)\n",
    "arr_b = np.full((3, 5), 33)\n",
    "\n",
    "# выведем наши массивы\n",
    "print(f'Массив а: \\n {arr_a}')\n",
    "print(f'\\n Массив b: \\n {arr_b}')"
   ]
  },
  {
   "cell_type": "markdown",
   "id": "905bacd0-ee56-40bf-9987-0c5866f99919",
   "metadata": {},
   "source": [
    "***Внимание!*** Для выполнения арифметических действий между массивами, их размерность должна быть одинаковой."
   ]
  },
  {
   "cell_type": "code",
   "execution_count": 31,
   "id": "9d7cef5f-3e6f-4aed-9fb2-addbbe06499d",
   "metadata": {},
   "outputs": [
    {
     "name": "stdout",
     "output_type": "stream",
     "text": [
      "\n",
      " Умножение\n",
      "[[3300 3300 3300 3300 3300]\n",
      " [3300 3300 3300 3300 3300]\n",
      " [3300 3300 3300 3300 3300]]\n",
      "\n",
      " Деление\n",
      "[[3.03030303 3.03030303 3.03030303 3.03030303 3.03030303]\n",
      " [3.03030303 3.03030303 3.03030303 3.03030303 3.03030303]\n",
      " [3.03030303 3.03030303 3.03030303 3.03030303 3.03030303]]\n",
      "При делении тип автоматически преобразуется во float\n",
      "\n",
      " Сложение\n",
      "[[133 133 133 133 133]\n",
      " [133 133 133 133 133]\n",
      " [133 133 133 133 133]]\n",
      "\n",
      " Вычитание\n",
      "[[67 67 67 67 67]\n",
      " [67 67 67 67 67]\n",
      " [67 67 67 67 67]]\n",
      "\n",
      " Возведение в степень\n",
      "[[-8877898876394183551 -8877898876394183551 -8877898876394183551\n",
      "  -8877898876394183551 -8877898876394183551]\n",
      " [-8877898876394183551 -8877898876394183551 -8877898876394183551\n",
      "  -8877898876394183551 -8877898876394183551]\n",
      " [-8877898876394183551 -8877898876394183551 -8877898876394183551\n",
      "  -8877898876394183551 -8877898876394183551]]\n"
     ]
    }
   ],
   "source": [
    "# выполним традиционные арифметические действия\n",
    "\n",
    "print(f'\\n Умножение')\n",
    "print(f'{arr_a * arr_b}')\n",
    "\n",
    "print(f'\\n Деление')\n",
    "print(f'{arr_a / arr_b}')\n",
    "print('При делении тип автоматически преобразуется во float')\n",
    "\n",
    "print(f'\\n Сложение')\n",
    "print(f'{arr_a + arr_b}')\n",
    "\n",
    "print(f'\\n Вычитание')\n",
    "print(f'{arr_a - arr_b}')\n",
    "\n",
    "print(f'\\n Возведение в степень')\n",
    "print(f'{arr_b ** arr_a}')"
   ]
  },
  {
   "cell_type": "code",
   "execution_count": 32,
   "id": "1bf33751-9d2c-4b8a-834d-141810de523d",
   "metadata": {},
   "outputs": [
    {
     "name": "stdout",
     "output_type": "stream",
     "text": [
      "Результат использования append c добавлением .reshape(): \n",
      " [100 100 100 100 100 100 100 100 100 100 100 100 100 100 100  33  33  33\n",
      "  33  33  33  33  33  33  33  33  33  33  33  33]\n",
      "\n",
      " Результат использования append c добавлением .reshape(): \n",
      " [[100 100 100 100 100]\n",
      " [100 100 100 100 100]\n",
      " [100 100 100 100 100]\n",
      " [ 33  33  33  33  33]\n",
      " [ 33  33  33  33  33]\n",
      " [ 33  33  33  33  33]]\n",
      "\n",
      " Трехмерный массив: \n",
      " [[[100 100 100 100 100]\n",
      "  [100 100 100 100 100]\n",
      "  [100 100 100 100 100]]\n",
      "\n",
      " [[ 33  33  33  33  33]\n",
      "  [ 33  33  33  33  33]\n",
      "  [ 33  33  33  33  33]]]\n"
     ]
    }
   ],
   "source": [
    "# Можно также использовать append\n",
    "arr_new = np.append(arr_a, arr_b)\n",
    "print(f'Результат использования append c добавлением .reshape(): \\n {arr_new}')\n",
    "\n",
    "arr_new = np.append(arr_a, arr_b).reshape(6,5)\n",
    "print(f'\\n Результат использования append c добавлением .reshape(): \\n {arr_new}')\n",
    "\n",
    "# или создать трехмерную матрицу (тензор), массив с отдельными матрицами\n",
    "arr_c = np.array([arr_a, arr_b])\n",
    "print(f'\\n Трехмерный массив: \\n {arr_c}')"
   ]
  },
  {
   "cell_type": "markdown",
   "id": "096efdc1-34ed-4db6-8f34-a5d274b01d0e",
   "metadata": {},
   "source": [
    "***Важно*** размерность массивов внутри матрицы должна быть одинаковой!"
   ]
  },
  {
   "cell_type": "markdown",
   "id": "c7d40970-17ca-4ed2-b330-d8a92341e6bf",
   "metadata": {},
   "source": [
    "# Работа с формой массива"
   ]
  },
  {
   "cell_type": "markdown",
   "id": "a940426a-9a8f-4945-8aee-4f5dbb9df9f2",
   "metadata": {},
   "source": [
    "## Определение формы массива"
   ]
  },
  {
   "cell_type": "code",
   "execution_count": 33,
   "id": "6d119fa1-24e1-403f-9ec7-d9a625ac619d",
   "metadata": {},
   "outputs": [
    {
     "name": "stdout",
     "output_type": "stream",
     "text": [
      "Трехмерный массив с двумя матрицами\n",
      "[[[100 100 100 100 100]\n",
      "  [100 100 100 100 100]\n",
      "  [100 100 100 100 100]]\n",
      "\n",
      " [[ 33  33  33  33  33]\n",
      "  [ 33  33  33  33  33]\n",
      "  [ 33  33  33  33  33]]]\n",
      "\n",
      " Функция len() покажет нам лишь количество матриц в массиве: 2\n",
      "\n",
      " Мы могли бы обратиться к элементру массива: 3\n",
      "\n",
      " Или обратиться к конкретной строке матрицы: 5\n",
      "\n",
      " Но гораздо лучше использовать атрибут класса shape: (2, 3, 5)\n",
      " 2 - матрицы\n",
      " 3 - строки в каждой матрице\n",
      " 5 - элементов внутри каждой строки\n"
     ]
    }
   ],
   "source": [
    "print('Трехмерный массив с двумя матрицами')\n",
    "print(arr_c)\n",
    "print(f'\\n Функция len() покажет нам лишь количество матриц в массиве: {len(arr_c)}')\n",
    "print(f'\\n Мы могли бы обратиться к элементру массива: {len(arr_c[0])}')\n",
    "print(f'\\n Или обратиться к конкретной строке матрицы: {len(arr_c[0][0])}')\n",
    "print(f'\\n Но гораздо лучше использовать атрибут класса shape: {arr_c.shape}')\n",
    "print(f' 2 - матрицы')\n",
    "print(f' 3 - строки в каждой матрице')\n",
    "print(f' 5 - элементов внутри каждой строки')"
   ]
  },
  {
   "cell_type": "markdown",
   "id": "59c39685-1bb8-41f1-ab2f-5c3187c44630",
   "metadata": {},
   "source": [
    "## Определение количества значений внутри массива"
   ]
  },
  {
   "cell_type": "markdown",
   "id": "aa8ecf22-860c-453b-b2d1-bde07fb0b108",
   "metadata": {},
   "source": [
    "Зная, как найти форму массива мы могли бы просто перемножить значения всех измерений"
   ]
  },
  {
   "cell_type": "code",
   "execution_count": 34,
   "id": "a288820c-4009-4655-909d-8e97a141b9d2",
   "metadata": {},
   "outputs": [
    {
     "name": "stdout",
     "output_type": "stream",
     "text": [
      "30\n"
     ]
    }
   ],
   "source": [
    "print(arr_c.shape[0] * arr_c.shape[1] * arr_c.shape[2])"
   ]
  },
  {
   "cell_type": "code",
   "execution_count": 35,
   "id": "5dd5f6e5-5114-4823-a638-65bdf3e1c17a",
   "metadata": {},
   "outputs": [
    {
     "name": "stdout",
     "output_type": "stream",
     "text": [
      "Количество измерений в массиве: 3\n"
     ]
    }
   ],
   "source": [
    "# кстати, получить количество измерений можно используя ndim\n",
    "print(f'Количество измерений в массиве: {arr_c.ndim}')"
   ]
  },
  {
   "cell_type": "code",
   "execution_count": 36,
   "id": "c76d4e62-d6fa-41fc-add7-09279c0cd4dc",
   "metadata": {
    "scrolled": true
   },
   "outputs": [
    {
     "name": "stdout",
     "output_type": "stream",
     "text": [
      "Количество измерений в массиве: 30\n"
     ]
    }
   ],
   "source": [
    "# самый верный способо это .size\n",
    "print(f'Количество измерений в массиве: {arr_c.size}')"
   ]
  },
  {
   "cell_type": "markdown",
   "id": "455a5836-ee1e-440a-8aff-68cfc9cb1fdc",
   "metadata": {},
   "source": [
    "## Изменение формы массива .reshape(strings, values)"
   ]
  },
  {
   "cell_type": "code",
   "execution_count": 37,
   "id": "f0afd8c1-81f1-489b-96bf-7dab0a51e507",
   "metadata": {},
   "outputs": [
    {
     "name": "stdout",
     "output_type": "stream",
     "text": [
      "Трехмерный массив, 2 матрицы по 1 строке с 4 элементами: \n",
      " [[[1 2 3 4]]\n",
      "\n",
      " [[5 6 7 8]]]\n",
      "\n",
      " Двумерный массив, 4 строки по 2 элемента: \n",
      " [[1 2]\n",
      " [3 4]\n",
      " [5 6]\n",
      " [7 8]]\n",
      "\n",
      " Одномерный массив: \n",
      " [1 2 3 4 5 6 7 8]\n",
      "\n",
      " Самый простой способо использовать array.flatten(): \n",
      " [1 2 3 4 5 6 7 8]\n"
     ]
    }
   ],
   "source": [
    "# Создадим двумерный массив\n",
    "f1 = np.array([1, 2, 3, 4])\n",
    "f2 = np.array([5, 6, 7, 8])\n",
    "\n",
    "# Трехмерный массив\n",
    "array_f1 = np.array([[f1], [f2]])\n",
    "print(f'Трехмерный массив, 2 матрицы по 1 строке с 4 элементами: \\n {array_f1}')\n",
    "\n",
    "# 4 строки по 2 элемента (двухмерная матрица)\n",
    "array_f2 = np.array([[f1], [f2]]).reshape(4, 2)\n",
    "print(f'\\n Двумерный массив, 4 строки по 2 элемента: \\n {array_f2}')\n",
    "\n",
    "# одномерный массив через .size\n",
    "array_f3 = np.array([[f1], [f2]]).reshape(np.array([[f1], [f2]]).size)\n",
    "print(f'\\n Одномерный массив: \\n {array_f3}')\n",
    "\n",
    "# одномерный массив через .flatten\n",
    "print(f'\\n Самый простой способо использовать array.flatten(): \\n {array_f1.flatten()}')"
   ]
  },
  {
   "cell_type": "markdown",
   "id": "d25cc407-f754-4c92-8d35-3adff7cdc824",
   "metadata": {},
   "source": [
    "## Транспонирование массива"
   ]
  },
  {
   "cell_type": "code",
   "execution_count": 38,
   "id": "15e6c835-d73a-4e80-9dc0-393f442087f1",
   "metadata": {},
   "outputs": [
    {
     "name": "stdout",
     "output_type": "stream",
     "text": [
      "Матрица имеет исходный вид: \n",
      " [[1 1 1 1 1]\n",
      " [0 0 0 0 0]]\n",
      "\n",
      " Матрица транспонирована \n",
      " [[1 0]\n",
      " [1 0]\n",
      " [1 0]\n",
      " [1 0]\n",
      " [1 0]]\n",
      "\n",
      " Матрица транспонирована \n",
      " [[1 0]\n",
      " [1 0]\n",
      " [1 0]\n",
      " [1 0]\n",
      " [1 0]]\n",
      "\n",
      " Одномерный массив имеет исходный вид: \n",
      " [1 2 3 4 5]\n",
      "\n",
      " Одномерный массив не был транспонирован \n",
      " [1 2 3 4 5]\n"
     ]
    }
   ],
   "source": [
    "\n",
    "# cоздадим двумерную матрицу\n",
    "m_1 = np.array([[1, 1, 1, 1, 1], [0, 0, 0, 0, 0]])\n",
    "print(f'Матрица имеет исходный вид: \\n {m_1}')\n",
    "\n",
    "# выполним транспониромание\n",
    "m_t = np.transpose(m_1)\n",
    "print(f'\\n Матрица транспонирована \\n {m_t}')\n",
    "\n",
    "# есть более простой способ чем писать np.transpose. Просто использвать метод класса .Т\n",
    "m_t_1 = m_1.T\n",
    "print(f'\\n Матрица транспонирована \\n {m_t_1}')\n",
    "\n",
    "# не столь интуитивно работает с одномерными массивами как это может показаться\n",
    "m_2 = np.array([1, 2, 3, 4, 5])\n",
    "print(f'\\n Одномерный массив имеет исходный вид: \\n {m_2}')\n",
    "\n",
    "m_t_2 = m_2.T\n",
    "print(f'\\n Одномерный массив не был транспонирован \\n {m_t_2}')"
   ]
  },
  {
   "cell_type": "markdown",
   "id": "8c898cf1-86e9-4759-ab1e-7f6d2eb978ef",
   "metadata": {},
   "source": [
    "# Маски"
   ]
  },
  {
   "cell_type": "markdown",
   "id": "5d7eb964-ffac-4e05-bbb6-bfb960558dbb",
   "metadata": {},
   "source": [
    "В библиотеке NumPy маски используются для фильтрации массивов на основе заданных условий. Это делается с помощью булевых масок — массивов, состоящих из значений True и False, которые соответствуют элементам исходного массива. Элементы, для которых маска имеет значение True, включаются в итоговый массив, тогда как элементы с False отбрасываются."
   ]
  },
  {
   "cell_type": "code",
   "execution_count": 39,
   "id": "bbd3cc66-5766-4a65-8c47-8b3e15269986",
   "metadata": {},
   "outputs": [
    {
     "name": "stdout",
     "output_type": "stream",
     "text": [
      "Массив_1: \n",
      "[ 1  2  3  4  5  6  7  8  9 10]\n",
      "Массив_2: \n",
      "[10  9  8  7  6  5  4  3  2  1]\n"
     ]
    }
   ],
   "source": [
    "# создадим массивы\n",
    "array_1 = np.array([1, 2, 3, 4, 5, 6, 7, 8, 9, 10])\n",
    "array_2 = array_1[::-1] # развернем существующий массив в обратном порядке\n",
    "\n",
    "# выведем результаты\n",
    "print(f'Массив_1: \\n{array_1}')\n",
    "print(f'Массив_2: \\n{array_2}')"
   ]
  },
  {
   "cell_type": "markdown",
   "id": "90b995cc-6a69-4816-a062-1feea44fc91b",
   "metadata": {},
   "source": [
    "## boolean маска"
   ]
  },
  {
   "cell_type": "code",
   "execution_count": 40,
   "id": "4f0f854d-6e1e-492e-80f3-d3dcb84ebe12",
   "metadata": {},
   "outputs": [
    {
     "name": "stdout",
     "output_type": "stream",
     "text": [
      "Булевая маска: \n",
      "[False False False False False  True  True  True  True  True]\n",
      "\n",
      "Вернулись значения, которые соотвествуют условию True булевой маски: \n",
      "[ 6  7  8  9 10]\n"
     ]
    }
   ],
   "source": [
    "# создадим булевую маску\n",
    "boolean_mask = array_1 >= array_2 # количество элемнтов при сравнении должно бьыть одинаковым\n",
    "\n",
    "# продемонстрируем результат\n",
    "print(f'Булевая маска: \\n{boolean_mask}')\n",
    "\n",
    "# применим булевую маску к массиву и посмотрим на результат\n",
    "print(f'\\nВернулись значения, которые соотвествуют условию True булевой маски: \\n{array_1[boolean_mask]}')"
   ]
  },
  {
   "cell_type": "markdown",
   "id": "3cfdd3c4-875f-44c7-bb68-a23aba1a8002",
   "metadata": {},
   "source": [
    "## compare маска"
   ]
  },
  {
   "cell_type": "code",
   "execution_count": 41,
   "id": "d2a02044-013f-457a-8953-518553f2a494",
   "metadata": {},
   "outputs": [
    {
     "name": "stdout",
     "output_type": "stream",
     "text": [
      "Маска сравнения: \n",
      "[False False False False False  True  True  True  True  True]\n",
      "\n",
      "Вернулись значения, которые соотвествуют условию >= 6 для массива array_1: \n",
      "[ 6  7  8  9 10]\n"
     ]
    }
   ],
   "source": [
    "# создадим маску сравнения\n",
    "compare_mask = array_1 >= 6\n",
    "\n",
    "# применим к массиву и посмотрим на результат\n",
    "print(f'Маска сравнения: \\n{compare_mask}')\n",
    "\n",
    "# применим маску сравнения к массиву и посмотрим на результат\n",
    "print(f'\\nВернулись значения, которые соотвествуют условию >= 6 для массива array_1: \\n{array_1[compare_mask]}')"
   ]
  },
  {
   "cell_type": "markdown",
   "id": "6ee974a9-2635-4ddd-ad08-7cc41b891cd2",
   "metadata": {},
   "source": [
    "## маска отрицания"
   ]
  },
  {
   "cell_type": "code",
   "execution_count": 42,
   "id": "2f65668f-5629-4185-ba32-bd33142497e7",
   "metadata": {},
   "outputs": [
    {
     "name": "stdout",
     "output_type": "stream",
     "text": [
      "Первый массив:\n",
      "[ 1  2  3  4  5  6  7  8  9 10]\n",
      "\n",
      "Второй массив:\n",
      "[ 1  3  3  5  5  6  7  7  8 10]\n",
      "\n",
      "Маска:\n",
      "[False  True False  True False False False  True  True False]\n",
      "[2 4 8 9]\n"
     ]
    }
   ],
   "source": [
    "# для демонстрации создадим еще один массив\n",
    "array_3 = np.array([1, 3, 3, 5, 5, 6, 7, 7, 8, 10])\n",
    "\n",
    "# отобразим массивы\n",
    "print(f'Первый массив:\\n{array_1}')\n",
    "print(f'\\nВторой массив:\\n{array_3}')\n",
    "\n",
    "# создадим булевую маску отрицания возвращающую True для условия array_1 не равно array_3\n",
    "negation_mask = ~(array_1 == array_3) # количество элемнтов при сравнении должно бьыть одинаковым\n",
    "\n",
    "# посмотрим, что возвращает маска\n",
    "print(f'\\nМаска:\\n{negation_mask}')\n",
    "print(array_1[negation_mask])"
   ]
  },
  {
   "cell_type": "code",
   "execution_count": 43,
   "id": "ad0b6e57-6616-41b4-9610-8d3fb88c4ebe",
   "metadata": {},
   "outputs": [
    {
     "name": "stdout",
     "output_type": "stream",
     "text": [
      "Массив:\n",
      "[ 1  2  3  4  5  6  7  8  9 10]\n",
      "\n",
      "Маска:\n",
      "[ True  True  True  True  True False False False False False]\n",
      "\n",
      "Результат - все значения меньше или равны 5:\n",
      "[1 2 3 4 5]\n"
     ]
    }
   ],
   "source": [
    "# разберем вторйо пример, маска отрицания сравнения\n",
    "\n",
    "# массив с которым будем работать\n",
    "print(f'Массив:\\n{array_1}')\n",
    "\n",
    "# маска сравнения отрицаия, вернет True для условия меньше или равно 5\n",
    "compare_negation_mask = ~(array_1 > 5)\n",
    "print(f'\\nМаска:\\n{compare_negation_mask}')\n",
    "\n",
    "# применим маску к массиву\n",
    "print(f'\\nРезультат - все значения меньше или равны 5:\\n{array_1[compare_negation_mask]}')"
   ]
  },
  {
   "cell_type": "markdown",
   "id": "f712bb68-799b-4cb9-8eb3-655971d488d0",
   "metadata": {},
   "source": [
    "# Индексация и слайсинг"
   ]
  },
  {
   "cell_type": "markdown",
   "id": "787e7239-347c-4725-a235-f87fe4307322",
   "metadata": {},
   "source": [
    "Ключевые различия: Индексация vs Слайсинг\n",
    "\n",
    "| **Критерий**            | **Индексация**                        | **Слайсинг**                                |\n",
    "|-------------------------|---------------------------------------|---------------------------------------------|\n",
    "| **Что извлекает**       | Конкретный элемент                   | Подмассив (последовательность элементов)    |\n",
    "| **Синтаксис**           | `array[индекс]`                      | `array[start:stop:step]`                    |\n",
    "| **Результат**           | Скалярное значение или массив         | Вид (view) массива                          |\n",
    "| **Изменение оригинала** | Нет (если изменяется результат индексации). | Да, если изменяется срез (без `.copy()`). |\n",
    "| **Применимость**        | Используется для выбора отдельных элементов | Используется для извлечения диапазонов     |\n"
   ]
  },
  {
   "cell_type": "code",
   "execution_count": 44,
   "id": "ad54daee-05f8-4ba6-bc80-e71bb16a4b01",
   "metadata": {},
   "outputs": [
    {
     "name": "stdout",
     "output_type": "stream",
     "text": [
      "Одномерный массив: \n",
      "[ 1000  2000  3000  4000  5000  6000  7000  8000  9000 10000]\n",
      "\n",
      "Двумерный Массив: \n",
      "[[1000 2000 3000]\n",
      " [4000 5000 6000]\n",
      " [7000 8000 9000]]\n"
     ]
    }
   ],
   "source": [
    "# определим массив для работы:\n",
    "array_1 = np.array([1000, 2000, 3000, 4000, 5000, 6000, 7000, 8000, 9000, 10000])\n",
    "print(f'Одномерный массив: \\n{array_1}')\n",
    "\n",
    "# определим двумерный массив\n",
    "array_2 = np.array([[1000, 2000, 3000], [4000, 5000, 6000], [7000, 8000, 9000]])\n",
    "print(f'\\nДвумерный Массив: \\n{array_2}')"
   ]
  },
  {
   "cell_type": "code",
   "execution_count": 45,
   "id": "ff968b19-f989-4440-8e4d-c8f5ca085fd8",
   "metadata": {},
   "outputs": [
    {
     "name": "stdout",
     "output_type": "stream",
     "text": [
      "Массив: [ 1000  2000  3000  4000  5000  6000  7000  8000  9000 10000]\n",
      "\n",
      "Вернем первое значение в массиве: 1000\n",
      "\n",
      "Вернем последнее значение в массиве: 10000\n",
      "\n",
      "Вернем все значения после 5000: [ 5000  6000  7000  8000  9000 10000]\n",
      "\n",
      "Вернем все значения до 5000: [1000 2000 3000 4000]\n",
      "\n",
      "Вернем значения от 2000 до 8000: [2000 3000 4000 5000 6000 7000 8000]\n"
     ]
    }
   ],
   "source": [
    "# Индексация одномерных массивов\n",
    "\n",
    "print(f'Массив: {array_1}')\n",
    "print(f'\\nВернем первое значение в массиве: {array_1[0]}')\n",
    "print(f'\\nВернем последнее значение в массиве: {array_1[-1]}')\n",
    "print(f'\\nВернем все значения после 5000: {array_1[4:]}')\n",
    "print(f'\\nВернем все значения до 5000: {array_1[:4]}')\n",
    "print(f'\\nВернем значения от 2000 до 8000: {array_1[1:8]}')"
   ]
  },
  {
   "cell_type": "code",
   "execution_count": 46,
   "id": "e4fc0302-a758-48d4-b491-8c1dcd542f51",
   "metadata": {},
   "outputs": [
    {
     "name": "stdout",
     "output_type": "stream",
     "text": [
      "Массив: \n",
      "[[1000 2000 3000]\n",
      " [4000 5000 6000]\n",
      " [7000 8000 9000]]\n",
      "\n",
      "Вернем первое значение в массиве: 1000\n",
      "\n",
      "Вернем последнее значение в массиве: 9000\n",
      "\n",
      "Вернем второй элемент второй строки: 5000\n",
      "\n",
      "Вернем вторую строку: [4000 5000 6000]\n",
      "\n",
      "Вернем второй столбец: [2000 5000 8000]\n",
      "\n",
      "Вернем значения от 5000 до 9000: \n",
      "[[5000 6000]\n",
      " [8000 9000]]\n"
     ]
    }
   ],
   "source": [
    "\n",
    "# Индексация двумерных массивов\n",
    "print(f'Массив: \\n{array_2}')\n",
    "print(f'\\nВернем первое значение в массиве: {array_2[0, 0]}')\n",
    "print(f'\\nВернем последнее значение в массиве: {array_2[-1, -1]}')\n",
    "print(f'\\nВернем второй элемент второй строки: {array_2[1, 1]}')\n",
    "print(f'\\nВернем вторую строку: {array_2[1, :]}')\n",
    "print(f'\\nВернем второй столбец: {array_2[:, 1]}')\n",
    "print(f'\\nВернем значения от 5000 до 9000: \\n{array_2[1:, 1:]}') "
   ]
  },
  {
   "cell_type": "markdown",
   "id": "485b6204-58ab-40a7-bf12-505e3c7d413b",
   "metadata": {},
   "source": [
    "## .copy"
   ]
  },
  {
   "cell_type": "code",
   "execution_count": 47,
   "id": "60b255ac-f0ab-44d0-972d-02aad87387b7",
   "metadata": {},
   "outputs": [
    {
     "name": "stdout",
     "output_type": "stream",
     "text": [
      "Исходный массив: [ 1000  2000  3000  4000  5000  6000  7000  8000  9000 10000]\n",
      "\n",
      "Срез: [2000 3000 4000 5000]\n",
      "\n",
      "Срез: [2000 3000 4000    0]\n"
     ]
    }
   ],
   "source": [
    "\n",
    "# вызовем исходный массив\n",
    "print(f'Исходный массив: {array_1}')\n",
    "\n",
    "# создадим срез на исходном массие и запишем его в новую переменную\n",
    "slice_1 = array_1[1:5]\n",
    "print(f'\\nСрез: {slice_1}')\n",
    "\n",
    "# внесем изменения в сам массив, заменим 5000 на 5\n",
    "slice_1[3] = 0\n",
    "print(f'\\nСрез: {slice_1}')"
   ]
  },
  {
   "cell_type": "code",
   "execution_count": 48,
   "id": "74fa9224-e73f-4188-8f4e-bb7b789dbc04",
   "metadata": {},
   "outputs": [
    {
     "name": "stdout",
     "output_type": "stream",
     "text": [
      "Исходный массив: [ 1000  2000  3000  4000     0  6000  7000  8000  9000 10000]\n"
     ]
    }
   ],
   "source": [
    "\n",
    "# теперь вновь вызовем исходный массив, на основе которого был построен срез\n",
    "print(f'Исходный массив: {array_1}')"
   ]
  },
  {
   "cell_type": "markdown",
   "id": "c359fa03-6f14-42b3-8c2e-8792a2a0b16e",
   "metadata": {},
   "source": [
    "Поулчается, что срез, созданный на основе массива внес полученные изменения в исходный массив! Чтобы этого не происходило нужно использовать метод .copy()\n",
    "\n",
    "Повторим все действия но в этот раз воспользуемся методом .copy"
   ]
  },
  {
   "cell_type": "code",
   "execution_count": 49,
   "id": "15438868-5cfa-43d4-b7e3-02e2eb9aa7a8",
   "metadata": {},
   "outputs": [
    {
     "name": "stdout",
     "output_type": "stream",
     "text": [
      "Исходный массив: [1000 2000 3000 4000 5000 6000 7000 8000 9000]\n",
      "\n",
      "Срез: [2000 3000 4000 5000]\n",
      "\n",
      "Срез: [2000 3000 4000    0]\n"
     ]
    }
   ],
   "source": [
    "# вызовем исходный массив\n",
    "array_copy = array_2.reshape(-1)\n",
    "print(f'Исходный массив: {array_copy}')\n",
    "\n",
    "# создадим срез на исходном массие и запишем его в новую переменную\n",
    "slice_copy = array_copy[1:5].copy()\n",
    "print(f'\\nСрез: {slice_copy}')\n",
    "\n",
    "# внесем изменения в сам массив, заменим 5000 на 5\n",
    "slice_copy[3] = 0\n",
    "print(f'\\nСрез: {slice_copy}')"
   ]
  },
  {
   "cell_type": "code",
   "execution_count": 50,
   "id": "e80bd614-c870-4e4c-995a-fa5c0e367d01",
   "metadata": {},
   "outputs": [
    {
     "name": "stdout",
     "output_type": "stream",
     "text": [
      "Исходный массив: [1000 2000 3000 4000 5000 6000 7000 8000 9000]\n"
     ]
    }
   ],
   "source": [
    "# теперь вновь вызовем исходный массив, на основе которого был построен срез\n",
    "print(f'Исходный массив: {array_copy}')"
   ]
  },
  {
   "cell_type": "markdown",
   "id": "5a37277e-e9ad-43e4-8ae4-c4e3ded92a85",
   "metadata": {},
   "source": [
    "Как видно, исходный массив не был изменен благодря использованию метода .copy()"
   ]
  },
  {
   "cell_type": "markdown",
   "id": "fd0f5ced-4e88-4bfb-84ef-aff0a4b2d2f5",
   "metadata": {},
   "source": [
    "## Индексация практика"
   ]
  },
  {
   "cell_type": "code",
   "execution_count": 51,
   "id": "1d3e0618-2399-4e7d-b854-3f48fde5f8e0",
   "metadata": {},
   "outputs": [
    {
     "name": "stdout",
     "output_type": "stream",
     "text": [
      "Исходная матрица: \n",
      "[[[ 0  1  2]\n",
      "  [ 3  4  5]]\n",
      "\n",
      " [[ 6  7  8]\n",
      "  [ 9 10 11]]]\n",
      "\n",
      "Вернем последний элемент второй строки первой матрицы: \n",
      "5\n",
      "\n",
      "Вернем вторую колонку в массиве: \n",
      "[[ 1  4]\n",
      " [ 7 10]]\n",
      "\n",
      "Вернем вторую и третью колонку в массиве: \n",
      "[[[ 1  2]\n",
      "  [ 4  5]]\n",
      "\n",
      " [[ 7  8]\n",
      "  [10 11]]]\n",
      "\n",
      "Вернем вторую и третью колонку только для первой матрицы: \n",
      "[[1 2]\n",
      " [4 5]]\n",
      "\n",
      "Вернем первые строки в каждой матрице: \n",
      "[[0 1 2]\n",
      " [6 7 8]]\n"
     ]
    }
   ],
   "source": [
    "\n",
    "# создадим исходную трехмерную матрицу\n",
    "mat_3d = np.arange(12).reshape(2, 2, 3)\n",
    "print(f'Исходная матрица: \\n{mat_3d}')\n",
    "\n",
    "# как нам вернуть, например, 5? Это первая матрица, вт орая строка, последний ее элемент\n",
    "print(f'\\nВернем последний элемент второй строки первой матрицы: \\n{mat_3d[0, 1, -1]}')\n",
    "# 0 - первая матрица\n",
    "# 1 - вторая строка первой матрицы\n",
    "# -1 первое с конца значения в этой строке\n",
    "\n",
    "# как нам вернуть, например, вторую колонку в массиве?\n",
    "print(f'\\nВернем вторую колонку в массиве: \\n{mat_3d[:, :, 1]}')\n",
    "# : - выводим все элементы, т.е. все матрицы\n",
    "# : - нас не интересует строка, фактически нам нужны все строки\n",
    "# 1 - т.к. нас интересует вторрой столбец, т.е. все вторые значения в каждой строке\n",
    "\n",
    "# как нам вернуть, например, не только вторую колонку но и третью?\n",
    "print(f'\\nВернем вторую и третью колонку в массиве: \\n{mat_3d[:, :, 1:]}')\n",
    "# : - выводим все элементы, т.е. все матрицы\n",
    "# : - нас не интересует строка, фактически нам нужны все строки\n",
    "# 1: - т.к. нас интересует не только вторрой столбец, но и все колонки начиная со второй\n",
    "\n",
    "# вернем вторую и третью колонку только для первой матрицы\n",
    "print(f'\\nВернем вторую и третью колонку только для первой матрицы: \\n{mat_3d[0, :, 1:]}')\n",
    "# 0 - выводим только первую матрицу\n",
    "# : - нас не интересует строка, фактически нам нужны все строки\n",
    "# 1: - т.к. нас интересует не только вторрой столбец, но и все колонки начиная со второй\n",
    "\n",
    "# выведем первые строчки в обеих матрицах\n",
    "print(f'\\nВернем первые строки в каждой матрице: \\n{mat_3d[:, 0, :]}')\n",
    "# : - выводим все элементы, т.е. все матрицы\n",
    "# 0 - нас интересует только первая строка\n",
    "# : - нас интересуют все столбцы"
   ]
  },
  {
   "cell_type": "markdown",
   "id": "8c8222be-8bf5-4bbf-a718-e3e6bb3288de",
   "metadata": {},
   "source": [
    "# Индексацяи Fancy"
   ]
  },
  {
   "cell_type": "code",
   "execution_count": 52,
   "id": "6b7db17f-cb10-4b2b-9f2c-60dd02b3c650",
   "metadata": {},
   "outputs": [
    {
     "name": "stdout",
     "output_type": "stream",
     "text": [
      "Тестовая матрица: \n",
      "[[[ 0  1  2]\n",
      "  [ 3  4  5]\n",
      "  [ 6  7  8]\n",
      "  [ 9 10 11]\n",
      "  [12 13 14]]\n",
      "\n",
      " [[15 16 17]\n",
      "  [18 19 20]\n",
      "  [21 22 23]\n",
      "  [24 25 26]\n",
      "  [27 28 29]]\n",
      "\n",
      " [[30 31 32]\n",
      "  [33 34 35]\n",
      "  [36 37 38]\n",
      "  [39 40 41]\n",
      "  [42 43 44]]]\n",
      "\n",
      "Первая и последняя строки матриц 2 и 3: \n",
      "[[15 16 17]\n",
      " [42 43 44]]\n",
      "\n",
      "Первый и последний столбцы матриц 1 и 3: \n",
      "[[ 0 32]\n",
      " [ 3 35]\n",
      " [ 6 38]\n",
      " [ 9 41]\n",
      " [12 44]]\n"
     ]
    }
   ],
   "source": [
    "mat_test = np.arange(45).reshape(3, 5, 3)\n",
    "print(f'Тестовая матрица: \\n{mat_test}')\n",
    "\n",
    "# выведем первую и последнюю строки матриц 2 и 3\n",
    "mat_test_2 = mat_test[[1,2], [0,4], :].copy()\n",
    "print(f'\\nПервая и последняя строки матриц 2 и 3: \\n{mat_test_2}')\n",
    "\n",
    "# выведем перывй и последний столбцы матриц 1 и 3\n",
    "mat_test_3 = mat_test[[0,2], :, [0,2]].copy()\n",
    "print(f'\\nПервый и последний столбцы матриц 1 и 3: \\n{mat_test_3.T}')"
   ]
  },
  {
   "cell_type": "markdown",
   "id": "5081d5a2-2d88-4e05-9b63-35be9664b60f",
   "metadata": {},
   "source": [
    "## Одновременна Fancy индексация "
   ]
  },
  {
   "cell_type": "code",
   "execution_count": 53,
   "id": "6e12bac9-51fb-457a-b349-11a5c68aa5a6",
   "metadata": {},
   "outputs": [
    {
     "name": "stdout",
     "output_type": "stream",
     "text": [
      "Матрица: \n",
      "[[ 0  1  2  3]\n",
      " [ 4  5  6  7]\n",
      " [ 8  9 10 11]\n",
      " [12 13 14 15]]\n",
      "\n",
      "Попробуем вывести точечно значения 1, 3, 9 и 11: \n",
      "[ 1 11]\n",
      "Не получается\n",
      "\n",
      "Попробуем еще раз вывести точечно значения 1, 3, 9 и 11: \n",
      "[ 1  3  9 11]\n"
     ]
    }
   ],
   "source": [
    "# создадим новую матрицу\n",
    "mat_test_4 = np.arange(16).reshape(4, 4)\n",
    "print(f'Матрица: \\n{mat_test_4}')\n",
    "\n",
    "# попробуем вывести точечно значения 1, 3, 9 и 11\n",
    "mat_test_5 = mat_test_4[[0,2],        # перечисляем необходимые строки, это 1 и 3 строка\n",
    "                        [1,3]].copy() # 2 и 4 колонка\n",
    "\n",
    "print(f'\\nПопробуем вывести точечно значения 1, 3, 9 и 11: \\n{mat_test_5}')\n",
    "# Результат не соответствует ожиданиям. Потмоу что при одновременном использовании fancy для строк и столбцов\n",
    "# NumPy воспринимает их как координаты. Пересечение 0 и 1 вернет 1, пересечение 1 и 3 вернет 11\n",
    "print('Не получается')\n",
    "\n",
    "# как поступать в таком случе? Укажем недостающие координаты\n",
    "mat_test_5 = mat_test_4[[0,0,2,2],        \n",
    "                        [1,3,1,3]].copy() \n",
    "print(f'\\nПопробуем еще раз вывести точечно значения 1, 3, 9 и 11: \\n{mat_test_5}')"
   ]
  },
  {
   "cell_type": "markdown",
   "id": "b8759d35-bf92-453b-b8f5-b396fbb516c4",
   "metadata": {},
   "source": [
    "# Логическая индексация"
   ]
  },
  {
   "cell_type": "markdown",
   "id": "9d8c27f5-7e55-4e84-aa57-1e101178efe0",
   "metadata": {},
   "source": [
    "В отличии от слайсинга, при создании матрицы мы создаем новый объект. При использовании маски нам не надо использовать метод .copy()"
   ]
  },
  {
   "cell_type": "markdown",
   "id": "c7d275d8-23c6-4402-8145-9a8954af37a9",
   "metadata": {},
   "source": [
    "## Пример - 1"
   ]
  },
  {
   "cell_type": "code",
   "execution_count": 54,
   "id": "f817b2e4-e27b-4b16-bb4d-2e02ba3e9e75",
   "metadata": {},
   "outputs": [
    {
     "name": "stdout",
     "output_type": "stream",
     "text": [
      "Матрица:\n",
      "[[[ 0  1  2]\n",
      "  [ 3  4  5]\n",
      "  [ 6  7  8]\n",
      "  [ 9 10 11]\n",
      "  [12 13 14]]\n",
      "\n",
      " [[15 16 17]\n",
      "  [18 19 20]\n",
      "  [21 22 23]\n",
      "  [24 25 26]\n",
      "  [27 28 29]]\n",
      "\n",
      " [[30 31 32]\n",
      "  [33 34 35]\n",
      "  [36 37 38]\n",
      "  [39 40 41]\n",
      "  [42 43 44]]]\n",
      "\n",
      "Маска:\n",
      "[[[False False False]\n",
      "  [False False False]\n",
      "  [False False False]\n",
      "  [False False False]\n",
      "  [False False False]]\n",
      "\n",
      " [[False False False]\n",
      "  [False False False]\n",
      "  [False False False]\n",
      "  [False False False]\n",
      "  [False False False]]\n",
      "\n",
      " [[False False False]\n",
      "  [False False False]\n",
      "  [False False False]\n",
      "  [False False False]\n",
      "  [False False False]]]\n"
     ]
    }
   ],
   "source": [
    "# вызовем исходную матрицу\n",
    "print(f'Матрица:\\n{mat_test}')\n",
    "\n",
    "# создадим маску, определим тип данных и изменим форму\n",
    "mask = np.zeros(45, dtype = bool).reshape(3, 5, 3)\n",
    "print(f'\\nМаска:\\n{mask}')"
   ]
  },
  {
   "cell_type": "code",
   "execution_count": 55,
   "id": "38e2c785-417b-4573-9044-3893d696e419",
   "metadata": {},
   "outputs": [
    {
     "name": "stdout",
     "output_type": "stream",
     "text": [
      "\n",
      "Обновленная маска:\n",
      "[[[ True False False]\n",
      "  [False False False]\n",
      "  [False False False]\n",
      "  [ True False False]\n",
      "  [False False  True]]\n",
      "\n",
      " [[False False False]\n",
      "  [False False False]\n",
      "  [False False False]\n",
      "  [False False False]\n",
      "  [False False False]]\n",
      "\n",
      " [[False False False]\n",
      "  [False False False]\n",
      "  [False False False]\n",
      "  [False False False]\n",
      "  [False False False]]]\n"
     ]
    }
   ],
   "source": [
    "# внесем изменения в маску. Например, я хчоу вывести только 1, 10 и 15 значения матрицы\n",
    "mask[0, 0, 0] = 1 # установим True для первого элемента массива\n",
    "mask[0, 3, 0] = 1 # установим True для второго элемента массива\n",
    "mask[0, 4, -1] = 1 # установим True для третьего элемента массива\n",
    "# [матрица, строка, элемент строки]\n",
    "\n",
    "# выведем маску и посмотрим на внесенные изменения\n",
    "print(f'\\nОбновленная маска:\\n{mask}')"
   ]
  },
  {
   "cell_type": "markdown",
   "id": "12a358f2-64ad-4304-9968-b07f1a2123ee",
   "metadata": {},
   "source": [
    "## Пример - 2"
   ]
  },
  {
   "cell_type": "code",
   "execution_count": 56,
   "id": "72902f97-12fe-4805-a217-0b20e1a6afef",
   "metadata": {},
   "outputs": [
    {
     "name": "stdout",
     "output_type": "stream",
     "text": [
      "Результат возвращает нам 1, 10 и 15 элементы массива:\n",
      "[ 0  9 14]\n"
     ]
    }
   ],
   "source": [
    "# применим нашу маску к исходной матрице и сохраним ее в отдельную переменную\n",
    "mat_test_x = mat_test[mask]\n",
    "\n",
    "print(f'Результат возвращает нам 1, 10 и 15 элементы массива:\\n{mat_test_x}')"
   ]
  },
  {
   "cell_type": "code",
   "execution_count": 57,
   "id": "9a9f3e95-8c43-4bc4-9f8d-aec0e93a29d1",
   "metadata": {},
   "outputs": [
    {
     "name": "stdout",
     "output_type": "stream",
     "text": [
      "Города:\n",
      "['Moscow' 'Novosibirsk' 'Tomsk' 'Barnaul' 'Biysk']\n"
     ]
    }
   ],
   "source": [
    "# создадим массив, например, с наименованием городов\n",
    "cities = np.array(['Moscow', 'Novosibirsk', 'Tomsk', 'Barnaul', 'Biysk'])\n",
    "print(f'Города:\\n{cities}')"
   ]
  },
  {
   "cell_type": "code",
   "execution_count": 58,
   "id": "e6ef5e6f-eb42-43a4-aa4a-07e05aeda4c4",
   "metadata": {},
   "outputs": [
    {
     "name": "stdout",
     "output_type": "stream",
     "text": [
      "Население:\n",
      "[[10000000]\n",
      " [ 2000000]\n",
      " [  700000]\n",
      " [  500000]\n",
      " [  300000]]\n"
     ]
    }
   ],
   "source": [
    "# создадим также массив с населением этих городов (примерно)\n",
    "people = np.array([[10_000_000],\n",
    "                   [2_000_000],\n",
    "                   [700_000],\n",
    "                   [500_000],\n",
    "                   [300_000]])\n",
    "print(f'Население:\\n{people}')"
   ]
  },
  {
   "cell_type": "code",
   "execution_count": 59,
   "id": "bbaa616b-6135-4c2a-9adc-5fba80944311",
   "metadata": {},
   "outputs": [
    {
     "name": "stdout",
     "output_type": "stream",
     "text": [
      "[[300000]]\n"
     ]
    }
   ],
   "source": [
    "# Задача - вывести население г. Бийск\n",
    "print(people[cities == 'Biysk']) # используя маску нам просто нужно использовать соотвествующий объект\n"
   ]
  },
  {
   "cell_type": "code",
   "execution_count": 60,
   "id": "a67c9da9-42c2-46a9-9d75-91082e7a4f78",
   "metadata": {},
   "outputs": [
    {
     "name": "stdout",
     "output_type": "stream",
     "text": [
      "Города:\n",
      "['Moscow' 'Novosibirsk' 'Tomsk' 'Barnaul' 'Biysk' 'Biysk']\n",
      "\n",
      "Население:\n",
      "[[10000000]\n",
      " [ 2000000]\n",
      " [  700000]\n",
      " [  500000]\n",
      " [  300000]\n",
      " [  250000]]\n"
     ]
    }
   ],
   "source": [
    "# Но если в массиве будут повторы, например, создадим еще один массив по аналогии и укажем в нем два значения\n",
    "# города\n",
    "cities_2 = np.array(['Moscow', 'Novosibirsk', 'Tomsk', 'Barnaul', 'Biysk', 'Biysk'])\n",
    "print(f'Города:\\n{cities_2}')\n",
    "\n",
    "people_2 = np.array([[10_000_000],\n",
    "                   [2_000_000],\n",
    "                   [700_000],\n",
    "                   [500_000],\n",
    "                   [300_000],\n",
    "                   [250_000]])\n",
    "print(f'\\nНаселение:\\n{people_2}')"
   ]
  },
  {
   "cell_type": "code",
   "execution_count": 61,
   "id": "d905dca7-b1fa-4d16-bd67-0b575ec39928",
   "metadata": {},
   "outputs": [
    {
     "name": "stdout",
     "output_type": "stream",
     "text": [
      "[[300000]\n",
      " [250000]]\n"
     ]
    }
   ],
   "source": [
    "# вновь выведем население г. Бийск\n",
    "print(people_2[cities_2 == 'Biysk']) # используя маску нам просто нужно использовать соотвествующий объект"
   ]
  },
  {
   "cell_type": "markdown",
   "id": "3bba5fed-4fb0-462d-b042-1595c44f53e3",
   "metadata": {},
   "source": [
    "В результирующем наборе вернулось два значения"
   ]
  },
  {
   "cell_type": "code",
   "execution_count": 62,
   "id": "25f02836-bd82-402e-8ad7-e95376c13feb",
   "metadata": {},
   "outputs": [
    {
     "name": "stdout",
     "output_type": "stream",
     "text": [
      "Население больше миллиона:\n",
      "[10000000  2000000]\n",
      "Только четные:\n",
      "[10000000  2000000   700000   500000   300000]\n",
      "Остаток от деления на 3 равен 233 333:\n",
      "[700000]\n"
     ]
    }
   ],
   "source": [
    "# попробуем другие варианты фильтрации чезер маску\n",
    "print(f'Население больше миллиона:\\n{people[people > 1000000]}')\n",
    "print(f'Только четные:\\n{people[people % 2 == 0]}')\n",
    "print(f'Остаток от деления на 3 равен 233 333:\\n{people[people // 3 == 233333]}')"
   ]
  },
  {
   "cell_type": "markdown",
   "id": "6a4351b8-4924-4185-8615-0379cc41cd99",
   "metadata": {},
   "source": [
    "## Пример - 3"
   ]
  },
  {
   "cell_type": "code",
   "execution_count": 63,
   "id": "e953b581-fd10-4b0d-8cb8-5241279d8f9a",
   "metadata": {},
   "outputs": [
    {
     "name": "stdout",
     "output_type": "stream",
     "text": [
      "[[ 0  1  2  3  4]\n",
      " [ 5  6  7  8  9]\n",
      " [10 11 12 13 14]]\n",
      "\n",
      "['row_1' 'row_2' 'row_3']\n"
     ]
    }
   ],
   "source": [
    "# одновременная фильтрация по маске и индексу\n",
    "\n",
    "# создадим массив\n",
    "num = np.arange(15).reshape(3,5)\n",
    "print(num)\n",
    "\n",
    "row = np.array(['row_1', 'row_2', 'row_3'])\n",
    "print(f'\\n{row}')"
   ]
  },
  {
   "cell_type": "code",
   "execution_count": 64,
   "id": "4c7281ea-5bba-4d9d-98b6-bb2b3365a5d8",
   "metadata": {},
   "outputs": [
    {
     "name": "stdout",
     "output_type": "stream",
     "text": [
      "Строка 1, 3 элемент в строке: [2]\n"
     ]
    }
   ],
   "source": [
    "print(f'Строка 1, 3 элемент в строке: {num[row == 'row_1', 2]}') "
   ]
  },
  {
   "cell_type": "markdown",
   "id": "712dd211-0621-471b-a8fe-8c185b0514a3",
   "metadata": {},
   "source": [
    "## Индексация И, ИЛИ, НЕ "
   ]
  },
  {
   "cell_type": "code",
   "execution_count": 65,
   "id": "c5f2abc7-5ebb-43f8-b092-e81414962871",
   "metadata": {},
   "outputs": [
    {
     "name": "stdout",
     "output_type": "stream",
     "text": [
      "Города:\n",
      "['Moscow' 'Novosibirsk' 'Tomsk' 'Barnaul' 'Biysk']\n",
      "\n",
      "Население:\n",
      "[[10000000]\n",
      " [ 2000000]\n",
      " [  700000]\n",
      " [  500000]\n",
      " [  300000]]\n",
      "\n",
      "Маска 1:\n",
      "[[ True]\n",
      " [ True]\n",
      " [ True]\n",
      " [False]\n",
      " [False]]\n",
      "\n",
      "Маска 2:\n",
      "[[False]\n",
      " [False]\n",
      " [ True]\n",
      " [False]\n",
      " [False]]\n"
     ]
    }
   ],
   "source": [
    "# массивы для работы\n",
    "print(f'Города:\\n{cities}')\n",
    "print(f'\\nНаселение:\\n{people}')\n",
    "\n",
    "# создадим две маски\n",
    "m_p_1 = people >= 700_000\n",
    "m_p_2 = people == 700_000\n",
    "\n",
    "# вывыдем маски для наглядности\n",
    "print(f'\\nМаска 1:\\n{m_p_1}')\n",
    "print(f'\\nМаска 2:\\n{m_p_2}')"
   ]
  },
  {
   "cell_type": "code",
   "execution_count": 66,
   "id": "79a2ec22-e624-4d48-b91e-936c1d4264d7",
   "metadata": {},
   "outputs": [
    {
     "name": "stdout",
     "output_type": "stream",
     "text": [
      "Выполняются условие И:\n",
      "[700000]\n",
      "\n",
      "Выполняются условие ИЛИ:\n",
      "[10000000  2000000   700000]\n",
      "\n",
      "Выполняются условие НЕ для обоих условий:\n",
      "[500000 300000]\n",
      "\n",
      "С использованием круглых скобок:\n",
      "[700000 500000 300000]\n"
     ]
    }
   ],
   "source": [
    "# & \"И\"\n",
    "# | \"ИЛИ\"\n",
    "# ~ \"НЕ\"\n",
    "\n",
    "# выполняются условие И\n",
    "print(f'Выполняются условие И:\\n{people[m_p_1 & m_p_2]}')\n",
    "\n",
    "# выполняются условие ИЛИ\n",
    "print(f'\\nВыполняются условие ИЛИ:\\n{people[m_p_1 | m_p_2]}')\n",
    "\n",
    "# выполняются условие НЕ для обоих условий\n",
    "print(f'\\nВыполняются условие НЕ для обоих условий:\\n{people[~m_p_1 & ~m_p_2]}')\n",
    "\n",
    "# использование скобок\n",
    "print(f'\\nС использованием круглых скобок:\\n{people[(~m_p_1 & ~m_p_2) | (m_p_2)]}')"
   ]
  },
  {
   "cell_type": "markdown",
   "id": "5b412fbf",
   "metadata": {},
   "source": [
    "# Функции в NumPy"
   ]
  },
  {
   "cell_type": "markdown",
   "id": "ec70415d",
   "metadata": {},
   "source": [
    "## np.sqrt() - извлечение корня"
   ]
  },
  {
   "cell_type": "code",
   "execution_count": 67,
   "id": "02380e7c",
   "metadata": {},
   "outputs": [
    {
     "name": "stdout",
     "output_type": "stream",
     "text": [
      "Массив: \n",
      "[[ 0  1  2  3]\n",
      " [ 4  5  6  7]\n",
      " [ 8  9 10 11]]\n",
      "\n",
      "Корень: \n",
      "[[0.         1.         1.41421356 1.73205081]\n",
      " [2.         2.23606798 2.44948974 2.64575131]\n",
      " [2.82842712 3.         3.16227766 3.31662479]]\n"
     ]
    }
   ],
   "source": [
    "# определим новый массив\n",
    "array_example_1 = np.arange(12).reshape(3,4)\n",
    "\n",
    "# отобразим результат\n",
    "print(f'Массив: \\n{array_example_1}')\n",
    "\n",
    "# извлечем корень из массива и отобразим результат\n",
    "print(f'\\nКорень: \\n{np.sqrt(array_example_1)}')\n"
   ]
  },
  {
   "cell_type": "markdown",
   "id": "01df2916",
   "metadata": {},
   "source": [
    "## np.abs() - модуль числа"
   ]
  },
  {
   "cell_type": "code",
   "execution_count": 68,
   "id": "a59f3c46",
   "metadata": {},
   "outputs": [
    {
     "name": "stdout",
     "output_type": "stream",
     "text": [
      "Массив: \n",
      "[ 1  3  5 -7 -9]\n",
      "\n",
      "Модуль числа: \n",
      "[1 3 5 7 9]\n"
     ]
    }
   ],
   "source": [
    "# определим новый массив\n",
    "array_example_2 = np.array([1, 3, 5, -7, -9])\n",
    "\n",
    "# отобразим результат\n",
    "print(f'Массив: \\n{array_example_2}')\n",
    "\n",
    "# вернем модуль числа для каждого элемента массива\n",
    "print(f'\\nМодуль числа: \\n{np.abs(array_example_2)}')"
   ]
  },
  {
   "cell_type": "markdown",
   "id": "365d9503",
   "metadata": {},
   "source": [
    "## np.sum()"
   ]
  },
  {
   "cell_type": "code",
   "execution_count": 69,
   "id": "6142e39d",
   "metadata": {},
   "outputs": [
    {
     "name": "stdout",
     "output_type": "stream",
     "text": [
      "Сумма: -7\n",
      "Сумма и модуль: 25\n"
     ]
    }
   ],
   "source": [
    "# вернем сумму значений массива\n",
    "print(f'Сумма: {sum(array_example_2)}')\n",
    "\n",
    "# можно также использовать функцию в функции\n",
    "print(f'Сумма и модуль: {sum(abs(array_example_2))}')\n"
   ]
  },
  {
   "cell_type": "markdown",
   "id": "054dc8ce",
   "metadata": {},
   "source": [
    "## np.min(), np.max(), np.median(), np.mean()"
   ]
  },
  {
   "cell_type": "code",
   "execution_count": 70,
   "id": "cc1debdd",
   "metadata": {},
   "outputs": [
    {
     "name": "stdout",
     "output_type": "stream",
     "text": [
      "Минимум: -9\n",
      "Максимум: 5\n",
      "Медиана: 1.0\n",
      "Среднее: -1.4\n"
     ]
    }
   ],
   "source": [
    "print(f'Минимум: {np.min(array_example_2)}')\n",
    "print(f'Максимум: {np.max(array_example_2)}')\n",
    "print(f'Медиана: {np.median(array_example_2)}')\n",
    "print(f'Среднее: {np.mean(array_example_2)}')"
   ]
  },
  {
   "cell_type": "markdown",
   "id": "d06c1224",
   "metadata": {},
   "source": [
    "## np.agrmax(), np.argmin() - индекс максимального и минимального значения"
   ]
  },
  {
   "cell_type": "code",
   "execution_count": 71,
   "id": "1a75db82",
   "metadata": {},
   "outputs": [
    {
     "name": "stdout",
     "output_type": "stream",
     "text": [
      "Массив: \n",
      "[ 1  3  5 -7 -9]\n",
      "Индекс минимального значения: 4\n",
      "Индекс максимального значения: 2\n"
     ]
    }
   ],
   "source": [
    "print(f'Массив: \\n{array_example_2}')\n",
    "print(f'Индекс минимального значения: {np.argmin(array_example_2)}')\n",
    "print(f'Индекс максимального значения: {np.argmax(array_example_2)}')\n"
   ]
  },
  {
   "cell_type": "markdown",
   "id": "90aad940",
   "metadata": {},
   "source": [
    "## Работа с типом данных bool"
   ]
  },
  {
   "cell_type": "code",
   "execution_count": 72,
   "id": "9c9471ab",
   "metadata": {},
   "outputs": [
    {
     "name": "stdout",
     "output_type": "stream",
     "text": [
      "Массив:\n",
      "[ True False False  True False  True  True  True  True]\n",
      "\n",
      "Модуль числа: \n",
      "[ True False False  True False  True  True  True  True]\n",
      "\n",
      "Сумма: 6\n",
      "Сумма и модуль: 6\n",
      "\n",
      "Минимум: False\n",
      "Максимум: True\n",
      "Медиана: 1.0\n",
      "Среднее: 0.6666666666666666\n",
      "\n",
      "Индекс минимального значения: 1\n",
      "Индекс максимального значения: 0\n"
     ]
    }
   ],
   "source": [
    "# определим массив с типом данных bool\n",
    "array_example_3 = np.array([1, 0, 0, 1, 0, 1, 1, -1, 0.5], dtype = bool)\n",
    "# все, что не являвется 0 переводится в 1, т.е. в True, даже 0.5 и -1\n",
    "\n",
    "# выведем массив на экран\n",
    "print(f'Массив:\\n{array_example_3}')\n",
    "\n",
    "# попробуем использовать разные функции на массиве bool\n",
    "print(f'\\nМодуль числа: \\n{np.abs(array_example_3)}')\n",
    "\n",
    "# вернем сумму значений массива\n",
    "print(f'\\nСумма: {sum(array_example_3)}')\n",
    "\n",
    "# можно также использовать функцию в функции\n",
    "print(f'Сумма и модуль: {sum(abs(array_example_3))}')\n",
    "\n",
    "# разные математические функции\n",
    "print(f'\\nМинимум: {np.min(array_example_3)}')\n",
    "print(f'Максимум: {np.max(array_example_3)}')\n",
    "print(f'Медиана: {np.median(array_example_3)}')\n",
    "print(f'Среднее: {np.mean(array_example_3)}')\n",
    "\n",
    "# индекс минимального и максимального значения\n",
    "print(f'\\nИндекс минимального значения: {np.argmin(array_example_3)}')\n",
    "print(f'Индекс максимального значения: {np.argmax(array_example_3)}')"
   ]
  },
  {
   "cell_type": "markdown",
   "id": "45c365f8",
   "metadata": {},
   "source": [
    "## Функции округления"
   ]
  },
  {
   "cell_type": "code",
   "execution_count": 73,
   "id": "c7f614b5",
   "metadata": {},
   "outputs": [
    {
     "name": "stdout",
     "output_type": "stream",
     "text": [
      "Массив:\n",
      "[1.1 1.9 2.5 8. ] float64\n",
      "\n",
      "Математическое округление: [1. 2. 2. 8.]\n",
      "Округление в большую сторону: [2. 2. 3. 8.]\n",
      "Округление в меньшую сторону: [1. 1. 2. 8.]\n"
     ]
    }
   ],
   "source": [
    "# Определим массив\n",
    "array_example_4 = np.array([1.1, 1.9, 2.5, 8])\n",
    "\n",
    "# взглянем теперь на этот массив\n",
    "print(f'Массив:\\n{array_example_4}', array_example_4.dtype)\n",
    "\n",
    "# выполним математическое округление\n",
    "print(f'\\nМатематическое округление: {np.round(array_example_4)}')\n",
    "\n",
    "# выполним округление в большую сторону\n",
    "print(f'Округление в большую сторону: {np.ceil(array_example_4)}')\n",
    "\n",
    "# выполним округление в меньшую сторону\n",
    "print(f'Округление в меньшую сторону: {np.floor(array_example_4)}')"
   ]
  },
  {
   "cell_type": "markdown",
   "id": "fafa52b8",
   "metadata": {},
   "source": [
    "## any() / all()"
   ]
  },
  {
   "cell_type": "markdown",
   "id": "b9460ee1",
   "metadata": {},
   "source": [
    "Функция numpy.any() возвращает True, если хотя бы один элемент в массиве (или вдоль заданной оси) имеет значение, эквивалентное True."
   ]
  },
  {
   "cell_type": "code",
   "execution_count": 115,
   "id": "504080c4",
   "metadata": {},
   "outputs": [
    {
     "name": "stdout",
     "output_type": "stream",
     "text": [
      "Массив единиц: [1. 1. 1. 1. 1.]\n",
      "Массив нулей: [0. 0. 0. 0. 0.]\n",
      "Массив: [1 0 0 0 0]\n",
      "\n",
      "Массив единиц: True\n",
      "Массив нулей: False\n",
      "Массив: True\n"
     ]
    }
   ],
   "source": [
    "# определим массивы для работы с any() и all()\n",
    "arr_ones = np.ones(5)\n",
    "arr_zeros = np.zeros(5)\n",
    "arr = np.array([1, 0, 0, 0, 0])\n",
    "\n",
    "print(f'Массив единиц: {arr_ones}')\n",
    "print(f'Массив нулей: {arr_zeros}')\n",
    "print(f'Массив: {arr}')\n",
    "\n",
    "# применим any() к массивам\n",
    "print(f'\\nМассив единиц: {np.any(arr_ones)}')\n",
    "print(f'Массив нулей: {np.any(arr_zeros)}')\n",
    "print(f'Массив: {np.any(arr)}')\n",
    "\n",
    "# таким образом any() возвращает True если хотя бы один элемент массива не нулевой"
   ]
  },
  {
   "cell_type": "code",
   "execution_count": 114,
   "id": "cd762289",
   "metadata": {},
   "outputs": [
    {
     "name": "stdout",
     "output_type": "stream",
     "text": [
      "Двумерный массив:\n",
      "[[1 0 0]\n",
      " [0 0 0]\n",
      " [0 0 1]]\n",
      "Результат функции Any() по строке:\n",
      "[ True False  True]\n"
     ]
    }
   ],
   "source": [
    "# проверим работу any() на примере двумерного массива\n",
    "arr_2d = np.array([[1, 0, 0], [0, 0, 0], [0, 0, 1]])\n",
    "print(f'Двумерный массив:\\n{arr_2d}')\n",
    "\n",
    "# применим any() к двумерному массиву\n",
    "print(f'Результат функции Any() по строке:\\n{np.any(arr_2d, axis = 1)}')"
   ]
  },
  {
   "cell_type": "code",
   "execution_count": 119,
   "id": "4fbef39c",
   "metadata": {},
   "outputs": [
    {
     "name": "stdout",
     "output_type": "stream",
     "text": [
      "\n",
      "Массив единиц: True\n",
      "Массив нулей: False\n",
      "Массив: False\n"
     ]
    }
   ],
   "source": [
    "# применим all() к массивам\n",
    "print(f'\\nМассив единиц: {np.all(arr_ones.astype(bool))}')\n",
    "print(f'Массив нулей: {np.all(arr_zeros.astype(bool))}')\n",
    "print(f'Массив: {np.all(arr.astype(bool))}')\n",
    "\n",
    "# all() вернет True только если в массиве все значения являются не нулевыми\n",
    "# работает также с типом данных bool, что удобно для использования в алгоритмах"
   ]
  },
  {
   "cell_type": "markdown",
   "id": "cd4a6d10",
   "metadata": {},
   "source": [
    "# Оси в NumPy"
   ]
  },
  {
   "cell_type": "markdown",
   "id": "0ee7d79f",
   "metadata": {},
   "source": [
    "NumPy предоставляет методы для агрегации данных по осям. Например, можно вычислить сумму или среднее значение."
   ]
  },
  {
   "cell_type": "code",
   "execution_count": 74,
   "id": "0cc85d14",
   "metadata": {},
   "outputs": [
    {
     "name": "stdout",
     "output_type": "stream",
     "text": [
      "Массив:\n",
      "[[0 1 2]\n",
      " [3 4 5]\n",
      " [6 7 8]]\n"
     ]
    }
   ],
   "source": [
    "# определим массив\n",
    "array_example_5 = np.arange(9).reshape(3, 3)\n",
    "\n",
    "# выведем на экран\n",
    "print(f'Массив:\\n{array_example_5}')"
   ]
  },
  {
   "cell_type": "code",
   "execution_count": 75,
   "id": "824c1981",
   "metadata": {},
   "outputs": [
    {
     "name": "stdout",
     "output_type": "stream",
     "text": [
      "Сумма элементов: 36\n",
      "Сумма элементов: [ 9 12 15]\n",
      "Сумма элементов: [ 3 12 21]\n"
     ]
    }
   ],
   "source": [
    "# общая сумма элементов массива\n",
    "print(f'Сумма элементов: {np.sum(array_example_5)}')\n",
    "\n",
    "# сумма по столбцам\n",
    "print(f'Сумма элементов: {np.sum(array_example_5, axis = 0)}')\n",
    "\n",
    "# сумма по строкам\n",
    "print(f'Сумма элементов: {np.sum(array_example_5, axis = 1)}')"
   ]
  },
  {
   "cell_type": "code",
   "execution_count": 76,
   "id": "9c219b98",
   "metadata": {},
   "outputs": [
    {
     "name": "stdout",
     "output_type": "stream",
     "text": [
      "Среднее: 4.0\n",
      "Среднее по столбцам: [3. 4. 5.]\n",
      "Среднее по строкам: [1. 4. 7.]\n"
     ]
    }
   ],
   "source": [
    "# среднее\n",
    "print(f'Среднее: {np.mean(array_example_5)}')\n",
    "\n",
    "# среднее по столбцам\n",
    "print(f'Среднее по столбцам: {np.mean(array_example_5, axis = 0)}')\n",
    "\n",
    "# среднее по строкам\n",
    "print(f'Среднее по строкам: {np.mean(array_example_5, axis = 1)}')"
   ]
  },
  {
   "cell_type": "code",
   "execution_count": 77,
   "id": "e76164db",
   "metadata": {},
   "outputs": [
    {
     "name": "stdout",
     "output_type": "stream",
     "text": [
      "Минимум: 0\n",
      "Максимум: 8\n",
      "Минимум по столбцам: [0 1 2]\n",
      "Максимум по столбцам: [6 7 8]\n",
      "Минимум по строкам: [0 3 6]\n",
      "Максимум по строкам: [2 5 8]\n"
     ]
    }
   ],
   "source": [
    "# Минимальное и масимальное значение\n",
    "print(f'Минимум: {np.min(array_example_5)}')\n",
    "print(f'Максимум: {np.max(array_example_5)}')\n",
    "\n",
    "# Минимальное и максимальное по столбцам\n",
    "print(f'Минимум по столбцам: {np.min(array_example_5, axis=0)}')\n",
    "print(f'Максимум по столбцам: {np.max(array_example_5, axis=0)}')\n",
    "\n",
    "# Минимальное и максимальное по строкам\n",
    "print(f'Минимум по строкам: {np.min(array_example_5, axis=1)}')\n",
    "print(f'Максимум по строкам: {np.max(array_example_5, axis=1)}')"
   ]
  },
  {
   "cell_type": "code",
   "execution_count": 78,
   "id": "e51640b4",
   "metadata": {},
   "outputs": [
    {
     "name": "stdout",
     "output_type": "stream",
     "text": [
      "Минимум: 0\n",
      "Максимум: 8\n",
      "Минимум по столбцам: [0 1 2]\n",
      "Максимум по столбцам: [6 7 8]\n",
      "Минимум по строкам: [0 3 6]\n",
      "Максимум по строкам: [2 5 8]\n"
     ]
    }
   ],
   "source": [
    "# Минимальное и масимальное значение\n",
    "print(f'Минимум: {np.min(array_example_5)}')\n",
    "print(f'Максимум: {np.max(array_example_5)}')\n",
    "\n",
    "# Минимальное и максимальное по столбцам\n",
    "print(f'Минимум по столбцам: {np.min(array_example_5, axis=0)}')\n",
    "print(f'Максимум по столбцам: {np.max(array_example_5, axis=0)}')\n",
    "\n",
    "# Минимальное и максимальное по строкам\n",
    "print(f'Минимум по строкам: {np.min(array_example_5, axis=1)}')\n",
    "print(f'Максимум по строкам: {np.max(array_example_5, axis=1)}')"
   ]
  },
  {
   "cell_type": "code",
   "execution_count": 79,
   "id": "f7234490",
   "metadata": {},
   "outputs": [
    {
     "name": "stdout",
     "output_type": "stream",
     "text": [
      "Индекс минимального: 0\n",
      "Индекс масимального: 8\n",
      "Индекс минимума по столбцам: [0 0 0]\n",
      "Индекс максимума по столбцам: [2 2 2]\n",
      "Индекс минимума по строкам: [0 0 0]\n",
      "Индекс максимума по строкам: [2 2 2]\n"
     ]
    }
   ],
   "source": [
    "# Индекс минимального и масимального значение\n",
    "print(f'Индекс минимального: {np.argmin(array_example_5)}')\n",
    "print(f'Индекс масимального: {np.argmax(array_example_5)}')\n",
    "\n",
    "# Индекс минимального и максимального по столбцам\n",
    "print(f'Индекс минимума по столбцам: {np.argmin(array_example_5, axis=0)}')\n",
    "print(f'Индекс максимума по столбцам: {np.argmax(array_example_5, axis=0)}')\n",
    "\n",
    "# Индекс минимального и максимального по строкам\n",
    "print(f'Индекс минимума по строкам: {np.argmin(array_example_5, axis=1)}')\n",
    "print(f'Индекс максимума по строкам: {np.argmax(array_example_5, axis=1)}')"
   ]
  },
  {
   "cell_type": "code",
   "execution_count": null,
   "id": "2a0f2d75",
   "metadata": {},
   "outputs": [],
   "source": []
  }
 ],
 "metadata": {
  "kernelspec": {
   "display_name": "Python 3",
   "language": "python",
   "name": "python3"
  },
  "language_info": {
   "codemirror_mode": {
    "name": "ipython",
    "version": 3
   },
   "file_extension": ".py",
   "mimetype": "text/x-python",
   "name": "python",
   "nbconvert_exporter": "python",
   "pygments_lexer": "ipython3",
   "version": "3.13.0"
  },
  "panel-cell-order": [
   "1c45ec9c-f833-4fae-b6bf-0c02f77c8101",
   "bb4b0836-a94b-4056-bf96-c80092a4909a",
   "606ee411-bfc6-41ea-abde-e716af13bb1c",
   "c9108e82-f3f3-4e37-a497-adb9ad8dbec7",
   "ca7c242c-5240-483d-af4b-35c1bb0ed5ab",
   "c699de48-9db1-4d75-9f6c-e389582aa527",
   "c085ba5d-e6e2-403c-b669-10ea85acc2cb",
   "7d8b3bde-19c4-4eae-901c-262a10f663f6",
   "0373bba1-3b13-4f22-af59-06061d32dac6",
   "e5988510-5b0d-4f8f-ad44-bbb20c7b360b",
   "33b073d5-8065-464d-a034-5ff788923bd5"
  ]
 },
 "nbformat": 4,
 "nbformat_minor": 5
}
