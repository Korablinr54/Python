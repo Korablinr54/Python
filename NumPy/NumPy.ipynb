{
 "cells": [
  {
   "cell_type": "markdown",
   "id": "1c45ec9c-f833-4fae-b6bf-0c02f77c8101",
   "metadata": {
    "panel-layout": {
     "height": 94.8499984741211,
     "visible": true,
     "width": 100
    }
   },
   "source": [
    "# Конспект: библиотека NumPy для Python"
   ]
  },
  {
   "cell_type": "markdown",
   "id": "301d01dc-0a90-4494-834d-83aa81f63670",
   "metadata": {},
   "source": [
    "# Одномерные массивы"
   ]
  },
  {
   "cell_type": "markdown",
   "id": "bb4b0836-a94b-4056-bf96-c80092a4909a",
   "metadata": {
    "panel-layout": {
     "height": 50.8125,
     "visible": true,
     "width": 100
    }
   },
   "source": [
    "## Создание одномерного массива"
   ]
  },
  {
   "cell_type": "code",
   "execution_count": 1,
   "id": "e2c1aaf5-daa4-4a1f-ac0d-c0483f23b29e",
   "metadata": {},
   "outputs": [],
   "source": [
    "import numpy as np"
   ]
  },
  {
   "cell_type": "markdown",
   "id": "606ee411-bfc6-41ea-abde-e716af13bb1c",
   "metadata": {
    "panel-layout": {
     "height": 44.07500076293945,
     "visible": true,
     "width": 100
    }
   },
   "source": [
    "### Создание одномерного массива из списка"
   ]
  },
  {
   "cell_type": "code",
   "execution_count": 2,
   "id": "c9108e82-f3f3-4e37-a497-adb9ad8dbec7",
   "metadata": {
    "panel-layout": {
     "height": 37.13750076293945,
     "visible": true,
     "width": 100
    }
   },
   "outputs": [
    {
     "data": {
      "text/plain": [
       "array([1, 2, 3, 4, 5])"
      ]
     },
     "metadata": {},
     "output_type": "display_data"
    }
   ],
   "source": [
    "array = np.array([1, 2, 3, 4, 5])\n",
    "display(array)"
   ]
  },
  {
   "cell_type": "markdown",
   "id": "ca7c242c-5240-483d-af4b-35c1bb0ed5ab",
   "metadata": {
    "panel-layout": {
     "height": 64.125,
     "visible": true,
     "width": 100
    }
   },
   "source": [
    "### Создание одномерного массива из переменной"
   ]
  },
  {
   "cell_type": "code",
   "execution_count": 3,
   "id": "4a283780-5062-468f-b684-787d2cdb9a0e",
   "metadata": {},
   "outputs": [],
   "source": [
    "list = ([1,2,3,4,5])"
   ]
  },
  {
   "cell_type": "code",
   "execution_count": 4,
   "id": "c699de48-9db1-4d75-9f6c-e389582aa527",
   "metadata": {
    "panel-layout": {
     "height": 37.13750076293945,
     "visible": true,
     "width": 100
    }
   },
   "outputs": [
    {
     "data": {
      "text/plain": [
       "array([1, 2, 3, 4, 5])"
      ]
     },
     "metadata": {},
     "output_type": "display_data"
    }
   ],
   "source": [
    "array_from_list = np.array(list)\n",
    "display(array_from_list)"
   ]
  },
  {
   "cell_type": "markdown",
   "id": "c085ba5d-e6e2-403c-b669-10ea85acc2cb",
   "metadata": {
    "panel-layout": {
     "height": 78.20000457763672,
     "visible": true,
     "width": 100
    }
   },
   "source": [
    "### Создание одномерного массива используя диапазон значений\n",
    "numpy.arange(start, end, step)"
   ]
  },
  {
   "cell_type": "code",
   "execution_count": 5,
   "id": "7d8b3bde-19c4-4eae-901c-262a10f663f6",
   "metadata": {
    "panel-layout": {
     "height": 37.13750076293945,
     "visible": true,
     "width": 100
    }
   },
   "outputs": [
    {
     "data": {
      "text/plain": [
       "array([1, 3, 5, 7, 9])"
      ]
     },
     "metadata": {},
     "output_type": "display_data"
    }
   ],
   "source": [
    "array_from_range = np.arange(1, 11, 2) \n",
    "display(array_from_range)"
   ]
  },
  {
   "cell_type": "markdown",
   "id": "0373bba1-3b13-4f22-af59-06061d32dac6",
   "metadata": {
    "panel-layout": {
     "height": 51.13750076293945,
     "visible": true,
     "width": 100
    }
   },
   "source": [
    "Список может хранить любиые типы данных, например, строки:"
   ]
  },
  {
   "cell_type": "code",
   "execution_count": 6,
   "id": "e5988510-5b0d-4f8f-ad44-bbb20c7b360b",
   "metadata": {
    "panel-layout": {
     "height": 37.13750076293945,
     "visible": true,
     "width": 100
    }
   },
   "outputs": [
    {
     "data": {
      "text/plain": [
       "array(['1', '2', '3', '6.5', 'Hello world!'], dtype='<U32')"
      ]
     },
     "metadata": {},
     "output_type": "display_data"
    }
   ],
   "source": [
    "orject_array = np.array([1, 2, 3, 6.5, 'Hello world!'])\n",
    "display(orject_array)"
   ]
  },
  {
   "cell_type": "markdown",
   "id": "33b073d5-8065-464d-a034-5ff788923bd5",
   "metadata": {
    "editable": true,
    "panel-layout": {
     "height": 51.13750076293945,
     "visible": true,
     "width": 100
    },
    "slideshow": {
     "slide_type": ""
    },
    "tags": []
   },
   "source": [
    "Тип данных ```dtype='<U32'``` в NumPy обозначает, что массив содержит строки (Unicode) фиксированной длины до 32 символов. Вот более подробное объяснение:  \n",
    "```<``` Указывает на порядок байтов (little-endian), что означает, что младший байт хранится первым;  \n",
    "```U``` Обозначает, что элементы массива являются строками Unicode;  \n",
    "```32``` Максимальная длина каждой строки в массиве составляет 32 символа."
   ]
  },
  {
   "cell_type": "markdown",
   "id": "b5f08cc5",
   "metadata": {},
   "source": [
    "### Создание одномерного массива используя: zeros, ones, full"
   ]
  },
  {
   "cell_type": "markdown",
   "id": "38255eb5-cc4f-42b9-a75e-95ac60b8a6d5",
   "metadata": {},
   "source": [
    "#### zeros"
   ]
  },
  {
   "cell_type": "markdown",
   "id": "926a2d6e-405a-4476-8785-7830b4f32b30",
   "metadata": {},
   "source": [
    "numpy.zeros(shape)"
   ]
  },
  {
   "cell_type": "code",
   "execution_count": 7,
   "id": "ee15e9a7-cad4-489b-b087-26b12886fde3",
   "metadata": {},
   "outputs": [
    {
     "data": {
      "text/plain": [
       "array([0., 0., 0., 0., 0.])"
      ]
     },
     "metadata": {},
     "output_type": "display_data"
    }
   ],
   "source": [
    "array_zeros = np.zeros(5)\n",
    "display(array_zeros)"
   ]
  },
  {
   "cell_type": "markdown",
   "id": "b504bfda-9bbd-4868-b135-247f0c95feec",
   "metadata": {},
   "source": [
    "#### ones"
   ]
  },
  {
   "cell_type": "markdown",
   "id": "7042a85b-2e55-4299-bbdc-2bf78017bc1f",
   "metadata": {},
   "source": [
    "numpy.ones(shape)"
   ]
  },
  {
   "cell_type": "code",
   "execution_count": 8,
   "id": "b5b993f7-b73f-4e5b-9767-07fa36fa1c31",
   "metadata": {},
   "outputs": [
    {
     "data": {
      "text/plain": [
       "array([1., 1., 1., 1., 1.])"
      ]
     },
     "metadata": {},
     "output_type": "display_data"
    }
   ],
   "source": [
    "array_ones = np.ones(5)\n",
    "display(array_ones)"
   ]
  },
  {
   "cell_type": "markdown",
   "id": "24de99df-292c-43da-add6-846b53eaa860",
   "metadata": {},
   "source": [
    "#### full"
   ]
  },
  {
   "cell_type": "markdown",
   "id": "e8c4c981-f75b-4237-a181-76eabc47d626",
   "metadata": {},
   "source": [
    "numpy.full(shape, fill_value)"
   ]
  },
  {
   "cell_type": "code",
   "execution_count": 9,
   "id": "88cba55c-99f8-4205-b6e0-e2c7ee854d28",
   "metadata": {},
   "outputs": [
    {
     "data": {
      "text/plain": [
       "array([7, 7, 7, 7, 7])"
      ]
     },
     "metadata": {},
     "output_type": "display_data"
    },
    {
     "data": {
      "text/plain": [
       "array(['x', 'x', 'x', 'x', 'x'], dtype='<U1')"
      ]
     },
     "metadata": {},
     "output_type": "display_data"
    }
   ],
   "source": [
    "array_digit = np.full(5, 7)\n",
    "display(array_digit)\n",
    "\n",
    "array_str = np.full(5, 'x')\n",
    "display(array_str)"
   ]
  },
  {
   "cell_type": "markdown",
   "id": "4e685f70-7b87-4dde-aadc-ee81a15de01b",
   "metadata": {},
   "source": [
    "Тип данных ```dtype='<U1'``` обозначает, что массив содержит строки (Unicode) фиксированной длины. В данном случае:  \n",
    "```<``` указывает на порядок байтов (little-endian);  \n",
    "```U``` обозначает, что это строки Unicode;  \n",
    "```1``` указывает максимальную длину каждой строки в массиве (в данном случае 1 символ).  "
   ]
  },
  {
   "cell_type": "markdown",
   "id": "31046b90-7744-4702-bb85-c207d2db3fba",
   "metadata": {},
   "source": [
    "## Включение данных в одномерный массив - append"
   ]
  },
  {
   "cell_type": "markdown",
   "id": "42878029-811f-433b-86e1-56170e39e037",
   "metadata": {},
   "source": [
    "```numpy.append(arr, values, axis=None)```  \n",
    "```arr``` Это входной массив, к которому вы хотите добавить значения.  \n",
    "```values``` Это значения, которые вы хотите добавить к входному массиву. Форма values должна соответствовать форме arr, за исключением указанной оси.   \n",
    "```axis``` Этот необязательный параметр указывает ось, вдоль которой будут добавлены значения. Если не указано, массивы будут преобразованы в одномерные, и значения будут добавлены как одномерный массив."
   ]
  },
  {
   "cell_type": "code",
   "execution_count": 10,
   "id": "26003d51-b64d-465e-9ab3-5949e5fdc397",
   "metadata": {},
   "outputs": [
    {
     "data": {
      "text/plain": [
       "array([1, 2, 3, 4, 5])"
      ]
     },
     "metadata": {},
     "output_type": "display_data"
    },
    {
     "data": {
      "text/plain": [
       "array([ 6,  7,  8,  9, 10])"
      ]
     },
     "metadata": {},
     "output_type": "display_data"
    }
   ],
   "source": [
    "array_example = np.array([1, 2, 3, 4, 5])\n",
    "display(array_example)\n",
    "\n",
    "append_example = np.array([6, 7, 8, 9, 10])\n",
    "display(append_example)"
   ]
  },
  {
   "cell_type": "code",
   "execution_count": 11,
   "id": "bd8a7e2c-ecc1-465e-a800-92b267c78a1e",
   "metadata": {},
   "outputs": [
    {
     "data": {
      "text/plain": [
       "array([ 1,  2,  3,  4,  5,  6,  7,  8,  9, 10])"
      ]
     },
     "metadata": {},
     "output_type": "display_data"
    }
   ],
   "source": [
    "array_example = np.append(array_example, append_example)\n",
    "display(array_example)"
   ]
  },
  {
   "cell_type": "markdown",
   "id": "01a7f291-461e-4d4b-882f-353209119bbc",
   "metadata": {},
   "source": [
    "## Арифметические операции"
   ]
  },
  {
   "cell_type": "code",
   "execution_count": 12,
   "id": "5053c347-23ad-447f-a81d-f4ab356980ca",
   "metadata": {},
   "outputs": [],
   "source": [
    "arr_1 = np.arange(0,5)\n",
    "arr_2 = np.arange(6,11)"
   ]
  },
  {
   "cell_type": "markdown",
   "id": "72958277-95f8-453f-94ea-a2dc81dc1b95",
   "metadata": {},
   "source": [
    "### Арифметические операции над одномерными массивами"
   ]
  },
  {
   "cell_type": "code",
   "execution_count": 13,
   "id": "64f68d01-b7c2-4dd5-bdab-4ec148f3a75c",
   "metadata": {},
   "outputs": [
    {
     "data": {
      "text/plain": [
       "'Исходный массив - [0 1 2 3 4]'"
      ]
     },
     "metadata": {},
     "output_type": "display_data"
    },
    {
     "data": {
      "text/plain": [
       "'Сложение: [100 101 102 103 104]'"
      ]
     },
     "metadata": {},
     "output_type": "display_data"
    },
    {
     "data": {
      "text/plain": [
       "'Вычитание: [-1  0  1  2  3]'"
      ]
     },
     "metadata": {},
     "output_type": "display_data"
    },
    {
     "data": {
      "text/plain": [
       "'Умножение: [ 0  3  6  9 12]'"
      ]
     },
     "metadata": {},
     "output_type": "display_data"
    },
    {
     "data": {
      "text/plain": [
       "'Деление: [0.  0.5 1.  1.5 2. ]'"
      ]
     },
     "metadata": {},
     "output_type": "display_data"
    },
    {
     "data": {
      "text/plain": [
       "'Возведение в степень: [ 0  1  8 27 64]'"
      ]
     },
     "metadata": {},
     "output_type": "display_data"
    }
   ],
   "source": [
    "display(f'Исходный массив - {arr_1}')\n",
    "display(f'Сложение: {arr_1 + 100}')\n",
    "display(f'Вычитание: {arr_1 - 1}')\n",
    "display(f'Умножение: {arr_1 * 3}')\n",
    "display(f'Деление: {arr_1 / 2}')\n",
    "display(f'Возведение в степень: {arr_1 ** 3}')"
   ]
  },
  {
   "cell_type": "markdown",
   "id": "7ba071fc-704d-4059-88a3-8b88e6759153",
   "metadata": {},
   "source": [
    "### Арифметические операции между одномерными массивами"
   ]
  },
  {
   "cell_type": "code",
   "execution_count": 14,
   "id": "238c123e-14a5-4c29-a874-6448bd25db32",
   "metadata": {},
   "outputs": [
    {
     "data": {
      "text/plain": [
       "array([0, 1, 2, 3, 4])"
      ]
     },
     "metadata": {},
     "output_type": "display_data"
    },
    {
     "data": {
      "text/plain": [
       "array([ 6,  7,  8,  9, 10])"
      ]
     },
     "metadata": {},
     "output_type": "display_data"
    }
   ],
   "source": [
    "display(arr_1)\n",
    "display(arr_2)"
   ]
  },
  {
   "cell_type": "code",
   "execution_count": 15,
   "id": "d6e8e26f-39c1-4efa-b51f-21b57149e6c5",
   "metadata": {},
   "outputs": [
    {
     "data": {
      "text/plain": [
       "'Сложение: [ 6  8 10 12 14]'"
      ]
     },
     "metadata": {},
     "output_type": "display_data"
    },
    {
     "data": {
      "text/plain": [
       "'Вычитание: [6 6 6 6 6]'"
      ]
     },
     "metadata": {},
     "output_type": "display_data"
    },
    {
     "data": {
      "text/plain": [
       "'Умножение: [ 0  7 16 27 40]'"
      ]
     },
     "metadata": {},
     "output_type": "display_data"
    },
    {
     "data": {
      "text/plain": [
       "'Деление: [0.         0.14285714 0.25       0.33333333 0.4       ]'"
      ]
     },
     "metadata": {},
     "output_type": "display_data"
    },
    {
     "data": {
      "text/plain": [
       "'Возведение в степень: [      0       1     256   19683 1048576]'"
      ]
     },
     "metadata": {},
     "output_type": "display_data"
    }
   ],
   "source": [
    "display(f'Сложение: {arr_1 + arr_2}')\n",
    "display(f'Вычитание: {arr_2 - arr_1}')\n",
    "display(f'Умножение: {arr_1 * arr_2}')\n",
    "display(f'Деление: {arr_1 / arr_2}')\n",
    "display(f'Возведение в степень: {arr_1 ** arr_2}')"
   ]
  },
  {
   "cell_type": "markdown",
   "id": "54b48cf3-0cc6-4041-b4e7-4133ff60f837",
   "metadata": {},
   "source": [
    "**Внимание:** для выполнения арифметических операций между массивами они должны иметь одну размерность."
   ]
  },
  {
   "cell_type": "code",
   "execution_count": 16,
   "id": "2d2778ed-60f1-47b9-821c-789a4e24a4ea",
   "metadata": {},
   "outputs": [],
   "source": [
    "arr_3 = np.array([1, 2, 3])"
   ]
  },
  {
   "cell_type": "code",
   "execution_count": 17,
   "id": "29c8efca-4ce5-4a66-afa3-1194d4a6aa79",
   "metadata": {},
   "outputs": [
    {
     "data": {
      "text/plain": [
       "array([0, 1, 2, 3, 4])"
      ]
     },
     "metadata": {},
     "output_type": "display_data"
    },
    {
     "data": {
      "text/plain": [
       "array([1, 2, 3])"
      ]
     },
     "metadata": {},
     "output_type": "display_data"
    }
   ],
   "source": [
    "display(arr_1)\n",
    "display(arr_3)"
   ]
  },
  {
   "cell_type": "markdown",
   "id": "7147ee23-7e74-4dcb-b079-2bc8e10b0050",
   "metadata": {},
   "source": [
    "display(f'Сложение: {arr_1 + arr_3}')\n",
    "display(f'Вычитание: {arr_2 - arr_3}')\n",
    "display(f'Умножение: {arr_1 * arr_3}')\n",
    "display(f'Деление: {arr_1 / arr_3}')\n",
    "display(f'Возведение в степень: {arr_1 ** arr_3}')"
   ]
  },
  {
   "cell_type": "markdown",
   "id": "1f946b42-45f0-4f1b-8498-36a0d82b1bfc",
   "metadata": {},
   "source": [
    "Вы полнение будет заершено с ошибкой, т.к. размерность массива arr_1 - 5, а arr_3 всего 3."
   ]
  },
  {
   "cell_type": "markdown",
   "id": "02cc0f1e-c704-4410-806e-9f6f072b3d8d",
   "metadata": {},
   "source": [
    "# Типы данных в NumPy"
   ]
  },
  {
   "cell_type": "markdown",
   "id": "1df09b60-d792-46ff-99f1-1af55ac80861",
   "metadata": {},
   "source": [
    "### Определение типа данных в массиве"
   ]
  },
  {
   "cell_type": "code",
   "execution_count": 18,
   "id": "7063c20c-f766-4728-87cf-287498e38bb7",
   "metadata": {},
   "outputs": [
    {
     "name": "stdout",
     "output_type": "stream",
     "text": [
      "<class 'numpy.ndarray'>\n",
      "int64\n"
     ]
    }
   ],
   "source": [
    "# Создание массива\n",
    "array = np.array([1, 2, 3, 4, 5])\n",
    "\n",
    "# Проверка типа самого объекта\n",
    "print(type(array))  # Это вернет <class 'numpy.ndarray'>\n",
    "\n",
    "# Проверка типа данных элементов массива, того, что внутри объекта\n",
    "print(array.dtype)  # Это вернет dtype('int64')\n"
   ]
  },
  {
   "cell_type": "code",
   "execution_count": 19,
   "id": "16672fdf-f6a6-4dba-b582-bfbca5020e6c",
   "metadata": {},
   "outputs": [
    {
     "name": "stdout",
     "output_type": "stream",
     "text": [
      "<U1\n"
     ]
    }
   ],
   "source": [
    "# Сосздадим строковый массив\n",
    "array = np.array(['1', '2', '3'])\n",
    "\n",
    "# Првоерим, что теперь хранится в массиве\n",
    "print(array.dtype) # вернет U1 - т.е. юникод с максимальной длинной в 1 символ"
   ]
  },
  {
   "cell_type": "markdown",
   "id": "1278944a-3ad4-4648-aa1d-a77cc7970c52",
   "metadata": {},
   "source": [
    "### Изменение типа данных в массиве"
   ]
  },
  {
   "cell_type": "code",
   "execution_count": 20,
   "id": "cd235841-2732-47dd-85a6-ac160f5bc84d",
   "metadata": {},
   "outputs": [
    {
     "name": "stdout",
     "output_type": "stream",
     "text": [
      "<U1\n",
      "int64\n"
     ]
    }
   ],
   "source": [
    "# изменим типа даных в строковом массиве array на целочисленый\n",
    "\n",
    "print(array.dtype) # вернет U1, т.к пока тип данных еще строковый\n",
    "\n",
    "# указываем тип данных\n",
    "array = array.astype(int) \n",
    "\n",
    "# првоерим, что тип сменился на целочисленный, integer\n",
    "print(array.dtype) # вернет int64"
   ]
  },
  {
   "cell_type": "code",
   "execution_count": 21,
   "id": "4e9dd289-0b7c-427d-ae09-c020e3b9393d",
   "metadata": {},
   "outputs": [
    {
     "data": {
      "text/plain": [
       "array([1., 1.])"
      ]
     },
     "metadata": {},
     "output_type": "display_data"
    },
    {
     "data": {
      "text/plain": [
       "array([0., 0., 0.])"
      ]
     },
     "metadata": {},
     "output_type": "display_data"
    },
    {
     "data": {
      "text/plain": [
       "array([1., 1., 0., 0., 0.])"
      ]
     },
     "metadata": {},
     "output_type": "display_data"
    },
    {
     "data": {
      "text/plain": [
       "array([ True,  True, False, False, False])"
      ]
     },
     "metadata": {},
     "output_type": "display_data"
    }
   ],
   "source": [
    "# Работа с типом данных boolean\n",
    "\n",
    "# создадим массив с парой единиц\n",
    "ones = np.ones(2)\n",
    "display(ones) # вернет array([1., 1.])\n",
    "\n",
    "# создаем массив с нулями\n",
    "zeros = np.zeros(3)\n",
    "display(zeros) # вернет array([0., 0., 0.])\n",
    "\n",
    "# объединим в один массив\n",
    "array_bool = np.append(ones, zeros)\n",
    "display(array_bool) # вернет оба массива вместе array([1., 1., 0., 0., 0.]) \n",
    "\n",
    "# изменим теперь тип данных на boolean\n",
    "array_bool = array_bool.astype(bool)\n",
    "display(array_bool) # вернет array([ True,  True, False, False, False]) "
   ]
  },
  {
   "cell_type": "markdown",
   "id": "b04b704e-e6ab-4160-8067-f4ff6ddc4e8a",
   "metadata": {},
   "source": [
    "# Многомерные массивы"
   ]
  },
  {
   "cell_type": "markdown",
   "id": "cfb64871-5084-46a9-aca7-14be3156c16e",
   "metadata": {},
   "source": [
    "## Создание многомерного массива из переменной"
   ]
  },
  {
   "cell_type": "code",
   "execution_count": 22,
   "id": "497884fa-49e8-4256-b053-cec395399c09",
   "metadata": {},
   "outputs": [
    {
     "name": "stdout",
     "output_type": "stream",
     "text": [
      "Содержимое объекта: [[1, 2, 3], [4, 5, 6]], \n",
      "Тип объекта: <class 'list'>\n",
      "\n",
      "Массив:\n",
      " [['1' '2' '3']\n",
      " ['4' '5' '6']]\n",
      "Тип данных в массиве: <U21\n"
     ]
    }
   ],
   "source": [
    "\n",
    "# Создадим объект python (список списков)\n",
    "lst_1 = ([[1, 2, 3,], [4, 5, 6]])\n",
    "\n",
    "# выведем результат\n",
    "print(f'Содержимое объекта: {lst_1}, \\n'\n",
    "      f'Тип объекта: {type(lst_1)}')\n",
    "\n",
    "# создадим массив из переменной\n",
    "arr_1 = np.array(lst_1).astype(str) # для практики изменим тип данных на str\n",
    "\n",
    "# выведем результат\n",
    "print('\\nМассив:\\n', arr_1)\n",
    "print('Тип данных в массиве:', arr_1.dtype)"
   ]
  },
  {
   "cell_type": "markdown",
   "id": "ce487606-2140-4c04-92ba-e7c92dc4ed46",
   "metadata": {},
   "source": [
    "## Создание многомерного массива в ручном режиме"
   ]
  },
  {
   "cell_type": "markdown",
   "id": "4b1cef1d-226e-4142-a508-b398c893cd5b",
   "metadata": {},
   "source": [
    "# создадим многомерный массив в ручном режиме\n",
    "arr_2 = np.array([\n",
    "                    [1.5, 2.3, 1.1],     # 3 элемента\n",
    "                    [3.1, 2.5, 11, 6.1]  # 4 элемента\n",
    "])"
   ]
  },
  {
   "cell_type": "markdown",
   "id": "a3b5b93c-2f83-4f60-9af6-09d604cd9f90",
   "metadata": {},
   "source": [
    "Такой скрипт вернет нам ошибку. Причина заключается в том, что все уровни многомерного массива должны содержать равное число элеметонв. Исправим наш код."
   ]
  },
  {
   "cell_type": "code",
   "execution_count": 23,
   "id": "1c143832-503b-42d2-8014-7dbbf4287ad5",
   "metadata": {},
   "outputs": [
    {
     "data": {
      "text/plain": [
       "array([[ 1.5,  2.3,  1.1],\n",
       "       [ 3.1,  2.5, 11. ]])"
      ]
     },
     "metadata": {},
     "output_type": "display_data"
    },
    {
     "data": {
      "text/plain": [
       "dtype('float64')"
      ]
     },
     "metadata": {},
     "output_type": "display_data"
    }
   ],
   "source": [
    "arr_2 = np.array([\n",
    "                    [1.5, 2.3, 1.1],     \n",
    "                    [3.1, 2.5, 11] \n",
    "])\n",
    "\n",
    "display(arr_2, arr_2.dtype)"
   ]
  },
  {
   "cell_type": "markdown",
   "id": "d6e2a875-f044-4ff2-87ae-344580b5e5be",
   "metadata": {},
   "source": [
    "При изменении типа данных у числел с плавающей точкой на целочисленный тип, значения будут округлены вниз, т.е. дробная часть будет просто отсечена."
   ]
  },
  {
   "cell_type": "code",
   "execution_count": 24,
   "id": "a2bbf93f-2e17-44cf-a9f0-ec089129a4df",
   "metadata": {},
   "outputs": [
    {
     "data": {
      "text/plain": [
       "array([[ 1,  2,  1],\n",
       "       [ 3,  2, 11]])"
      ]
     },
     "metadata": {},
     "output_type": "display_data"
    },
    {
     "data": {
      "text/plain": [
       "dtype('int64')"
      ]
     },
     "metadata": {},
     "output_type": "display_data"
    }
   ],
   "source": [
    "arr_3 = arr_2.astype(int)\n",
    "display(arr_3, arr_3.dtype)"
   ]
  },
  {
   "cell_type": "markdown",
   "id": "15322f27-1b80-4d9c-8801-30a6f1691286",
   "metadata": {},
   "source": [
    "## Создание многомерных массивов: zeros, ones, full, range"
   ]
  },
  {
   "cell_type": "markdown",
   "id": "3199e014-37b0-4126-aaa9-3519dd25e6dd",
   "metadata": {},
   "source": [
    "### zeros"
   ]
  },
  {
   "cell_type": "code",
   "execution_count": 25,
   "id": "2be347bc-0650-4564-a0dd-3434ac7a343a",
   "metadata": {},
   "outputs": [
    {
     "data": {
      "text/plain": [
       "array([[0, 0, 0],\n",
       "       [0, 0, 0]])"
      ]
     },
     "metadata": {},
     "output_type": "display_data"
    },
    {
     "data": {
      "text/plain": [
       "dtype('int64')"
      ]
     },
     "metadata": {},
     "output_type": "display_data"
    }
   ],
   "source": [
    "# создадим многомерный массив\n",
    "arr_zeros = np.zeros([2, 3]).astype(int) # изменим тип данных на int\n",
    "    # где 2 и 3 - размерность массив\n",
    "       # 2 - число элементов массива\n",
    "       # количество значений внутри элемента массива\n",
    "\n",
    "display(arr_zeros, arr_zeros.dtype)"
   ]
  },
  {
   "cell_type": "markdown",
   "id": "1d7ca367-386a-41d6-92e5-0f01c0b128ad",
   "metadata": {},
   "source": [
    "### ones"
   ]
  },
  {
   "cell_type": "code",
   "execution_count": 26,
   "id": "398c637e-f048-4ab1-aa85-0301ae5589ba",
   "metadata": {},
   "outputs": [
    {
     "data": {
      "text/plain": [
       "array([[1, 1, 1],\n",
       "       [1, 1, 1]])"
      ]
     },
     "metadata": {},
     "output_type": "display_data"
    },
    {
     "data": {
      "text/plain": [
       "dtype('int64')"
      ]
     },
     "metadata": {},
     "output_type": "display_data"
    }
   ],
   "source": [
    "# логика аналогична zeros\n",
    "arr_ones = np.ones([2, 3]).astype(int)\n",
    "display(arr_ones, arr_ones.dtype)"
   ]
  },
  {
   "cell_type": "markdown",
   "id": "80e10762-e014-43e8-97e6-d9934b0c497e",
   "metadata": {},
   "source": [
    "### full"
   ]
  },
  {
   "cell_type": "code",
   "execution_count": 27,
   "id": "09ea2273-8728-4990-a4b5-5bd24422fdb2",
   "metadata": {},
   "outputs": [
    {
     "data": {
      "text/plain": [
       "array([[7, 7, 7, 7, 7],\n",
       "       [7, 7, 7, 7, 7],\n",
       "       [7, 7, 7, 7, 7]])"
      ]
     },
     "metadata": {},
     "output_type": "display_data"
    },
    {
     "data": {
      "text/plain": [
       "dtype('int64')"
      ]
     },
     "metadata": {},
     "output_type": "display_data"
    }
   ],
   "source": [
    "# создадим многомерный массив используя full\n",
    "arr_full = np.full([3, 5], 7)\n",
    "    # где 3 и 5 это значения размерности массива\n",
    "        # 7 - то, чем мы заполняем этот массив\n",
    "\n",
    "display(arr_full, arr_full.dtype)"
   ]
  },
  {
   "cell_type": "markdown",
   "id": "1aa49da2-2e9e-4940-8990-f8a68d615f05",
   "metadata": {},
   "source": [
    "### range"
   ]
  },
  {
   "cell_type": "code",
   "execution_count": 28,
   "id": "c30577d9-5a4a-4c27-aa0c-b054d81f63c7",
   "metadata": {},
   "outputs": [
    {
     "name": "stdout",
     "output_type": "stream",
     "text": [
      "Изначальфынй массив\n",
      "[0 1 2 3 4 5 6 7 8 9] \n",
      "\n",
      "Измененный массив\n",
      "[[0 1 2 3 4]\n",
      " [5 6 7 8 9]]\n"
     ]
    }
   ],
   "source": [
    "# создаем одномерный массив используя range\n",
    "arr_range = np.array(range(10))\n",
    "print(f'Изначальфынй массив')\n",
    "print(f'{arr_range} \\n')\n",
    "\n",
    "# меняем форму массива используя reshape\n",
    "arr_reshape = arr_range.reshape(2, 5)\n",
    "print(f'Измененный массив')\n",
    "print(arr_reshape)"
   ]
  },
  {
   "cell_type": "markdown",
   "id": "1877a690-94fa-4ae6-9777-4f6332776811",
   "metadata": {},
   "source": [
    "## Арифметические операции"
   ]
  },
  {
   "cell_type": "markdown",
   "id": "c4a4251e-2e2e-479a-a830-1f6b32bb50ce",
   "metadata": {},
   "source": [
    "### Арифметические операции над многомерными массивам"
   ]
  },
  {
   "cell_type": "code",
   "execution_count": 29,
   "id": "29c302c0-45c5-44bc-b823-53eacf4960a6",
   "metadata": {},
   "outputs": [
    {
     "name": "stdout",
     "output_type": "stream",
     "text": [
      "[[0 1 2]\n",
      " [3 4 5]\n",
      " [6 7 8]]\n",
      "Тип данных в массиве: int64\n",
      "\n",
      " Умножение\n",
      "[[ 0  2  4]\n",
      " [ 6  8 10]\n",
      " [12 14 16]]\n",
      "\n",
      " Деление\n",
      "[[0.  0.5 1. ]\n",
      " [1.5 2.  2.5]\n",
      " [3.  3.5 4. ]]\n",
      "При делении тип автоматически преобразуется во float\n",
      "\n",
      " Сложение\n",
      "[[100 101 102]\n",
      " [103 104 105]\n",
      " [106 107 108]]\n",
      "\n",
      " Вычитание\n",
      "[[-0.33  0.67  1.67]\n",
      " [ 2.67  3.67  4.67]\n",
      " [ 5.67  6.67  7.67]]\n",
      "\n",
      " Возведение в степень\n",
      "[[  0   1   8]\n",
      " [ 27  64 125]\n",
      " [216 343 512]]\n"
     ]
    }
   ],
   "source": [
    "\n",
    "# создадим массив\n",
    "array_test = np.array(range(9)).reshape(3, 3)\n",
    "\n",
    "# взглянем на результат\n",
    "print(array_test)\n",
    "print(f'Тип данных в массиве: {array_test.dtype}')\n",
    "\n",
    "# выполним стандартные арифметические дедйствия над многомерным массивом\n",
    "print(f'\\n Умножение')\n",
    "print(f'{array_test * 2}')\n",
    "\n",
    "print(f'\\n Деление')\n",
    "print(f'{array_test / 2}')\n",
    "print('При делении тип автоматически преобразуется во float')\n",
    "\n",
    "print(f'\\n Сложение')\n",
    "print(f'{array_test + 100}')\n",
    "\n",
    "print(f'\\n Вычитание')\n",
    "print(f'{array_test - 0.33}')\n",
    "\n",
    "print(f'\\n Возведение в степень')\n",
    "print(f'{array_test ** 3}')"
   ]
  },
  {
   "cell_type": "markdown",
   "id": "654459ae-731f-4d11-a1c2-0f35a31566be",
   "metadata": {},
   "source": [
    "### Арифметические операции между многомерными массивами"
   ]
  },
  {
   "cell_type": "code",
   "execution_count": 30,
   "id": "9a049b98-2df9-42f2-8f2b-1d85207108f5",
   "metadata": {},
   "outputs": [
    {
     "name": "stdout",
     "output_type": "stream",
     "text": [
      "Массив а: \n",
      " [[100 100 100 100 100]\n",
      " [100 100 100 100 100]\n",
      " [100 100 100 100 100]]\n",
      "\n",
      " Массив b: \n",
      " [[33 33 33 33 33]\n",
      " [33 33 33 33 33]\n",
      " [33 33 33 33 33]]\n"
     ]
    }
   ],
   "source": [
    "# для демонстарции создадим два массива\n",
    "arr_a = np.full((3, 5), 100)\n",
    "arr_b = np.full((3, 5), 33)\n",
    "\n",
    "# выведем наши массивы\n",
    "print(f'Массив а: \\n {arr_a}')\n",
    "print(f'\\n Массив b: \\n {arr_b}')"
   ]
  },
  {
   "cell_type": "markdown",
   "id": "905bacd0-ee56-40bf-9987-0c5866f99919",
   "metadata": {},
   "source": [
    "***Внимание!*** Для выполнения арифметических действий между массивами, их размерность должна быть одинаковой."
   ]
  },
  {
   "cell_type": "code",
   "execution_count": 31,
   "id": "9d7cef5f-3e6f-4aed-9fb2-addbbe06499d",
   "metadata": {},
   "outputs": [
    {
     "name": "stdout",
     "output_type": "stream",
     "text": [
      "\n",
      " Умножение\n",
      "[[3300 3300 3300 3300 3300]\n",
      " [3300 3300 3300 3300 3300]\n",
      " [3300 3300 3300 3300 3300]]\n",
      "\n",
      " Деление\n",
      "[[3.03030303 3.03030303 3.03030303 3.03030303 3.03030303]\n",
      " [3.03030303 3.03030303 3.03030303 3.03030303 3.03030303]\n",
      " [3.03030303 3.03030303 3.03030303 3.03030303 3.03030303]]\n",
      "При делении тип автоматически преобразуется во float\n",
      "\n",
      " Сложение\n",
      "[[133 133 133 133 133]\n",
      " [133 133 133 133 133]\n",
      " [133 133 133 133 133]]\n",
      "\n",
      " Вычитание\n",
      "[[67 67 67 67 67]\n",
      " [67 67 67 67 67]\n",
      " [67 67 67 67 67]]\n",
      "\n",
      " Возведение в степень\n",
      "[[-8877898876394183551 -8877898876394183551 -8877898876394183551\n",
      "  -8877898876394183551 -8877898876394183551]\n",
      " [-8877898876394183551 -8877898876394183551 -8877898876394183551\n",
      "  -8877898876394183551 -8877898876394183551]\n",
      " [-8877898876394183551 -8877898876394183551 -8877898876394183551\n",
      "  -8877898876394183551 -8877898876394183551]]\n"
     ]
    }
   ],
   "source": [
    "# выполним традиционные арифметические действия\n",
    "\n",
    "print(f'\\n Умножение')\n",
    "print(f'{arr_a * arr_b}')\n",
    "\n",
    "print(f'\\n Деление')\n",
    "print(f'{arr_a / arr_b}')\n",
    "print('При делении тип автоматически преобразуется во float')\n",
    "\n",
    "print(f'\\n Сложение')\n",
    "print(f'{arr_a + arr_b}')\n",
    "\n",
    "print(f'\\n Вычитание')\n",
    "print(f'{arr_a - arr_b}')\n",
    "\n",
    "print(f'\\n Возведение в степень')\n",
    "print(f'{arr_b ** arr_a}')"
   ]
  },
  {
   "cell_type": "code",
   "execution_count": 32,
   "id": "1bf33751-9d2c-4b8a-834d-141810de523d",
   "metadata": {},
   "outputs": [
    {
     "name": "stdout",
     "output_type": "stream",
     "text": [
      "Результат использования append c добавлением .reshape(): \n",
      " [100 100 100 100 100 100 100 100 100 100 100 100 100 100 100  33  33  33\n",
      "  33  33  33  33  33  33  33  33  33  33  33  33]\n",
      "\n",
      " Результат использования append c добавлением .reshape(): \n",
      " [[100 100 100 100 100]\n",
      " [100 100 100 100 100]\n",
      " [100 100 100 100 100]\n",
      " [ 33  33  33  33  33]\n",
      " [ 33  33  33  33  33]\n",
      " [ 33  33  33  33  33]]\n",
      "\n",
      " Трехмерный массив: \n",
      " [[[100 100 100 100 100]\n",
      "  [100 100 100 100 100]\n",
      "  [100 100 100 100 100]]\n",
      "\n",
      " [[ 33  33  33  33  33]\n",
      "  [ 33  33  33  33  33]\n",
      "  [ 33  33  33  33  33]]]\n"
     ]
    }
   ],
   "source": [
    "# Можно также использовать append\n",
    "arr_new = np.append(arr_a, arr_b)\n",
    "print(f'Результат использования append c добавлением .reshape(): \\n {arr_new}')\n",
    "\n",
    "arr_new = np.append(arr_a, arr_b).reshape(6,5)\n",
    "print(f'\\n Результат использования append c добавлением .reshape(): \\n {arr_new}')\n",
    "\n",
    "# или создать трехмерную матрицу (тензор), массив с отдельными матрицами\n",
    "arr_c = np.array([arr_a, arr_b])\n",
    "print(f'\\n Трехмерный массив: \\n {arr_c}')"
   ]
  },
  {
   "cell_type": "markdown",
   "id": "096efdc1-34ed-4db6-8f34-a5d274b01d0e",
   "metadata": {},
   "source": [
    "***Важно*** размерность массивов внутри матрицы должна быть одинаковой!"
   ]
  },
  {
   "cell_type": "markdown",
   "id": "c7d40970-17ca-4ed2-b330-d8a92341e6bf",
   "metadata": {},
   "source": [
    "# Работа с формой массива"
   ]
  },
  {
   "cell_type": "markdown",
   "id": "a940426a-9a8f-4945-8aee-4f5dbb9df9f2",
   "metadata": {},
   "source": [
    "## Определение формы массива"
   ]
  },
  {
   "cell_type": "code",
   "execution_count": 33,
   "id": "6d119fa1-24e1-403f-9ec7-d9a625ac619d",
   "metadata": {},
   "outputs": [
    {
     "name": "stdout",
     "output_type": "stream",
     "text": [
      "Трехмерный массив с двумя матрицами\n",
      "[[[100 100 100 100 100]\n",
      "  [100 100 100 100 100]\n",
      "  [100 100 100 100 100]]\n",
      "\n",
      " [[ 33  33  33  33  33]\n",
      "  [ 33  33  33  33  33]\n",
      "  [ 33  33  33  33  33]]]\n",
      "\n",
      " Функция len() покажет нам лишь количество матриц в массиве: 2\n",
      "\n",
      " Мы могли бы обратиться к элементру массива: 3\n",
      "\n",
      " Или обратиться к конкретной строке матрицы: 5\n",
      "\n",
      " Но гораздо лучше использовать атрибут класса shape: (2, 3, 5)\n",
      " 2 - матрицы\n",
      " 3 - строки в каждой матрице\n",
      " 5 - элементов внутри каждой строки\n"
     ]
    }
   ],
   "source": [
    "print('Трехмерный массив с двумя матрицами')\n",
    "print(arr_c)\n",
    "print(f'\\n Функция len() покажет нам лишь количество матриц в массиве: {len(arr_c)}')\n",
    "print(f'\\n Мы могли бы обратиться к элементру массива: {len(arr_c[0])}')\n",
    "print(f'\\n Или обратиться к конкретной строке матрицы: {len(arr_c[0][0])}')\n",
    "print(f'\\n Но гораздо лучше использовать атрибут класса shape: {arr_c.shape}')\n",
    "print(f' 2 - матрицы')\n",
    "print(f' 3 - строки в каждой матрице')\n",
    "print(f' 5 - элементов внутри каждой строки')"
   ]
  },
  {
   "cell_type": "markdown",
   "id": "59c39685-1bb8-41f1-ab2f-5c3187c44630",
   "metadata": {},
   "source": [
    "## Определение количества значений внутри массива"
   ]
  },
  {
   "cell_type": "markdown",
   "id": "aa8ecf22-860c-453b-b2d1-bde07fb0b108",
   "metadata": {},
   "source": [
    "Зная, как найти форму массива мы могли бы просто перемножить значения всех измерений"
   ]
  },
  {
   "cell_type": "code",
   "execution_count": 34,
   "id": "a288820c-4009-4655-909d-8e97a141b9d2",
   "metadata": {},
   "outputs": [
    {
     "name": "stdout",
     "output_type": "stream",
     "text": [
      "30\n"
     ]
    }
   ],
   "source": [
    "print(arr_c.shape[0] * arr_c.shape[1] * arr_c.shape[2])"
   ]
  },
  {
   "cell_type": "code",
   "execution_count": 35,
   "id": "5dd5f6e5-5114-4823-a638-65bdf3e1c17a",
   "metadata": {},
   "outputs": [
    {
     "name": "stdout",
     "output_type": "stream",
     "text": [
      "Количество измерений в массиве: 3\n"
     ]
    }
   ],
   "source": [
    "# кстати, получить количество измерений можно используя ndim\n",
    "print(f'Количество измерений в массиве: {arr_c.ndim}')"
   ]
  },
  {
   "cell_type": "code",
   "execution_count": 36,
   "id": "c76d4e62-d6fa-41fc-add7-09279c0cd4dc",
   "metadata": {
    "scrolled": true
   },
   "outputs": [
    {
     "name": "stdout",
     "output_type": "stream",
     "text": [
      "Количество измерений в массиве: 30\n"
     ]
    }
   ],
   "source": [
    "# самый верный способо это .size\n",
    "print(f'Количество измерений в массиве: {arr_c.size}')"
   ]
  },
  {
   "cell_type": "markdown",
   "id": "455a5836-ee1e-440a-8aff-68cfc9cb1fdc",
   "metadata": {},
   "source": [
    "## Изменение формы массива .reshape(strings, values)"
   ]
  },
  {
   "cell_type": "code",
   "execution_count": 37,
   "id": "f0afd8c1-81f1-489b-96bf-7dab0a51e507",
   "metadata": {},
   "outputs": [
    {
     "name": "stdout",
     "output_type": "stream",
     "text": [
      "Трехмерный массив, 2 матрицы по 1 строке с 4 элементами: \n",
      " [[[1 2 3 4]]\n",
      "\n",
      " [[5 6 7 8]]]\n",
      "\n",
      " Двумерный массив, 4 строки по 2 элемента: \n",
      " [[1 2]\n",
      " [3 4]\n",
      " [5 6]\n",
      " [7 8]]\n",
      "\n",
      " Одномерный массив: \n",
      " [1 2 3 4 5 6 7 8]\n",
      "\n",
      " Самый простой способо использовать array.flatten(): \n",
      " [1 2 3 4 5 6 7 8]\n"
     ]
    }
   ],
   "source": [
    "# Создадим двумерный массив\n",
    "f1 = np.array([1, 2, 3, 4])\n",
    "f2 = np.array([5, 6, 7, 8])\n",
    "\n",
    "# Трехмерный массив\n",
    "array_f1 = np.array([[f1], [f2]])\n",
    "print(f'Трехмерный массив, 2 матрицы по 1 строке с 4 элементами: \\n {array_f1}')\n",
    "\n",
    "# 4 строки по 2 элемента (двухмерная матрица)\n",
    "array_f2 = np.array([[f1], [f2]]).reshape(4, 2)\n",
    "print(f'\\n Двумерный массив, 4 строки по 2 элемента: \\n {array_f2}')\n",
    "\n",
    "# одномерный массив через .size\n",
    "array_f3 = np.array([[f1], [f2]]).reshape(np.array([[f1], [f2]]).size)\n",
    "print(f'\\n Одномерный массив: \\n {array_f3}')\n",
    "\n",
    "# одномерный массив через .flatten\n",
    "print(f'\\n Самый простой способо использовать array.flatten(): \\n {array_f1.flatten()}')"
   ]
  },
  {
   "cell_type": "markdown",
   "id": "d25cc407-f754-4c92-8d35-3adff7cdc824",
   "metadata": {},
   "source": [
    "## Транспонирование массива"
   ]
  },
  {
   "cell_type": "code",
   "execution_count": 38,
   "id": "15e6c835-d73a-4e80-9dc0-393f442087f1",
   "metadata": {},
   "outputs": [
    {
     "name": "stdout",
     "output_type": "stream",
     "text": [
      "Матрица имеет исходный вид: \n",
      " [[1 1 1 1 1]\n",
      " [0 0 0 0 0]]\n",
      "\n",
      " Матрица транспонирована \n",
      " [[1 0]\n",
      " [1 0]\n",
      " [1 0]\n",
      " [1 0]\n",
      " [1 0]]\n",
      "\n",
      " Матрица транспонирована \n",
      " [[1 0]\n",
      " [1 0]\n",
      " [1 0]\n",
      " [1 0]\n",
      " [1 0]]\n",
      "\n",
      " Одномерный массив имеет исходный вид: \n",
      " [1 2 3 4 5]\n",
      "\n",
      " Одномерный массив не был транспонирован \n",
      " [1 2 3 4 5]\n"
     ]
    }
   ],
   "source": [
    "\n",
    "# cоздадим двумерную матрицу\n",
    "m_1 = np.array([[1, 1, 1, 1, 1], [0, 0, 0, 0, 0]])\n",
    "print(f'Матрица имеет исходный вид: \\n {m_1}')\n",
    "\n",
    "# выполним транспониромание\n",
    "m_t = np.transpose(m_1)\n",
    "print(f'\\n Матрица транспонирована \\n {m_t}')\n",
    "\n",
    "# есть более простой способ чем писать np.transpose. Просто использвать метод класса .Т\n",
    "m_t_1 = m_1.T\n",
    "print(f'\\n Матрица транспонирована \\n {m_t_1}')\n",
    "\n",
    "# не столь интуитивно работает с одномерными массивами как это может показаться\n",
    "m_2 = np.array([1, 2, 3, 4, 5])\n",
    "print(f'\\n Одномерный массив имеет исходный вид: \\n {m_2}')\n",
    "\n",
    "m_t_2 = m_2.T\n",
    "print(f'\\n Одномерный массив не был транспонирован \\n {m_t_2}')"
   ]
  },
  {
   "cell_type": "markdown",
   "id": "8c898cf1-86e9-4759-ab1e-7f6d2eb978ef",
   "metadata": {},
   "source": [
    "# Маски"
   ]
  },
  {
   "cell_type": "markdown",
   "id": "5d7eb964-ffac-4e05-bbb6-bfb960558dbb",
   "metadata": {},
   "source": [
    "В библиотеке NumPy маски используются для фильтрации массивов на основе заданных условий. Это делается с помощью булевых масок — массивов, состоящих из значений True и False, которые соответствуют элементам исходного массива. Элементы, для которых маска имеет значение True, включаются в итоговый массив, тогда как элементы с False отбрасываются."
   ]
  },
  {
   "cell_type": "code",
   "execution_count": 39,
   "id": "bbd3cc66-5766-4a65-8c47-8b3e15269986",
   "metadata": {},
   "outputs": [
    {
     "name": "stdout",
     "output_type": "stream",
     "text": [
      "Массив_1: \n",
      "[ 1  2  3  4  5  6  7  8  9 10]\n",
      "Массив_2: \n",
      "[10  9  8  7  6  5  4  3  2  1]\n"
     ]
    }
   ],
   "source": [
    "# создадим массивы\n",
    "array_1 = np.array([1, 2, 3, 4, 5, 6, 7, 8, 9, 10])\n",
    "array_2 = array_1[::-1] # развернем существующий массив в обратном порядке\n",
    "\n",
    "# выведем результаты\n",
    "print(f'Массив_1: \\n{array_1}')\n",
    "print(f'Массив_2: \\n{array_2}')"
   ]
  },
  {
   "cell_type": "markdown",
   "id": "90b995cc-6a69-4816-a062-1feea44fc91b",
   "metadata": {},
   "source": [
    "## boolean маска"
   ]
  },
  {
   "cell_type": "code",
   "execution_count": 40,
   "id": "4f0f854d-6e1e-492e-80f3-d3dcb84ebe12",
   "metadata": {},
   "outputs": [
    {
     "name": "stdout",
     "output_type": "stream",
     "text": [
      "Булевая маска: \n",
      "[False False False False False  True  True  True  True  True]\n",
      "\n",
      "Вернулись значения, которые соотвествуют условию True булевой маски: \n",
      "[ 6  7  8  9 10]\n"
     ]
    }
   ],
   "source": [
    "# создадим булевую маску\n",
    "boolean_mask = array_1 >= array_2 # количество элемнтов при сравнении должно бьыть одинаковым\n",
    "\n",
    "# продемонстрируем результат\n",
    "print(f'Булевая маска: \\n{boolean_mask}')\n",
    "\n",
    "# применим булевую маску к массиву и посмотрим на результат\n",
    "print(f'\\nВернулись значения, которые соотвествуют условию True булевой маски: \\n{array_1[boolean_mask]}')"
   ]
  },
  {
   "cell_type": "markdown",
   "id": "3cfdd3c4-875f-44c7-bb68-a23aba1a8002",
   "metadata": {},
   "source": [
    "## compare маска"
   ]
  },
  {
   "cell_type": "code",
   "execution_count": 41,
   "id": "d2a02044-013f-457a-8953-518553f2a494",
   "metadata": {},
   "outputs": [
    {
     "name": "stdout",
     "output_type": "stream",
     "text": [
      "Маска сравнения: \n",
      "[False False False False False  True  True  True  True  True]\n",
      "\n",
      "Вернулись значения, которые соотвествуют условию >= 6 для массива array_1: \n",
      "[ 6  7  8  9 10]\n"
     ]
    }
   ],
   "source": [
    "# создадим маску сравнения\n",
    "compare_mask = array_1 >= 6\n",
    "\n",
    "# применим к массиву и посмотрим на результат\n",
    "print(f'Маска сравнения: \\n{compare_mask}')\n",
    "\n",
    "# применим маску сравнения к массиву и посмотрим на результат\n",
    "print(f'\\nВернулись значения, которые соотвествуют условию >= 6 для массива array_1: \\n{array_1[compare_mask]}')"
   ]
  },
  {
   "cell_type": "markdown",
   "id": "6ee974a9-2635-4ddd-ad08-7cc41b891cd2",
   "metadata": {},
   "source": [
    "## маска отрицания"
   ]
  },
  {
   "cell_type": "code",
   "execution_count": 42,
   "id": "2f65668f-5629-4185-ba32-bd33142497e7",
   "metadata": {},
   "outputs": [
    {
     "name": "stdout",
     "output_type": "stream",
     "text": [
      "Первый массив:\n",
      "[ 1  2  3  4  5  6  7  8  9 10]\n",
      "\n",
      "Второй массив:\n",
      "[ 1  3  3  5  5  6  7  7  8 10]\n",
      "\n",
      "Маска:\n",
      "[False  True False  True False False False  True  True False]\n",
      "[2 4 8 9]\n"
     ]
    }
   ],
   "source": [
    "# для демонстрации создадим еще один массив\n",
    "array_3 = np.array([1, 3, 3, 5, 5, 6, 7, 7, 8, 10])\n",
    "\n",
    "# отобразим массивы\n",
    "print(f'Первый массив:\\n{array_1}')\n",
    "print(f'\\nВторой массив:\\n{array_3}')\n",
    "\n",
    "# создадим булевую маску отрицания возвращающую True для условия array_1 не равно array_3\n",
    "negation_mask = ~(array_1 == array_3) # количество элемнтов при сравнении должно бьыть одинаковым\n",
    "\n",
    "# посмотрим, что возвращает маска\n",
    "print(f'\\nМаска:\\n{negation_mask}')\n",
    "print(array_1[negation_mask])"
   ]
  },
  {
   "cell_type": "code",
   "execution_count": 43,
   "id": "ad0b6e57-6616-41b4-9610-8d3fb88c4ebe",
   "metadata": {},
   "outputs": [
    {
     "name": "stdout",
     "output_type": "stream",
     "text": [
      "Массив:\n",
      "[ 1  2  3  4  5  6  7  8  9 10]\n",
      "\n",
      "Маска:\n",
      "[ True  True  True  True  True False False False False False]\n",
      "\n",
      "Результат - все значения меньше или равны 5:\n",
      "[1 2 3 4 5]\n"
     ]
    }
   ],
   "source": [
    "# разберем вторйо пример, маска отрицания сравнения\n",
    "\n",
    "# массив с которым будем работать\n",
    "print(f'Массив:\\n{array_1}')\n",
    "\n",
    "# маска сравнения отрицаия, вернет True для условия меньше или равно 5\n",
    "compare_negation_mask = ~(array_1 > 5)\n",
    "print(f'\\nМаска:\\n{compare_negation_mask}')\n",
    "\n",
    "# применим маску к массиву\n",
    "print(f'\\nРезультат - все значения меньше или равны 5:\\n{array_1[compare_negation_mask]}')"
   ]
  },
  {
   "cell_type": "markdown",
   "id": "f712bb68-799b-4cb9-8eb3-655971d488d0",
   "metadata": {},
   "source": [
    "# Индексация и слайсинг"
   ]
  },
  {
   "cell_type": "markdown",
   "id": "787e7239-347c-4725-a235-f87fe4307322",
   "metadata": {},
   "source": [
    "Ключевые различия: Индексация vs Слайсинг\n",
    "\n",
    "| **Критерий**            | **Индексация**                        | **Слайсинг**                                |\n",
    "|-------------------------|---------------------------------------|---------------------------------------------|\n",
    "| **Что извлекает**       | Конкретный элемент                   | Подмассив (последовательность элементов)    |\n",
    "| **Синтаксис**           | `array[индекс]`                      | `array[start:stop:step]`                    |\n",
    "| **Результат**           | Скалярное значение или массив         | Вид (view) массива                          |\n",
    "| **Изменение оригинала** | Нет (если изменяется результат индексации). | Да, если изменяется срез (без `.copy()`). |\n",
    "| **Применимость**        | Используется для выбора отдельных элементов | Используется для извлечения диапазонов     |\n"
   ]
  },
  {
   "cell_type": "code",
   "execution_count": 44,
   "id": "ad54daee-05f8-4ba6-bc80-e71bb16a4b01",
   "metadata": {},
   "outputs": [
    {
     "name": "stdout",
     "output_type": "stream",
     "text": [
      "Одномерный массив: \n",
      "[ 1000  2000  3000  4000  5000  6000  7000  8000  9000 10000]\n",
      "\n",
      "Двумерный Массив: \n",
      "[[1000 2000 3000]\n",
      " [4000 5000 6000]\n",
      " [7000 8000 9000]]\n"
     ]
    }
   ],
   "source": [
    "# определим массив для работы:\n",
    "array_1 = np.array([1000, 2000, 3000, 4000, 5000, 6000, 7000, 8000, 9000, 10000])\n",
    "print(f'Одномерный массив: \\n{array_1}')\n",
    "\n",
    "# определим двумерный массив\n",
    "array_2 = np.array([[1000, 2000, 3000], [4000, 5000, 6000], [7000, 8000, 9000]])\n",
    "print(f'\\nДвумерный Массив: \\n{array_2}')"
   ]
  },
  {
   "cell_type": "code",
   "execution_count": 45,
   "id": "ff968b19-f989-4440-8e4d-c8f5ca085fd8",
   "metadata": {},
   "outputs": [
    {
     "name": "stdout",
     "output_type": "stream",
     "text": [
      "Массив: [ 1000  2000  3000  4000  5000  6000  7000  8000  9000 10000]\n",
      "\n",
      "Вернем первое значение в массиве: 1000\n",
      "\n",
      "Вернем последнее значение в массиве: 10000\n",
      "\n",
      "Вернем все значения после 5000: [ 5000  6000  7000  8000  9000 10000]\n",
      "\n",
      "Вернем все значения до 5000: [1000 2000 3000 4000]\n",
      "\n",
      "Вернем значения от 2000 до 8000: [2000 3000 4000 5000 6000 7000 8000]\n"
     ]
    }
   ],
   "source": [
    "# Индексация одномерных массивов\n",
    "\n",
    "print(f'Массив: {array_1}')\n",
    "print(f'\\nВернем первое значение в массиве: {array_1[0]}')\n",
    "print(f'\\nВернем последнее значение в массиве: {array_1[-1]}')\n",
    "print(f'\\nВернем все значения после 5000: {array_1[4:]}')\n",
    "print(f'\\nВернем все значения до 5000: {array_1[:4]}')\n",
    "print(f'\\nВернем значения от 2000 до 8000: {array_1[1:8]}')"
   ]
  },
  {
   "cell_type": "code",
   "execution_count": 46,
   "id": "e4fc0302-a758-48d4-b491-8c1dcd542f51",
   "metadata": {},
   "outputs": [
    {
     "name": "stdout",
     "output_type": "stream",
     "text": [
      "Массив: \n",
      "[[1000 2000 3000]\n",
      " [4000 5000 6000]\n",
      " [7000 8000 9000]]\n",
      "\n",
      "Вернем первое значение в массиве: 1000\n",
      "\n",
      "Вернем последнее значение в массиве: 9000\n",
      "\n",
      "Вернем второй элемент второй строки: 5000\n",
      "\n",
      "Вернем вторую строку: [4000 5000 6000]\n",
      "\n",
      "Вернем второй столбец: [2000 5000 8000]\n",
      "\n",
      "Вернем значения от 5000 до 9000: \n",
      "[[5000 6000]\n",
      " [8000 9000]]\n"
     ]
    }
   ],
   "source": [
    "\n",
    "# Индексация двумерных массивов\n",
    "print(f'Массив: \\n{array_2}')\n",
    "print(f'\\nВернем первое значение в массиве: {array_2[0, 0]}')\n",
    "print(f'\\nВернем последнее значение в массиве: {array_2[-1, -1]}')\n",
    "print(f'\\nВернем второй элемент второй строки: {array_2[1, 1]}')\n",
    "print(f'\\nВернем вторую строку: {array_2[1, :]}')\n",
    "print(f'\\nВернем второй столбец: {array_2[:, 1]}')\n",
    "print(f'\\nВернем значения от 5000 до 9000: \\n{array_2[1:, 1:]}') "
   ]
  },
  {
   "cell_type": "markdown",
   "id": "485b6204-58ab-40a7-bf12-505e3c7d413b",
   "metadata": {},
   "source": [
    "## .copy"
   ]
  },
  {
   "cell_type": "code",
   "execution_count": 47,
   "id": "60b255ac-f0ab-44d0-972d-02aad87387b7",
   "metadata": {},
   "outputs": [
    {
     "name": "stdout",
     "output_type": "stream",
     "text": [
      "Исходный массив: [ 1000  2000  3000  4000  5000  6000  7000  8000  9000 10000]\n",
      "\n",
      "Срез: [2000 3000 4000 5000]\n",
      "\n",
      "Срез: [2000 3000 4000    0]\n"
     ]
    }
   ],
   "source": [
    "\n",
    "# вызовем исходный массив\n",
    "print(f'Исходный массив: {array_1}')\n",
    "\n",
    "# создадим срез на исходном массие и запишем его в новую переменную\n",
    "slice_1 = array_1[1:5]\n",
    "print(f'\\nСрез: {slice_1}')\n",
    "\n",
    "# внесем изменения в сам массив, заменим 5000 на 5\n",
    "slice_1[3] = 0\n",
    "print(f'\\nСрез: {slice_1}')"
   ]
  },
  {
   "cell_type": "code",
   "execution_count": 48,
   "id": "74fa9224-e73f-4188-8f4e-bb7b789dbc04",
   "metadata": {},
   "outputs": [
    {
     "name": "stdout",
     "output_type": "stream",
     "text": [
      "Исходный массив: [ 1000  2000  3000  4000     0  6000  7000  8000  9000 10000]\n"
     ]
    }
   ],
   "source": [
    "\n",
    "# теперь вновь вызовем исходный массив, на основе которого был построен срез\n",
    "print(f'Исходный массив: {array_1}')"
   ]
  },
  {
   "cell_type": "markdown",
   "id": "c359fa03-6f14-42b3-8c2e-8792a2a0b16e",
   "metadata": {},
   "source": [
    "Поулчается, что срез, созданный на основе массива внес полученные изменения в исходный массив! Чтобы этого не происходило нужно использовать метод .copy()\n",
    "\n",
    "Повторим все действия но в этот раз воспользуемся методом .copy"
   ]
  },
  {
   "cell_type": "code",
   "execution_count": 49,
   "id": "15438868-5cfa-43d4-b7e3-02e2eb9aa7a8",
   "metadata": {},
   "outputs": [
    {
     "name": "stdout",
     "output_type": "stream",
     "text": [
      "Исходный массив: [1000 2000 3000 4000 5000 6000 7000 8000 9000]\n",
      "\n",
      "Срез: [2000 3000 4000 5000]\n",
      "\n",
      "Срез: [2000 3000 4000    0]\n"
     ]
    }
   ],
   "source": [
    "# вызовем исходный массив\n",
    "array_copy = array_2.reshape(-1)\n",
    "print(f'Исходный массив: {array_copy}')\n",
    "\n",
    "# создадим срез на исходном массие и запишем его в новую переменную\n",
    "slice_copy = array_copy[1:5].copy()\n",
    "print(f'\\nСрез: {slice_copy}')\n",
    "\n",
    "# внесем изменения в сам массив, заменим 5000 на 5\n",
    "slice_copy[3] = 0\n",
    "print(f'\\nСрез: {slice_copy}')"
   ]
  },
  {
   "cell_type": "code",
   "execution_count": 50,
   "id": "e80bd614-c870-4e4c-995a-fa5c0e367d01",
   "metadata": {},
   "outputs": [
    {
     "name": "stdout",
     "output_type": "stream",
     "text": [
      "Исходный массив: [1000 2000 3000 4000 5000 6000 7000 8000 9000]\n"
     ]
    }
   ],
   "source": [
    "# теперь вновь вызовем исходный массив, на основе которого был построен срез\n",
    "print(f'Исходный массив: {array_copy}')"
   ]
  },
  {
   "cell_type": "markdown",
   "id": "5a37277e-e9ad-43e4-8ae4-c4e3ded92a85",
   "metadata": {},
   "source": [
    "Как видно, исходный массив не был изменен благодря использованию метода .copy()"
   ]
  },
  {
   "cell_type": "markdown",
   "id": "fd0f5ced-4e88-4bfb-84ef-aff0a4b2d2f5",
   "metadata": {},
   "source": [
    "## Индексация практика"
   ]
  },
  {
   "cell_type": "code",
   "execution_count": 51,
   "id": "1d3e0618-2399-4e7d-b854-3f48fde5f8e0",
   "metadata": {},
   "outputs": [
    {
     "name": "stdout",
     "output_type": "stream",
     "text": [
      "Исходная матрица: \n",
      "[[[ 0  1  2]\n",
      "  [ 3  4  5]]\n",
      "\n",
      " [[ 6  7  8]\n",
      "  [ 9 10 11]]]\n",
      "\n",
      "Вернем последний элемент второй строки первой матрицы: \n",
      "5\n",
      "\n",
      "Вернем вторую колонку в массиве: \n",
      "[[ 1  4]\n",
      " [ 7 10]]\n",
      "\n",
      "Вернем вторую и третью колонку в массиве: \n",
      "[[[ 1  2]\n",
      "  [ 4  5]]\n",
      "\n",
      " [[ 7  8]\n",
      "  [10 11]]]\n",
      "\n",
      "Вернем вторую и третью колонку только для первой матрицы: \n",
      "[[1 2]\n",
      " [4 5]]\n",
      "\n",
      "Вернем первые строки в каждой матрице: \n",
      "[[0 1 2]\n",
      " [6 7 8]]\n"
     ]
    }
   ],
   "source": [
    "\n",
    "# создадим исходную трехмерную матрицу\n",
    "mat_3d = np.arange(12).reshape(2, 2, 3)\n",
    "print(f'Исходная матрица: \\n{mat_3d}')\n",
    "\n",
    "# как нам вернуть, например, 5? Это первая матрица, вт орая строка, последний ее элемент\n",
    "print(f'\\nВернем последний элемент второй строки первой матрицы: \\n{mat_3d[0, 1, -1]}')\n",
    "# 0 - первая матрица\n",
    "# 1 - вторая строка первой матрицы\n",
    "# -1 первое с конца значения в этой строке\n",
    "\n",
    "# как нам вернуть, например, вторую колонку в массиве?\n",
    "print(f'\\nВернем вторую колонку в массиве: \\n{mat_3d[:, :, 1]}')\n",
    "# : - выводим все элементы, т.е. все матрицы\n",
    "# : - нас не интересует строка, фактически нам нужны все строки\n",
    "# 1 - т.к. нас интересует вторрой столбец, т.е. все вторые значения в каждой строке\n",
    "\n",
    "# как нам вернуть, например, не только вторую колонку но и третью?\n",
    "print(f'\\nВернем вторую и третью колонку в массиве: \\n{mat_3d[:, :, 1:]}')\n",
    "# : - выводим все элементы, т.е. все матрицы\n",
    "# : - нас не интересует строка, фактически нам нужны все строки\n",
    "# 1: - т.к. нас интересует не только вторрой столбец, но и все колонки начиная со второй\n",
    "\n",
    "# вернем вторую и третью колонку только для первой матрицы\n",
    "print(f'\\nВернем вторую и третью колонку только для первой матрицы: \\n{mat_3d[0, :, 1:]}')\n",
    "# 0 - выводим только первую матрицу\n",
    "# : - нас не интересует строка, фактически нам нужны все строки\n",
    "# 1: - т.к. нас интересует не только вторрой столбец, но и все колонки начиная со второй\n",
    "\n",
    "# выведем первые строчки в обеих матрицах\n",
    "print(f'\\nВернем первые строки в каждой матрице: \\n{mat_3d[:, 0, :]}')\n",
    "# : - выводим все элементы, т.е. все матрицы\n",
    "# 0 - нас интересует только первая строка\n",
    "# : - нас интересуют все столбцы"
   ]
  },
  {
   "cell_type": "markdown",
   "id": "8c8222be-8bf5-4bbf-a718-e3e6bb3288de",
   "metadata": {},
   "source": [
    "# Индексацяи Fancy"
   ]
  },
  {
   "cell_type": "code",
   "execution_count": 86,
   "id": "6b7db17f-cb10-4b2b-9f2c-60dd02b3c650",
   "metadata": {},
   "outputs": [
    {
     "name": "stdout",
     "output_type": "stream",
     "text": [
      "Тестовая матрица: \n",
      "[[[ 0  1  2]\n",
      "  [ 3  4  5]\n",
      "  [ 6  7  8]\n",
      "  [ 9 10 11]\n",
      "  [12 13 14]]\n",
      "\n",
      " [[15 16 17]\n",
      "  [18 19 20]\n",
      "  [21 22 23]\n",
      "  [24 25 26]\n",
      "  [27 28 29]]\n",
      "\n",
      " [[30 31 32]\n",
      "  [33 34 35]\n",
      "  [36 37 38]\n",
      "  [39 40 41]\n",
      "  [42 43 44]]]\n",
      "\n",
      "Первая и последняя строки матриц 2 и 3: \n",
      "[[15 16 17]\n",
      " [42 43 44]]\n",
      "\n",
      "Первый и последний столбцы матриц 1 и 3: \n",
      "[[ 0 32]\n",
      " [ 3 35]\n",
      " [ 6 38]\n",
      " [ 9 41]\n",
      " [12 44]]\n"
     ]
    }
   ],
   "source": [
    "mat_test = np.arange(45).reshape(3, 5, 3)\n",
    "print(f'Тестовая матрица: \\n{mat_test}')\n",
    "\n",
    "# выведем первую и последнюю строки матриц 2 и 3\n",
    "mat_test_2 = mat_test[[1,2], [0,4], :].copy()\n",
    "print(f'\\nПервая и последняя строки матриц 2 и 3: \\n{mat_test_2}')\n",
    "\n",
    "# выведем перывй и последний столбцы матриц 1 и 3\n",
    "mat_test_3 = mat_test[[0,2], :, [0,2]].copy()\n",
    "print(f'\\nПервый и последний столбцы матриц 1 и 3: \\n{mat_test_3.T}')"
   ]
  },
  {
   "cell_type": "markdown",
   "id": "5081d5a2-2d88-4e05-9b63-35be9664b60f",
   "metadata": {},
   "source": [
    "## Одновременна Fancy индексация "
   ]
  },
  {
   "cell_type": "code",
   "execution_count": 107,
   "id": "6e12bac9-51fb-457a-b349-11a5c68aa5a6",
   "metadata": {},
   "outputs": [
    {
     "name": "stdout",
     "output_type": "stream",
     "text": [
      "Матрица: \n",
      "[[ 0  1  2  3]\n",
      " [ 4  5  6  7]\n",
      " [ 8  9 10 11]\n",
      " [12 13 14 15]]\n",
      "\n",
      "Попробуем вывести точечно значения 1, 3, 9 и 11: \n",
      "[ 1 11]\n",
      "Не получается\n",
      "\n",
      "Попробуем еще раз вывести точечно значения 1, 3, 9 и 11: \n",
      "[ 1  3  9 11]\n"
     ]
    }
   ],
   "source": [
    "# создадим новую матрицу\n",
    "mat_test_4 = np.arange(16).reshape(4, 4)\n",
    "print(f'Матрица: \\n{mat_test_4}')\n",
    "\n",
    "# попробуем вывести точечно значения 1, 3, 9 и 11\n",
    "mat_test_5 = mat_test_4[[0,2],        # перечисляем необходимые строки, это 1 и 3 строка\n",
    "                        [1,3]].copy() # 2 и 4 колонка\n",
    "\n",
    "print(f'\\nПопробуем вывести точечно значения 1, 3, 9 и 11: \\n{mat_test_5}')\n",
    "# Результат не соответствует ожиданиям. Потмоу что при одновременном использовании fancy для строк и столбцов\n",
    "# NumPy воспринимает их как координаты. Пересечение 0 и 1 вернет 1, пересечение 1 и 3 вернет 11\n",
    "print('Не получается')\n",
    "\n",
    "# как поступать в таком случе? Укажем недостающие координаты\n",
    "mat_test_5 = mat_test_4[[0,0,2,2],        \n",
    "                        [1,3,1,3]].copy() \n",
    "print(f'\\nПопробуем еще раз вывести точечно значения 1, 3, 9 и 11: \\n{mat_test_5}')"
   ]
  },
  {
   "cell_type": "code",
   "execution_count": null,
   "id": "869b35e3-1ee5-4b94-8a2b-aeb624cf118b",
   "metadata": {},
   "outputs": [],
   "source": []
  }
 ],
 "metadata": {
  "kernelspec": {
   "display_name": "Python 3 (ipykernel)",
   "language": "python",
   "name": "python3"
  },
  "language_info": {
   "codemirror_mode": {
    "name": "ipython",
    "version": 3
   },
   "file_extension": ".py",
   "mimetype": "text/x-python",
   "name": "python",
   "nbconvert_exporter": "python",
   "pygments_lexer": "ipython3",
   "version": "3.13.0"
  },
  "panel-cell-order": [
   "1c45ec9c-f833-4fae-b6bf-0c02f77c8101",
   "bb4b0836-a94b-4056-bf96-c80092a4909a",
   "606ee411-bfc6-41ea-abde-e716af13bb1c",
   "c9108e82-f3f3-4e37-a497-adb9ad8dbec7",
   "ca7c242c-5240-483d-af4b-35c1bb0ed5ab",
   "c699de48-9db1-4d75-9f6c-e389582aa527",
   "c085ba5d-e6e2-403c-b669-10ea85acc2cb",
   "7d8b3bde-19c4-4eae-901c-262a10f663f6",
   "0373bba1-3b13-4f22-af59-06061d32dac6",
   "e5988510-5b0d-4f8f-ad44-bbb20c7b360b",
   "33b073d5-8065-464d-a034-5ff788923bd5"
  ]
 },
 "nbformat": 4,
 "nbformat_minor": 5
}
