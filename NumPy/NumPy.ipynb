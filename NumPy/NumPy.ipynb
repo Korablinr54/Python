{
 "cells": [
  {
   "cell_type": "markdown",
   "id": "1c45ec9c-f833-4fae-b6bf-0c02f77c8101",
   "metadata": {
    "panel-layout": {
     "height": 94.8499984741211,
     "visible": true,
     "width": 100
    }
   },
   "source": [
    "# Конспект: библиотека NumPy для Python"
   ]
  },
  {
   "cell_type": "markdown",
   "id": "bb4b0836-a94b-4056-bf96-c80092a4909a",
   "metadata": {
    "panel-layout": {
     "height": 50.8125,
     "visible": true,
     "width": 100
    }
   },
   "source": [
    "## Создание одномерного массива"
   ]
  },
  {
   "cell_type": "code",
   "execution_count": 1,
   "id": "e2c1aaf5-daa4-4a1f-ac0d-c0483f23b29e",
   "metadata": {},
   "outputs": [],
   "source": [
    "import numpy as np"
   ]
  },
  {
   "cell_type": "markdown",
   "id": "606ee411-bfc6-41ea-abde-e716af13bb1c",
   "metadata": {
    "panel-layout": {
     "height": 44.07500076293945,
     "visible": true,
     "width": 100
    }
   },
   "source": [
    "### Создание одномерного массива из списка однородных элементов"
   ]
  },
  {
   "cell_type": "code",
   "execution_count": 2,
   "id": "c9108e82-f3f3-4e37-a497-adb9ad8dbec7",
   "metadata": {
    "panel-layout": {
     "height": 37.13750076293945,
     "visible": true,
     "width": 100
    }
   },
   "outputs": [
    {
     "data": {
      "text/plain": [
       "array([1, 2, 3, 4, 5])"
      ]
     },
     "metadata": {},
     "output_type": "display_data"
    }
   ],
   "source": [
    "array = np.array([1, 2, 3, 4, 5])\n",
    "display(array)"
   ]
  },
  {
   "cell_type": "markdown",
   "id": "ca7c242c-5240-483d-af4b-35c1bb0ed5ab",
   "metadata": {
    "panel-layout": {
     "height": 64.125,
     "visible": true,
     "width": 100
    }
   },
   "source": [
    "### Создание одномерного массива из переменной, содержащей список однородных элеметов"
   ]
  },
  {
   "cell_type": "code",
   "execution_count": 3,
   "id": "4a283780-5062-468f-b684-787d2cdb9a0e",
   "metadata": {},
   "outputs": [],
   "source": [
    "list = ([1,2,3,4,5])"
   ]
  },
  {
   "cell_type": "code",
   "execution_count": 4,
   "id": "c699de48-9db1-4d75-9f6c-e389582aa527",
   "metadata": {
    "panel-layout": {
     "height": 37.13750076293945,
     "visible": true,
     "width": 100
    }
   },
   "outputs": [
    {
     "data": {
      "text/plain": [
       "array([1, 2, 3, 4, 5])"
      ]
     },
     "metadata": {},
     "output_type": "display_data"
    }
   ],
   "source": [
    "array_from_list = np.array(list)\n",
    "display(array_from_list)"
   ]
  },
  {
   "cell_type": "markdown",
   "id": "c085ba5d-e6e2-403c-b669-10ea85acc2cb",
   "metadata": {
    "panel-layout": {
     "height": 78.20000457763672,
     "visible": true,
     "width": 100
    }
   },
   "source": [
    "### Создание одномерного массива используя диапазон значений\n",
    "numpy.arange(start, end, step)"
   ]
  },
  {
   "cell_type": "code",
   "execution_count": 5,
   "id": "7d8b3bde-19c4-4eae-901c-262a10f663f6",
   "metadata": {
    "panel-layout": {
     "height": 37.13750076293945,
     "visible": true,
     "width": 100
    }
   },
   "outputs": [
    {
     "data": {
      "text/plain": [
       "array([1, 3, 5, 7, 9])"
      ]
     },
     "metadata": {},
     "output_type": "display_data"
    }
   ],
   "source": [
    "array_from_range = np.arange(1, 11, 2) \n",
    "display(array_from_range)"
   ]
  },
  {
   "cell_type": "markdown",
   "id": "0373bba1-3b13-4f22-af59-06061d32dac6",
   "metadata": {
    "panel-layout": {
     "height": 51.13750076293945,
     "visible": true,
     "width": 100
    }
   },
   "source": [
    "Список может хранить любиые типы данных, например, строки:"
   ]
  },
  {
   "cell_type": "code",
   "execution_count": 6,
   "id": "e5988510-5b0d-4f8f-ad44-bbb20c7b360b",
   "metadata": {
    "panel-layout": {
     "height": 37.13750076293945,
     "visible": true,
     "width": 100
    }
   },
   "outputs": [
    {
     "data": {
      "text/plain": [
       "array(['1', '2', '3', '6.5', 'Hello world!'], dtype='<U32')"
      ]
     },
     "metadata": {},
     "output_type": "display_data"
    }
   ],
   "source": [
    "orject_array = np.array([1, 2, 3, 6.5, 'Hello world!'])\n",
    "display(orject_array)"
   ]
  },
  {
   "cell_type": "markdown",
   "id": "33b073d5-8065-464d-a034-5ff788923bd5",
   "metadata": {
    "editable": true,
    "panel-layout": {
     "height": 51.13750076293945,
     "visible": true,
     "width": 100
    },
    "slideshow": {
     "slide_type": ""
    },
    "tags": []
   },
   "source": [
    "Тип данных ```dtype='<U32'``` в NumPy обозначает, что массив содержит строки (Unicode) фиксированной длины до 32 символов. Вот более подробное объяснение:  \n",
    "```<``` Указывает на порядок байтов (little-endian), что означает, что младший байт хранится первым;  \n",
    "```U``` Обозначает, что элементы массива являются строками Unicode;  \n",
    "```32``` Максимальная длина каждой строки в массиве составляет 32 символа."
   ]
  },
  {
   "cell_type": "markdown",
   "id": "b5f08cc5",
   "metadata": {},
   "source": [
    "### Создание одномерного массива используя: zeros, ones, full"
   ]
  },
  {
   "cell_type": "markdown",
   "id": "38255eb5-cc4f-42b9-a75e-95ac60b8a6d5",
   "metadata": {},
   "source": [
    "#### zeros"
   ]
  },
  {
   "cell_type": "markdown",
   "id": "926a2d6e-405a-4476-8785-7830b4f32b30",
   "metadata": {},
   "source": [
    "numpy.zeros(shape)"
   ]
  },
  {
   "cell_type": "code",
   "execution_count": 7,
   "id": "ee15e9a7-cad4-489b-b087-26b12886fde3",
   "metadata": {},
   "outputs": [
    {
     "data": {
      "text/plain": [
       "array([0., 0., 0., 0., 0.])"
      ]
     },
     "metadata": {},
     "output_type": "display_data"
    }
   ],
   "source": [
    "array_zeros = np.zeros(5)\n",
    "display(array_zeros)"
   ]
  },
  {
   "cell_type": "markdown",
   "id": "b504bfda-9bbd-4868-b135-247f0c95feec",
   "metadata": {},
   "source": [
    "#### ones"
   ]
  },
  {
   "cell_type": "markdown",
   "id": "7042a85b-2e55-4299-bbdc-2bf78017bc1f",
   "metadata": {},
   "source": [
    "numpy.ones(shape)"
   ]
  },
  {
   "cell_type": "code",
   "execution_count": 8,
   "id": "b5b993f7-b73f-4e5b-9767-07fa36fa1c31",
   "metadata": {},
   "outputs": [
    {
     "data": {
      "text/plain": [
       "array([1., 1., 1., 1., 1.])"
      ]
     },
     "metadata": {},
     "output_type": "display_data"
    }
   ],
   "source": [
    "array_ones = np.ones(5)\n",
    "display(array_ones)"
   ]
  },
  {
   "cell_type": "markdown",
   "id": "24de99df-292c-43da-add6-846b53eaa860",
   "metadata": {},
   "source": [
    "#### full"
   ]
  },
  {
   "cell_type": "markdown",
   "id": "e8c4c981-f75b-4237-a181-76eabc47d626",
   "metadata": {},
   "source": [
    "numpy.full(shape, fill_value)"
   ]
  },
  {
   "cell_type": "code",
   "execution_count": 9,
   "id": "88cba55c-99f8-4205-b6e0-e2c7ee854d28",
   "metadata": {},
   "outputs": [
    {
     "data": {
      "text/plain": [
       "array([7, 7, 7, 7, 7])"
      ]
     },
     "metadata": {},
     "output_type": "display_data"
    },
    {
     "data": {
      "text/plain": [
       "array(['x', 'x', 'x', 'x', 'x'], dtype='<U1')"
      ]
     },
     "metadata": {},
     "output_type": "display_data"
    }
   ],
   "source": [
    "array_digit = np.full(5, 7)\n",
    "display(array_digit)\n",
    "\n",
    "array_str = np.full(5, 'x')\n",
    "display(array_str)"
   ]
  },
  {
   "cell_type": "markdown",
   "id": "4e685f70-7b87-4dde-aadc-ee81a15de01b",
   "metadata": {},
   "source": [
    "Тип данных ```dtype='<U1'``` обозначает, что массив содержит строки (Unicode) фиксированной длины. В данном случае:  \n",
    "```<``` указывает на порядок байтов (little-endian);  \n",
    "```U``` обозначает, что это строки Unicode;  \n",
    "```1``` указывает максимальную длину каждой строки в массиве (в данном случае 1 символ).  "
   ]
  },
  {
   "cell_type": "code",
   "execution_count": null,
   "id": "390de300-93b1-406e-8618-27549366edcd",
   "metadata": {},
   "outputs": [],
   "source": []
  }
 ],
 "metadata": {
  "kernelspec": {
   "display_name": "Python 3 (ipykernel)",
   "language": "python",
   "name": "python3"
  },
  "language_info": {
   "codemirror_mode": {
    "name": "ipython",
    "version": 3
   },
   "file_extension": ".py",
   "mimetype": "text/x-python",
   "name": "python",
   "nbconvert_exporter": "python",
   "pygments_lexer": "ipython3",
   "version": "3.13.0"
  },
  "panel-cell-order": [
   "1c45ec9c-f833-4fae-b6bf-0c02f77c8101",
   "bb4b0836-a94b-4056-bf96-c80092a4909a",
   "606ee411-bfc6-41ea-abde-e716af13bb1c",
   "c9108e82-f3f3-4e37-a497-adb9ad8dbec7",
   "ca7c242c-5240-483d-af4b-35c1bb0ed5ab",
   "c699de48-9db1-4d75-9f6c-e389582aa527",
   "c085ba5d-e6e2-403c-b669-10ea85acc2cb",
   "7d8b3bde-19c4-4eae-901c-262a10f663f6",
   "0373bba1-3b13-4f22-af59-06061d32dac6",
   "e5988510-5b0d-4f8f-ad44-bbb20c7b360b",
   "33b073d5-8065-464d-a034-5ff788923bd5"
  ]
 },
 "nbformat": 4,
 "nbformat_minor": 5
}
