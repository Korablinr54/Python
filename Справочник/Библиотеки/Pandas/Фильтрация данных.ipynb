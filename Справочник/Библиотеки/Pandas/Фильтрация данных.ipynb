version https://git-lfs.github.com/spec/v1
oid sha256:b01faaea7469e5aa8df62c66e990badd349eca174f652a14260b03ee3d1b3a50
size 6426
