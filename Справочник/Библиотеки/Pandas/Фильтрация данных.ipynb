version https://git-lfs.github.com/spec/v1
oid sha256:1795dbd65eb0dd73967e7e71be385f95bc34ddb6f3d785bfead74a157a5d0c86
size 18256
