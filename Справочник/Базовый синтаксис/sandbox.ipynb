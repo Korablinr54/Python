version https://git-lfs.github.com/spec/v1
oid sha256:27a782b06f7bfe52bec6019a62700760a8636b4b7c2e04e5f4125ee008b04831
size 1137
