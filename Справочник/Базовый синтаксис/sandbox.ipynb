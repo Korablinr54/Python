version https://git-lfs.github.com/spec/v1
oid sha256:c8041c3630e282146fa631734404524263859fa9c9bb3f32f234d9192e9a712e
size 980
