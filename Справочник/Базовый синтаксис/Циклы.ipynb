version https://git-lfs.github.com/spec/v1
oid sha256:488555818b1bb43dfde1924288e49c62c5be9d0a94fd7916f559c99f1398e9a3
size 26918
