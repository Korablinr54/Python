{
 "cells": [
  {
   "cell_type": "markdown",
   "id": "21b9707f",
   "metadata": {},
   "source": [
    "Стр. 61 из Python и анализ данных (pandas, numpy).pdf"
   ]
  }
 ],
 "metadata": {
  "language_info": {
   "name": "python"
  }
 },
 "nbformat": 4,
 "nbformat_minor": 5
}
