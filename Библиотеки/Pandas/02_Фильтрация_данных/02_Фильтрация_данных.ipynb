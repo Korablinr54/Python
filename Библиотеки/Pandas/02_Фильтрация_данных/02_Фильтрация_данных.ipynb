version https://git-lfs.github.com/spec/v1
oid sha256:b7af679ae19c2544055a02bdb7319f2cd9886818975dcdef014f6381845caeb6
size 56563
