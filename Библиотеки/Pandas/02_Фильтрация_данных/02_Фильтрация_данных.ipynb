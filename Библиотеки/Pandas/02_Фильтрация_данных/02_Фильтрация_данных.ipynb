version https://git-lfs.github.com/spec/v1
oid sha256:f70a522efdb75d041b6000642bb371ec48f7099c86b5860b186d17bc488e1f87
size 33734
