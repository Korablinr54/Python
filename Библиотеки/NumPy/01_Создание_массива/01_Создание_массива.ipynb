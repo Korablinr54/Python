version https://git-lfs.github.com/spec/v1
oid sha256:a934fa20ca1b57eba054ff5cdb01284b8f608b7e631bbecf6888aa2780ca5686
size 12424
