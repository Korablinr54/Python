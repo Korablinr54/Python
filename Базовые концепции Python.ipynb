{
 "cells": [
  {
   "cell_type": "markdown",
   "metadata": {},
   "source": [
    "# Типы данных"
   ]
  },
  {
   "cell_type": "markdown",
   "metadata": {},
   "source": [
    "| Тип         | Примеры          | Как обозначается |\n",
    "|-------------|------------------|------------------|\n",
    "| Вещественный | -10.0, .1, 1.23  | float            |\n",
    "| Целочисленный | -1, 12, 123      | int              |\n",
    "| Логический   | True / False     | bool             |\n",
    "| Строка       | 'Я строка'       | str              |"
   ]
  },
  {
   "cell_type": "markdown",
   "metadata": {},
   "source": [
    "## Числа"
   ]
  },
  {
   "cell_type": "markdown",
   "metadata": {},
   "source": [
    "Числа применяются повсеместно там, где требуется выполнение вычислений. В Python числовые значения представлены разными типами данных. Вы уже сталкивались с ними ранее:\n",
    "\n",
    "- Целые числа представлены типом `int`.\n",
    "- Дробные числа используют тип `float`, который также называют вещественными числами или числами с плавающей точкой."
   ]
  },
  {
   "cell_type": "code",
   "execution_count": 2,
   "metadata": {},
   "outputs": [],
   "source": [
    "number_int = 123 #Это целое число\n",
    "number_float = 1.2345 #Это число с плавающей точкой"
   ]
  },
  {
   "cell_type": "markdown",
   "metadata": {},
   "source": [
    "Известно, что общее количество пользователей на сайте составило 6505 человек, причем доля пользователей мобильной версии равна 20%. Давайте вычислим число пользователей мобильной версии.\n",
    "\n",
    "Для этого:\n",
    "- В переменную `all_users` запишем значение `6505`, представляющее целое число (`int`).\n",
    "- В переменную `mobile_share` сохраним долю `0.2`, которая является числом с плавающей точкой (`float`).\n",
    "\n",
    "Обратите внимание, что в математических операциях можно использовать как целые (`int`), так и вещественные числа (`float`) одновременно. Результатом такой операции всегда будет число типа `float`.\n",
    "\n",
    "Чтобы проверить тип результата, мы можем использовать функцию `type()`, которая возвращает класс объекта."
   ]
  },
  {
   "cell_type": "code",
   "execution_count": 3,
   "metadata": {},
   "outputs": [
    {
     "name": "stdout",
     "output_type": "stream",
     "text": [
      "1301.0\n",
      "<class 'int'>\n",
      "<class 'float'>\n",
      "<class 'float'>\n"
     ]
    }
   ],
   "source": [
    "all_users = 6505\n",
    "mobile_share = 0.2\n",
    "mobile_users = all_users * mobile_share\n",
    "\n",
    "print(mobile_users)\n",
    "\n",
    "all_users = 6505\n",
    "mobile_share = 0.2\n",
    "mobile_users = all_users * mobile_share\n",
    "\n",
    "print(type(all_users))\n",
    "print(type(mobile_share))\n",
    "print(type(mobile_users))"
   ]
  },
  {
   "cell_type": "code",
   "execution_count": 4,
   "metadata": {},
   "outputs": [
    {
     "name": "stdout",
     "output_type": "stream",
     "text": [
      "5\n",
      "10\n",
      "20\n",
      "6.666666666666667\n"
     ]
    }
   ],
   "source": [
    "val = 10\n",
    "\n",
    "val -= 5 # то же, что items = items - 5\n",
    "print(val)\n",
    "\n",
    "val += 5 # то же, что items = items + 5\n",
    "print(val)\n",
    "\n",
    "val *= 2 # то же, что items = items * 2\n",
    "print(val)\n",
    "\n",
    "val /= 3 # то же, что items = items / 3\n",
    "print(val)"
   ]
  },
  {
   "cell_type": "markdown",
   "metadata": {},
   "source": [
    "`//` — деление нацело. Возвращается результат деления, округлённый в меньшую сторону.\n",
    "`%` — деление с остатком. Возвращает остаток от деления.  \n",
    "`**` — возведение в степень. "
   ]
  },
  {
   "cell_type": "code",
   "execution_count": 5,
   "metadata": {},
   "outputs": [
    {
     "name": "stdout",
     "output_type": "stream",
     "text": [
      "10\n",
      "0\n",
      "10.0\n"
     ]
    }
   ],
   "source": [
    "x = 100\n",
    "y = 10\n",
    "power = 0.5\n",
    "\n",
    "print(x // y)\n",
    "print(x % y)\n",
    "print(x ** power)"
   ]
  },
  {
   "cell_type": "markdown",
   "metadata": {},
   "source": [
    "## Строки"
   ]
  },
  {
   "cell_type": "markdown",
   "metadata": {},
   "source": [
    "Внутри строк могут находиться любые символы: буквы, цифры, специальные знаки и т.д.  \n",
    "\n",
    "Строки всегда должны быть заключены в кавычки (одинарные `'` или двойные `\"`).  \n",
    "Для проверки типа данных можно использовать функцию `type()`. Например:"
   ]
  },
  {
   "cell_type": "code",
   "execution_count": 6,
   "metadata": {},
   "outputs": [
    {
     "name": "stdout",
     "output_type": "stream",
     "text": [
      "<class 'str'>\n",
      "<class 'str'>\n",
      "<class 'str'>\n"
     ]
    }
   ],
   "source": [
    "# Примеры строк:\n",
    "text = 'Я строка' # переменная `text` содержит строку.\n",
    "number_text = '123' # даже если внутри кавычек находятся цифры, это всё равно строка.\n",
    "random_text = '$^%' # строка может состоять из любых символов.\n",
    "\n",
    "print(type(text))  # <class 'str'>\n",
    "print(type(number_text))  # <class 'str'>\n",
    "print(type(random_text))  # <class 'str'>"
   ]
  },
  {
   "cell_type": "markdown",
   "metadata": {},
   "source": [
    "### Сложение строк"
   ]
  },
  {
   "cell_type": "markdown",
   "metadata": {},
   "source": [
    "Для строк определена операция сложения `+`, которая позволяет объединить две и более строки в одну. Это действие называется **конкатенацией** (от англ. *concatenation* — соединение).\n",
    "\n",
    "Пример:"
   ]
  },
  {
   "cell_type": "code",
   "execution_count": 7,
   "metadata": {},
   "outputs": [
    {
     "name": "stdout",
     "output_type": "stream",
     "text": [
      "Название магазинаМоторизированный котокраб\n"
     ]
    }
   ],
   "source": [
    "title = 'Название магазина'  # Первая строка\n",
    "shop_name = 'Моторизированный котокраб'  # Вторая строка\n",
    "\n",
    "# Конкатенация строк\n",
    "print(title + shop_name)"
   ]
  },
  {
   "cell_type": "markdown",
   "metadata": {},
   "source": [
    "```Важно```:\n",
    "При использовании операции + между строками не добавляется пробел автоматически. Если нужен пробел, его нужно явно указать:"
   ]
  },
  {
   "cell_type": "code",
   "execution_count": 8,
   "metadata": {},
   "outputs": [
    {
     "name": "stdout",
     "output_type": "stream",
     "text": [
      "Название магазина Моторизированный котокраб\n"
     ]
    }
   ],
   "source": [
    "print(title + ' ' + shop_name)"
   ]
  },
  {
   "cell_type": "markdown",
   "metadata": {},
   "source": [
    "### Умножение на число"
   ]
  },
  {
   "cell_type": "markdown",
   "metadata": {},
   "source": [
    "В математике сложение одинаковых чисел можно заменить умножением, и аналогичный подход работает с строками. Если требуется повторить строку несколько раз, вместо многократного сложения можно просто умножить её на нужное число.\n",
    "\n",
    "Например, создадим разделитель для блоков текста:"
   ]
  },
  {
   "cell_type": "code",
   "execution_count": 9,
   "metadata": {},
   "outputs": [
    {
     "name": "stdout",
     "output_type": "stream",
     "text": [
      "----------\n"
     ]
    }
   ],
   "source": [
    "separator = '-' * 10  # Умножаем строку \"-\" на 10\n",
    "print(separator)"
   ]
  },
  {
   "cell_type": "markdown",
   "metadata": {},
   "source": [
    "Мы можем не только создавать простые разделители, но и украшать их, комбинируя конкатенацию и умножение строк. Например, давайте сделаем более интересный разделитель:\n"
   ]
  },
  {
   "cell_type": "code",
   "execution_count": 10,
   "metadata": {},
   "outputs": [
    {
     "name": "stdout",
     "output_type": "stream",
     "text": [
      "<==============================>\n"
     ]
    }
   ],
   "source": [
    "# Украсим разделитель\n",
    "print(\"<\" + \"=\" * 30 + \">\")"
   ]
  },
  {
   "cell_type": "markdown",
   "metadata": {},
   "source": [
    "## Логический тип"
   ]
  },
  {
   "cell_type": "markdown",
   "metadata": {},
   "source": [
    "# Структуры данных"
   ]
  },
  {
   "cell_type": "markdown",
   "metadata": {},
   "source": [
    "## Список (list)"
   ]
  },
  {
   "cell_type": "markdown",
   "metadata": {},
   "source": [
    "Список в Python — упорядоченную коллекцию элементов. В отличие от кортежей, списки имеют переменную длину, а их содержимое можно модифицировать. Список определяется с помощью квадратных скобок ```[ ]``` или конструктора типа ```list```:  \n",
    "  \n",
    "Основные характеристики списков:  \n",
    "* **Упорядоченность**: Элементы в списке имеют фиксированный порядок, и каждый элемент имеет свой индекс, начиная с нуля.  \n",
    "* **Изменяемость**: Вы можете добавлять, удалять и изменять элементы в списке.  \n",
    "* **Разнообразие типов**: Списки могут содержать элементы разных типов, включая другие списки.  \n",
    "* **Динамическое выделение памяти**: Размер списка может изменяться во время выполнения программы.  "
   ]
  },
  {
   "cell_type": "markdown",
   "metadata": {},
   "source": [
    "В отличие от строк, списки можно изменять:"
   ]
  },
  {
   "cell_type": "markdown",
   "metadata": {},
   "source": [
    "| Строки | Списки |\n",
    "|--------|--------|\n",
    "| Нельзя изменить символ в строке, обращаясь по индексу. | Можно изменить элемент в списке, обращаясь по индексу. |\n",
    "| Нельзя добавить к имеющейся строке новый символ. Операция сложения + создаст новую строку. | Можно добавить новый элемент к списку. |"
   ]
  },
  {
   "cell_type": "markdown",
   "metadata": {},
   "source": [
    "### Создание списка"
   ]
  },
  {
   "cell_type": "code",
   "execution_count": 11,
   "metadata": {},
   "outputs": [
    {
     "name": "stdout",
     "output_type": "stream",
     "text": [
      "Создадим список\n",
      "[1, 'Два', 3.0, True]\n",
      "\n",
      "Создадим список используя функцию list()\n",
      "[1, 2, 3, 4, 5]\n"
     ]
    }
   ],
   "source": [
    "# создание списка\n",
    "print(\"Создадим список\")\n",
    "list_1 = [1, 'Два', 3.0, True]\n",
    "print(list_1)\n",
    "\n",
    "print(\"\\nСоздадим список используя функцию list()\")\n",
    "tup = (1, 2, 3, 4, 5)\n",
    "list_2 = list(tup)\n",
    "print(list_2)\n"
   ]
  },
  {
   "cell_type": "code",
   "execution_count": 12,
   "metadata": {},
   "outputs": [
    {
     "name": "stdout",
     "output_type": "stream",
     "text": [
      "\n",
      "Изменим элемент списка с индексом 1\n",
      "[1, 2000, 3, 4, 5]\n"
     ]
    }
   ],
   "source": [
    "print(f\"\\nИзменим элемент списка с индексом 1\")\n",
    "# модификация элеметов списка\n",
    "list_2[1] = 2000\n",
    "print(list_2)"
   ]
  },
  {
   "cell_type": "markdown",
   "metadata": {},
   "source": [
    "### Основные операции над списком"
   ]
  },
  {
   "cell_type": "code",
   "execution_count": 13,
   "metadata": {},
   "outputs": [
    {
     "name": "stdout",
     "output_type": "stream",
     "text": [
      "[1, 'Два', 3.0, True, 'Value']\n"
     ]
    }
   ],
   "source": [
    "# добавление элемента в конец списка .append()\n",
    "list_1.append('Value')\n",
    "print(list_1)\n",
    "\n",
    "# Обратите внимание, что метод append() изменяет изначальный список, а не создаёт новый."
   ]
  },
  {
   "cell_type": "code",
   "execution_count": 14,
   "metadata": {},
   "outputs": [
    {
     "name": "stdout",
     "output_type": "stream",
     "text": [
      "Смотрим на исходный список ['A', 'B', 'C']\n"
     ]
    }
   ],
   "source": [
    "# расширение списка путем добавления в него другого списка\n",
    "list_a = ['A', 'B', 'C']\n",
    "list_b = ['X', 'Y', 'Z']\n",
    "\n",
    "print(f'Смотрим на исходный список {list_a}')"
   ]
  },
  {
   "cell_type": "code",
   "execution_count": 15,
   "metadata": {},
   "outputs": [
    {
     "name": "stdout",
     "output_type": "stream",
     "text": [
      "Смотрим на измененны список ['A', 'B', 'C', 'X', 'Y', 'Z']\n"
     ]
    }
   ],
   "source": [
    "# применяем метод extend\n",
    "list_a.extend(list_b)\n",
    "\n",
    "print(f'Смотрим на измененны список {list_a}')"
   ]
  },
  {
   "cell_type": "markdown",
   "metadata": {},
   "source": [
    "| Метод      | Описание                                                                 | Пример                                 | Результат                               |\n",
    "|------------|--------------------------------------------------------------------------|----------------------------------------|-----------------------------------------|\n",
    "| `.append()` | Добавляет **один элемент** (любого типа) в конец списка. Если передать список, он будет добавлен как **целый элемент** (вложенный список). | `x.append([4, 5])`                     | `[1, 2, 3, [4, 5]]`                    |\n",
    "| `.extend()` | Добавляет **элементы из итерируемого объекта** (список, кортеж, строка и т.д.) в конец списка. Элементы добавляются **по отдельности**, а не как целое. | `x.extend([4, 5])`                     | `[1, 2, 3, 4, 5]`                      |\n",
    "|            | Может принимать любые итерируемые объекты: списки, строки, кортежи и т.д.   | `x.extend(\"abc\")`                      | `[1, 2, 3, 'a', 'b', 'c']`             |\n",
    "|            | Не изменяет структуру исходного объекта (например, список останется списком). | `x.extend((10, 20))`                   | `[1, 2, 3, 10, 20]`                    |\n",
    "|            | Используется, когда нужно **расширить список элементами другого списка**. |                                        |                                         |"
   ]
  },
  {
   "cell_type": "code",
   "execution_count": 16,
   "metadata": {},
   "outputs": [
    {
     "name": "stdout",
     "output_type": "stream",
     "text": [
      "['Red', 'blue', 'White', 1, 2, 3]\n"
     ]
    }
   ],
   "source": [
    "# можно расширить список простым сложением\n",
    "list_c = ['Red', 'blue', 'White']\n",
    "list_d = [1, 2, 3]\n",
    "print(list_c + list_d)"
   ]
  },
  {
   "cell_type": "code",
   "execution_count": 17,
   "metadata": {},
   "outputs": [
    {
     "name": "stdout",
     "output_type": "stream",
     "text": [
      "[1, 'Два', 'x', 3.0, True, 'Value']\n"
     ]
    }
   ],
   "source": [
    "# добавление элемента по индексу\n",
    "# индекс позиции вставки должен принадлежать диапазону от 0 до длины списка включительно.\n",
    "list_1.insert(2, 'x')\n",
    "print(list_1)"
   ]
  },
  {
   "cell_type": "code",
   "execution_count": 18,
   "metadata": {},
   "outputs": [
    {
     "name": "stdout",
     "output_type": "stream",
     "text": [
      "[1, 'Два', 'x', 3.0, True]\n"
     ]
    }
   ],
   "source": [
    "# удаление первого вхождения указанного значения\n",
    "list_1.remove('Value')\n",
    "print(list_1)"
   ]
  },
  {
   "cell_type": "code",
   "execution_count": 19,
   "metadata": {},
   "outputs": [
    {
     "data": {
      "text/plain": [
       "'x'"
      ]
     },
     "execution_count": 19,
     "metadata": {},
     "output_type": "execute_result"
    }
   ],
   "source": [
    "# удаление элемента по индексу и возвращает его\n",
    "list_1.pop(2)\n",
    "\n",
    "# принимает индекс элемента, который нужно удалить, и возвращает элемент, который был удалён."
   ]
  },
  {
   "cell_type": "code",
   "execution_count": 20,
   "metadata": {},
   "outputs": [
    {
     "name": "stdout",
     "output_type": "stream",
     "text": [
      "[1, 'Два', 3.5, True]\n"
     ]
    }
   ],
   "source": [
    "# изменение элемента по индексу\n",
    "list_1[2] = 3.5\n",
    "print(list_1)"
   ]
  },
  {
   "cell_type": "code",
   "execution_count": 21,
   "metadata": {},
   "outputs": [
    {
     "data": {
      "text/plain": [
       "True"
      ]
     },
     "execution_count": 21,
     "metadata": {},
     "output_type": "execute_result"
    }
   ],
   "source": [
    "# Чтобы проверить, содержит ли список некоторое значение, используется ключевое слово in\n",
    "1 in list_1"
   ]
  },
  {
   "cell_type": "code",
   "execution_count": 22,
   "metadata": {},
   "outputs": [
    {
     "name": "stdout",
     "output_type": "stream",
     "text": [
      "1\n",
      "True\n",
      "[1, 'Два']\n",
      "[3.5, True]\n"
     ]
    }
   ],
   "source": [
    "# доступ к элементам по индексу\n",
    "print(list_1[0]) # первый элемент списка\n",
    "print(list_1[-1]) # последний элемент списка\n",
    "print(list_1[0:2]) # первые два элемента\n",
    "print(list_1[-2:]) # два последних элемента"
   ]
  },
  {
   "cell_type": "code",
   "execution_count": 23,
   "metadata": {},
   "outputs": [
    {
     "data": {
      "text/plain": [
       "[32, 12, 7, 4, 3, 3, 1]"
      ]
     },
     "execution_count": 23,
     "metadata": {},
     "output_type": "execute_result"
    }
   ],
   "source": [
    "# сортировка списка\n",
    "# Список можно отсортировать на месте (без создания нового объекта), вызвавего метод sort\n",
    "\n",
    "list_4 = [1, 3, 7, 12, 3, 4, 32]\n",
    "list_4.sort(reverse = True)\n",
    "list_4\n",
    "# Этот метод изменяет исходный список, сортируя его элементы.\n"
   ]
  },
  {
   "cell_type": "markdown",
   "metadata": {},
   "source": [
    "По умолчанию список сортируется в порядке возрастания — от меньшего к большему. Для обратной сортировки, то есть от большего к меньшему, используется параметр `reverse = True`."
   ]
  },
  {
   "cell_type": "code",
   "execution_count": 24,
   "metadata": {},
   "outputs": [
    {
     "name": "stdout",
     "output_type": "stream",
     "text": [
      " Минимальное значение: 1,\n",
      " Максимальное значение: 32\n"
     ]
    }
   ],
   "source": [
    "# получение минимального и максимального элемента списка\n",
    "print(f' Минимальное значение: {min(list_4)},\\n Максимальное значение: {max(list_4)}')"
   ]
  },
  {
   "cell_type": "code",
   "execution_count": 25,
   "metadata": {},
   "outputs": [
    {
     "name": "stdout",
     "output_type": "stream",
     "text": [
      "['H', 'e', 'l', 'l', 'o', '!']\n"
     ]
    }
   ],
   "source": [
    "# Преобразование строки в список\n",
    "string_example = 'Hello!'\n",
    "list_example = list(string_example)\n",
    "print(list_example)"
   ]
  },
  {
   "cell_type": "code",
   "execution_count": 70,
   "metadata": {},
   "outputs": [
    {
     "name": "stdout",
     "output_type": "stream",
     "text": [
      "<class 'list'>\n",
      "['Зима', 'Весна', 'Лето', 'Осень']\n"
     ]
    }
   ],
   "source": [
    "# разделение строки на подстроки и создание списка\n",
    "string_examples = 'Зима / Весна / Лето / Осень'\n",
    "list_example_2 = string_examples.split(' / ')\n",
    "print(type(list_example_2))\n",
    "print(list_example_2)"
   ]
  },
  {
   "cell_type": "code",
   "execution_count": 76,
   "metadata": {},
   "outputs": [
    {
     "name": "stdout",
     "output_type": "stream",
     "text": [
      "<class 'str'>\n",
      "Зима / Весна / Лето / Осень\n"
     ]
    }
   ],
   "source": [
    "# теперь вновь вернем список обратно в строку\n",
    "list_x = list_example_2\n",
    "sep_x = ' / '\n",
    "text_x = sep_x.join(list_x)\n",
    "print(type(text_x))\n",
    "print(text_x)\n",
    "\n",
    "# Метод join() объединяет элементы списка в одну строку, разделяя сами элементы строкой sep."
   ]
  },
  {
   "cell_type": "markdown",
   "metadata": {},
   "source": [
    "В отличие от строк, списки можно изменять:"
   ]
  },
  {
   "cell_type": "markdown",
   "metadata": {},
   "source": [
    "| Строки | Списки |\n",
    "|--------|--------|\n",
    "| Нельзя изменить символ в строке, обращаясь по индексу. | Можно изменить элемент в списке, обращаясь по индексу. |\n",
    "| Нельзя добавить к имеющейся строке новый символ. Операция сложения + создаст новую строку. | Можно добавить новый элемент к списку. |"
   ]
  },
  {
   "cell_type": "markdown",
   "metadata": {},
   "source": [
    "## Кортеж (tuple)"
   ]
  },
  {
   "cell_type": "markdown",
   "metadata": {},
   "source": [
    "Кортеж (tuple) в Python — это неизменяемая последовательность элементов, которая может содержать данные различных типов. Кортежи схожи со списками, но в отличие от них, после создания кортеж не может быть изменен. Это делает их полезными для хранения данных, которые не должны изменяться в процессе выполнения программы."
   ]
  },
  {
   "cell_type": "markdown",
   "metadata": {},
   "source": [
    "Основные характеристики кортежей:\n",
    "* **Неизменяемость**: После создания кортеж нельзя изменить, добавлять или удалять его элементы.\n",
    "* **Упорядоченность**: Элементы имеют фиксированный порядок и могут быть доступны по индексу, начиная с нуля.\n",
    "* **Разнообразие типов**: Кортежи могут содержать элементы разных типов, включая другие кортежи.\n",
    "* **Эффективность**: Кортежи занимают меньше памяти и работают быстрее по сравнению со списками, что делает их предпочтительными в ситуациях, где важна производительность."
   ]
  },
  {
   "cell_type": "markdown",
   "metadata": {},
   "source": [
    "### Создание кортежа"
   ]
  },
  {
   "cell_type": "code",
   "execution_count": 26,
   "metadata": {},
   "outputs": [
    {
     "name": "stdout",
     "output_type": "stream",
     "text": [
      "(1, 3, 'five', 7.14, True)\n"
     ]
    }
   ],
   "source": [
    "# создание кортежа\n",
    "tuple_1 = (1, 3, 'five', 7.14, True)\n",
    "print(tuple_1)"
   ]
  },
  {
   "cell_type": "markdown",
   "metadata": {},
   "source": [
    "### Основные операции над кортежами"
   ]
  },
  {
   "cell_type": "code",
   "execution_count": 27,
   "metadata": {},
   "outputs": [
    {
     "name": "stdout",
     "output_type": "stream",
     "text": [
      "[1, 'Два', 3.5, True]\n"
     ]
    }
   ],
   "source": [
    "# создание кортежа из другого итерируемого объекта\n",
    "tuple_2 = (list_1)\n",
    "print(tuple_2)"
   ]
  },
  {
   "cell_type": "code",
   "execution_count": 28,
   "metadata": {},
   "outputs": [
    {
     "name": "stdout",
     "output_type": "stream",
     "text": [
      "1\n",
      "True\n"
     ]
    }
   ],
   "source": [
    "# доступ к элементам кортежа по индексу\n",
    "print(tuple_1[0])\n",
    "print(tuple_1[-1])"
   ]
  },
  {
   "cell_type": "code",
   "execution_count": 29,
   "metadata": {},
   "outputs": [
    {
     "data": {
      "text/plain": [
       "(1, 3, 'five', 7.14, True)"
      ]
     },
     "metadata": {},
     "output_type": "display_data"
    },
    {
     "data": {
      "text/plain": [
       "'В кортеже touple_1 содержится 5 элементов.'"
      ]
     },
     "metadata": {},
     "output_type": "display_data"
    },
    {
     "data": {
      "text/plain": [
       "\"В кортеже tuple_4, элемент 'four' встречается 3 раз.\""
      ]
     },
     "metadata": {},
     "output_type": "display_data"
    }
   ],
   "source": [
    "# подсчет количества элементов в кортеже\n",
    "display(tuple_1)\n",
    "display(f'В кортеже touple_1 содержится {len(tuple_1)} элементов.')\n",
    "\n",
    "tuple_4 = (1, 1, 1, 2, 2, 3, 'four', 'four', 'four')\n",
    "display(f\"В кортеже tuple_4, элемент 'four' встречается {tuple_4.count('four')} раз.\")"
   ]
  },
  {
   "cell_type": "code",
   "execution_count": 30,
   "metadata": {},
   "outputs": [
    {
     "name": "stdout",
     "output_type": "stream",
     "text": [
      "[1, 3, 5, 'x', True, -985.4]\n",
      "(1, 3, 5, 'x', True, -985.4)\n",
      "List: 88 bytes\n",
      "Tuple: 72 bytes\n"
     ]
    }
   ],
   "source": [
    "# Одинаковые кортеж и список занимают разное количество места\n",
    "list_3 = [1, 3, 5, 'x', True, -985.4]\n",
    "tuple_3 = (1, 3, 5, 'x', True, -985.4)\n",
    "\n",
    "print(list_3)\n",
    "print(tuple_3)\n",
    "\n",
    "print(f\"List: {list_3.__sizeof__()} bytes\")\n",
    "print(f\"Tuple: {tuple_3.__sizeof__()} bytes\")"
   ]
  },
  {
   "cell_type": "markdown",
   "metadata": {},
   "source": [
    "## Словарь (dict)"
   ]
  },
  {
   "cell_type": "markdown",
   "metadata": {},
   "source": [
    "Словарь — представляет собой коллекцию пар ключ-значение. Словари позволяют эффективно хранить и извлекать данные по ключу. Иногда называют хешем, отображением или ассоциативным массивом. \n",
    "\n",
    "Основные характеристики словарей:\n",
    "* **Ключи и значения**: Каждый элемент словаря состоит из уникального ключа и соответствующего ему значения. Ключи должны быть неизменяемыми (например, строки, числа или кортежи), тогда как значения могут быть любого типа.\n",
    "* **Изменяемость**: Словари являются изменяемыми, что означает, что вы можете добавлять, изменять и удалять элементы после их создания.\n",
    "* **Эффективность**: Словари обеспечивают быстрый доступ к данным благодаря использованию хэш-таблиц.\n",
    "\n",
    "Словарь создается с помощью фигурных скобок {} или с использованием функции dict()."
   ]
  },
  {
   "cell_type": "markdown",
   "metadata": {},
   "source": [
    "### Создание словаря"
   ]
  },
  {
   "cell_type": "code",
   "execution_count": 31,
   "metadata": {},
   "outputs": [
    {
     "name": "stdout",
     "output_type": "stream",
     "text": [
      "{'name': 'Harry', 'surname': 'Potter', 'Age': 12}\n",
      "{'name': 'Ronald', 'surname': 'Weasley', 'age': 13}\n"
     ]
    }
   ],
   "source": [
    "# создаем пустой словарь\n",
    "d = {} \n",
    "\n",
    "# создаем словарь с элементами\n",
    "d_1 = {\n",
    "    'name' : 'Harry',\n",
    "    'surname' : 'Potter',\n",
    "    'Age' : 12\n",
    "}\n",
    "print(d_1)\n",
    "\n",
    "# альтернативный способ создания словаря\n",
    "d_2 = dict(name = 'Ronald', surname = 'Weasley', age = 13)\n",
    "print(d_2)"
   ]
  },
  {
   "cell_type": "markdown",
   "metadata": {},
   "source": [
    "### Основные операции над словарями"
   ]
  },
  {
   "cell_type": "code",
   "execution_count": 32,
   "metadata": {},
   "outputs": [
    {
     "name": "stdout",
     "output_type": "stream",
     "text": [
      "{'name': 'Harry', 'surname': 'Potter', 'Age': 12, 'Job': 'Wizard'}\n"
     ]
    }
   ],
   "source": [
    "# добавление элемента\n",
    "d_1['Job'] = 'Wizard'\n",
    "print(d_1)\n",
    "\n",
    "# при использовании нового ключа данные будут добавлены в словарь"
   ]
  },
  {
   "cell_type": "code",
   "execution_count": 33,
   "metadata": {},
   "outputs": [
    {
     "name": "stdout",
     "output_type": "stream",
     "text": [
      "{'name': 'Harry', 'surname': 'Potter', 'Age': 12, 'Job': 'Wizard'}\n",
      "dict_keys(['name', 'surname', 'Age', 'Job'])\n",
      "dict_values(['Harry', 'Potter', 12, 'Wizard'])\n"
     ]
    }
   ],
   "source": [
    "# методы keys и  values возвращают соответственно список ключей и  список значений\n",
    "print(d_1)\n",
    "print(d_1.keys())\n",
    "print(d_1.values())"
   ]
  },
  {
   "cell_type": "code",
   "execution_count": 34,
   "metadata": {},
   "outputs": [
    {
     "name": "stdout",
     "output_type": "stream",
     "text": [
      "{'name': 'Harry', 'surname': 'Potter', 'Age': '21', 'Job': 'Wizard'}\n"
     ]
    }
   ],
   "source": [
    "# измнение элемента\n",
    "d_1['Age'] = '21'\n",
    "print(d_1)\n",
    "\n",
    "# при совпадении ключей данные будут перезаписаны"
   ]
  },
  {
   "cell_type": "code",
   "execution_count": 35,
   "metadata": {},
   "outputs": [
    {
     "name": "stdout",
     "output_type": "stream",
     "text": [
      "Harry Ronald\n"
     ]
    }
   ],
   "source": [
    "# чтение значения\n",
    "print(d_1['name'], d_2['name'])"
   ]
  },
  {
   "cell_type": "code",
   "execution_count": 36,
   "metadata": {},
   "outputs": [
    {
     "name": "stdout",
     "output_type": "stream",
     "text": [
      "{'name': 'Harry', 'surname': 'Potter', 'Age': '21'}\n"
     ]
    }
   ],
   "source": [
    "# удаление значений\n",
    "d_1.pop('Job')\n",
    "print(d_1)"
   ]
  },
  {
   "cell_type": "code",
   "execution_count": 37,
   "metadata": {},
   "outputs": [
    {
     "name": "stdout",
     "output_type": "stream",
     "text": [
      "Имя: Harry\n"
     ]
    }
   ],
   "source": [
    "# проверка наличия ключа в словаре\n",
    "if 'name' in d_1:\n",
    "    print('Имя:', d_1['name'])\n",
    "\n",
    "# если попытаться читать ключ из словаря, которого нет, получим ошибку 'KeyError:'\n",
    "\n",
    "# d_1['Job'] -- выведет KeyError: 'Job'\n"
   ]
  },
  {
   "cell_type": "markdown",
   "metadata": {},
   "source": [
    "## Множество (set)"
   ]
  },
  {
   "cell_type": "markdown",
   "metadata": {},
   "source": [
    "Множество (set) в Python — это изменяемая, неупорядоченная коллекция уникальных элементов. Оно используется для хранения данных, где важна уникальность значений, и поддерживает множество операций.\n",
    "\n",
    "Основные характеристики множеств:\n",
    "* **Неупорядоченность**: Элементы множества не имеют фиксированного порядка, и вы не можете обращаться к элементам по индексу.\n",
    "* **Уникальность**: В множестве не может быть повторяющихся элементов. При добавлении дублирующего значения оно будет игнорироваться.\n",
    "* **Изменяемость**: Множества можно изменять — добавлять или удалять элементы после их создания.\n",
    "* **Элементы должны быть хэшируемыми**: Это означает, что элементы множества должны быть неизменяемыми (например, числа, строки или кортежи), но не могут быть изменяемыми типами, такими как списки или другие множества.\n",
    "\n"
   ]
  },
  {
   "cell_type": "markdown",
   "metadata": {},
   "source": [
    "### Создание множества\n"
   ]
  },
  {
   "cell_type": "markdown",
   "metadata": {},
   "source": [
    "Множество создается с помощью фигурных скобок {} или функции set()."
   ]
  },
  {
   "cell_type": "code",
   "execution_count": 38,
   "metadata": {},
   "outputs": [],
   "source": [
    "# создание пустого множества\n",
    "empty_set_1 = set()\n",
    "empty_set_2 = {}"
   ]
  },
  {
   "cell_type": "code",
   "execution_count": 39,
   "metadata": {},
   "outputs": [
    {
     "name": "stdout",
     "output_type": "stream",
     "text": [
      "{1, 2, 'House'}\n",
      "{1, 3, 99, 4.5, -1}\n"
     ]
    }
   ],
   "source": [
    "# создание множества двумя способами\n",
    "\n",
    "# используя set()\n",
    "t_1 = (1, 2, True, 'House') # определим кортеж \n",
    "set_1 = set(t_1) # принимает на вход один аргумент, итерируемый аргумент\n",
    "print(set_1)\n",
    "\n",
    "# используя {}\n",
    "set_2 = {1, 3, 4.5, 99, -1}\n",
    "print(set_2)"
   ]
  },
  {
   "cell_type": "code",
   "execution_count": 40,
   "metadata": {},
   "outputs": [
    {
     "name": "stdout",
     "output_type": "stream",
     "text": [
      "{1, 3, -12, 5, 7, 9.5}\n"
     ]
    }
   ],
   "source": [
    "# при создании множества с повторяющимися элементами они будут игнорированы\n",
    "set_3 = {1, 3, 3, 3, 5, 7, 9.5, -12}\n",
    "print(set_3)"
   ]
  },
  {
   "cell_type": "markdown",
   "metadata": {},
   "source": [
    "### Основные операции над множествами"
   ]
  },
  {
   "cell_type": "code",
   "execution_count": 41,
   "metadata": {},
   "outputs": [
    {
     "name": "stdout",
     "output_type": "stream",
     "text": [
      "{1, 3, -12, 5, 999, 7, 9.5}\n"
     ]
    }
   ],
   "source": [
    "# добавление нового элемента в множество\n",
    "set_3.add(999)\n",
    "print(set_3)"
   ]
  },
  {
   "cell_type": "markdown",
   "metadata": {},
   "source": [
    "Удаление элемента: Для удаления элемента используйте метод remove() или discard(). Метод remove() вызовет ошибку, если элемент отсутствует."
   ]
  },
  {
   "cell_type": "code",
   "execution_count": 42,
   "metadata": {},
   "outputs": [
    {
     "name": "stdout",
     "output_type": "stream",
     "text": [
      "{1, 3, -12, 5, 7, 9.5}\n"
     ]
    }
   ],
   "source": [
    "# remove\n",
    "set_3.remove(999)\n",
    "print(set_3)\n",
    "\n",
    "#set_3.remove(998) -- получил ошибку KeyError: 998"
   ]
  },
  {
   "cell_type": "code",
   "execution_count": 43,
   "metadata": {},
   "outputs": [
    {
     "name": "stdout",
     "output_type": "stream",
     "text": [
      "{1, 3, -12, 5, 9.5}\n"
     ]
    }
   ],
   "source": [
    "# discard\n",
    "set_3.discard(7) # удаляем 7\n",
    "print(set_3)\n",
    "\n",
    "set_3.discard(1092) # удаляем 1092, которого нет в множестве. Ошибки не будет"
   ]
  },
  {
   "cell_type": "code",
   "execution_count": 44,
   "metadata": {},
   "outputs": [
    {
     "name": "stdout",
     "output_type": "stream",
     "text": [
      "5\n"
     ]
    }
   ],
   "source": [
    "# подсчет количества элементов множества\n",
    "print(len(set_3))"
   ]
  },
  {
   "cell_type": "code",
   "execution_count": 45,
   "metadata": {},
   "outputs": [
    {
     "name": "stdout",
     "output_type": "stream",
     "text": [
      "set()\n"
     ]
    }
   ],
   "source": [
    "# очистка множества\n",
    "set_1.clear()\n",
    "print(set_1)"
   ]
  },
  {
   "cell_type": "markdown",
   "metadata": {},
   "source": [
    "### Математические операции над множествами"
   ]
  },
  {
   "cell_type": "code",
   "execution_count": 46,
   "metadata": {},
   "outputs": [
    {
     "name": "stdout",
     "output_type": "stream",
     "text": [
      "{1, 2, 3, 4.5, 27, -3}\n",
      "{3, 227, 4.51, 23, 12, -1}\n",
      "{True, 3, 'a'}\n"
     ]
    }
   ],
   "source": [
    "# определим множества для изучения\n",
    "set_a = {1, 2, 3, 4.5, 27, -3}\n",
    "set_b = {12, 23, 3, 4.51, 227, -1}\n",
    "set_c = {'a', True, 3}\n",
    "print(set_a)\n",
    "print(set_b)\n",
    "print(set_c)"
   ]
  },
  {
   "cell_type": "code",
   "execution_count": 47,
   "metadata": {},
   "outputs": [
    {
     "name": "stdout",
     "output_type": "stream",
     "text": [
      "{1, 2, 3, 4.5, 227, 4.51, 12, 23, 27, -3, -1}\n",
      "{True, 3, 227, 4.51, 12, 23, 'a', -1}\n"
     ]
    }
   ],
   "source": [
    "# объединение множеств\n",
    "union_set = set_a | set_b\n",
    "union_set_2 = set_b | set_c\n",
    "print(union_set)\n",
    "print(union_set_2)"
   ]
  },
  {
   "cell_type": "code",
   "execution_count": 48,
   "metadata": {},
   "outputs": [
    {
     "name": "stdout",
     "output_type": "stream",
     "text": [
      "Присуствует в обоих множествах: {2}\n"
     ]
    }
   ],
   "source": [
    "# пересечение множеств - вернуть значения, присуствующих в обоих множествах\n",
    "set_x = {1, 2, 3}\n",
    "set_xx = {2, 4, 6}\n",
    "intersect_set = set_x & set_xx\n",
    "print(f'Присуствует в обоих множествах: {intersect_set}')"
   ]
  },
  {
   "cell_type": "code",
   "execution_count": 49,
   "metadata": {},
   "outputs": [
    {
     "name": "stdout",
     "output_type": "stream",
     "text": [
      "Элементы первого, отсуствующие во втором множестве: {1, 3}\n"
     ]
    }
   ],
   "source": [
    "# разность - возвращает элементы первого, отсуствующие во втором\n",
    "dif_set = set_x - set_xx\n",
    "print(f'Элементы первого, отсуствующие во втором множестве: {dif_set}')"
   ]
  },
  {
   "cell_type": "markdown",
   "metadata": {},
   "source": [
    "# Условыне конструкции"
   ]
  },
  {
   "cell_type": "markdown",
   "metadata": {},
   "source": [
    "| Логический оператор | Значение         | Действие логического оператора                     | Когда возвращает True                      | Пример выражения с результатом True |\n",
    "|---------------------|------------------|----------------------------------------------------|---------------------------------------------|-------------------------------------|\n",
    "| ==                  | равно            | сравнивает два значения между собой               | когда значения равны                        | 5 == 5                              |\n",
    "| !=                  | не равно         | сравнивает два значения между собой               | когда значения не равны                     | 4 != 5                              |\n",
    "| >                   | больше           | сравнивает два значения между собой               | если первое больше второго                  | 5 > 1                               |\n",
    "| <                   | меньше           | сравнивает два значения между собой               | если первое меньше второго                  | 1 < 5                               |\n",
    "| >=                  | больше или равно | сравнивает два значения между собой               | если первое больше второго или значения равны | 5 >= 1                              |\n",
    "| >=                  | больше или равно | сравнивает два значения между собой               | если первое больше второго или значения равны | 5 >= 5                              |\n",
    "| <=                  | меньше или равно | сравнивает два значения между собой               | если первое меньше второго или значения равны | 1 <= 1                              |\n",
    "| <=                  | меньше или равно | сравнивает два значения между собой               | если первое меньше второго или значения равны | 5 <= 5                              |"
   ]
  },
  {
   "cell_type": "markdown",
   "metadata": {},
   "source": [
    "| Выражение             | Результат | Объяснение                                           |\n",
    "|-----------------------|-----------|------------------------------------------------------|\n",
    "| `True and True`       | `True`    | Оба значения `True`, результат — `True`              |\n",
    "| `True and False`      | `False`   | Одно из значений `False`, результат — `False`        |\n",
    "| `False and True`      | `False`   | Одно из значений `False`, результат — `False`        |\n",
    "| `False and False`     | `False`   | Оба значения `False`, результат — `False`            |\n",
    "| `True or True`        | `True`    | Хотя бы одно значение `True`, результат — `True`     |\n",
    "| `True or False`       | `True`    | Хотя бы одно значение `True`, результат — `True`     |\n",
    "| `False or True`       | `True`    | Хотя бы одно значение `True`, результат — `True`     |\n",
    "| `False or False`      | `False`   | Оба значения `False`, результат — `False`            |"
   ]
  },
  {
   "cell_type": "markdown",
   "metadata": {},
   "source": [
    "| Выражение А | Выражение В | A and B | A or B | not A | not B |\n",
    "|-------------|-------------|---------|--------|-------|-------|\n",
    "| True        | True        | True    | True   | False | False |\n",
    "| True        | False       | False   | True   | False | True  |\n",
    "| False       | True        | False   | True   | True  | False |\n",
    "| False       | False       | False   | False  | True  | True  |"
   ]
  },
  {
   "cell_type": "markdown",
   "metadata": {},
   "source": [
    "## Битовые операторы `&` и `|`"
   ]
  },
  {
   "cell_type": "markdown",
   "metadata": {},
   "source": [
    "Битовые операторы соответствуют логическим операторам"
   ]
  },
  {
   "cell_type": "markdown",
   "metadata": {},
   "source": [
    "| Битовый оператор | Значение     | Логический аналог |\n",
    "|------------------|--------------|-------------------|\n",
    "| `&`              | И (AND)      | `and`             |\n",
    "| `\\|`              | ИЛИ (OR)     | `or`              |\n",
    "| `~`              | НЕ (NOT)     | `not`             |"
   ]
  },
  {
   "cell_type": "markdown",
   "metadata": {},
   "source": [
    "## Последовательность выполнения условий"
   ]
  },
  {
   "cell_type": "markdown",
   "metadata": {},
   "source": [
    "| Порядок выполнения | Операторы                          | Описание                             |\n",
    "|--------------------|------------------------------------|--------------------------------------|\n",
    "| 1                  | `( )`                              | Операции в скобках                   |\n",
    "| 2                  | `**`                               | Возведение в степень                 |\n",
    "| 3                  | `~`                                | Битовый NOT (унарный)               |\n",
    "| 4                  | `*`, `/`                           | Умножение и деление                  |\n",
    "| 5                  | `+`, `-`                           | Сложение и вычитание                 |\n",
    "| 6                  | `&`, `\\|`                           | Битовые операторы И и ИЛИ           |\n",
    "| 7                  | `<`, `<=`, `>`, `>=`, `==`, `!=`   | Операторы сравнения                 |\n",
    "| 8                  | `not`, `and`, `or`                 | Логические операторы                 |"
   ]
  },
  {
   "cell_type": "markdown",
   "metadata": {},
   "source": [
    "## Преобразование логического типа данных"
   ]
  },
  {
   "cell_type": "markdown",
   "metadata": {},
   "source": [
    "| Пример               | Результат | Пояснение                             |\n",
    "|----------------------|-----------|----------------------------------------|\n",
    "| `bool('string')`     | `True`    | Строка с любыми символами преобразуется в True. |\n",
    "| `bool('')`           | `False`   | Пустая строка преобразуется в False.       |\n",
    "| `bool(['A','B'])`    | `True`    | Список непустой — True.                    |\n",
    "| `bool([])`           | `False`   | Пустой список — False.                     |\n",
    "| `bool(-1995.5)`      | `True`    | Любое ненулевое число преобразуется в True. |\n",
    "| `bool(0)`            | `False`   | 0 преобразуется в False.                  |"
   ]
  },
  {
   "cell_type": "markdown",
   "metadata": {},
   "source": [
    "## Условный оператор if"
   ]
  },
  {
   "cell_type": "code",
   "execution_count": 50,
   "metadata": {},
   "outputs": [],
   "source": [
    "# синтаксис if\n",
    "\n",
    "# if логическое выражение:  \n",
    "#    ветка кода\n",
    "\n",
    "# заголовок (ключевое слово if, логическое выражение, двоеточие разделитель)\n",
    "# if логическое выражение:  \n",
    "\n",
    "# блок с инструкциями (набор инструкций, выполняеются если выражение True)\n",
    "#    ветка кода (отступ в 4 пробела)\n"
   ]
  },
  {
   "cell_type": "code",
   "execution_count": 51,
   "metadata": {},
   "outputs": [
    {
     "name": "stdout",
     "output_type": "stream",
     "text": [
      "a > b\n"
     ]
    }
   ],
   "source": [
    "# пример\n",
    "a = 11\n",
    "b = 1\n",
    "\n",
    "if a > b:\n",
    "    print(f'a > b')\n",
    "elif a == b:\n",
    "    print(f'a = b')\n",
    "else: \n",
    "    print(f'a < b')"
   ]
  },
  {
   "cell_type": "markdown",
   "metadata": {},
   "source": [
    "## Сложные конструкции if"
   ]
  },
  {
   "cell_type": "code",
   "execution_count": 52,
   "metadata": {},
   "outputs": [
    {
     "name": "stdout",
     "output_type": "stream",
     "text": [
      "Нормальная температура\n"
     ]
    }
   ],
   "source": [
    "# пример использования условной логики с and\n",
    "\n",
    "temperature = 23\n",
    "\n",
    "if temperature < 25 and temperature > 20:\n",
    "    print('Нормальная температура')\n",
    "elif temperature > 25:\n",
    "    print('Жарко')\n",
    "else:\n",
    "    print('Холодно')"
   ]
  },
  {
   "cell_type": "code",
   "execution_count": 53,
   "metadata": {},
   "outputs": [
    {
     "name": "stdout",
     "output_type": "stream",
     "text": [
      "Скверная погода для прогулки\n"
     ]
    }
   ],
   "source": [
    "# пример использования условной логики с or\n",
    "\n",
    "weather = 'rain'\n",
    "temperature = 14\n",
    "\n",
    "if weather == 'rain' or temperature < 20:\n",
    "    print('Скверная погода для прогулки')\n",
    "else:\n",
    "    print('нормально? Нормааально')"
   ]
  },
  {
   "cell_type": "code",
   "execution_count": 54,
   "metadata": {},
   "outputs": [
    {
     "name": "stdout",
     "output_type": "stream",
     "text": [
      "Надеть шапку и шарф\n"
     ]
    }
   ],
   "source": [
    "weather = 'снег'\n",
    "\n",
    "if weather == 'дождь': # если на улице дождь\n",
    "# первая ветка кода\n",
    "    print('Взять зонт')\n",
    "elif weather == 'солнце': # если на улице солнце\n",
    "# вторая ветка кода\n",
    "    print('Взять панаму')\n",
    "elif weather == 'снег': # если на улице снег\n",
    "# третья ветка кода\n",
    "    print('Надеть шапку и шарф')\n",
    "else: # если все три условных выражения ложные\n",
    "# четвёртая ветка кода\n",
    "    print('На улице отличная погода')"
   ]
  },
  {
   "cell_type": "markdown",
   "metadata": {},
   "source": [
    "# Циклы"
   ]
  },
  {
   "cell_type": "markdown",
   "metadata": {},
   "source": [
    "## for"
   ]
  },
  {
   "cell_type": "markdown",
   "metadata": {},
   "source": [
    "for  — от английского «для». Он повторяет заданную последовательность инструкций для каждого итерируемого объекта, например, списка, кортежа, строки. "
   ]
  },
  {
   "cell_type": "code",
   "execution_count": 55,
   "metadata": {},
   "outputs": [
    {
     "name": "stdout",
     "output_type": "stream",
     "text": [
      "[1 2 3 4 5]\n",
      "[ 6  7  8  9 10]\n"
     ]
    }
   ],
   "source": [
    "# напрмиер, выведем на экран последовательность из массива по элементу за раз\n",
    "\n",
    "import numpy as np\n",
    "\n",
    "arr = np.array([[1, 2, 3, 4, 5], [6, 7, 8, 9, 10]])\n",
    "\n",
    "for x in arr:\n",
    "    print(x)"
   ]
  },
  {
   "cell_type": "code",
   "execution_count": 56,
   "metadata": {},
   "outputs": [
    {
     "name": "stdout",
     "output_type": "stream",
     "text": [
      "Одногруппник: Антон\n",
      "Одногруппник: Арина\n",
      "Одногруппник: Борис\n",
      "Одногруппник: Диана\n",
      "Одногруппник: Ольга\n"
     ]
    }
   ],
   "source": [
    "# выведем последовательность имен одногруппников\n",
    "\n",
    "names = ['Антон', 'Арина', 'Борис', 'Диана', 'Ольга']\n",
    "\n",
    "for name in names:\n",
    "    print(f'Одногруппник: {name}')"
   ]
  },
  {
   "cell_type": "markdown",
   "metadata": {},
   "source": [
    "Каждый цикл из примеров выше состоит из двух элементов — заголовка и тела.  \n",
    "\n",
    "**Заголовок цикла** — его первая строка, которая должна содержать:  \n",
    "* **Ключевое слово ```for```**;  \n",
    "* **Переменную-итератор**, которая перемещается по множеству значений слева направо, принимая на каждом шаге значение очередного элемента списка; в первом примере — это переменная ```x```, а во втором — ```name```;  \n",
    "* **Ключевое слово ```in```**;  \n",
    "* **Множество значений, по которому движется итератор**; в первом примере — это множество цифр от 1 до 5, а во втором — список одногруппников ```names```;  \n",
    "* **Знак ```:```**. Без него будет синтаксическая ошибка, а сам цикл не будет объявлен.  \n",
    "\n",
    "**Тело цикла** — набор инструкций, которые выполняются на каждом шаге цикла. Каждая строка тела цикла обязательно отделяется отступом в четыре пробела. "
   ]
  },
  {
   "cell_type": "code",
   "execution_count": 57,
   "metadata": {},
   "outputs": [
    {
     "name": "stdout",
     "output_type": "stream",
     "text": [
      "H\n",
      "e\n",
      "l\n",
      "l\n",
      "o\n",
      " \n",
      "w\n",
      "o\n",
      "r\n",
      "l\n",
      "d\n",
      "!\n"
     ]
    }
   ],
   "source": [
    "# цикл и строка. Перебирать можно не только списки но и строки\n",
    "\n",
    "strings = 'Hello world!'\n",
    "\n",
    "for string in strings:\n",
    "    print(string)"
   ]
  },
  {
   "cell_type": "code",
   "execution_count": 58,
   "metadata": {},
   "outputs": [
    {
     "name": "stdout",
     "output_type": "stream",
     "text": [
      "Базовая цена: 100; Обновленная цена: 110\n",
      "Базовая цена: 200; Обновленная цена: 220\n",
      "Базовая цена: 300; Обновленная цена: 330\n",
      "Базовая цена: 400; Обновленная цена: 440\n",
      "Базовая цена: 500; Обновленная цена: 550\n"
     ]
    }
   ],
   "source": [
    "# добавим к каждой цене 10%\n",
    "prices = [100, 200, 300, 400, 500]\n",
    "precentage = 1.1\n",
    "\n",
    "for price in prices:\n",
    "    new_price = price * precentage\n",
    "    print(f'Базовая цена: {price}; Обновленная цена: {round(new_price)}')"
   ]
  },
  {
   "cell_type": "markdown",
   "metadata": {},
   "source": [
    "### Фиксированное количество итераций цикла ```for```. Функция ```range()```"
   ]
  },
  {
   "cell_type": "code",
   "execution_count": 59,
   "metadata": {},
   "outputs": [
    {
     "name": "stdout",
     "output_type": "stream",
     "text": [
      "2 * 0 = 0\n",
      "2 * 1 = 2\n",
      "2 * 2 = 4\n",
      "2 * 3 = 6\n",
      "2 * 4 = 8\n",
      "2 * 5 = 10\n",
      "2 * 6 = 12\n",
      "2 * 7 = 14\n",
      "2 * 8 = 16\n",
      "2 * 9 = 18\n"
     ]
    }
   ],
   "source": [
    "# запустим перебор цикла столько раз, сколько нам потребуется, напрмие, 10\n",
    "\n",
    "for i in range(10):\n",
    "    print(f'2 * {i} = {2*i}')"
   ]
  },
  {
   "cell_type": "code",
   "execution_count": 60,
   "metadata": {},
   "outputs": [
    {
     "name": "stdout",
     "output_type": "stream",
     "text": [
      "Стоимость товара в 1 квартале составляет 1075\n",
      "Стоимость товара в 2 квартале составляет 1156\n",
      "Стоимость товара в 3 квартале составляет 1242\n",
      "Стоимость товара в 4 квартале составляет 1335\n"
     ]
    }
   ],
   "source": [
    "# рассмотрим пример с увеличением стоимости товара раз в квартал на 7.5%\n",
    "price = 1000 # базовая стоимость\n",
    "k = 1.075 # коэффициент увеличения\n",
    "\n",
    "for i in range(1, 5): # количество итераций\n",
    "    price *= k # увеличим базовое значение на коэффициент в кажом шаге \n",
    "    print(f'Стоимость товара в {i} квартале составляет {round(price)}')"
   ]
  },
  {
   "cell_type": "markdown",
   "metadata": {},
   "source": [
    "Поскольку переменная price глобальная, то есть была задана в основной части кода, то изменения переменной сохраняются: в последующей итерации цикл будет обрабатывать изменённое на предыдущей итерации значение price. "
   ]
  },
  {
   "cell_type": "markdown",
   "metadata": {},
   "source": [
    "### Перебор индексов элементов списка в цикле"
   ]
  },
  {
   "cell_type": "markdown",
   "metadata": {},
   "source": [
    "Если в функцию ```range()``` передать длину списка — результат работы функции ```len()```, то последовательность чисел будет соответствовать индексам списка. "
   ]
  },
  {
   "cell_type": "code",
   "execution_count": 61,
   "metadata": {},
   "outputs": [
    {
     "name": "stdout",
     "output_type": "stream",
     "text": [
      "Имя одногруппника: Антон\n",
      "Имя одногруппника: Арина\n",
      "Имя одногруппника: Борис\n",
      "Имя одногруппника: Диана\n",
      "Имя одногруппника: Ольга\n"
     ]
    }
   ],
   "source": [
    "# выведем имена одногруппников с помощью индекса элемента списка\n",
    "names = ['Антон', 'Арина', 'Борис', 'Диана', 'Ольга']\n",
    "\n",
    "for i in range(len(names)):\n",
    "    print(f'Имя одногруппника: {names[i]}')"
   ]
  },
  {
   "cell_type": "markdown",
   "metadata": {},
   "source": [
    "Итератор ```i``` перемещается по последовательности целых чисел от 0 до ```len(names)``` - 1. А в теле цикла по значению итератора выводится элемент с индексом итератора — ```i```: ```names[i]```."
   ]
  },
  {
   "cell_type": "code",
   "execution_count": 62,
   "metadata": {},
   "outputs": [
    {
     "name": "stdout",
     "output_type": "stream",
     "text": [
      "Исходный список: [1000, 2000, 3000, 4000, 5000]\n",
      "Измененный список: [0, 2000, 6000, 12000, 20000]\n"
     ]
    }
   ],
   "source": [
    "# при помощи цикла мы можем изменить набор значений исходного списка\n",
    "\n",
    "list_x = [1000, 2000, 3000, 4000, 5000]\n",
    "print(f'Исходный список: {list_x}')\n",
    "\n",
    "for i in range(len(list_x)):\n",
    "    list_x[i] *= i\n",
    "\n",
    "print(f'Измененный список: {list_x}')"
   ]
  },
  {
   "cell_type": "code",
   "execution_count": 63,
   "metadata": {},
   "outputs": [
    {
     "name": "stdout",
     "output_type": "stream",
     "text": [
      "Список с добавлением 100: [1100, 2100, 3100, 4100, 5100]\n",
      "Список с вычитанием 100: [900, 1900, 2900, 3900, 4900]\n",
      "Список с умножением на 2: [2000, 4000, 6000, 8000, 10000]\n",
      "Список с делением на 2: [ 500. 1000. 1500. 2000. 2500.] | Тип данных: float64\n",
      "Список с возведением в квадрат: [1000000, 4000000, 9000000, 16000000, 25000000]\n"
     ]
    }
   ],
   "source": [
    "import numpy as np\n",
    "# Исходный набор чисел\n",
    "numbers = [1000, 2000, 3000, 4000, 5000]\n",
    "\n",
    "# Создание пустых списков для измененных массивов\n",
    "a = []  # Для добавления 100\n",
    "b = []  # Для вычитания 100\n",
    "c = []  # Для умножения на 2\n",
    "d = np.array([])  # Для деления на 2\n",
    "e = []  # Для возведения в квадрат\n",
    "\n",
    "# Обработка каждого элемента списка\n",
    "for number in numbers:\n",
    "    a.append(number + 100)      # Добавляем 100 к каждому элементу\n",
    "    b.append(number - 100)      # Вычитаем 100 из каждого элемента\n",
    "    c.append(number * 2)        # Умножаем каждый элемент на 2\n",
    "    d = np.append(d, number / 2)        # Делим каждый элемент на 2 (тип данных изменится)\n",
    "    e.append(number ** 2)       # Возводим каждый элемент в квадрат\n",
    "\n",
    "# Вывод результатов\n",
    "print(\"Список с добавлением 100:\", a)\n",
    "print(\"Список с вычитанием 100:\", b)\n",
    "print(\"Список с умножением на 2:\", c)\n",
    "print(\"Список с делением на 2:\", d, \"| Тип данных:\", d.dtype)\n",
    "print(\"Список с возведением в квадрат:\", e)\n"
   ]
  },
  {
   "cell_type": "code",
   "execution_count": 64,
   "metadata": {},
   "outputs": [
    {
     "name": "stdout",
     "output_type": "stream",
     "text": [
      "1000\n",
      "3000\n",
      "5000\n"
     ]
    }
   ],
   "source": [
    "### перебор определенного интервала \n",
    "\n",
    "lst = [1000, 2000, 3000, 4000, 5000, 6000]\n",
    "\n",
    "for i in range(0, 5, 2): \n",
    "    # начальная позиция 0\n",
    "    # конечная позиция 5 не включительно\n",
    "    # шаг 2\n",
    "    print(lst[i])"
   ]
  },
  {
   "cell_type": "markdown",
   "metadata": {},
   "source": [
    "# Лямбла-функции"
   ]
  },
  {
   "cell_type": "markdown",
   "metadata": {},
   "source": [
    "Python поддерживает так называемые анонимные, или лямбда-, функции. По  существу, это простые однострочные функции, возвращающие значение. Они используются для создания небольших и простых функций, которые могут быть переданы в другие функции или использованы в выражениях. "
   ]
  },
  {
   "cell_type": "markdown",
   "metadata": {},
   "source": [
    "Синтаксис:    \n",
    "```lambda аргументы: выражение```  \n",
    "\n",
    "* **аргументы** — это входные параметры функции (может быть несколько, разделённых запятыми).  \n",
    "* **выражение** — это тело функции, которое выполняется и возвращает результат."
   ]
  },
  {
   "cell_type": "code",
   "execution_count": 65,
   "metadata": {},
   "outputs": [
    {
     "name": "stdout",
     "output_type": "stream",
     "text": [
      "5\n"
     ]
    }
   ],
   "source": [
    "# пример \n",
    "l_1 = lambda x, y: x + y\n",
    "print(l_1(2, 3))  "
   ]
  },
  {
   "cell_type": "code",
   "execution_count": 66,
   "metadata": {},
   "outputs": [
    {
     "name": "stdout",
     "output_type": "stream",
     "text": [
      "[2, 4, 6, 8, 10]\n"
     ]
    }
   ],
   "source": [
    "l_22 = lambda x: x * 2\n",
    "x = [1, 2, 3, 4, 5]\n",
    "\n",
    "# Убедитесь, что `map` не переопределён\n",
    "result = list(map(l_22, x))\n",
    "print(result)  # Вывод: [2, 4, 6, 8, 10]"
   ]
  },
  {
   "cell_type": "code",
   "execution_count": 67,
   "metadata": {},
   "outputs": [
    {
     "ename": "NameError",
     "evalue": "name 'l_2' is not defined",
     "output_type": "error",
     "traceback": [
      "\u001b[1;31m---------------------------------------------------------------------------\u001b[0m",
      "\u001b[1;31mNameError\u001b[0m                                 Traceback (most recent call last)",
      "Cell \u001b[1;32mIn[67], line 2\u001b[0m\n\u001b[0;32m      1\u001b[0m \u001b[38;5;66;03m# Альтернативный вариант (списковое включение):\u001b[39;00m\n\u001b[1;32m----> 2\u001b[0m result \u001b[38;5;241m=\u001b[39m [\u001b[43ml_2\u001b[49m(i) \u001b[38;5;28;01mfor\u001b[39;00m i \u001b[38;5;129;01min\u001b[39;00m x]\n\u001b[0;32m      3\u001b[0m \u001b[38;5;28mprint\u001b[39m(result)\n\u001b[0;32m      5\u001b[0m \u001b[38;5;66;03m# Берет каждый элемент i из списка x\u001b[39;00m\n\u001b[0;32m      6\u001b[0m \u001b[38;5;66;03m# Применяет к этому элементу функцию l_2\u001b[39;00m\n\u001b[0;32m      7\u001b[0m \u001b[38;5;66;03m# Сохраняет результат в новый список\u001b[39;00m\n",
      "\u001b[1;31mNameError\u001b[0m: name 'l_2' is not defined"
     ]
    }
   ],
   "source": [
    "# Альтернативный вариант (списковое включение):\n",
    "result = [l_2(i) for i in x]\n",
    "print(result)\n",
    "\n",
    "# Берет каждый элемент i из списка x\n",
    "# Применяет к этому элементу функцию l_2\n",
    "# Сохраняет результат в новый список"
   ]
  },
  {
   "cell_type": "markdown",
   "metadata": {},
   "source": [
    "# Генераторы"
   ]
  },
  {
   "cell_type": "markdown",
   "metadata": {},
   "source": [
    "Генераторные выражения (generator expressions) в Python — это компактный и эффективный способ создания итерируемых объектов. Эта возможность реализована с помощью протокола итератора, общего механизма, наделяющего объекты свойством итерируемости. Поскольку генераторы отдают значения по одному, а  не весь\n",
    "список сразу, программа потребляет меньше памяти.\n",
    "\n",
    "Основные характеристики:  \n",
    "* **Ленивое вычисление** (lazy evaluation): Генераторные выражения не вычисляют все значения сразу, а вычисляют их только тогда, когда это необходимо.  \n",
    "* **Экономия памяти**: Поскольку они не хранят все элементы в памяти, они более эффективны для работы с большими данными.  \n",
    "* **Итерируемость**: Генераторные выражения можно использовать в циклах for или передавать функциям, принимающим итерируемые объекты.  "
   ]
  },
  {
   "cell_type": "markdown",
   "metadata": {},
   "source": [
    "Встречая конструкцию ```for key in some_dict```, интерпретатор Python сначала пытается создать итератор из ```some_dict```.  \n",
    "\n",
    "**Итератор** – это любой объект, который отдает интерпретатору Python объекты при использовании в контексте, аналогичном циклу for. Методы, ожидающие получить список или похожий на список объект, как правило, удовлетворяются любым итерируемым объектом."
   ]
  },
  {
   "cell_type": "markdown",
   "metadata": {},
   "source": [
    "# Обработка ошибок"
   ]
  },
  {
   "cell_type": "code",
   "execution_count": null,
   "metadata": {},
   "outputs": [
    {
     "name": "stdout",
     "output_type": "stream",
     "text": [
      "42.0\n",
      "Здесь ошибка. Исходное значение: hello\n",
      "10.0\n",
      "Здесь ошибка. Исходное значение: None\n"
     ]
    }
   ],
   "source": [
    "def attempt_float(x):\n",
    "    try:\n",
    "        return float(x)  # Попытка преобразования в float\n",
    "    except:  # Обработка любой ошибки\n",
    "        return f'Здесь ошибка. Исходное значение: {x}'  # Возвращаем исходное значение\n",
    "\n",
    "print(attempt_float(\"42.0\"))  # Результат: 42.0 (успешное преобразование)\n",
    "print(attempt_float(\"hello\"))  # Результат: \"hello\" (ошибка преобразования)\n",
    "print(attempt_float(10))  # Результат: 10.0 (число уже можно преобразовать в float)\n",
    "print(attempt_float(None))  # Результат: None (ошибка преобразования)"
   ]
  },
  {
   "cell_type": "markdown",
   "metadata": {},
   "source": [
    "Как работает блок ```try-except```?  \n",
    "\n",
    "Блок ```try```:   \n",
    "* В этом блоке находится код, который может вызвать исключение.   \n",
    "* В данном случае мы пробуем выполнить float(x). Если x — это строка числа, например \"42.0\", то всё пройдет нормально, и функция вернет 42.0.  \n",
    "* Однако, если x не является корректным числом (например, \"hello\"), то будет выброшено исключение ValueError.  \n",
    "Блок ```except```:  \n",
    "* Этот блок выполняется, если в блоке try произошло исключение.  \n",
    "* В данном случае, если float(x) вызывает ошибку, функция сразу переходит к блоку except и возвращает исходное значение x.  "
   ]
  },
  {
   "cell_type": "code",
   "execution_count": null,
   "metadata": {},
   "outputs": [
    {
     "name": "stdout",
     "output_type": "stream",
     "text": [
      "42.0\n",
      "Здесь ошибка. Исходное значение: hello\n",
      "10.0\n"
     ]
    },
    {
     "ename": "TypeError",
     "evalue": "float() argument must be a string or a real number, not 'NoneType'",
     "output_type": "error",
     "traceback": [
      "\u001b[1;31m---------------------------------------------------------------------------\u001b[0m",
      "\u001b[1;31mTypeError\u001b[0m                                 Traceback (most recent call last)",
      "Cell \u001b[1;32mIn[77], line 12\u001b[0m\n\u001b[0;32m     10\u001b[0m \u001b[38;5;28mprint\u001b[39m(attempt_float(\u001b[38;5;124m\"\u001b[39m\u001b[38;5;124mhello\u001b[39m\u001b[38;5;124m\"\u001b[39m))  \u001b[38;5;66;03m# Результат: \"hello\" (ошибка преобразования)\u001b[39;00m\n\u001b[0;32m     11\u001b[0m \u001b[38;5;28mprint\u001b[39m(attempt_float(\u001b[38;5;241m10\u001b[39m))  \u001b[38;5;66;03m# Результат: 10.0 (число уже можно преобразовать в float)\u001b[39;00m\n\u001b[1;32m---> 12\u001b[0m \u001b[38;5;28mprint\u001b[39m(\u001b[43mattempt_float\u001b[49m\u001b[43m(\u001b[49m\u001b[38;5;28;43;01mNone\u001b[39;49;00m\u001b[43m)\u001b[49m)  \u001b[38;5;66;03m# Результат: None (ошибка преобразования)\u001b[39;00m\n",
      "Cell \u001b[1;32mIn[77], line 5\u001b[0m, in \u001b[0;36mattempt_float\u001b[1;34m(x)\u001b[0m\n\u001b[0;32m      3\u001b[0m \u001b[38;5;28;01mdef\u001b[39;00m \u001b[38;5;21mattempt_float\u001b[39m(x):\n\u001b[0;32m      4\u001b[0m     \u001b[38;5;28;01mtry\u001b[39;00m:\n\u001b[1;32m----> 5\u001b[0m         \u001b[38;5;28;01mreturn\u001b[39;00m \u001b[38;5;28;43mfloat\u001b[39;49m\u001b[43m(\u001b[49m\u001b[43mx\u001b[49m\u001b[43m)\u001b[49m  \u001b[38;5;66;03m# Попытка преобразования в float\u001b[39;00m\n\u001b[0;32m      6\u001b[0m     \u001b[38;5;28;01mexcept\u001b[39;00m \u001b[38;5;167;01mValueError\u001b[39;00m:  \u001b[38;5;66;03m# Обработка любой ошибки\u001b[39;00m\n\u001b[0;32m      7\u001b[0m         \u001b[38;5;28;01mreturn\u001b[39;00m \u001b[38;5;124mf\u001b[39m\u001b[38;5;124m'\u001b[39m\u001b[38;5;124mЗдесь ошибка. Исходное значение: \u001b[39m\u001b[38;5;132;01m{\u001b[39;00mx\u001b[38;5;132;01m}\u001b[39;00m\u001b[38;5;124m'\u001b[39m\n",
      "\u001b[1;31mTypeError\u001b[0m: float() argument must be a string or a real number, not 'NoneType'"
     ]
    }
   ],
   "source": [
    "# Возможно, вы хотите перехватить только исключение ValueError, поскольку TypeError \n",
    "\n",
    "def attempt_float(x):\n",
    "    try:\n",
    "        return float(x)  # Попытка преобразования в float\n",
    "    except ValueError:  # Обработка любой ошибки\n",
    "        return f'Здесь ошибка. Исходное значение: {x}'  # Возвращаем исходное значение\n",
    "\n",
    "print(attempt_float(\"42.0\"))  # Результат: 42.0 (успешное преобразование)\n",
    "print(attempt_float(\"hello\"))  # Результат: \"hello\" (ошибка преобразования)\n",
    "print(attempt_float(10))  # Результат: 10.0 (число уже можно преобразовать в float)\n",
    "print(attempt_float(None))  # Результат: None (ошибка преобразования)"
   ]
  },
  {
   "cell_type": "code",
   "execution_count": null,
   "metadata": {},
   "outputs": [
    {
     "name": "stdout",
     "output_type": "stream",
     "text": [
      "42.0\n",
      "Здесь ошибка. Исходное значение: hello\n",
      "10.0\n",
      "Здесь ошибка. Исходное значение: None\n"
     ]
    }
   ],
   "source": [
    "#Можно перехватывать исключения нескольких типов, для этого достаточно написать кортеж типов (скобки обязательны):\n",
    "def attempt_float(x):\n",
    "    try:\n",
    "       return float(x)\n",
    "    except (TypeError, ValueError):\n",
    "       return f'Здесь ошибка. Исходное значение: {x}'\n",
    "    \n",
    "print(attempt_float(\"42.0\"))  # Результат: 42.0 (успешное преобразование)\n",
    "print(attempt_float(\"hello\"))  # Результат: \"hello\" (ошибка преобразования)\n",
    "print(attempt_float(10))  # Результат: 10.0 (число уже можно преобразовать в float)\n",
    "print(attempt_float(None))  # Результат: None (ошибка преобразования)"
   ]
  }
 ],
 "metadata": {
  "kernelspec": {
   "display_name": "Python 3",
   "language": "python",
   "name": "python3"
  },
  "language_info": {
   "codemirror_mode": {
    "name": "ipython",
    "version": 3
   },
   "file_extension": ".py",
   "mimetype": "text/x-python",
   "name": "python",
   "nbconvert_exporter": "python",
   "pygments_lexer": "ipython3",
   "version": "3.13.0"
  }
 },
 "nbformat": 4,
 "nbformat_minor": 2
}
